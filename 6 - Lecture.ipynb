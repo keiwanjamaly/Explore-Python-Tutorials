{
 "cells": [
  {
   "cell_type": "markdown",
   "metadata": {},
   "source": [
    "# Lecture 6"
   ]
  },
  {
   "cell_type": "markdown",
   "metadata": {},
   "source": [
    "**Authors:**\n",
    "* Niklas Becker\n",
    "* Yilber Fabian Bautista \n",
    "* \n",
    "\n",
    "**Last date of modification:**\n",
    " December 24th 2021"
   ]
  },
  {
   "cell_type": "markdown",
   "metadata": {},
   "source": [
    "Hello there,\n",
    "\n",
    "welcome to Lecture 6 of this mini-lecture series on programing with Python. In this series, you will learn basic and intermediate python tools that will be of great use in your scientific carer.\n",
    "\n",
    "By the end of this lecture you will be able to:\n",
    "* Understand the concept of  **namespaces**, and differentiate the  4 different **namespaces** in python\n",
    "* Use **classes**..."
   ]
  },
  {
   "cell_type": "markdown",
   "metadata": {},
   "source": [
    "## Namespaces\n",
    "\n",
    "Formally, a **namespace** is a mapping from names to objects. When you type the name of a function or variable, the python interpreter has to map that string to the corresponding object. Depending on the **namespace**, the same name can lead to different objects. For example, there is the **namespace** of built-in functions, such as `abs()` and `max()`. There is also a **namespace** for included libraries, and one for each function invocation.\n",
    "Some examples of the same name being resolved differently depending on the **namespace**:\n",
    "For instance,  although the `abs()` and `np.abs()` functions have the same effect on numbers, they belong to two different **namespaces**.  If we run the lines\n",
    "```py\n",
    "import numpy as np\n",
    "\n",
    "print(abs(-1))       # This is the python built-in absolute value function\n",
    "print(np.abs(-1))    # This is the abs function from the numpy library \n",
    "print(np.abs == abs)\n",
    "\n",
    "```\n",
    "we will get the  output\n",
    "```py\n",
    "1\n",
    "1\n",
    "False\n",
    "```\n",
    "That is, the functions do effectively the same, but correspond  different implementations in python, as seen from the last line in the output.  There is no relation between names in different **namespaces**! You can have two functions with the same name but in different **namespaces** do completely different things.\n"
   ]
  },
  {
   "cell_type": "code",
   "execution_count": null,
   "metadata": {},
   "outputs": [],
   "source": [
    "#Try it yourself"
   ]
  },
  {
   "cell_type": "markdown",
   "metadata": {},
   "source": [
    "\n",
    "There are 4 types of **namespaces**:\n",
    "- Built-In\n",
    "- Global\n",
    "- Enclosing\n",
    "- Local\n",
    "\n",
    "When the execution encounters a **name**, the **namespaces** are searched from **bottom to top** in this list until a name can be resolved.\n",
    "\n",
    "#### Built-in\n",
    "The first type of namespace was already shown in the example above. There are built-in functions that are available at all times. To see them in a list, run the following line\n",
    "```py\n",
    "dir(__builtins__)\n",
    "```\n"
   ]
  },
  {
   "cell_type": "code",
   "execution_count": 20,
   "metadata": {},
   "outputs": [],
   "source": [
    "# try it yourself"
   ]
  },
  {
   "cell_type": "markdown",
   "metadata": {},
   "source": [
    "\n",
    "#### Global\n",
    "The global **namespace** is created at the start of any program and contains all names defined at the level of the main program. This is where the user can come in and define **variables** and **functions**. For example:"
   ]
  },
  {
   "cell_type": "code",
   "execution_count": 8,
   "metadata": {},
   "outputs": [
    {
     "name": "stdout",
     "output_type": "stream",
     "text": [
      "moritz\n"
     ]
    }
   ],
   "source": [
    "def max(a, b):\n",
    "    return \"moritz\"\n",
    "\n",
    "print(max(5, 10)) "
   ]
  },
  {
   "cell_type": "markdown",
   "metadata": {},
   "source": [
    "Although the defined function has the same name as the **built-in**  `max` function, our definition is in the **global namespace** and as already mentioned, it  is found before than the  the  Built-in `max` function in the **Built-in  namespace** \n",
    "\n",
    "The interpreter also creates **namespaces** for all modules that are imported, such as **numpy** in the example above. \n",
    "When importing modules, the names can  be made available at the global **namespace** of the program using the syntax\n",
    "```py\n",
    "from  library import function \n",
    "```\n",
    "For instance, if we import the `max` function from **numpy** as\n",
    "\n",
    "```py\n",
    "from numpy import max\n",
    "```\n",
    "and run \n",
    "```max([5, 10])\n",
    "```\n",
    "we will get as output `10`, whereas `max(5, 10)`, defined above, will fail. The reason for this is that although the two functions are  defined in the **global namestace**,  the interpreter searches the more resent definition of the function."
   ]
  },
  {
   "cell_type": "code",
   "execution_count": null,
   "metadata": {},
   "outputs": [],
   "source": [
    "# Try it yourself"
   ]
  },
  {
   "cell_type": "markdown",
   "metadata": {},
   "source": [
    "#### Local and Enclosing\n",
    "Every function has its own **namespace** associated with it. The **local namespace** is created when the function is executed and 'forgotten' afterwards. "
   ]
  },
  {
   "cell_type": "code",
   "execution_count": 11,
   "metadata": {},
   "outputs": [
    {
     "name": "stdout",
     "output_type": "stream",
     "text": [
      "local bar a: 10\n",
      "enclosing b: 6\n",
      "local foo a: 5\n",
      "local foo b: 6\n"
     ]
    }
   ],
   "source": [
    "def foo():\n",
    "    a = 5 #creates a new variable in the local namespace of foo\n",
    "    b = 6 #creates a new variable in the local namespace of foo\n",
    "    \n",
    "    def bar():\n",
    "        a = 10   # creates a new variable in the local namespace of bar\n",
    "        print('local bar a:',a) # finds the a from the local namespace and not the enclosing\n",
    "        print('enclosing b:',b) # find the b from the enclosing namespace\n",
    "    \n",
    "    bar()\n",
    "    print('local foo a:',a)\n",
    "    print('local foo b:',b)\n",
    "\n",
    "foo()\n",
    "#print(a) would fail"
   ]
  },
  {
   "cell_type": "markdown",
   "metadata": {},
   "source": [
    "Here, `bar` is defined inside of `foo`, so `foo` is the **enclosing namespace** for `bar`. A name lookup will first search the local **namespace**, then the enclosing **namespace**, then the **global**, and finally the **built-in** one, as mentioned above.\n",
    "\n",
    "### Scope\n",
    "The **scope** of a name refers to the region of a code where it has meaning, where it can be associated with the object. Once a variable is out of scope, it is forgotten and no longer accessible.\n",
    "```py\n",
    "def foo():\n",
    "    c = 5 # c is defined\n",
    "    def bar():\n",
    "        print(c)  \n",
    "    bar()  \n",
    "    print(c)  # until here 'c' has meaning\n",
    "\n",
    "foo()\n",
    "print(c)   # outside of the scope of c\n",
    "```"
   ]
  },
  {
   "cell_type": "code",
   "execution_count": null,
   "metadata": {},
   "outputs": [],
   "source": [
    "# Try it yourself"
   ]
  },
  {
   "cell_type": "markdown",
   "metadata": {},
   "source": [
    "The above discussion show the importance of  to understanding  the concepts of **namespace** and **scope**, in order to have a full control, and understand the functionality  of your code!"
   ]
  },
  {
   "cell_type": "markdown",
   "metadata": {},
   "source": [
    "## Classes\n",
    "### What is a class?\n",
    "A class is a 'blueprint' for creating objects that binds together data (variables) and manipulation of such data (via *methods*)\n",
    "### Class Definition\n",
    "A class is defined using the following syntax:\n",
    "\n",
    "```py\n",
    "class MyClass:\n",
    "    classVariable = \n",
    "    def classMethod(self):\n",
    "        \n",
    "```\n",
    "A class can have variables and methods (functions) associated to them. These are collectively called **attributes** of the class. The class definition must be executed before they can be used. The class defines its own **namespace**. It needs to be accessed  with the syntax such as\n",
    "\n",
    "```py\n",
    "MyClass.classVariable\n",
    "MyClass.classMethod()\n",
    "```\n",
    "\n",
    "Let us define an specific example of a class"
   ]
  },
  {
   "cell_type": "code",
   "execution_count": 21,
   "metadata": {},
   "outputs": [],
   "source": [
    "class MyClass():\n",
    "    classVariable = \"This is a class variable\"\n",
    "    \n",
    "    def classMethod(self):\n",
    "        return \"Hello Class World\""
   ]
  },
  {
   "cell_type": "code",
   "execution_count": 29,
   "metadata": {},
   "outputs": [
    {
     "name": "stdout",
     "output_type": "stream",
     "text": [
      "This is a class variable\n",
      "Hello Class World\n"
     ]
    }
   ],
   "source": [
    "print(MyClass().classVariable)\n",
    "print(MyClass().classMethod())"
   ]
  },
  {
   "cell_type": "markdown",
   "metadata": {},
   "source": [
    "### Class Instances\n",
    "In order to use a class **attributes**, one has to specify the entries of the class, and it is cumbersome to do it all the time we want to use the class. For that reason, one can  create  **instances** of a class. An **instance**  of a class is created  with the following function notation:\n",
    "```py\n",
    "my_instance = MyClass()\n",
    "```\n",
    "This object now has the methods and variables associated with that class\n",
    "```py\n",
    "print( classInstance.classMethod() )\n",
    "print( MyClass.classMethod(classInstance) )\n",
    "```\n",
    "Classes can access their own methods and variables using the **self** keyword. These **attributes** can also be accessed from the outside"
   ]
  },
  {
   "cell_type": "code",
   "execution_count": null,
   "metadata": {},
   "outputs": [],
   "source": [
    "#try it yourself"
   ]
  },
  {
   "cell_type": "markdown",
   "metadata": {},
   "source": [
    "#### Instance Variables\n",
    "Every instance of a class can also have their own variables - **instance variables** - associated to them. They are created similar to local variables and only associated with that instance. Consider the following example of a class\n",
    "\n",
    "```py\n",
    "class MyClass:\n",
    "    classVariable = \"This is a class variable\"\n",
    "    def startCounter(self):\n",
    "        self.counter = 0\n",
    "        b = 10\n",
    "    \n",
    "    def increaseCounter(self):\n",
    "        self.counter += 1\n",
    "\n",
    "classInstance = MyClass()    # creates an instance of MyClass\n",
    "\n",
    "```\n",
    "If we want to access  `classVariable` from `classInstance`, we simply do `classInstance.classVariable`, which will have as output the string ` \"This is a class variable\"`. We might wonder whether the variables `counter` and  `b` defined inside the **method** `startCounter()` can be accessed in the same way. If we did `classInstance.counter` we will get the error: \n",
    "```py\n",
    "AttributeError: 'MyClass' object has no attribute 'counter'\n",
    "```\n",
    "similar if we typed  `classInstance.b`. To access those  variables we first need to initialize the `startCounter()` method. \n",
    "\n",
    "```py\n",
    "classInstance.startCounter() # This function creates the counter variable of the instance\n",
    "print(classInstance.counter) # now it can be accessed from the outside\n",
    "```\n",
    "where now the output will be `0`. We might wonder whether the same procedure is true to access the value for the `b` variable. If we did \n",
    "```py\n",
    "classInstance.startCounter() # This function creates the counter variable of the instance\n",
    "print(classInstance.b) \n",
    "```\n",
    "the  output  will be the error  message\n",
    "\n",
    "```py\n",
    "AttributeError: 'MyClass' object has no attribute 'counter'\n",
    "```\n",
    "The reason for this error is that unlike `counter`, `b` is not an **instance variable**. We leaned then that  instance variable are defined with the *self* keyword. Here `b`  corresponds to a local variable inside the `startCounter` method. \n",
    "\n",
    "Now, if we initialize the second method `increaseCounter`\n",
    "\n",
    "```py\n",
    "classInstance.increaseCounter()\n",
    "print(classInstance.counter)\n",
    "```\n",
    "we will see that  `counter` is still an instance variable but has increased its value by one. "
   ]
  },
  {
   "cell_type": "code",
   "execution_count": null,
   "metadata": {},
   "outputs": [],
   "source": [
    "#Try it yourself"
   ]
  }
 ],
 "metadata": {
  "kernelspec": {
   "display_name": "Python 3",
   "language": "python",
   "name": "python3"
  },
  "language_info": {
   "codemirror_mode": {
    "name": "ipython",
    "version": 3
   },
   "file_extension": ".py",
   "mimetype": "text/x-python",
   "name": "python",
   "nbconvert_exporter": "python",
   "pygments_lexer": "ipython3",
   "version": "3.7.6"
  }
 },
 "nbformat": 4,
 "nbformat_minor": 4
}
