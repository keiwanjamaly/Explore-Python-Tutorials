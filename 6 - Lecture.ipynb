{
 "cells": [
  {
   "cell_type": "markdown",
   "metadata": {},
   "source": [
    "# Lecture 6"
   ]
  },
  {
   "cell_type": "markdown",
   "metadata": {},
   "source": [
    "**Authors:**\n",
    "* Niklas Becker\n",
    "* Yilber Fabian Bautista \n",
    "* \n",
    "\n",
    "**Last date of modification:**\n",
    " December 25th 2021"
   ]
  },
  {
   "cell_type": "markdown",
   "metadata": {},
   "source": [
    "Hello there,\n",
    "\n",
    "welcome to Lecture 6 of this mini-lecture series on programing with Python. In this series, you will learn basic and intermediate python tools that will be of great use in your scientific carer.\n",
    "\n",
    "By the end of this lecture you will be able to:\n",
    "* Understand the concept of  **namespaces**, and differentiate the  4 different **namespaces** in python\n",
    "* Understand the meaning of  **Scope**  of a code \n",
    "* Use **classes** to efficiently organize a code\n",
    "* Differentiate between **class variables and instances variables**\n",
    "* Use **inheritance** to define **classes** from other existing **classes**"
   ]
  },
  {
   "cell_type": "markdown",
   "metadata": {},
   "source": [
    "## Namespaces\n",
    "\n",
    "Formally, a **namespace** is a mapping from names to objects. When you type the name of a function or variable, the python interpreter has to map that string to the corresponding object. Depending on the **namespace**, the same name can lead to different objects. For example, there is the **namespace** of built-in functions, such as `abs()` and `max()`. There is also a **namespace** for included libraries, and one for each function invocation.\n",
    "Some examples of the same name being resolved differently depending on the **namespace**:\n",
    "For instance,  although the `abs()` and `np.abs()` functions have the same effect on numbers, they belong to two different **namespaces**.  If we run the lines\n",
    "```py\n",
    "import numpy as np\n",
    "\n",
    "print(abs(-1))       # This is the python built-in absolute value function\n",
    "print(np.abs(-1))    # This is the abs function from the numpy library \n",
    "print(np.abs == abs)\n",
    "\n",
    "```\n",
    "we will get the  output\n",
    "```py\n",
    "1\n",
    "1\n",
    "False\n",
    "```\n",
    "That is, the functions do effectively the same, but correspond  different implementations in python, as seen from the last line in the output.  There is no relation between names in different **namespaces**! You can have two functions with the same name but in different **namespaces** do completely different things.\n"
   ]
  },
  {
   "cell_type": "code",
   "execution_count": 1,
   "metadata": {},
   "outputs": [],
   "source": [
    "#Try it yourself"
   ]
  },
  {
   "cell_type": "markdown",
   "metadata": {},
   "source": [
    "\n",
    "There are 4 types of **namespaces**:\n",
    "- Built-In\n",
    "- Global\n",
    "- Enclosing\n",
    "- Local\n",
    "\n",
    "When the execution encounters a **name**, the **namespaces** are searched from **bottom to top** in this list until a name can be resolved.\n",
    "\n",
    "#### Built-in\n",
    "The first type of namespace was already shown in the example above. There are built-in functions that are available at all times. To see them in a list, run the following line\n",
    "```py\n",
    "dir(__builtins__)\n",
    "```\n"
   ]
  },
  {
   "cell_type": "code",
   "execution_count": 2,
   "metadata": {},
   "outputs": [],
   "source": [
    "# try it yourself"
   ]
  },
  {
   "cell_type": "markdown",
   "metadata": {},
   "source": [
    "\n",
    "#### Global\n",
    "The global **namespace** is created at the start of any program and contains all names defined at the level of the main program. This is where the user can come in and define **variables** and **functions**. For example:"
   ]
  },
  {
   "cell_type": "code",
   "execution_count": 3,
   "metadata": {},
   "outputs": [
    {
     "name": "stdout",
     "output_type": "stream",
     "text": [
      "moritz\n"
     ]
    }
   ],
   "source": [
    "def max(a, b):\n",
    "    return \"moritz\"\n",
    "\n",
    "print(max(5, 10)) "
   ]
  },
  {
   "cell_type": "markdown",
   "metadata": {},
   "source": [
    "Although the defined function has the same name as the **built-in**  `max` function, our definition is in the **global namespace** and as already mentioned, it  is found before than the  the  Built-in `max` function in the **Built-in  namespace** \n",
    "\n",
    "The interpreter also creates **namespaces** for all modules that are imported, such as **numpy** in the example above. \n",
    "When importing modules, the names can  be made available at the global **namespace** of the program using the syntax\n",
    "```py\n",
    "from  library import function \n",
    "```\n",
    "For instance, if we import the `max` function from **numpy** as\n",
    "\n",
    "```py\n",
    "from numpy import max\n",
    "```\n",
    "and run \n",
    "```max([5, 10])\n",
    "```\n",
    "we will get as output `10`, whereas `max(5, 10)`, defined above, will fail. The reason for this is that although the two functions are  defined in the **global namestace**,  the interpreter searches the more resent definition of the function."
   ]
  },
  {
   "cell_type": "code",
   "execution_count": 4,
   "metadata": {},
   "outputs": [],
   "source": [
    "# Try it yourself"
   ]
  },
  {
   "cell_type": "markdown",
   "metadata": {},
   "source": [
    "#### Local and Enclosing\n",
    "Every function has its own **namespace** associated with it. The **local namespace** is created when the function is executed and 'forgotten' afterwards. "
   ]
  },
  {
   "cell_type": "code",
   "execution_count": 5,
   "metadata": {},
   "outputs": [
    {
     "name": "stdout",
     "output_type": "stream",
     "text": [
      "local bar a: 10\n",
      "enclosing b: 6\n",
      "local foo a: 5\n",
      "local foo b: 6\n"
     ]
    }
   ],
   "source": [
    "def foo():\n",
    "    a = 5 #creates a new variable in the local namespace of foo\n",
    "    b = 6 #creates a new variable in the local namespace of foo\n",
    "    \n",
    "    def bar():\n",
    "        a = 10   # creates a new variable in the local namespace of bar\n",
    "        print('local bar a:',a) # finds the a from the local namespace and not the enclosing\n",
    "        print('enclosing b:',b) # find the b from the enclosing namespace\n",
    "    \n",
    "    bar()\n",
    "    print('local foo a:',a)\n",
    "    print('local foo b:',b)\n",
    "\n",
    "foo()\n",
    "#print(a) would fail"
   ]
  },
  {
   "cell_type": "markdown",
   "metadata": {},
   "source": [
    "Here, `bar` is defined inside of `foo`, so `foo` is the **enclosing namespace** for `bar`. A name lookup will first search the local **namespace**, then the enclosing **namespace**, then the **global**, and finally the **built-in** one, as mentioned above.\n",
    "\n",
    "### Scope\n",
    "The **scope** of a name refers to the region of a code where it has meaning, where it can be associated with the object. Once a variable is out of scope, it is forgotten and no longer accessible.\n",
    "```py\n",
    "def foo():\n",
    "    c = 5 # c is defined\n",
    "    def bar():\n",
    "        print(c)  \n",
    "    bar()  \n",
    "    print(c)  # until here 'c' has meaning\n",
    "\n",
    "foo()\n",
    "print(c)   # outside of the scope of c\n",
    "```"
   ]
  },
  {
   "cell_type": "code",
   "execution_count": 6,
   "metadata": {},
   "outputs": [],
   "source": [
    "# Try it yourself"
   ]
  },
  {
   "cell_type": "markdown",
   "metadata": {},
   "source": [
    "The above discussion show the importance of  to understanding  the concepts of **namespace** and **scope**, in order to have a full control, and understand the functionality  of your code!"
   ]
  },
  {
   "cell_type": "markdown",
   "metadata": {},
   "source": [
    "## Classes\n",
    "### What is a class?\n",
    "A class is a 'blueprint' for creating objects that binds together data (variables) and manipulation of such data (via *methods*). Classes are useful ways of organizing the code, in addition to provide with objects that can be reused. \n",
    "### Class Definition\n",
    "A class is defined using the following syntax:\n",
    "\n",
    "```py\n",
    "class MyClass:\n",
    "    classVariable = \n",
    "    def classMethod(self):\n",
    "        \n",
    "```\n",
    "A class can have variables and methods (functions) associated to them. These are collectively called **attributes** of the class. The class definition must be executed before they can be used. The class defines its own **namespace**. It needs to be accessed  with the syntax such as\n",
    "\n",
    "```py\n",
    "MyClass.classVariable\n",
    "MyClass.classMethod()\n",
    "```\n",
    "\n",
    "Let us define an specific example of a class"
   ]
  },
  {
   "cell_type": "code",
   "execution_count": 7,
   "metadata": {},
   "outputs": [],
   "source": [
    "class MyClass():\n",
    "    classVariable = \"This is a class variable\"\n",
    "    \n",
    "    def classMethod(self):\n",
    "        return \"Hello Class World\""
   ]
  },
  {
   "cell_type": "code",
   "execution_count": 8,
   "metadata": {},
   "outputs": [
    {
     "name": "stdout",
     "output_type": "stream",
     "text": [
      "This is a class variable\n",
      "Hello Class World\n"
     ]
    }
   ],
   "source": [
    "print(MyClass().classVariable)\n",
    "print(MyClass().classMethod())"
   ]
  },
  {
   "cell_type": "markdown",
   "metadata": {},
   "source": [
    "### Class Instances\n",
    "In order to use a class **attributes**, one has to specify the entries of the class, and it is cumbersome to do it all the time we want to use the class. For that reason, one can  create  **instances** of a class. An **instance**  of a class is created  with the following function notation:\n",
    "```py\n",
    "my_instance = MyClass()\n",
    "```\n",
    "This object now has the methods and variables associated with that class\n",
    "```py\n",
    "print( classInstance.classMethod() )\n",
    "print( MyClass.classMethod(classInstance) )\n",
    "```\n",
    "Classes can access their own methods and variables using the **self** keyword. **self** represents the instance of the class. By using the **self** keyword we can access the attributes and methods of the class in python. It binds the attributes with the given arguments. These **attributes** can also be accessed from the outside"
   ]
  },
  {
   "cell_type": "code",
   "execution_count": 9,
   "metadata": {},
   "outputs": [],
   "source": [
    "#try it yourself"
   ]
  },
  {
   "cell_type": "markdown",
   "metadata": {},
   "source": [
    "#### Instance Variables\n",
    "Every instance of a class can also have their own variables - **instance variables** - associated to them. They are created similar to local variables and only associated with that instance. Consider the following example of a class\n",
    "\n",
    "```py\n",
    "class MyClass:\n",
    "    classVariable = \"This is a class variable\"\n",
    "    def startCounter(self):\n",
    "        self.counter = 0\n",
    "        b = 10\n",
    "    \n",
    "    def increaseCounter(self):\n",
    "        self.counter += 1\n",
    "\n",
    "classInstance = MyClass()    # creates an instance of MyClass\n",
    "\n",
    "```\n",
    "If we want to access  `classVariable` from `classInstance`, we simply do `classInstance.classVariable`, which will have as output the string ` \"This is a class variable\"`. We might wonder whether the variables `counter` and  `b` defined inside the **method** `startCounter()` can be accessed in the same way. If we did `classInstance.counter` we will get the error: \n",
    "```py\n",
    "AttributeError: 'MyClass' object has no attribute 'counter'\n",
    "```\n",
    "similar if we typed  `classInstance.b`. To access those  variables we first need to initialize the `startCounter()` method. \n",
    "\n",
    "```py\n",
    "classInstance.startCounter() # This function creates the counter variable of the instance\n",
    "print(classInstance.counter) # now it can be accessed from the outside\n",
    "```\n",
    "where now the output will be `0`. We might wonder whether the same procedure is true to access the value for the `b` variable. If we did \n",
    "```py\n",
    "classInstance.startCounter() # This function creates the counter variable of the instance\n",
    "print(classInstance.b) \n",
    "```\n",
    "the  output  will be the error  message\n",
    "\n",
    "```py\n",
    "AttributeError: 'MyClass' object has no attribute 'b'\n",
    "```\n",
    "The reason for this error is that unlike `counter`, `b` is not an **instance variable**. We leaned then that  instance variable are defined with the *self* keyword. Here `b`  corresponds to a local variable inside the `startCounter` method. \n",
    "\n",
    "Now, if we initialize the second method `increaseCounter`\n",
    "\n",
    "```py\n",
    "classInstance.increaseCounter()\n",
    "print(classInstance.counter)\n",
    "```\n",
    "we will see that  `counter` is still an instance variable but has increased its value by one. "
   ]
  },
  {
   "cell_type": "code",
   "execution_count": 10,
   "metadata": {},
   "outputs": [],
   "source": [
    "#Try it yourself"
   ]
  },
  {
   "cell_type": "markdown",
   "metadata": {},
   "source": [
    "Of course, these instance variables can differ between instances. We can see this in the following example:"
   ]
  },
  {
   "cell_type": "code",
   "execution_count": 11,
   "metadata": {},
   "outputs": [
    {
     "name": "stdout",
     "output_type": "stream",
     "text": [
      "0\n",
      "1\n",
      "0\n",
      "1\n",
      "1\n"
     ]
    }
   ],
   "source": [
    "class MyClass:    \n",
    "    def startCounter(self):\n",
    "        self.counter = 0\n",
    "    \n",
    "    def increaseCounter(self):\n",
    "        self.counter += 1\n",
    "\n",
    "        \n",
    "# Create a class instance\n",
    "classInstance_1 = MyClass() \n",
    "\n",
    "# Start its counter\n",
    "classInstance_1.startCounter() \n",
    "print(classInstance_1.counter)\n",
    "\n",
    "# Increase the counter\n",
    "classInstance_1.increaseCounter() \n",
    "print(classInstance_1.counter)\n",
    "\n",
    "# Creates a second instance, unrelated to the first\n",
    "classInstance_2 = MyClass()\n",
    "\n",
    "# and starts its own counter\n",
    "classInstance_2.startCounter() \n",
    "print(classInstance_2.counter) \n",
    "\n",
    "# Increase its counter\n",
    "classInstance_2.increaseCounter()\n",
    "print(classInstance_2.counter)\n",
    "\n",
    "# Check that the  counter of the original instance was NOT affected\n",
    "print(classInstance_1.counter)     "
   ]
  },
  {
   "cell_type": "markdown",
   "metadata": {},
   "source": [
    "### Initialization\n",
    "The most important instance variables are usually assigned on initialization. For this purpose, there is a special function for classes, the *\\__init\\__*(self,...) function. The *\\__init\\__*(self,...) function is called when the instance is first created. The *\\__init\\__* function is called the **constructor** and can take a list of parameters that need to be passed on during initialization.\n",
    "\n",
    "As an example, let us imagine we want to create a **class** that has the profile information of a given person. We start by assigning the name of that person to the profile"
   ]
  },
  {
   "cell_type": "code",
   "execution_count": 12,
   "metadata": {},
   "outputs": [
    {
     "name": "stdout",
     "output_type": "stream",
     "text": [
      "Hey Michael\n",
      "Hey Janet\n"
     ]
    }
   ],
   "source": [
    "class Person:\n",
    "    def __init__(self, name, age):\n",
    "        self.name = name \n",
    "        self.age = age\n",
    "    \n",
    "    def call(self):\n",
    "        print(\"Hey \" + self.name)\n",
    "\n",
    "bill = Person(\"Michael\", 53)\n",
    "janet = Person(\"Janet\", 35)\n",
    "\n",
    "bill.call()\n",
    "janet.call()"
   ]
  },
  {
   "cell_type": "markdown",
   "metadata": {},
   "source": [
    "### Class Variable vs Instance Variable\n",
    "Care must be taken to differentiate between class variables and instance variables. Class variables are copied on each initialization  of a class, while instance variables are created from scratch. This can have unintended effects for mutable variables, because their copies are *shallow*, i.e. they are copied by reference. To see this, let us continue with the class of our previous example, and add a `hobbies list` to our person profile as a **class variable**"
   ]
  },
  {
   "cell_type": "code",
   "execution_count": 13,
   "metadata": {},
   "outputs": [
    {
     "name": "stdout",
     "output_type": "stream",
     "text": [
      "['Yoga', 'Marbles']\n",
      "['Yoga', 'Marbles']\n"
     ]
    }
   ],
   "source": [
    "class Person:\n",
    "    hobbies = []   # here, hobbies is defined as a class variable\n",
    "    \n",
    "    def __init__(self, name):\n",
    "        self.name = name\n",
    "        \n",
    "    def addHobby(self, hobby):\n",
    "        self.hobbies.append(hobby)\n",
    "\n",
    "\n",
    "michael = Person(\"Michael\")\n",
    "michael.addHobby(\"Yoga\")\n",
    "\n",
    "janet = Person(\"Janet\")\n",
    "janet.addHobby(\"Marbles\")\n",
    "\n",
    "print(michael.hobbies)\n",
    "print(janet.hobbies)\n"
   ]
  },
  {
   "cell_type": "markdown",
   "metadata": {},
   "source": [
    "Now, if  the `hobbies list` was assigned as an **instance variable** instead "
   ]
  },
  {
   "cell_type": "code",
   "execution_count": 14,
   "metadata": {},
   "outputs": [
    {
     "name": "stdout",
     "output_type": "stream",
     "text": [
      "['Yoga']\n",
      "['Marbles']\n"
     ]
    }
   ],
   "source": [
    "class Person:\n",
    "    \n",
    "    def __init__(self, name):\n",
    "        self.name = name\n",
    "        self.hobbies = []  # declare hobbies as an instance variable instead\n",
    "\n",
    "    def addHobby(self, hobby):\n",
    "        self.hobbies.append(hobby)\n",
    "\n",
    "\n",
    "michael = Person(\"Michael\")\n",
    "michael.addHobby(\"Yoga\")\n",
    "\n",
    "janet = Person(\"Janet\")\n",
    "janet.addHobby(\"Marbles\")\n",
    "\n",
    "print(michael.hobbies)\n",
    "print(janet.hobbies)\n"
   ]
  },
  {
   "cell_type": "markdown",
   "metadata": {},
   "source": [
    "which generates two different outputs. Generally, it is **advisable** to use class variables only for **values that stay constant between all instances** and mostly use instance variables instead.\n",
    "\n",
    "\n",
    "\n",
    "#### Printing\n",
    "To simplify output, the classes can define a function that returns a string to represent that object. This is the *\\__str\\__* function. For instance\n",
    "\n",
    "```py\n",
    "class Person:\n",
    "    def __init__(self, name, age):\n",
    "        self.name = name      # creates an instance variable\n",
    "        self.age = age\n",
    "    \n",
    "    def __str__(self):\n",
    "        return self.name + \", \" + str(self.age)\n",
    "\n",
    "chihiro = Person(\"Chihiro\", 10)\n",
    "\n",
    "print(chihiro)\n",
    "str(chihiro)\n",
    "```\n",
    "\n",
    "### Why use classes?\n",
    "- Enables encapsulation: Bind together data and code that manipulates the data in the same place\n",
    "- Brings structure into the code, and allows **real-world mapping**\n",
    "- Polymorphism -> See bellow"
   ]
  },
  {
   "cell_type": "code",
   "execution_count": 15,
   "metadata": {},
   "outputs": [],
   "source": [
    "#Try it yourself"
   ]
  },
  {
   "cell_type": "markdown",
   "metadata": {},
   "source": [
    "# Exercise 1\n",
    "\n",
    "Make a **class** modeling a car with the attributes `model`, `cost`, `fuel efficiency` (km/liter), `condition`, and `mileage`. The `condition` is supposed to model the status of the car in terms of functionality, which of course diminishes over time. Implement a sensible *\\__init\\__* function and additional functions:\n",
    " - `Drive`: Takes distance and fuel price as an input. The distance is added to the mileage. It also prints an estimate of the fuel cost and adds it to the total cost. The condition of the car deteriorates at a rate of (1%/1000km). If this drops below 0% the car stops working.\n",
    " - `Repair`: The car is taken to the garage. The condition is set back to 100% at a cost of 100€/1%. The cost is printed and added to the total cost.\n",
    " - `LifetimeCost`: Outputs the mileage and total cost of the car so far\n",
    " - Honk: ;)\n",
    " \n",
    "* If you were to buy a new green VMW Imaginaris (cost `20k€`) with a fuel efficiency of `0.05L/km` what would be the approximated cost after driving for `10^5 km`?\n",
    " \n",
    "* And for the newer version VMW Imaginaris^2 for 25k€ with 0.04L/km?"
   ]
  },
  {
   "cell_type": "code",
   "execution_count": 16,
   "metadata": {},
   "outputs": [],
   "source": [
    "# Use the followng skeleton:\n",
    "\n",
    "class Car:\n",
    "    \n",
    "    def __init__(self, model, cost, fuel_efficiency, condition=1., mileage=0.):\n",
    "        pass \n",
    "    \n",
    "    def drive(self, distance, fuel_price):\n",
    "        pass\n",
    "        \n",
    "    def repair(self):\n",
    "        pass\n",
    "\n",
    "    def lifetimeCost(self):\n",
    "        pass\n",
    "\n",
    "ToyotaIm = Car(\"VMW Imaginaris\", 2e4, 0.05)\n",
    "ToyotaIm.drive(1e5, 2)\n",
    "ToyotaIm.repair()\n",
    "ToyotaIm.lifetimeCost()"
   ]
  },
  {
   "cell_type": "markdown",
   "metadata": {},
   "source": [
    "### Inheritance\n",
    "In object-oriented programming, inheritance describes the process of basing a class on another class' implementation, thus **inheriting** its properties. \n",
    "* The **child class** inherits all variables and methods from the parent class and can expand on them. Let us see this explicit in the following example\n",
    "\n",
    "```py\n",
    "class A:\n",
    "    text = \"This is set in A\"\n",
    "    \n",
    "    def f(self):\n",
    "        print(self.text)\n",
    "    \n",
    "\n",
    "class B(A):   # This tells python that B inherits from A\n",
    "    text = \"This is set in B\"\n",
    "    \n",
    "    def g(self):\n",
    "        print(\"A new function\")\n",
    "\n",
    "a = A()\n",
    "a.f()     # calls f in A, which accesses the text variable in A\n",
    "b = B()\n",
    "b.f()     # calls f defined in A, but accesses the text variable from B\n",
    "b.g()     # calls the newly defined function, which would not work for a\n",
    "```\n",
    "with output \n",
    "\n",
    "```\n",
    "This is set in A\n",
    "This is set in B\n",
    "A new function\n",
    "\n",
    "```\n",
    "\n",
    "Thus we see that even thought `f()` is not defined in `class B`, the latter **inherits** the definition from `class A`. Furthermore, the `g()` in `class B`, expands  the methods in `class A`\n",
    "\n",
    "* The child class can also *override* functions from their parent class:\n",
    "\n",
    "```py\n",
    "class A:\n",
    "    def f(self):\n",
    "        print(\"Parent function\")\n",
    "    \n",
    "\n",
    "class B(A):\n",
    "    def f(self):\n",
    "        print(\"Child function\")\n",
    "\n",
    "a = A()\n",
    "b = B()\n",
    "\n",
    "a.f()\n",
    "b.f()  \n",
    "\n",
    "A.f(b)        # This calls the function in the parent class for b\n",
    "\n",
    "```\n",
    "\n",
    "* The overwritten function can still be accessed from inside the child class using the `super()` function\n",
    "\n",
    "```py\n",
    "class A:\n",
    "    def f(self):\n",
    "        print(\"Parent function\")\n",
    "    \n",
    "\n",
    "class B(A):\n",
    "    def f(self):\n",
    "        super().f()    # first, A.f is called \n",
    "        print(\"Child function\")  # then new stuff is done\n",
    "\n",
    "\n",
    "b = B()\n",
    "b.f()\n",
    "```\n",
    "This is especially useful when initializing an object \n",
    "```py\n",
    "class A:\n",
    "    def __init__(self, text):\n",
    "        self.text = text\n",
    "    #...\n",
    "class B(A):\n",
    "    def __init__(self, text, moreText):\n",
    "        super().__init__( text)\n",
    "        self.moreText = moreText\n",
    "\n",
    "b = B(\"abc\", \"def\")\n",
    "print(b.text, b.moreText)\n",
    "```\n"
   ]
  },
  {
   "cell_type": "code",
   "execution_count": 17,
   "metadata": {},
   "outputs": [],
   "source": [
    "# Try it yourself"
   ]
  },
  {
   "cell_type": "markdown",
   "metadata": {},
   "source": [
    "### Why use inheritance?\n",
    "- Code Reusability\n",
    "- Enables Subtyping (IsA relation): Dog > Mammal > Animal\n",
    "- Logical Hierarchy\n",
    "- Use Polymorphism: Calling code is agnostic to the specific implementation"
   ]
  },
  {
   "cell_type": "markdown",
   "metadata": {},
   "source": [
    "## Example: Dark Matter Halos\n",
    "In this example we will look at different analytic Dark Matter halo profiles. Since they all share the same idea of describing the density and mass profile of a halo, it makes sense to use classes and inheritance features. To this end, we define the abstract basis class DMHalo, which doesn't describe a specific halo, but tells us how what properties a halo class should have.\n",
    "\n",
    "The 3 profiles we will look at are\n",
    "1. a constant density profile\n",
    "\\begin{equation}\n",
    "\\rho_{static}(r) = \\rho_0\n",
    "\\end{equation}\n",
    "2. an NFW profile\n",
    "\\begin{equation}\n",
    "\\rho_{NFW}(r) = \\frac{\\rho_0}{\\frac{r}{r_s} (1 + \\frac{r}{r_s})^2} \n",
    "\\end{equation}\n",
    "3. a NFW profile with a central density spike\n",
    "\\begin{equation}\n",
    "\\rho_{SpikedNFW} = \\begin{cases}\n",
    "               \\rho_{spike} \\left(\\frac{r_{spike}}{r}\\right)^{\\alpha}, \\quad r <= r_{spike} \\\\\n",
    "               \\rho_{NFW}(r), \\quad  r > r_{spike}\n",
    "            \\end{cases}\n",
    "\\end{equation}\n",
    "with the parameters chosen such that $\\rho_{spike} = \\rho_{NFW}(r_{spike})$\n",
    "\n",
    "The constant and NFW profiles can inherit from this base class, and the SpikedNFW profile can inherit from the NFW and modify its density in the appropriate region. "
   ]
  },
  {
   "cell_type": "code",
   "execution_count": 18,
   "metadata": {},
   "outputs": [],
   "source": [
    "import numpy as np\n",
    "import matplotlib.pyplot as plt\n",
    "\n",
    "# abstract base class for the DM halo\n",
    "class DMHalo:\n",
    "    def __init__(self, rho_0):\n",
    "        self.rho_0 = rho_0\n",
    "    \n",
    "    def density(self, r):\n",
    "        pass\n",
    "    \n",
    "    def __str__(self):\n",
    "        return \"DMHalo\"\n",
    "    \n",
    "    def mass(self, r):\n",
    "        pass\n",
    "    \n",
    "# Constant DM halo class, inhers from the abstract DMHalo\n",
    "class ConstHalo(DMHalo):\n",
    "    def __init__(self, rho_0):\n",
    "        super().__init__(rho_0)\n",
    "        \n",
    "    def density(self, r):\n",
    "        return self.rho_0 * np.ones(np.shape(r))\n",
    "    \n",
    "    def __str__(self):\n",
    "        return \"ConstHalo\"\n",
    "\n",
    "# NFW halo\n",
    "class NFW(DMHalo):\n",
    "    def __init__(self, rho_0, r_s):\n",
    "        super().__init__(rho_0)\n",
    "        self.r_s = r_s\n",
    "    \n",
    "    def density(self, r):\n",
    "        return self.rho_0 / (r/self.r_s) / (1. + r/self.r_s)**2\n",
    "    \n",
    "    def __str__(self):\n",
    "        return \"NFW\"\n",
    "    \n",
    "# Spiked NFW halo class    \n",
    "class SpikedNFW(NFW):\n",
    "    def __init__(self, rho_s, r_s, r_spike, alpha):\n",
    "        super().__init__(rho_s, r_s)\n",
    "        self.alpha = alpha\n",
    "        self.r_spike = r_spike\n",
    "        self.rho_spike = rho_s * r_s/r_spike / (1.+r_spike/r_s)**2\n",
    "    \n",
    "    def density(self, r):\n",
    "        return np.where( r < self.r_spike, \\\n",
    "                           self.rho_spike * (self.r_spike/r)**self.alpha, \\\n",
    "                        super().density(r))\n",
    "\n",
    "    def __str__(self):\n",
    "        return \"SpikedNFW\"\n",
    "\n",
    "# This is a function that plots the density for any object that has a density attribute\n",
    "def plotHalo(halo):\n",
    "    r = np.geomspace(1, 1e5)\n",
    "    l, = plt.loglog(r, halo.density(r), label=str(halo))\n",
    "    #plt.loglog(r, halo.mass(r), linestyle='--', color=l.get_c())"
   ]
  },
  {
   "cell_type": "code",
   "execution_count": 19,
   "metadata": {},
   "outputs": [
    {
     "data": {
      "image/png": "[encoded data removed]",
      "text/plain": [
       "<Figure size 432x288 with 1 Axes>"
      ]
     },
     "metadata": {
      "needs_background": "light"
     },
     "output_type": "display_data"
    }
   ],
   "source": [
    "plotHalo(ConstHalo(5.))\n",
    "plotHalo(NFW(10, 1e3))\n",
    "plotHalo(SpikedNFW(10., 1e4, 1e2, 7./3.))\n",
    "plt.xlabel(\"r\"); plt.ylabel(r\"$\\rho$\")\n",
    "plt.legend(); plt.grid();"
   ]
  },
  {
   "cell_type": "markdown",
   "metadata": {},
   "source": [
    "# Exercise 2\n",
    "\n",
    "Implement a mass function inside the classes and plot it alongside the density profile. Recall the mass can be computed as the volume integral of the DM density.\n",
    "\n",
    "There are two possible approaches to this:\n",
    "\n",
    "1. Implement the analytical mass function for each class individually\n",
    "2. Implement a numerical integration scheme in the base class and let inheritance do the rest  (tip: use  solve_ivp)\n",
    "\n",
    "* What are the pros and cons of each approach?\n",
    "\n",
    "*  Implement both and compare the results"
   ]
  },
  {
   "cell_type": "markdown",
   "metadata": {},
   "source": [
    "# Exercise 3\n",
    "\n",
    "In this exercise we will automatize  Exercise 3 in Lecture 5 for all data present in the `Rotation curves` directory, using classes. As usual, we  will divide the exercise in several steps:\n",
    "\n",
    "\n",
    "1. Load the pandas, and pyplot libraries; they will be used in your code \n",
    "2. Define a new class `rotation_curve`, and initialize it. The initialization function should take the input  `Galaxy_ID`. \n",
    "\n",
    "3. In the *\\__init\\__* function, define the instance variable `df_circular`, which crates a  **DataFrame** for the given `Galaxy_ID` (This corresponds to step 2 in Exercise 3 Tutorial 5).  Create a test class instance of `rotation_curve`, for a given galaxy ID. Check  that for instance, for `Galaxy_ID = 'IC2574'`  the  following lines\n",
    "```py\n",
    "test = rotation_curve('IC2574')\n",
    "test.df_circular.head()\n",
    "```\n",
    "produce as output \n",
    "\n",
    "![](./Figures/circ_velocity.png \"Circular velocity\")\n",
    "\n",
    "\n",
    "4.  Define the class method `uptade_df_circular` which takes as input the variables `key` and `data`. It   adds a new column  `data`, to the **DataFrame** `df_circular`, with keyword  `key`. \n",
    "\n",
    "5. Define the class method `add_M_DM`, which will add the column `DM Mass (M_sol)` to   the **DataFrame** `df_circular` (This corresponds to step 3 in Exercise 3, Tutorial 5. Hint, use the `uptade_df_circular` defined above). Check that when you run the lines\n",
    "\n",
    "```py\n",
    "test = rotation_curve('IC2574')\n",
    "test.add_M_DM()\n",
    "test.df_circular.head()\n",
    "```\n",
    "you get as output \n",
    "\n",
    "![](./Figures/rot_curve_m.png)\n",
    "\n",
    "6. Now you can test that the `rotation_curve` class works well with all of the other `Galaxy_IDs` in the  `Rotation curves` directory. (You will probably have troubles loading the data for galaxy `'F563-1'`).\n",
    "\n",
    "7. We will now proceed to do define a function outside of our class, that plots two columns of  the **DataFrame** `df_circular`, for all of the Galaxy_IDs in the  `Rotation curves` directory. First we need to have a list with all of the `Galaxy_IDs` in the  `Rotation curves` directory. \n",
    "\n",
    "* Use the **os** library, and the `os.listdir()` function, to create such a list, and remove `'F563-1'` from the list if you got error message when loading it in step 6.\n",
    "* Define the function `plot` that takes as entries two keywords `x` and `y`. It will loop over all of the elements of `Galaxy_IDs`, creating an instance of the class `rotation_curve` for every iteration,  and plot the columns `x` vs `y` in  the  `df_circular` class function.  For instance, if you use that function to plot `'radius (kpc)'` vs `'DM Mass (M_sol)'`, one should get a plot similar to:\n",
    "![](./Figures/M_DM_vs_r.png)"
   ]
  },
  {
   "cell_type": "markdown",
   "metadata": {},
   "source": [
    "# Solution Exercise 3 (new version. Will be removed from the students version)"
   ]
  },
  {
   "cell_type": "code",
   "execution_count": 20,
   "metadata": {},
   "outputs": [],
   "source": [
    "import pandas as pd\n",
    "import numpy as np\n",
    "import matplotlib.pyplot as plt\n",
    "\n",
    "class rotation_curve:\n",
    "    def __init__(self, Galaxy_ID):\n",
    "        self.Galaxy_ID = Galaxy_ID\n",
    "        \n",
    "        folder_path = 'Rotation curves/'\n",
    "        self.Galaxy_circular = folder_path+ 'RotationCurve_'+ self.Galaxy_ID + '.csv'\n",
    "        \n",
    "        self.df_circular = pd.read_csv(self.Galaxy_circular)\n",
    "     \n",
    "    def uptade_df_circular(self,key,data):\n",
    "        self.df_circular[key] = data\n",
    "   \n",
    "    def add_M_DM(self):\n",
    "        v_c = self.df_circular['circ velocity (km/s)']**2\n",
    "        r_c = self.df_circular[\"radius (kpc)\"]\n",
    "        # Newton's constant\n",
    "        GN = 4.302e-6 # km^2/s^2*kpc/Msol\n",
    "        #Add DM mass column\n",
    "        M_DM =  r_c * v_c/GN\n",
    "        self.uptade_df_circular('DM Mass (M_sol)',M_DM)\n",
    "        "
   ]
  },
  {
   "cell_type": "code",
   "execution_count": 21,
   "metadata": {},
   "outputs": [
    {
     "data": {
      "text/html": [
       "<div>\n",
       "<style scoped>\n",
       "    .dataframe tbody tr th:only-of-type {\n",
       "        vertical-align: middle;\n",
       "    }\n",
       "\n",
       "    .dataframe tbody tr th {\n",
       "        vertical-align: top;\n",
       "    }\n",
       "\n",
       "    .dataframe thead th {\n",
       "        text-align: right;\n",
       "    }\n",
       "</style>\n",
       "<table border=\"1\" class=\"dataframe\">\n",
       "  <thead>\n",
       "    <tr style=\"text-align: right;\">\n",
       "      <th></th>\n",
       "      <th>radius (kpc)</th>\n",
       "      <th>circ velocity (km/s)</th>\n",
       "      <th>circ velocity error (km/s)</th>\n",
       "      <th>DM Mass (M_sol)</th>\n",
       "    </tr>\n",
       "  </thead>\n",
       "  <tbody>\n",
       "    <tr>\n",
       "      <th>0</th>\n",
       "      <td>0.232710</td>\n",
       "      <td>3.33</td>\n",
       "      <td>1.36</td>\n",
       "      <td>5.998368e+05</td>\n",
       "    </tr>\n",
       "    <tr>\n",
       "      <th>1</th>\n",
       "      <td>0.465421</td>\n",
       "      <td>8.87</td>\n",
       "      <td>4.32</td>\n",
       "      <td>8.511827e+06</td>\n",
       "    </tr>\n",
       "    <tr>\n",
       "      <th>2</th>\n",
       "      <td>0.698131</td>\n",
       "      <td>11.89</td>\n",
       "      <td>4.51</td>\n",
       "      <td>2.294194e+07</td>\n",
       "    </tr>\n",
       "    <tr>\n",
       "      <th>3</th>\n",
       "      <td>0.930841</td>\n",
       "      <td>15.76</td>\n",
       "      <td>5.35</td>\n",
       "      <td>5.374246e+07</td>\n",
       "    </tr>\n",
       "    <tr>\n",
       "      <th>4</th>\n",
       "      <td>1.163550</td>\n",
       "      <td>18.62</td>\n",
       "      <td>5.54</td>\n",
       "      <td>9.377218e+07</td>\n",
       "    </tr>\n",
       "  </tbody>\n",
       "</table>\n",
       "</div>"
      ],
      "text/plain": [
       "   radius (kpc)  circ velocity (km/s)  circ velocity error (km/s)  \\\n",
       "0      0.232710                  3.33                        1.36   \n",
       "1      0.465421                  8.87                        4.32   \n",
       "2      0.698131                 11.89                        4.51   \n",
       "3      0.930841                 15.76                        5.35   \n",
       "4      1.163550                 18.62                        5.54   \n",
       "\n",
       "   DM Mass (M_sol)  \n",
       "0     5.998368e+05  \n",
       "1     8.511827e+06  \n",
       "2     2.294194e+07  \n",
       "3     5.374246e+07  \n",
       "4     9.377218e+07  "
      ]
     },
     "execution_count": 21,
     "metadata": {},
     "output_type": "execute_result"
    }
   ],
   "source": [
    "test = rotation_curve('IC2574')\n",
    "test.add_M_DM()\n",
    "test.df_circular.head()"
   ]
  },
  {
   "cell_type": "code",
   "execution_count": 22,
   "metadata": {},
   "outputs": [],
   "source": [
    "import os\n",
    "def plot(x = 'radius (kpc)', y = 'DM circ velocity (km/s)'):\n",
    "    \n",
    "    ld = os.listdir('Rotation curves/')\n",
    "    Galaxy_IDs = []\n",
    "    for i in ld:\n",
    "        if i.startswith('RotationCurve_baryons_'):\n",
    "            Galaxy_IDs.append(i[22:-4])\n",
    "    #loop over all Galaxy IDs\n",
    "    for galaxy in Galaxy_IDs:\n",
    "        if galaxy=='F563-1':\n",
    "            pass\n",
    "        else:\n",
    "            #create class instance for a given Galaxy ID\n",
    "            test = rotation_curve(galaxy)\n",
    "            # add DM mass column\n",
    "            test.add_M_DM()\n",
    "            #define columns to plot\n",
    "            x_ax = test.df_circular[x]\n",
    "            y_ax = test.df_circular[y]\n",
    "            \n",
    "            #plot\n",
    "            plt.plot(x_ax,y_ax,label = galaxy)\n",
    "            #put plot legends outside plot\n",
    "            plt.legend(bbox_to_anchor=(1.05, 1.0), loc='upper left')\n",
    "            plt.xlabel(x)\n",
    "            plt.ylabel(y)\n",
    "            plt.tight_layout()\n"
   ]
  },
  {
   "cell_type": "code",
   "execution_count": 23,
   "metadata": {},
   "outputs": [
    {
     "data": {
      "image/png": "[encoded data removed]",
      "text/plain": [
       "<Figure size 432x288 with 1 Axes>"
      ]
     },
     "metadata": {
      "needs_background": "light"
     },
     "output_type": "display_data"
    }
   ],
   "source": [
    "plot(y ='DM Mass (M_sol)' )"
   ]
  },
  {
   "cell_type": "markdown",
   "metadata": {},
   "source": [
    "# Exercise 3 (old version)\n",
    "\n",
    "In this exercise, we will automatize  Exercise 3 in Lecture 5, for all data present in the `Rotation curves` directory. It is important that you are very familiar with that exercise.  We will divide the exercise in several steps:\n",
    "\n",
    "1. Load the pandas,numpy,interp1d and pyplot libraries. they will be used in the code \n",
    "2. Define a new class `rotation_curve`, and initialize it. The initialization function should take the input  `Galaxy_ID`. \n",
    "3. In the *\\__init\\__* define the instance variables `df_circular` and `df_baryon`, which crate the   **DataFrame** for the given `Galaxy_ID` (This corresponds to step 2 in Exercise 3 Tutorial 5).  Create a test instance of `rotation_curve`, for a given galaxy id. Check that when running the following lines\n",
    "```py\n",
    "test = rotation_curve('IC2574')\n",
    "test.df_circular.head()\n",
    "test.df_baryon.head()\n",
    "```\n",
    "you get as output \n",
    "\n",
    "![](./Figures/circ_velocity.png \"Circular velocity\")\n",
    "\n",
    "\n",
    "![](./Figures/cir_vel_baryon.png \"Baryonic circular velocity\")\n",
    "\n",
    "4.  Define the class method `uptade_df_circular` which takes as input the variables `key` and `data`, and  adds the new column  `data` to the **DataFrame** `df_circular`, with keyword  `key`. \n",
    "5. Define the class method `add_baryon_vel`. This will add the two columns `stars circ velocity (km/s)` and `gas circ velocity (km/s)` to the **DataFrame** `df_circular` (This corresponds to steps 3 and 4 in Exercise 3 Tutorial 5. Hint, use the `uptade_df_circular` defined above). Check that when running the lines \n",
    "\n",
    "```py\n",
    "test = rotation_curve('IC2574')\n",
    "test.add_baryon_vel()\n",
    "test.df_circular.head()\n",
    "``` \n",
    "you get as output \n",
    "\n",
    "![](./Figures/step_4.png)\n",
    "\n",
    "6. Define the class method `add_syst_error`, which will add the columns systematic error `syst_error` and total error `total_error` to  the **DataFrame** `df_circular` (This corresponds to step 5 in Exercise 3 Tutorial 5. Hint, use the `uptade_df_circular` defined above). Check that when running the lines\n",
    "\n",
    "```py\n",
    "test = rotation_curve('IC2574')\n",
    "test.add_baryon_vel()\n",
    "test.add_syst_error()\n",
    "test.df_circular.head()\n",
    "``` \n",
    "you get as output \n",
    "![](./Figures/step_5.png)\n",
    "\n",
    "7. Define the class method `add_DM_vel_and_M_DM`, which will add the  columns  Dark Matter velocity `DM circ velocity (km/s)` and DM mass `DM Mass (M_sol)` to   the **DataFrame** `df_circular` (This corresponds to step 6 in Exercise 3 Tutorial 5. Hint, use the `uptade_df_circular` defined above). Check that when you run the lines\n",
    "\n",
    "```py\n",
    "test = rotation_curve('IC2574')\n",
    "test.add_baryon_vel()\n",
    "test.add_syst_error()\n",
    "test.add_DM_vel_and_M_DM()\n",
    "test.df_circular.head()\n",
    "``` \n",
    "you get as output \n",
    "![](./Figures/step_6.png)\n",
    "\n",
    " \n",
    "8. Now you can test that the `rotation_curve` class works well with all of the other `Galaxy_IDs` in the  `Rotation curves` directory. (You will probably have troubles loading the data for galaxy `'F563-1'`). We will now proceed to do define a function outside of our class, that plots two columns of  the **DataFrame** `df_circular`, for all of the Galaxy_IDs in the  `Rotation curves` directory. First we need to have a list with all of the `Galaxy_IDs`. Use the **os** library, and the `os.listdir()` function, to create such a list (See for instance [here](https://www.geeksforgeeks.org/python-os-listdir-method/)). Then, define the function `plot` that takes as entries two keywords `x` and `y`. It will loop over all of the elements in the list `Galaxy_IDs`, creating an instance of the class `rotation_curve` for every `Galaxy_ID`,  and plot the columns `x` vs `y` in  the **DataFrame** `df_circular`.  For instance, if you use that function to plot `'radius (kpc)'` vs `'DM circ velocity (km/s)'`, one should get a plot similar to:\n",
    "![](./Figures/vel_DM_vs_r.png)\n",
    "\n",
    "and similar if you plot the DM mass as function of the radial distance\n",
    "\n",
    "![](./Figures/M_DM_vs_r.png)\n"
   ]
  },
  {
   "cell_type": "markdown",
   "metadata": {},
   "source": [
    "# Solution Exercise 3 old version (will be removed for the  student's version)"
   ]
  },
  {
   "cell_type": "code",
   "execution_count": 24,
   "metadata": {},
   "outputs": [],
   "source": [
    "import pandas as pd\n",
    "import numpy as np\n",
    "from scipy.interpolate import interp1d # For 1-D interpolations\n",
    "import matplotlib.pyplot as plt\n",
    "\n",
    "class rotation_curve:\n",
    "    def __init__(self, Galaxy_ID):\n",
    "        self.Galaxy_ID = Galaxy_ID\n",
    "        \n",
    "        folder_path = 'Rotation curves/'\n",
    "        self.Galaxy_circular = folder_path+ 'RotationCurve_'+ self.Galaxy_ID + '.csv'\n",
    "        self.Galaxy_baryon = folder_path+ 'RotationCurve_baryons_'+ self.Galaxy_ID + '.csv' # baryon contribution\n",
    "\n",
    "        self.df_circular = pd.read_csv(self.Galaxy_circular)\n",
    "        self.df_baryon = pd.read_csv(self.Galaxy_baryon)\n",
    "     \n",
    "    def uptade_df_circular(self,key,data):\n",
    "        self.df_circular[key] = data\n",
    "        \n",
    "    def add_baryon_vel(self):\n",
    "        \n",
    "        # Axis grids\n",
    "        r_baryon = self.df_baryon[\"radius (kpc)\"]\n",
    "        r_circ = self.df_circular[\"radius (kpc)\"]\n",
    "        v_star = self.df_baryon[\"stars circ velocity (km/s)\"]\n",
    "        v_gas = self.df_baryon['gas circ velocity (km/s)']\n",
    "        \n",
    "        # Interpolations\n",
    "        inter_stars_circ_velocity = interp1d(r_baryon,v_star,kind = 'quadratic')\n",
    "        inter_gas_circ_velocity = interp1d(r_baryon,v_gas,kind = 'quadratic')\n",
    "                \n",
    "        self.uptade_df_circular(\"stars circ velocity (km/s)\",inter_stars_circ_velocity(r_circ)) \n",
    "        self.uptade_df_circular(\"gas circ velocity (km/s)\",inter_gas_circ_velocity(r_circ)) \n",
    "\n",
    "        \n",
    "    def add_syst_error(self):\n",
    "        \n",
    "        data_circ_error = self.df_circular ['circ velocity error (km/s)']\n",
    "        \n",
    "        data_sys_error =  0.05* data_circ_error.iloc[-1]\n",
    "        self.uptade_df_circular('syst_error',data_sys_error)\n",
    "        \n",
    "        data_tot_error = np.sqrt(data_sys_error**2 + data_circ_error**2)\n",
    "        self.uptade_df_circular('total_error',data_tot_error)\n",
    "        #return self.df_circular\n",
    "    def add_DM_vel_and_M_DM(self):\n",
    "        \n",
    "        vel_s = np.array([])\n",
    "        v_s_c = self.df_circular['circ velocity (km/s)']**2\n",
    "        v_s_star = self.df_circular['stars circ velocity (km/s)']**2\n",
    "        v_s_gas = self.df_circular['gas circ velocity (km/s)']**2\n",
    "\n",
    "        for i in range(len(self.df_circular)):\n",
    "            test = v_s_c[i] - v_s_star[i]-v_s_gas[i]\n",
    "\n",
    "            if test <0:\n",
    "                new_test = v_s_c[i] - v_s_star[i] + v_s_gas[i]\n",
    "                vel_s = np.append(vel_s,new_test)\n",
    "\n",
    "            else:\n",
    "                vel_s = np.append(vel_s,test)\n",
    "        v_DM =  np.sqrt(vel_s) \n",
    "        \n",
    "        self.uptade_df_circular('DM circ velocity (km/s)',v_DM)\n",
    "\n",
    "        r_circ = self.df_circular[\"radius (kpc)\"]\n",
    "        # Newton's constant\n",
    "        GN = 4.302e-6 # km^2/s^2*kpc/Msol\n",
    "        M_DM =  r_circ * vel_s/GN\n",
    "        self.uptade_df_circular('DM Mass (M_sol)',M_DM)\n",
    "        "
   ]
  },
  {
   "cell_type": "code",
   "execution_count": 25,
   "metadata": {},
   "outputs": [],
   "source": [
    "import os\n",
    "def plot(x = 'radius (kpc)', y = 'DM circ velocity (km/s)'):\n",
    "    \n",
    "    ld = os.listdir('Rotation curves/')\n",
    "    Galaxy_IDs = []\n",
    "    for i in ld:\n",
    "        if i.startswith('RotationCurve_baryons_'):\n",
    "            Galaxy_IDs.append(i[22:-4])\n",
    "    \n",
    "    for galaxy in Galaxy_IDs:\n",
    "        if galaxy=='F563-1':\n",
    "            pass\n",
    "        else:\n",
    "            test = rotation_curve(galaxy)\n",
    "            test.add_baryon_vel()\n",
    "            test.add_syst_error()\n",
    "            test.add_DM_vel_and_M_DM()\n",
    "\n",
    "            x_ax = test.df_circular[x]\n",
    "            y_ax = test.df_circular[y]\n",
    "\n",
    "            plt.plot(x_ax,y_ax,label = galaxy)\n",
    "\n",
    "            plt.legend(bbox_to_anchor=(1.05, 1.0), loc='upper left')\n",
    "            plt.xlabel(x)\n",
    "            plt.ylabel(y)\n",
    "            plt.tight_layout()\n"
   ]
  },
  {
   "cell_type": "code",
   "execution_count": 26,
   "metadata": {},
   "outputs": [
    {
     "data": {
      "image/png": "[encoded data removed]",
      "text/plain": [
       "<Figure size 432x288 with 1 Axes>"
      ]
     },
     "metadata": {
      "needs_background": "light"
     },
     "output_type": "display_data"
    }
   ],
   "source": [
    "plot(y ='DM Mass (M_sol)' )"
   ]
  },
  {
   "cell_type": "code",
   "execution_count": null,
   "metadata": {},
   "outputs": [],
   "source": []
  }
 ],
 "metadata": {
  "kernelspec": {
   "display_name": "Python 3",
   "language": "python",
   "name": "python3"
  },
  "language_info": {
   "codemirror_mode": {
    "name": "ipython",
    "version": 3
   },
   "file_extension": ".py",
   "mimetype": "text/x-python",
   "name": "python",
   "nbconvert_exporter": "python",
   "pygments_lexer": "ipython3",
   "version": "3.7.6"
  }
 },
 "nbformat": 4,
 "nbformat_minor": 4
}
