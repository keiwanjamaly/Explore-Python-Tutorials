{
 "cells": [
  {
   "cell_type": "markdown",
   "metadata": {},
   "source": [
    "Hi there, \n",
    "\n",
    "in this lecture, you will lean **for** and **while** loops and **conditional statements**, this is nicely summarized in the word \"control structures\". We take also a closer look at **Lists** and Dictionaries. Additionally we also learn something about **generator expressions** and **higher-order functions**."
   ]
  },
  {
   "cell_type": "markdown",
   "metadata": {},
   "source": [
    "# Control Structures"
   ]
  },
  {
   "cell_type": "markdown",
   "metadata": {},
   "source": [
    "As the name suggests, control structures are the building blocks of programming. They are used to control the flow of the program. There are three types of control structures: for-loops, while-loops and conditional statements. "
   ]
  },
  {
   "cell_type": "markdown",
   "metadata": {},
   "source": [
    "## For Loops"
   ]
  },
  {
   "cell_type": "markdown",
   "metadata": {},
   "source": [
    "Sometimes, you want to execute the same chunk of code interatively. The best way to do this are for loops. The easies for loop you can think of is"
   ]
  },
  {
   "cell_type": "code",
   "execution_count": 3,
   "metadata": {},
   "outputs": [
    {
     "name": "stdout",
     "output_type": "stream",
     "text": [
      "0\n",
      "1\n",
      "2\n",
      "3\n",
      "4\n",
      "5\n",
      "6\n",
      "7\n",
      "8\n",
      "9\n"
     ]
    }
   ],
   "source": [
    "for i in range(10):\n",
    "    print(i)"
   ]
  },
  {
   "cell_type": "markdown",
   "metadata": {},
   "source": [
    "Let's break this down. \n",
    "\n",
    "* A for loop always begins with the statement **for**\n",
    "* Then you name a variable wich will change it's value in the for loop. It's called the Iterator. \n",
    "* The keyword **in**\n",
    "* and an iterable object (`range(10)` in the upper example, at which we will look closer later) \n",
    "\n",
    "I explicitly say an iterable object, because this can be a List, Tuple, Numpy-array etc. Let's do another example to make this clearer."
   ]
  },
  {
   "cell_type": "code",
   "execution_count": 4,
   "metadata": {},
   "outputs": [
    {
     "name": "stdout",
     "output_type": "stream",
     "text": [
      "2\n",
      "67\n",
      "2\n",
      "5\n",
      "7\n",
      "324\n",
      "56\n",
      "34\n"
     ]
    }
   ],
   "source": [
    "x = [2,67,2,5,7,324,56,34]\n",
    "\n",
    "for i in x:\n",
    "    print(i)"
   ]
  },
  {
   "cell_type": "markdown",
   "metadata": {},
   "source": [
    "As you can see, i takes the values of `x`. Let me show you some other useful examples"
   ]
  },
  {
   "cell_type": "code",
   "execution_count": 7,
   "metadata": {},
   "outputs": [
    {
     "name": "stdout",
     "output_type": "stream",
     "text": [
      "Number is: 1 Word is: hello\n",
      "Number is: 25 Word is: pencil\n",
      "Number is: 58 Word is: metronome\n",
      "Number is: 5 Word is: bike\n"
     ]
    }
   ],
   "source": [
    "x = [(1, \"hello\"), (25, \"pencil\"), (58, \"metronome\"), (5, \"bike\")]\n",
    "\n",
    "for (number, word) in x:\n",
    "    print(\"Number is:\", number, \"Word is:\", word)"
   ]
  },
  {
   "cell_type": "markdown",
   "metadata": {},
   "source": [
    "As you can see, you individually select the elements of the tuple in a list. This is pretty neat if you want to write clean code. If you are interrested, you can read something about [enumerate](https://docs.python.org/3/library/functions.html#enumerate) and [destructuring](https://blog.teclado.com/destructuring-in-python/)."
   ]
  },
  {
   "cell_type": "markdown",
   "metadata": {},
   "source": [
    "## List Comprehensions"
   ]
  },
  {
   "cell_type": "markdown",
   "metadata": {},
   "source": [
    "There is also a different method to create list. But you should use it carefully, it can make the code more readable or make it compleadly ununderstandable. \n",
    "Let's say you are doing an operation in a for loop and store the result directly into another list. Normally you would do something like"
   ]
  },
  {
   "cell_type": "code",
   "execution_count": 10,
   "metadata": {},
   "outputs": [
    {
     "name": "stdout",
     "output_type": "stream",
     "text": [
      "[0, 1, 4, 9, 16, 25, 36, 49, 64, 81]\n"
     ]
    }
   ],
   "source": [
    "x = []\n",
    "\n",
    "for i in range(10):\n",
    "    x.append(i**2)\n",
    "\n",
    "print(x)"
   ]
  },
  {
   "cell_type": "markdown",
   "metadata": {},
   "source": [
    "This can be simplified to"
   ]
  },
  {
   "cell_type": "code",
   "execution_count": 1,
   "metadata": {},
   "outputs": [
    {
     "name": "stdout",
     "output_type": "stream",
     "text": [
      "[0, 1, 4, 9, 16, 25, 36, 49, 64, 81]\n"
     ]
    }
   ],
   "source": [
    "x = [i**2 for i in range(10)]\n",
    "\n",
    "print(x)"
   ]
  },
  {
   "cell_type": "markdown",
   "metadata": {},
   "source": [
    "List Comprehensions can also be chained together. Let's say you want to store all positions of a two dimensional grid $[0, 5] \\times [0,5]$ into one list"
   ]
  },
  {
   "cell_type": "code",
   "execution_count": 3,
   "metadata": {},
   "outputs": [
    {
     "name": "stdout",
     "output_type": "stream",
     "text": [
      "[(0, 0), (0, 1), (0, 2), (0, 3), (0, 4), (0, 5), (1, 0), (1, 1), (1, 2), (1, 3), (1, 4), (1, 5), (2, 0), (2, 1), (2, 2), (2, 3), (2, 4), (2, 5), (3, 0), (3, 1), (3, 2), (3, 3), (3, 4), (3, 5), (4, 0), (4, 1), (4, 2), (4, 3), (4, 4), (4, 5), (5, 0), (5, 1), (5, 2), (5, 3), (5, 4), (5, 5)]\n"
     ]
    }
   ],
   "source": [
    "grid_2_d = [(x, y) for x in range(6) for y in range(6)]\n",
    "\n",
    "print(grid_2_d)"
   ]
  },
  {
   "cell_type": "markdown",
   "metadata": {},
   "source": [
    "## Array slicing"
   ]
  },
  {
   "cell_type": "markdown",
   "metadata": {},
   "source": [
    "If you want to copy a single variable, it is trivially to do so"
   ]
  },
  {
   "cell_type": "code",
   "execution_count": null,
   "metadata": {},
   "outputs": [],
   "source": [
    "x = 4\n",
    "y = x\n",
    "print(\"x=\")"
   ]
  },
  {
   "cell_type": "markdown",
   "metadata": {},
   "source": [
    "## Conditional Statements"
   ]
  },
  {
   "cell_type": "markdown",
   "metadata": {},
   "source": [
    "## While Loops"
   ]
  },
  {
   "cell_type": "markdown",
   "metadata": {},
   "source": [
    "# Dictionaries"
   ]
  },
  {
   "cell_type": "markdown",
   "metadata": {},
   "source": [
    "# Higher-Order functions (Lists vs. Numpy)"
   ]
  }
 ],
 "metadata": {
  "interpreter": {
   "hash": "916dbcbb3f70747c44a77c7bcd40155683ae19c65e1c03b4aa3499c5328201f1"
  },
  "kernelspec": {
   "display_name": "Python 3.8.10 64-bit",
   "language": "python",
   "name": "python3"
  },
  "language_info": {
   "codemirror_mode": {
    "name": "ipython",
    "version": 3
   },
   "file_extension": ".py",
   "mimetype": "text/x-python",
   "name": "python",
   "nbconvert_exporter": "python",
   "pygments_lexer": "ipython3",
   "version": "3.8.10"
  },
  "orig_nbformat": 4
 },
 "nbformat": 4,
 "nbformat_minor": 2
}
