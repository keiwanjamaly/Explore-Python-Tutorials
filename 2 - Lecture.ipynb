{
 "cells": [
  {
   "cell_type": "markdown",
   "metadata": {},
   "source": [
    "# Lecture 2"
   ]
  },
  {
   "cell_type": "markdown",
   "metadata": {},
   "source": [
    "**Authors:**\n",
    "* Yilber Fabian Bautista\n",
    "* Keiwan Jamaly\n",
    "\n",
    "**Last date of modification:**\n",
    " November 28th 2021"
   ]
  },
  {
   "cell_type": "markdown",
   "metadata": {},
   "source": [
    "Hello there, \n",
    "\n",
    "Welcome to Lecture 2 of this mini-lecture series on programing with Python. In this series, you will learn  basic and intermediate python tools that will be of great use in your scientific carer\n",
    "\n",
    "**Objectives:** \n",
    "\n",
    "By the end of this lecture you will be able to:\n",
    "* Identify and use Control Structures in short programs in particular to:\n",
    "    * Understand and design **Flow Charts**\n",
    "    * Use **conditional statements** \n",
    "    * Differentiate between **Definite**  and **Indefinite** iterations\n",
    "    * Execute **Definite** iterations using python **for** loops  \n",
    "    * Execute  **Indefinite** iterations using python  **while** loops\n",
    "    * Translate **for** loops into **while** loops and viceversa\n",
    "    * Use **print** statements to understand and debug your codes\n",
    "* Expand your **list comprehension** skills\n",
    "* Use **higher-order functions**"
   ]
  },
  {
   "cell_type": "markdown",
   "metadata": {},
   "source": [
    "## Control Structures"
   ]
  },
  {
   "cell_type": "markdown",
   "metadata": {},
   "source": [
    "As the name suggests, control structures are the building blocks of programming. They are used to control the flow of the program. There are three types of control structures: **for**-loops, **while**-loops and **conditional statements**. If the following we will expand on each of them, starting with  **conditional statements**"
   ]
  },
  {
   "cell_type": "markdown",
   "metadata": {},
   "source": [
    "### Conditional Statements"
   ]
  },
  {
   "cell_type": "markdown",
   "metadata": {},
   "source": [
    "A conditional statement is a piece of code that is executed in a program if a certain condition is met, otherwise that part of the code is skipped over and not executed. This can be illustrated in the following **Flow Chart**"
   ]
  },
  {
   "cell_type": "code",
   "execution_count": null,
   "metadata": {},
   "outputs": [],
   "source": [
    "from IPython.display import Image\n",
    "Image(\"Figures/scala_decision_making.jpg\")"
   ]
  },
  {
   "cell_type": "markdown",
   "metadata": {},
   "source": [
    "The simples statement (as seen from the **flow chart**) is the **if statement**. It has the following basic structure in python: \n",
    "\n",
    "```py\n",
    "if <condition>:\n",
    "    <statement>\n",
    "```\n",
    "\n",
    "In this structure:\n",
    "\n",
    "<code> condition </code>  is an expression that evaluates to a Boolean value.\n",
    "<code> statement</code> is a valid Python statement, which must be indented. \n",
    "\n",
    "If <code> condition </code> is <code> True </code>, then <code> statement</code>  is executed. If <code> condition </code> is false, then <code> statement</code>  is skipped over and not executed.\n",
    "\n",
    "Note that the colon (:) following  <code> condition </code> is required.\n",
    "\n",
    "Let us see and specific example:"
   ]
  },
  {
   "cell_type": "code",
   "execution_count": null,
   "metadata": {},
   "outputs": [],
   "source": [
    "x = 5 # go ahead and change this to something else to see what happens\n",
    "\n",
    "if x > 3:\n",
    "    print(\"x is greater than 3\")"
   ]
  },
  {
   "cell_type": "markdown",
   "metadata": {},
   "source": [
    "We can chain multiple conditions together as follows"
   ]
  },
  {
   "cell_type": "code",
   "execution_count": null,
   "metadata": {},
   "outputs": [],
   "source": [
    "x = 4 #change this value and see what happens\n",
    "if x > 3:\n",
    "    print(\"x is greater than 3\")\n",
    "    if x % 2 == 0:\n",
    "        print(\"x is even\")\n",
    "    if x % 2 == 1:\n",
    "        print(\"x is odd\")"
   ]
  },
  {
   "cell_type": "markdown",
   "metadata": {},
   "source": [
    "Now that we have learnt how to execute a code if a condition is met, we ask what **else** can be done.\n",
    "Sometimes, we want to evaluate a condition and take one path if it is true but specify an alternative path if it is not. \n",
    "\n",
    "**else** is precisely  another **conditional statement**. In a **flow chart** the path specification  it looks as follows"
   ]
  },
  {
   "cell_type": "code",
   "execution_count": null,
   "metadata": {},
   "outputs": [],
   "source": [
    "Image(\"Figures/if_else_statement.jpg\") "
   ]
  },
  {
   "cell_type": "markdown",
   "metadata": {},
   "source": [
    "In python this is accomplished with an if and an  else clause as follows:\n",
    "\n",
    "```py\n",
    "if <condition>:\n",
    "    <statement(s)>\n",
    "else:\n",
    "    <statement(s)>\n",
    "```\n",
    "\n",
    "In this code,  If <code> condition </code>  is true, the first suite is executed, and the second is skipped. If <code> condition </code>  is false, the first suite is skipped and the second is executed. Either way, execution then resumes after the second suite.\n",
    "\n",
    "Let us see and specific example"
   ]
  },
  {
   "cell_type": "code",
   "execution_count": null,
   "metadata": {},
   "outputs": [],
   "source": [
    "x = 3 # change the this value and see what happens\n",
    "\n",
    "if x % 3 == 0:\n",
    "    print(\"x is divisible by 3\")\n",
    "else:\n",
    "    print(\"x is not divisible by 3\")"
   ]
  },
  {
   "cell_type": "markdown",
   "metadata": {},
   "source": [
    "In the case we have several alternatives in the code, we use  one or more **elif** (short for else if) clauses. Python evaluates each <code> condition </code>  in turn and executes the suite corresponding to the first that is true. If none of the expressions are true, and an else clause is specified, then its suite is executed: In a **flow chart** it looks as follows"
   ]
  },
  {
   "cell_type": "code",
   "execution_count": null,
   "metadata": {},
   "outputs": [],
   "source": [
    "Image(\"Figures/Else-if.png\") "
   ]
  },
  {
   "cell_type": "markdown",
   "metadata": {},
   "source": [
    "In python this is implemented in the following way:\n",
    "\n",
    "```py\n",
    "if <condition>:\n",
    "    <statement(s)>\n",
    "elif <condition>:\n",
    "    <statement(s)>\n",
    "elif <condition>:\n",
    "    <statement(s)>\n",
    "    ...\n",
    "else:\n",
    "    <statement(s)>\n",
    "```\n",
    "Let us see an example implemented [here](https://realpython.com/python-conditional-statements/). "
   ]
  },
  {
   "cell_type": "code",
   "execution_count": null,
   "metadata": {},
   "outputs": [],
   "source": [
    "name = 'Sam' #change this imput and see what happens\n",
    "if name == 'Fred':\n",
    "     print('Hello Fred')\n",
    "elif name == 'Xander':\n",
    "    print('Hello Xander')\n",
    "elif name == 'Joe':\n",
    "     print('Hello Joe')\n",
    "elif name == 'Arnold':\n",
    "    print('Hello Arnold')\n",
    "else:\n",
    "    print(\"I don't know who you are!\")"
   ]
  },
  {
   "cell_type": "markdown",
   "metadata": {},
   "source": [
    "To end this section let us mention that **conditional statements** can be implemented in one line, this is analog to **List Comprehensions** as we will see bellow.  Let us see and example of how this works"
   ]
  },
  {
   "cell_type": "code",
   "execution_count": null,
   "metadata": {},
   "outputs": [],
   "source": [
    "import numpy as np\n",
    "\n",
    "x = -5\n",
    "\n",
    "x = np.sqrt(x) if x >= 0 else np.sqrt(-x)\n",
    "\n",
    "print(x)"
   ]
  },
  {
   "cell_type": "markdown",
   "metadata": {},
   "source": [
    "The one liner if statement can be the easies understood if we read it from left to right and translate it to English.\n",
    "\n",
    "1. `np.sqrt(x)`: square root of x\n",
    "2. `if x >= 0`: if the condition is true\n",
    "3. `else -np.sqrt(-x)`: else (if the condition is false) minus square root of -x\n",
    "\n",
    "It is a little tricky to get used to the syntax but if it is used at the right places, program code will be very readable."
   ]
  },
  {
   "cell_type": "markdown",
   "metadata": {},
   "source": [
    "# Exercise 1\n",
    "Conditional statements can be used anywhere in programing, in particular inside functions. In this exercise you are asked to define a one dimensional piecewise function and plot it. The function will take a constant value of $-e$ if the independent variable is smaller than $1$, it takes value $\\pi$ if the independent variable is equal $1$ and it takes value $sin(x)$ if $x>1$. Do a scattered plot for  the function in the interval $-5\\le x \\le 5$, for an  $x-$grid with logarithmic spacing. "
   ]
  },
  {
   "cell_type": "code",
   "execution_count": null,
   "metadata": {},
   "outputs": [],
   "source": [
    "#Write your code here\n",
    "import numpy as np\n",
    "import matplotlib.pyplot as plt\n",
    "\n",
    "def fun(x):\n",
    "    if x < 1:\n",
    "        res = - np.e\n",
    "    elif x == 1:\n",
    "        res = np.pi\n",
    "    else:\n",
    "        res = np.sin(x)\n",
    "    return res\n",
    "        "
   ]
  },
  {
   "cell_type": "code",
   "execution_count": null,
   "metadata": {},
   "outputs": [],
   "source": [
    "x = np.array(np.linspace(-5,5,100))\n",
    "y = np.array([fun(xi) for xi in x])\n",
    "plt.plot(x,y)\n",
    "plt.xscale('log')"
   ]
  },
  {
   "cell_type": "markdown",
   "metadata": {},
   "source": [
    "### For Loops"
   ]
  },
  {
   "cell_type": "markdown",
   "metadata": {},
   "source": [
    "This part of the  tutorial will learn  how to perform definite iteration with a Python **for** loop.\n",
    "\n",
    "An **iteration** is a repetitive execution of the same block of code over and over. There are two types of iteration: \n",
    "* **Definite iteration**, in which the number of repetitions is specified explicitly in advance\n",
    "* **Indefinite iteration**, in which the code block executes until some condition is met\n",
    "\n",
    "In Python, definite iterations are achieved using **for**-loops, whereas **indefinite iterations** are performed using **while**-loops.\n",
    "\n",
    "A python for loop has the following structure:\n",
    "        \n",
    "```py\n",
    "for <var> in <iterable>:\n",
    "    <statement(s)>\n",
    "```\n",
    "\n",
    "The loop variable  `var`is an iterator which takes on the value of the next element in `iterable`. The latter corresponds to  a collection of objects, for example, a list or a tuple, and interval, and array, etc. The `statement(s)` in the loop body are denoted by indentation, and are executed once for each item in  `iterable`. \n",
    "\n",
    "Let us see a simple example of a **for** loop in python"
   ]
  },
  {
   "cell_type": "code",
   "execution_count": null,
   "metadata": {},
   "outputs": [],
   "source": [
    "for i in range(10):\n",
    "    print(i)"
   ]
  },
  {
   "cell_type": "markdown",
   "metadata": {},
   "source": [
    "Let's break this down having in mind the previous general structure \n",
    "\n",
    "* A for loop always begins with the statement **for**\n",
    "* Then you name a variable wich will change it's value in the for loop. It's called the Iterator as mentioned above \n",
    "* The keyword **in**\n",
    "* and an iterable object (`range(10)` in the upper example, at which we will look closer later) \n",
    "\n",
    "\n",
    "Let us see another example"
   ]
  },
  {
   "cell_type": "code",
   "execution_count": null,
   "metadata": {},
   "outputs": [],
   "source": [
    "x = [2,67,2,5,7,324,56,34]\n",
    "\n",
    "for i in x:\n",
    "    print(i)"
   ]
  },
  {
   "cell_type": "markdown",
   "metadata": {},
   "source": [
    "Let us see a more complex example of a **for** loop, for which the iterator can take more complicated  objects in the iterator. "
   ]
  },
  {
   "cell_type": "code",
   "execution_count": null,
   "metadata": {},
   "outputs": [],
   "source": [
    "x = [(1, \"hello\"), (25, \"pencil\"), (58, \"metronome\"), (5, \"bike\")]\n",
    "\n",
    "for (number, word) in x:\n",
    "    print(\"Number is:\", number, \"Word is:\", word)"
   ]
  },
  {
   "cell_type": "markdown",
   "metadata": {},
   "source": [
    "As you can see, you individually select the elements of the tuple in a list. This is pretty neat if you want to write clean code. If you are interrested, you can read something about [enumerate](https://docs.python.org/3/library/functions.html#enumerate) and [destructuring](https://blog.teclado.com/destructuring-in-python/)."
   ]
  },
  {
   "cell_type": "markdown",
   "metadata": {},
   "source": [
    "As we learnt from Exercise 1, **conditional statements** can be use anywhere in a code, and in particular, they are useful in loops. Let us illustrate this with the following example:\n",
    "\n",
    "We are given the array of integer numbers from 0 to 100, and we want to separate the even and the odd numbers into two different list: We can do that with a **for**-loop as follows\n"
   ]
  },
  {
   "cell_type": "code",
   "execution_count": null,
   "metadata": {},
   "outputs": [],
   "source": [
    "given_array = np.arange(101)\n",
    "even  = []\n",
    "odd = []\n",
    "\n",
    "for k in given_array:\n",
    "    if k%2 ==1:\n",
    "        odd.append(k)\n",
    "    else:\n",
    "        even.append(k)\n",
    "        \n",
    "print(\"The list of even numbers is:\", even)\n",
    "print()\n",
    "print(\"The list of odd numbers is:\", odd)"
   ]
  },
  {
   "cell_type": "markdown",
   "metadata": {},
   "source": [
    "This simple example illustrates how we can combine elements learnt in the different lectures, and make our codes more dynamic. "
   ]
  },
  {
   "cell_type": "markdown",
   "metadata": {},
   "source": [
    "#### List Comprehensions"
   ]
  },
  {
   "cell_type": "markdown",
   "metadata": {},
   "source": [
    "In the previous example we used  a **for** loops to create the lists of <code>even</code> and <code> odd </code> numbers.  Here we will learn  a different method to create list. But you should use it carefully, it can make the code more readable or make it completely ununderstandable. \n",
    "\n",
    "Let us see it in a simple example:\n",
    "\n",
    "Let us create a simple list using for loops:"
   ]
  },
  {
   "cell_type": "code",
   "execution_count": null,
   "metadata": {},
   "outputs": [],
   "source": [
    "x = []\n",
    "\n",
    "for i in range(10):\n",
    "    x.append(i**2)\n",
    "\n",
    "print(x)"
   ]
  },
  {
   "cell_type": "markdown",
   "metadata": {},
   "source": [
    "Analog to the one-line **conditional statements** of previous section, this can be implemented in one line as follows"
   ]
  },
  {
   "cell_type": "code",
   "execution_count": null,
   "metadata": {},
   "outputs": [],
   "source": [
    "x = [i**2 for i in range(10)]\n",
    "\n",
    "print(x)"
   ]
  },
  {
   "cell_type": "markdown",
   "metadata": {},
   "source": [
    "List Comprehensions can also be chained together. Let's say you want to store all positions of a two dimensional grid $[0, 5] \\times [0,5]$ into one list"
   ]
  },
  {
   "cell_type": "code",
   "execution_count": null,
   "metadata": {},
   "outputs": [],
   "source": [
    "grid_2_d = [(x, y) for x in range(6) for y in range(6)]\n",
    "\n",
    "print(grid_2_d)"
   ]
  },
  {
   "cell_type": "markdown",
   "metadata": {},
   "source": [
    "# Exercise 2\n",
    "\n",
    "Using **for**-loops and conditional statements, find all prime numbers between 0 and 100, and store them in one list. In a separated list, store the non-prime numbers. "
   ]
  },
  {
   "cell_type": "code",
   "execution_count": null,
   "metadata": {},
   "outputs": [],
   "source": [
    "#write your solution in this cell\n"
   ]
  },
  {
   "cell_type": "markdown",
   "metadata": {},
   "source": [
    "# Exercise 3\n",
    "Assume s is a string of lower case characters.\n",
    "\n",
    "Write a program that counts up the number of vowels contained in the string s. Valid vowels are: <code>'a' , 'e', 'i', 'o',</code>  and <code>'u'</code>.\n",
    "\n",
    "For example, if <code>s = 'azcbobobegghakl'</code>, your program should print:\n",
    "\n",
    "<code>Number of vowels: 5 </code>\n"
   ]
  },
  {
   "cell_type": "code",
   "execution_count": null,
   "metadata": {},
   "outputs": [],
   "source": [
    "# write your solutions here"
   ]
  },
  {
   "cell_type": "markdown",
   "metadata": {},
   "source": [
    "To learn more about **for** loops create a free account  [here](https://realpython.com/python-for-loop/)."
   ]
  },
  {
   "cell_type": "markdown",
   "metadata": {},
   "source": [
    "### While Loops"
   ]
  },
  {
   "cell_type": "markdown",
   "metadata": {},
   "source": [
    "So far we have learnt how to perform **definite** iterations using **for**-loops. In this part of the tutorial we will learn how to do do **indefinite** iterations using **while** loops. \n",
    "\n",
    "Al **while** loop has the following structure:\n",
    "\n",
    "\n",
    "```py\n",
    "while <condition>:\n",
    "    <statement(s)>\n",
    "```\n",
    "Likewise for **for**-loops, the <code> statement(s) </code> represents the block to be repeatedly executed. \n",
    "\n",
    "The controlling <code> condition</code>, typically involves one or more variables that are initialized prior to starting the loop and then modified somewhere in the loop body.\n",
    "\n",
    "When a while loop is encountered,<code> condition</code> is first evaluated in Boolean context. If it is true, the loop body is executed. Then <code> condition</code> is checked again, and if still true, the body is executed again. This continues until <code> condition</code>becomes false, at which point program execution proceeds to the first statement beyond the loop body.\n",
    "\n",
    "     \n",
    "Let us see an example of a **while**-loop:    \n",
    "   "
   ]
  },
  {
   "cell_type": "code",
   "execution_count": null,
   "metadata": {},
   "outputs": [],
   "source": [
    "x = 10\n",
    "\n",
    "while (x > 3):\n",
    "    print(x)\n",
    "    x -= 1"
   ]
  },
  {
   "cell_type": "markdown",
   "metadata": {},
   "source": [
    "As you can see, the condition is checked before the loop body is executed. it starts with the keyword **while**. After the keyword, you write the condition (i.e. `x > 3`). It can be any expression that evaluates to a boolean value. Followed by a colon and the code that is executed if the condition is true `print(\"x is greater than 3\")`.\n",
    "\n",
    "You may have noticed, that this could easily end up in an infinite loop, if you make mistakes during programming, this is very common when first learning  how to code while loops, for instance if you forget to update the <code>condition</code> in the loop body. \n",
    "\n",
    "For instance, if you wrote the following code \n",
    "    \n",
    "```py\n",
    "x = 10\n",
    "bigger_3 = True\n",
    "while bigger_3:\n",
    "    print(x)\n",
    "    x -= 1\n",
    "```\n",
    "this ends in an infinite loop, so please do not try to run it in a cell. We can however truncate infinite loops, using **conditional statements**, here is where they become very useful:\n",
    "```py\n",
    "x = 10\n",
    "bigger_3 = True\n",
    "while bigger_3:\n",
    "    print(x)\n",
    "    x -= 1\n",
    "    if x<3:\n",
    "        break       \n",
    "``` \n",
    "try and run this last piece of code in a cell."
   ]
  },
  {
   "cell_type": "markdown",
   "metadata": {},
   "source": [
    "Let us finally mention that every **for** loop can be written in as a **while** loop: Let us see this in one of our examples above which separates the even an odd numbers contained in the interval 0-100:"
   ]
  },
  {
   "cell_type": "code",
   "execution_count": null,
   "metadata": {},
   "outputs": [],
   "source": [
    "x = 100\n",
    "even  = []\n",
    "odd = []\n",
    "\n",
    "while x>=0:\n",
    "    if x%2 ==1:\n",
    "        odd.append(x)\n",
    "    else:\n",
    "        even.append(x)\n",
    "    x-=1\n",
    "even.sort() # sort() function just orders the numbers from the smallest to the biggest\n",
    "odd.sort()\n",
    "print(\"The list of even numbers is:\", even)\n",
    "print()\n",
    "print(\"The list of odd numbers is:\", odd)"
   ]
  },
  {
   "cell_type": "markdown",
   "metadata": {},
   "source": [
    "# Exercise 4\n",
    "Write your code for finding the prime numbers in the interval 0-100 using a **while** loop"
   ]
  },
  {
   "cell_type": "code",
   "execution_count": null,
   "metadata": {},
   "outputs": [],
   "source": [
    "#Write your solutions here"
   ]
  },
  {
   "cell_type": "markdown",
   "metadata": {},
   "source": [
    "# Exercise 5\n",
    "Here is some code sample:"
   ]
  },
  {
   "cell_type": "code",
   "execution_count": null,
   "metadata": {},
   "outputs": [],
   "source": [
    "iteration = 0\n",
    "count = 0\n",
    "while iteration < 5:\n",
    "    for letter in \"hello, world\":\n",
    "        count += 1\n",
    "    print(\"Iteration \" + str(iteration) + \"; count is: \" + str(count))\n",
    "    iteration += 1 "
   ]
  },
  {
   "cell_type": "markdown",
   "metadata": {},
   "source": [
    "We wish to re-write the above code, but instead of nesting a for loop inside a while loop, we want to nest a while loop inside a for loop. Write a solution for this here:"
   ]
  },
  {
   "cell_type": "code",
   "execution_count": null,
   "metadata": {},
   "outputs": [],
   "source": [
    "# Incert your solution here and test it "
   ]
  },
  {
   "cell_type": "markdown",
   "metadata": {},
   "source": [
    "# Exercise 6 (optional)\n",
    "\n",
    "Use the  [Newton-Raphson](https://en.wikipedia.org/wiki/Newton%27s_method) method and a **while** loop, to find the root of the function $f(x) = x^3 - x^5 - 1$.\n",
    "\n",
    "After an initial guess $x_0$, the root can be approximated by the following formula iteratively:\n",
    "\n",
    "$x_{n+1} = x_n - f(x_n) / f'(x_n)$\n",
    "\n",
    "where $f(x)$ is the function and $f'(x)$ is the derivative of the function.\n",
    "\n",
    "*Hint: think of a good condition for the while loop.*"
   ]
  },
  {
   "cell_type": "code",
   "execution_count": null,
   "metadata": {},
   "outputs": [],
   "source": [
    "# write your solution here"
   ]
  },
  {
   "cell_type": "markdown",
   "metadata": {},
   "source": [
    "### List slicing"
   ]
  },
  {
   "cell_type": "markdown",
   "metadata": {},
   "source": [
    "If you want to copy a single variable, it is trivially to do so"
   ]
  },
  {
   "cell_type": "code",
   "execution_count": null,
   "metadata": {},
   "outputs": [],
   "source": [
    "x = 4\n",
    "y = x\n",
    "print(\"x=\", x, \"y=\", y)\n",
    "\n",
    "# and if you change y\n",
    "\n",
    "y = 5\n",
    "print(\"x=\", x, \"y=\", y)"
   ]
  },
  {
   "cell_type": "markdown",
   "metadata": {},
   "source": [
    "But it is different for Lists! If you assign a list to a variable, you just pass the reference to the list. This means a change in list \"y\" will also change \"x\"."
   ]
  },
  {
   "cell_type": "code",
   "execution_count": null,
   "metadata": {},
   "outputs": [],
   "source": [
    "x = [1,2,3,4,5]\n",
    "y = x\n",
    "\n",
    "y[3] = 100\n",
    "print(\"x=\", x, \"y=\", y)"
   ]
  },
  {
   "cell_type": "markdown",
   "metadata": {},
   "source": [
    "This is the point, to introduce **array slicing**. With array slicing, you can select a part of a array and assign it to a new variable.\n",
    "\n",
    "the general syntax of array slicing is\n",
    "\n",
    "```py\n",
    "sliced_array = original_array[start:end:step]\n",
    "```\n",
    "\n",
    "where start and end are the start and end index of the slice, and step is the step size. If you omit start, it defaults to 0. If you omit end, it defaults to the length of the array. If you omit step, it defaults to 1. If you omit both start and end, it defaults to the entire array.\n",
    "\n",
    "There is one speciality when using array slicing. The end index is not included in the slice. So if you want to select the first three elements of an array, you have to write\n",
    "\n",
    "```py\n",
    "silced_array = original_array[0:1]\n",
    "```\n",
    "\n",
    "Keep in mind, that this works also for lists and not only for numpy arrays."
   ]
  },
  {
   "cell_type": "markdown",
   "metadata": {},
   "source": [
    "To get back to our previous problem, we can simply copy an array using the following syntax:\n",
    "\n",
    "```py\n",
    "x = y[:]\n",
    "```"
   ]
  },
  {
   "cell_type": "markdown",
   "metadata": {},
   "source": [
    "## range() - function\n",
    "\n",
    "remember the `range()` function we have used before? It is a build in function, that returns a sequence of numbers. The sequence of numbers starts at 0 and ends at the number you specify. But you can also specify the start and step size of the sequence. The syntax is very similar to the one of array slicing, but the start and step size are optional and instead of an double colon, you use a comma. Let's generate a more advance sequence, that starts at 10 and ends at 20 with a step size of 2."
   ]
  },
  {
   "cell_type": "code",
   "execution_count": null,
   "metadata": {},
   "outputs": [],
   "source": [
    "range(10, 20, 2)"
   ]
  },
  {
   "cell_type": "markdown",
   "metadata": {},
   "source": [
    "As you can see, the sequence is not really a list, but a range object. You can use the list methods on this object. Let's convert the sequence to a list, to see our results."
   ]
  },
  {
   "cell_type": "code",
   "execution_count": null,
   "metadata": {},
   "outputs": [],
   "source": [
    "list(range(10, 20, 2))"
   ]
  },
  {
   "cell_type": "markdown",
   "metadata": {},
   "source": [
    "You can also generate reversed sequences"
   ]
  },
  {
   "cell_type": "code",
   "execution_count": null,
   "metadata": {},
   "outputs": [],
   "source": [
    "list(range(20, 10, -2))"
   ]
  },
  {
   "cell_type": "markdown",
   "metadata": {},
   "source": [
    "# Higher order functions (optional)"
   ]
  },
  {
   "cell_type": "markdown",
   "metadata": {},
   "source": [
    "To finish up tutorial number two, we will take a look at higher order functions and lambda expressions and look at the equivalent to numpy arrays. Higher order functions are functions that take other functions as arguments or return functions. We will look at three particular higher order functions: **map()** and **filter()**."
   ]
  },
  {
   "cell_type": "markdown",
   "metadata": {},
   "source": [
    "## map()\n",
    "\n",
    "We have seen `map()` already in Tutorial 1 for numpy arrays. It takes a function and a sequence as arguments and applies the function to each element of the sequence.\n",
    "\n",
    "An example of this would be"
   ]
  },
  {
   "cell_type": "code",
   "execution_count": null,
   "metadata": {},
   "outputs": [],
   "source": [
    "def square(x):\n",
    "    return x**2\n",
    "\n",
    "squared_sequence = map(square, range(10))\n",
    "squared_sequence"
   ]
  },
  {
   "cell_type": "markdown",
   "metadata": {},
   "source": [
    "`map()` will not return a list, but a a generator object. This means, that elements of the sequence are not computed immediately, but only, when you call them within a loop for example. This reduces the memory usage of your program."
   ]
  },
  {
   "cell_type": "code",
   "execution_count": null,
   "metadata": {},
   "outputs": [],
   "source": [
    "for element in squared_sequence:\n",
    "    print(element)"
   ]
  },
  {
   "cell_type": "markdown",
   "metadata": {},
   "source": [
    "You can always convert a generator object to a list using the `list()` function.\n",
    "\n",
    "We already know the numpy equivalent of `map()`, we just insert the array into the function."
   ]
  },
  {
   "cell_type": "code",
   "execution_count": null,
   "metadata": {},
   "outputs": [],
   "source": [
    "numpy_array = np.array(list(range(10)))\n",
    "\n",
    "numpy_array_squared = square(numpy_array)\n",
    "\n",
    "print(numpy_array_squared)"
   ]
  },
  {
   "cell_type": "markdown",
   "metadata": {},
   "source": [
    "## filter()\n",
    "\n",
    "As the name suggests, `filter()` takes a function and a sequence as arguments and returns the part of the sequence for which the function returns true. let's find all even values of a sequence/list. "
   ]
  },
  {
   "cell_type": "code",
   "execution_count": null,
   "metadata": {},
   "outputs": [],
   "source": [
    "x = range(10)\n",
    "\n",
    "def even_check(x):\n",
    "    return x % 2 == 0\n",
    "\n",
    "filtered_sequence = filter(even_check, x)\n",
    "list(filtered_sequence)"
   ]
  },
  {
   "cell_type": "markdown",
   "metadata": {},
   "source": [
    "The numpy equivalent of `filter()` is more complicated. It's best explained, by making an example."
   ]
  },
  {
   "cell_type": "code",
   "execution_count": null,
   "metadata": {},
   "outputs": [],
   "source": [
    "x = np.arange(10) # define our numpy array\n",
    "\n",
    "filter_array = x % 2 == 0 # define our filter\n",
    "\n",
    "print(filter_array)\n",
    "\n",
    "filtered_array = x[filter_array] # apply the filter\n",
    "\n",
    "print(filtered_array)"
   ]
  },
  {
   "cell_type": "markdown",
   "metadata": {},
   "source": [
    "As you can see, from our `x` array, only the elements are selected, where the `filter_array` is `True`. you can compact this code to:"
   ]
  },
  {
   "cell_type": "code",
   "execution_count": null,
   "metadata": {},
   "outputs": [],
   "source": [
    "x = np.arange(10)\n",
    "\n",
    "x[x % 2 == 0] # apply the filter"
   ]
  },
  {
   "cell_type": "markdown",
   "metadata": {},
   "source": [
    "If you want to write more complicated logical expressions, you might want to use [this](https://numpy.org/doc/stable/reference/routines.logic.html#logical-operations) reference. "
   ]
  }
 ],
 "metadata": {
  "interpreter": {
   "hash": "916dbcbb3f70747c44a77c7bcd40155683ae19c65e1c03b4aa3499c5328201f1"
  },
  "kernelspec": {
   "display_name": "Python 3",
   "language": "python",
   "name": "python3"
  },
  "language_info": {
   "codemirror_mode": {
    "name": "ipython",
    "version": 3
   },
   "file_extension": ".py",
   "mimetype": "text/x-python",
   "name": "python",
   "nbconvert_exporter": "python",
   "pygments_lexer": "ipython3",
   "version": "3.8.9"
  }
 },
 "nbformat": 4,
 "nbformat_minor": 2
}
