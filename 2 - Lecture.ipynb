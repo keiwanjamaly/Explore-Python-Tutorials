{
 "cells": [
  {
   "cell_type": "markdown",
   "metadata": {},
   "source": [
    "Hi there, \n",
    "\n",
    "in this lecture, you will lean **for** and **while** loops and **conditional statements**, this is nicely summarized in the word \"control structures\". We take also a closer look at **Lists**. Additionally we also learn something about **list comprehensions** and **higher-order functions**."
   ]
  },
  {
   "cell_type": "markdown",
   "metadata": {},
   "source": [
    "# Control Structures"
   ]
  },
  {
   "cell_type": "markdown",
   "metadata": {},
   "source": [
    "As the name suggests, control structures are the building blocks of programming. They are used to control the flow of the program. There are three types of control structures: for-loops, while-loops and conditional statements. "
   ]
  },
  {
   "cell_type": "markdown",
   "metadata": {},
   "source": [
    "## For Loops"
   ]
  },
  {
   "cell_type": "markdown",
   "metadata": {},
   "source": [
    "Sometimes, you want to execute the same chunk of code interatively. The best way to do this are for loops. The easies for loop you can think of is"
   ]
  },
  {
   "cell_type": "code",
   "execution_count": 3,
   "metadata": {},
   "outputs": [
    {
     "name": "stdout",
     "output_type": "stream",
     "text": [
      "0\n",
      "1\n",
      "2\n",
      "3\n",
      "4\n",
      "5\n",
      "6\n",
      "7\n",
      "8\n",
      "9\n"
     ]
    }
   ],
   "source": [
    "for i in range(10):\n",
    "    print(i)"
   ]
  },
  {
   "cell_type": "markdown",
   "metadata": {},
   "source": [
    "Let's break this down. \n",
    "\n",
    "* A for loop always begins with the statement **for**\n",
    "* Then you name a variable wich will change it's value in the for loop. It's called the Iterator. \n",
    "* The keyword **in**\n",
    "* and an iterable object (`range(10)` in the upper example, at which we will look closer later) \n",
    "\n",
    "I explicitly say an iterable object, because this can be a List, Tuple, Numpy-array etc. Let's do another example to make this clearer."
   ]
  },
  {
   "cell_type": "code",
   "execution_count": 4,
   "metadata": {},
   "outputs": [
    {
     "name": "stdout",
     "output_type": "stream",
     "text": [
      "2\n",
      "67\n",
      "2\n",
      "5\n",
      "7\n",
      "324\n",
      "56\n",
      "34\n"
     ]
    }
   ],
   "source": [
    "x = [2,67,2,5,7,324,56,34]\n",
    "\n",
    "for i in x:\n",
    "    print(i)"
   ]
  },
  {
   "cell_type": "markdown",
   "metadata": {},
   "source": [
    "As you can see, i takes the values of `x`. Let me show you some other useful examples"
   ]
  },
  {
   "cell_type": "code",
   "execution_count": 7,
   "metadata": {},
   "outputs": [
    {
     "name": "stdout",
     "output_type": "stream",
     "text": [
      "Number is: 1 Word is: hello\n",
      "Number is: 25 Word is: pencil\n",
      "Number is: 58 Word is: metronome\n",
      "Number is: 5 Word is: bike\n"
     ]
    }
   ],
   "source": [
    "x = [(1, \"hello\"), (25, \"pencil\"), (58, \"metronome\"), (5, \"bike\")]\n",
    "\n",
    "for (number, word) in x:\n",
    "    print(\"Number is:\", number, \"Word is:\", word)"
   ]
  },
  {
   "cell_type": "markdown",
   "metadata": {},
   "source": [
    "As you can see, you individually select the elements of the tuple in a list. This is pretty neat if you want to write clean code. If you are interrested, you can read something about [enumerate](https://docs.python.org/3/library/functions.html#enumerate) and [destructuring](https://blog.teclado.com/destructuring-in-python/)."
   ]
  },
  {
   "cell_type": "markdown",
   "metadata": {},
   "source": [
    "## List Comprehensions"
   ]
  },
  {
   "cell_type": "markdown",
   "metadata": {},
   "source": [
    "There is also a different method to create list. But you should use it carefully, it can make the code more readable or make it compleadly ununderstandable. \n",
    "Let's say you are doing an operation in a for loop and store the result directly into another list. Normally you would do something like"
   ]
  },
  {
   "cell_type": "code",
   "execution_count": 10,
   "metadata": {},
   "outputs": [
    {
     "name": "stdout",
     "output_type": "stream",
     "text": [
      "[0, 1, 4, 9, 16, 25, 36, 49, 64, 81]\n"
     ]
    }
   ],
   "source": [
    "x = []\n",
    "\n",
    "for i in range(10):\n",
    "    x.append(i**2)\n",
    "\n",
    "print(x)"
   ]
  },
  {
   "cell_type": "markdown",
   "metadata": {},
   "source": [
    "This can be simplified to"
   ]
  },
  {
   "cell_type": "code",
   "execution_count": 1,
   "metadata": {},
   "outputs": [
    {
     "name": "stdout",
     "output_type": "stream",
     "text": [
      "[0, 1, 4, 9, 16, 25, 36, 49, 64, 81]\n"
     ]
    }
   ],
   "source": [
    "x = [i**2 for i in range(10)]\n",
    "\n",
    "print(x)"
   ]
  },
  {
   "cell_type": "markdown",
   "metadata": {},
   "source": [
    "List Comprehensions can also be chained together. Let's say you want to store all positions of a two dimensional grid $[0, 5] \\times [0,5]$ into one list"
   ]
  },
  {
   "cell_type": "code",
   "execution_count": 3,
   "metadata": {},
   "outputs": [
    {
     "name": "stdout",
     "output_type": "stream",
     "text": [
      "[(0, 0), (0, 1), (0, 2), (0, 3), (0, 4), (0, 5), (1, 0), (1, 1), (1, 2), (1, 3), (1, 4), (1, 5), (2, 0), (2, 1), (2, 2), (2, 3), (2, 4), (2, 5), (3, 0), (3, 1), (3, 2), (3, 3), (3, 4), (3, 5), (4, 0), (4, 1), (4, 2), (4, 3), (4, 4), (4, 5), (5, 0), (5, 1), (5, 2), (5, 3), (5, 4), (5, 5)]\n"
     ]
    }
   ],
   "source": [
    "grid_2_d = [(x, y) for x in range(6) for y in range(6)]\n",
    "\n",
    "print(grid_2_d)"
   ]
  },
  {
   "cell_type": "markdown",
   "metadata": {},
   "source": [
    "## Conditional Statements"
   ]
  },
  {
   "cell_type": "markdown",
   "metadata": {},
   "source": [
    "Under the hood, a conditional statement is a piece of code that is executed if a certain condition is met. The condition is checked by the computer and the code is executed if the condition is true.\n",
    "\n",
    "Let's look at a simple example and then discuss the different parts of a conditional statement in detail."
   ]
  },
  {
   "cell_type": "code",
   "execution_count": 3,
   "metadata": {},
   "outputs": [
    {
     "name": "stdout",
     "output_type": "stream",
     "text": [
      "x is greater than 3\n"
     ]
    }
   ],
   "source": [
    "x = 5 # go ahead and change this to something else to see what happens\n",
    "\n",
    "if x > 3:\n",
    "    print(\"x is greater than 3\")"
   ]
  },
  {
   "cell_type": "markdown",
   "metadata": {},
   "source": [
    "A conditional statement starts with the keyword **if**. After the keyword, you write the condition (i.e. `x > 3`). It can be any expression that evaluates to a boolean value. Followed by a colon and the code that is executed if the condition is true `print(\"x is greater than 3\")`."
   ]
  },
  {
   "cell_type": "markdown",
   "metadata": {},
   "source": [
    "You can chain multiple conditions together."
   ]
  },
  {
   "cell_type": "code",
   "execution_count": 4,
   "metadata": {},
   "outputs": [
    {
     "name": "stdout",
     "output_type": "stream",
     "text": [
      "x is greater than 3\n",
      "x is odd\n"
     ]
    }
   ],
   "source": [
    "if x > 3:\n",
    "    print(\"x is greater than 3\")\n",
    "    if x % 2 == 0:\n",
    "        print(\"x is even\")\n",
    "        \n",
    "    if x % 2 == 1:\n",
    "        print(\"x is odd\")"
   ]
  },
  {
   "cell_type": "markdown",
   "metadata": {},
   "source": [
    "You can also use **elif** and **else**. **elif** is short for \"else if\" and will execute if the previous condition is not met and the condition after the **elif** is met. **else** will execute if all the previous conditions are not met.\n",
    "\n",
    "Check different values of x, look also at the value of 30 and explain the output."
   ]
  },
  {
   "cell_type": "code",
   "execution_count": 7,
   "metadata": {},
   "outputs": [
    {
     "name": "stdout",
     "output_type": "stream",
     "text": [
      "x is divisible by 3\n"
     ]
    }
   ],
   "source": [
    "x = 3\n",
    "\n",
    "if x % 3 == 0:\n",
    "    print(\"x is divisible by 3\")\n",
    "elif x % 2 == 0:\n",
    "    print(\"x is even\")\n",
    "else:\n",
    "    print(\"x is not divisible by 3 and not even\")"
   ]
  },
  {
   "cell_type": "markdown",
   "metadata": {},
   "source": [
    "There is also a short form for the conditional statement, similar for list comprehensions."
   ]
  },
  {
   "cell_type": "code",
   "execution_count": 12,
   "metadata": {},
   "outputs": [
    {
     "name": "stdout",
     "output_type": "stream",
     "text": [
      "2.23606797749979\n"
     ]
    }
   ],
   "source": [
    "import numpy as np\n",
    "\n",
    "x = -5\n",
    "\n",
    "x = np.sqrt(x) if x >= 0 else np.sqrt(-x)\n",
    "\n",
    "print(x)"
   ]
  },
  {
   "cell_type": "markdown",
   "metadata": {},
   "source": [
    "The one liner if statement can be the easies understood if you read if from left to right and translate it to English.\n",
    "\n",
    "1. `np.sqrt(x)`: square root of x\n",
    "2. `if x >= 0`: if the condition is true\n",
    "3. `else -np.sqrt(-x)`: else (if the condition is false) minus square root of -x\n",
    "\n",
    "It is a little tricky to get used to the syntax but if it is used at the right places, program code will be very readable."
   ]
  },
  {
   "cell_type": "markdown",
   "metadata": {},
   "source": [
    "# Exercise 1\n",
    "\n",
    "Using for loops and conditional statements, find all prime numbers between 0 and 100."
   ]
  },
  {
   "cell_type": "markdown",
   "metadata": {},
   "source": [
    "## While Loops"
   ]
  },
  {
   "cell_type": "markdown",
   "metadata": {},
   "source": [
    "A while loop is similar to a for loop. The difference is that the loop will continue to execute until the condition is met. This is useful, if your loop is not based on an iterable object. But you can write every for loop in a while loop (technically you can also write every conditional statement in a while loop, but please do not do that). Let's see an example."
   ]
  },
  {
   "cell_type": "code",
   "execution_count": 15,
   "metadata": {},
   "outputs": [
    {
     "name": "stdout",
     "output_type": "stream",
     "text": [
      "10\n",
      "9\n",
      "8\n",
      "7\n",
      "6\n",
      "5\n",
      "4\n"
     ]
    }
   ],
   "source": [
    "x = 10\n",
    "\n",
    "while (x > 3):\n",
    "    print(x)\n",
    "    x -= 1"
   ]
  },
  {
   "cell_type": "markdown",
   "metadata": {},
   "source": [
    "As you can see, the condition is checked before the loop body is executed. it starts with the keyword **while**. After the keyword, you write the condition (i.e. `x > 3`). It can be any expression that evaluates to a boolean value. Followed by a colon and the code that is executed if the condition is true `print(\"x is greater than 3\")`.\n",
    "\n",
    "You may have noticed, that this could easily end up in an infinite loop, if you make mistakes during programming. For this reason, it is recommended to use a for loop if possible. "
   ]
  },
  {
   "cell_type": "markdown",
   "metadata": {},
   "source": [
    "# Exercise 2\n",
    "\n",
    "We want you to use the [Newton-Raphson](https://en.wikipedia.org/wiki/Newton%27s_method) method, to find the root of the function $f(x) = x^3 - x^5 - 1$.\n",
    "\n",
    "After an initial guess $x_0$, the root can be approximated by the following formula iteratively:\n",
    "\n",
    "$x_{n+1} = x_n - f(x_n) / f'(x_n)$\n",
    "\n",
    "where $f(x)$ is the function and $f'(x)$ is the derivative of the function.\n",
    "\n",
    "*Hint: think of a good condition for the while loop.*"
   ]
  },
  {
   "cell_type": "code",
   "execution_count": 16,
   "metadata": {},
   "outputs": [],
   "source": [
    "# here goes your solution"
   ]
  },
  {
   "cell_type": "markdown",
   "metadata": {},
   "source": [
    "## List slicing"
   ]
  },
  {
   "cell_type": "markdown",
   "metadata": {},
   "source": [
    "If you want to copy a single variable, it is trivially to do so"
   ]
  },
  {
   "cell_type": "code",
   "execution_count": 2,
   "metadata": {},
   "outputs": [
    {
     "name": "stdout",
     "output_type": "stream",
     "text": [
      "x= 4 y= 4\n",
      "x= 4 y= 5\n"
     ]
    }
   ],
   "source": [
    "x = 4\n",
    "y = x\n",
    "print(\"x=\", x, \"y=\", y)\n",
    "\n",
    "# and if you change y\n",
    "\n",
    "y = 5\n",
    "print(\"x=\", x, \"y=\", y)"
   ]
  },
  {
   "cell_type": "markdown",
   "metadata": {},
   "source": [
    "But it is different for Lists! If you assign a list to a variable, you just pass the reference to the list. This means a change in list \"y\" will also change \"x\"."
   ]
  },
  {
   "cell_type": "code",
   "execution_count": 3,
   "metadata": {},
   "outputs": [
    {
     "name": "stdout",
     "output_type": "stream",
     "text": [
      "x= [1, 2, 3, 100, 5] y= [1, 2, 3, 100, 5]\n"
     ]
    }
   ],
   "source": [
    "x = [1,2,3,4,5]\n",
    "y = x\n",
    "\n",
    "y[3] = 100\n",
    "print(\"x=\", x, \"y=\", y)"
   ]
  },
  {
   "cell_type": "markdown",
   "metadata": {},
   "source": [
    "This is the point, to introduce **array slicing**. With array slicing, you can select a part of a array and assign it to a new variable.\n",
    "\n",
    "the general syntax of array slicing is\n",
    "\n",
    "```py\n",
    "sliced_array = original_array[start:end:step]\n",
    "```\n",
    "\n",
    "where start and end are the start and end index of the slice, and step is the step size. If you omit start, it defaults to 0. If you omit end, it defaults to the length of the array. If you omit step, it defaults to 1. If you omit both start and end, it defaults to the entire array.\n",
    "\n",
    "There is one speciality when using array slicing. The end index is not included in the slice. So if you want to select the first three elements of an array, you have to write\n",
    "\n",
    "```py\n",
    "silced_array = original_array[0:1]\n",
    "```\n",
    "\n",
    "Keep in mind, that this works also for lists and not only for numpy arrays."
   ]
  },
  {
   "cell_type": "markdown",
   "metadata": {},
   "source": [
    "To get back to our previous problem, we can simply copy an array using the following syntax:\n",
    "\n",
    "```py\n",
    "x = y[:]\n",
    "```"
   ]
  },
  {
   "cell_type": "markdown",
   "metadata": {},
   "source": [
    "## range() - function\n",
    "\n",
    "remember the `range()` function we have used before? It is a build in function, that returns a sequence of numbers. The sequence of numbers starts at 0 and ends at the number you specify. But you can also specify the start and step size of the sequence. The syntax is very similar to the one of array slicing, but the start and step size are optional and instead of an double colon, you use a comma. Let's generate a more advance sequence, that starts at 10 and ends at 20 with a step size of 2."
   ]
  },
  {
   "cell_type": "code",
   "execution_count": 2,
   "metadata": {},
   "outputs": [
    {
     "data": {
      "text/plain": [
       "range(10, 20, 2)"
      ]
     },
     "execution_count": 2,
     "metadata": {},
     "output_type": "execute_result"
    }
   ],
   "source": [
    "range(10, 20, 2)"
   ]
  },
  {
   "cell_type": "markdown",
   "metadata": {},
   "source": [
    "As you can see, the sequence is not really a list, but a range object. You can use the list methods on this object. Let's convert the sequence to a list, to see our results."
   ]
  },
  {
   "cell_type": "code",
   "execution_count": 3,
   "metadata": {},
   "outputs": [
    {
     "data": {
      "text/plain": [
       "[10, 12, 14, 16, 18]"
      ]
     },
     "execution_count": 3,
     "metadata": {},
     "output_type": "execute_result"
    }
   ],
   "source": [
    "list(range(10, 20, 2))"
   ]
  },
  {
   "cell_type": "markdown",
   "metadata": {},
   "source": [
    "You can also generate reversed sequences"
   ]
  },
  {
   "cell_type": "code",
   "execution_count": 4,
   "metadata": {},
   "outputs": [
    {
     "data": {
      "text/plain": [
       "[20, 18, 16, 14, 12]"
      ]
     },
     "execution_count": 4,
     "metadata": {},
     "output_type": "execute_result"
    }
   ],
   "source": [
    "list(range(20, 10, -2))"
   ]
  },
  {
   "cell_type": "markdown",
   "metadata": {},
   "source": [
    "# Higher order functions (optional)"
   ]
  },
  {
   "cell_type": "markdown",
   "metadata": {},
   "source": [
    "To finish up tutorial number two, we will take a look at higher order functions and lambda expressions and look at the equivalent to numpy arrays. Higher order functions are functions that take other functions as arguments or return functions. We will look at three particular higher order functions: **map()**, **filter()** and **reduce()**."
   ]
  },
  {
   "cell_type": "markdown",
   "metadata": {},
   "source": [
    "## map()\n",
    "\n",
    "We have seen `map()` already in Tutorial 1 for numpy arrays. It takes a function and a sequence as arguments and applies the function to each element of the sequence.\n",
    "\n",
    "An example of this would be"
   ]
  },
  {
   "cell_type": "code",
   "execution_count": 14,
   "metadata": {},
   "outputs": [
    {
     "data": {
      "text/plain": [
       "<map at 0x7f628470a0b8>"
      ]
     },
     "execution_count": 14,
     "metadata": {},
     "output_type": "execute_result"
    }
   ],
   "source": [
    "def square(x):\n",
    "    return x**2\n",
    "\n",
    "squared_sequence = map(square, range(10))\n",
    "squared_sequence"
   ]
  },
  {
   "cell_type": "markdown",
   "metadata": {},
   "source": [
    "`map()` will not return a list, but a a generator object. This means, that elements of the sequence are not computed immediately, but only, when you call them within a loop for example. This reduces the memory usage of your program."
   ]
  },
  {
   "cell_type": "code",
   "execution_count": 12,
   "metadata": {},
   "outputs": [
    {
     "name": "stdout",
     "output_type": "stream",
     "text": [
      "1\n",
      "4\n",
      "9\n",
      "16\n",
      "25\n",
      "36\n",
      "49\n",
      "64\n",
      "81\n"
     ]
    }
   ],
   "source": [
    "for element in squared_sequence:\n",
    "    print(element)"
   ]
  },
  {
   "cell_type": "markdown",
   "metadata": {},
   "source": [
    "You can always convert a generator object to a list using the `list()` function."
   ]
  },
  {
   "cell_type": "markdown",
   "metadata": {},
   "source": [
    "## filter()\n",
    "\n",
    "As the name suggests, `filter()` takes a function and a sequence as arguments and returns a sequence of elements for which the function returns true."
   ]
  }
 ],
 "metadata": {
  "interpreter": {
   "hash": "916dbcbb3f70747c44a77c7bcd40155683ae19c65e1c03b4aa3499c5328201f1"
  },
  "kernelspec": {
   "display_name": "Python 3.8.10 64-bit",
   "language": "python",
   "name": "python3"
  },
  "language_info": {
   "codemirror_mode": {
    "name": "ipython",
    "version": 3
   },
   "file_extension": ".py",
   "mimetype": "text/x-python",
   "name": "python",
   "nbconvert_exporter": "python",
   "pygments_lexer": "ipython3",
   "version": "3.6.9"
  },
  "orig_nbformat": 4
 },
 "nbformat": 4,
 "nbformat_minor": 2
}
