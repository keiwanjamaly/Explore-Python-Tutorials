{
 "cells": [
  {
   "cell_type": "markdown",
   "metadata": {},
   "source": [
    "# Research Notebook\n",
    "## your name here\n",
    "## Date: Dec. 13-17"
   ]
  },
  {
   "cell_type": "markdown",
   "metadata": {},
   "source": [
    "# 0: Introduction to Jupyter Notebooks\n",
    "Your research notebook will be a Jupyter notebook that you will submit each week. (Include a brief introduction to using markdown in notebooks.)"
   ]
  },
  {
   "cell_type": "markdown",
   "metadata": {},
   "source": [
    "# 1: Experience\n",
    "## Briefly describe at least two research activities you worked on this week. \n",
    "Examples may include:\n",
    "- Performed an analytic calculation.\n",
    "- Read scientific paper.\n",
    "- Wrote a computer code.\n",
    "- Attending research team meeting.\n",
    "- Meeting and collaborating with research teammates \n",
    "\n",
    "Keep the descriptions on the shorter side (no more than a few sentences). You will provide more details below.\n",
    "\n",
    "## Motivation:\n",
    "Describe why you worked on these activities. For example, you may discuss:\n",
    "- How your activities relate to what you did in the previous week\n",
    "- What topic you were trying to learn\n",
    "- Any general background to your research"
   ]
  },
  {
   "cell_type": "markdown",
   "metadata": {},
   "source": [
    "# 2: What? (What happened?)\n",
    "## Describe what happened during your activities for the week.\n",
    "For each activity, describe in detail what you did. For example, you may discuss:\n",
    "- What code you wrote (include code here)\n",
    "- What key equations you used (use LaTeX to write them here)\n",
    "- Analytic derivations you performed\n",
    "- What your goal was for this experience\n",
    "- What references you used (use LaTeX)\n",
    "- How you shared your results with your team\n",
    "\n",
    "Pretend your audience is the EXPLORE members *not* on your project, i.e., they may know very generally what the project is about, but they have no prior knowledge of any of the specific details about what you and your team are doing. So you must include enough information that they could follow and understand your notebook."
   ]
  },
  {
   "cell_type": "markdown",
   "metadata": {},
   "source": [
    "# 3: So what? (What does it mean?)\n",
    "## Describe your results\n",
    "For each activity, describe your results. For example, you may discuss:\n",
    "- How this activity was important for the progress of your project\n",
    "- How the results of your analytic calculation will be used in the project\n",
    "- What the outputs of your computer code were (e.g., you may show plots, or other numerical results)\n",
    "- What your results mean for the project\n",
    "- Whether or not your results were a \"success\" (and how you determined this)\n",
    "- What you learned from reading a paper and how it relates to the project (summarize, copy-and-paste any relevant figures)"
   ]
  },
  {
   "cell_type": "markdown",
   "metadata": {},
   "source": [
    "# 4. Now what? (What's next?)\n",
    "## Plan for the next week\n",
    "\n",
    "For each activity, say whether you achieved your intended goal.\n",
    "- If yes: What is the next task you will work on next week?\n",
    "- If no, select one of the following:\n",
    "    - Do I need more information to determine if I accomplished my intended goal? How do I obtain it?\n",
    "    - Did I encounter an obstacle? Can I try again with different assumptions or a new approach?\n",
    "    - Did I hit a wall and need to change direction to a new task?\n",
    "    \n",
    "Based on what you wrote, state your goal for the next week and outline the steps and tasks you will take."
   ]
  },
  {
   "cell_type": "code",
   "execution_count": null,
   "metadata": {},
   "outputs": [],
   "source": []
  }
 ],
 "metadata": {
  "kernelspec": {
   "display_name": "Python 3",
   "language": "python",
   "name": "python3"
  },
  "language_info": {
   "codemirror_mode": {
    "name": "ipython",
    "version": 3
   },
   "file_extension": ".py",
   "mimetype": "text/x-python",
   "name": "python",
   "nbconvert_exporter": "python",
   "pygments_lexer": "ipython3",
   "version": "3.8.3"
  }
 },
 "nbformat": 4,
 "nbformat_minor": 4
}
