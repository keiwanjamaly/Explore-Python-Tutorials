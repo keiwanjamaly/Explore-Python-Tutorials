{
 "cells": [
  {
   "cell_type": "markdown",
   "metadata": {},
   "source": [
    "# Lecture 8\n",
    "\n",
    "**Authors:**\n",
    "* Yilber Fabian Bautista\n",
    "* \n",
    "\n",
    "**Last date of modification:**\n",
    " December 29th 2021\n",
    "\n",
    "Hello there, \n",
    "\n",
    "Welcome to Lecture 8 of this mini-lecture series on programing with Python. In this series, you will learn  basic and intermediate python tools that will be of great use in your scientific carer\n",
    "\n",
    "**Objectives:** \n",
    "\n",
    "By the end of this lecture you will be able to:\n",
    "* Create, modify, save, and interact with **HDF5** files\n",
    "* **Fit** curves to a given set of data points using **curve_fit** module in ** scipy.optimize** library"
   ]
  },
  {
   "cell_type": "markdown",
   "metadata": {},
   "source": [
    "## HDF5 files\n",
    "\n",
    "See documentation [here](https://docs.h5py.org/en/stable/quick.html).\n",
    "\n",
    "**HDF** stands for “Hierarchical Data Format”. An HDF5 file contains two kinds of objects: `datasets`, which are **array-like** collections of data, and ` groups`, which are **folder-like** containers that hold datasets and other groups. Schematically, an **HDF5** file looks as follows\n",
    "\n",
    "<img src=\"Figures/HDF5_gen.png\" width=\"600\" height=\"400\">\n",
    "\n",
    "\n",
    "Figure taken from [here](https://icmplus.neurosurg.cam.ac.uk/home/icm-features/hdf5-new-icm-data-format/).\n",
    "The Groups and datasets can be further commentated with **metadata**  contained in associated **Attributes**. We will expand on this bellow. \n",
    "\n",
    "The fundamental thing to have in mind when dealing with **HDF5** files is: **Groups** are used  like **dictionaries**, whereas **datasets** work like **NumPy arrays**. "
   ]
  },
  {
   "cell_type": "markdown",
   "metadata": {},
   "source": [
    "### Opening  HDF5 files\n",
    "\n",
    "Let us suppose someone handled us an `HDF5` file and we want to use it. \n",
    "First we have to import the `h5py` library in python to manipulate such a file. This is done through the command\n",
    "```py\n",
    "import h5py\n",
    "````\n",
    "To open our existing `HDF5` file we have two options:\n",
    "\n",
    " * The syntax for the first one is:\n",
    "\n",
    "```py\n",
    "f = h5py.File('myfile.hdf5','r')\n",
    "# Do something\n",
    "\n",
    "f.close()\n",
    "\n",
    "```\n",
    "Here the `close()` attribute closes the `HDF5` file if no longer needed. \n",
    "\n",
    "* The second option is via a `with` block:\n",
    "\n",
    "```py\n",
    "with h5py.File('myfile.hdf5', 'r') as f:\n",
    "    # Do something\n",
    "        \n",
    "```\n",
    "For this second method, to close the  `HDF5` file we just need to leave the `with` block.\n",
    "\n",
    "The keyword `r` stands for `read`, which means we can only read but not modify the `HDF5` file. In the next table we can see other keywords commonly used when dealing with data files. We will use some of them bellow\n",
    "<img src=\"Figures/rwa.png\" width=\"600\" height=\"400\">\n",
    "\n",
    "\n",
    "Let us make the discussion more precise with the following example:\n",
    "\n",
    "We are handled the `mytestfile.hdf5` file and we want to access all the information contained inside it. We start by opening the file using the ` h5py` library"
   ]
  },
  {
   "cell_type": "code",
   "execution_count": 1,
   "metadata": {},
   "outputs": [],
   "source": [
    "import h5py\n",
    "\n",
    "# Open a hdf5 file\n",
    "f = h5py.File('mytestfile.hdf5','r')\n",
    "\n",
    "# Close the file if no longer needed\n",
    "#f.close()"
   ]
  },
  {
   "cell_type": "markdown",
   "metadata": {},
   "source": [
    "### Keys of a HDF5 file\n",
    "\n",
    "Likewise for dictionaries,  we can as for the set of keys contained in the file if not known beforehand, using the attribute `keys()`: \n",
    "```py\n",
    "f.keys()\n",
    "```\n",
    "which will produce the output\n",
    "```py\n",
    "<KeysViewHDF5 ['mydataset', 'mygroup']>\n",
    "```\n",
    "This means our `HDF5` file has two objects labeled by the keys `'mydataset'` and  `'mygroup'`. In principle they can correspond to either **datasets** or **groups** of our `HDF5` file. \n",
    "\n",
    "### Accessing a group or data set \n",
    "To explicitly know the nature of the two keys in our example, we need to call our file `f` with the specific key using an dictionary-like syntax:\n",
    "```py\n",
    "f['mydataset']\n",
    "```\n",
    "with output \n",
    "\n",
    "```py\n",
    "<HDF5 dataset \"mydataset\": shape (20,), type \"<i4\">\n",
    "```\n",
    "Therefore,  `\"mydataset\"` indeed corresponds to a **dataset** in the `HDF5` file. It is a row vector with 20 entries, whose elements are  integers. \n",
    "\n",
    "We can do the same for the remaining key\n",
    "```py\n",
    "f['mygroup']\n",
    "```\n",
    "with output \n",
    "```py\n",
    "<HDF5 group \"/mygroup\" (1 members)>\n",
    "```\n",
    "This means that `mygroup` corresponds instead to a **group** in our  `HDF5` file, and hosts another element which can be either a **dataset** or a **group**. Recall **groups** are like **dictionaries**, and therefore, the logic to access the keys for the elements contained in the group is the same,  that is, by using the `key()` attribute. \n",
    "```py\n",
    "f['mygroup'].keys()\n",
    "```\n",
    "with output \n",
    "```py\n",
    "<KeysViewHDF5 ['newdataset']>\n",
    "```"
   ]
  },
  {
   "cell_type": "code",
   "execution_count": 2,
   "metadata": {},
   "outputs": [],
   "source": [
    "# Try it yourself"
   ]
  },
  {
   "cell_type": "markdown",
   "metadata": {},
   "source": [
    "### Accessing the information in a dataset \n",
    "\n",
    "Now that we know how to ask for the keys in a `HDF5` file, and access the groups and datasets inside them, we want to be able to use the information stored in the datasets themselves. Recall **datasets** are like **np.arrays**, and therefore we can use all of the numpy machinery on them. Let us see that with the dataset contained in `'mydataset'` keyword in our previous example"
   ]
  },
  {
   "cell_type": "code",
   "execution_count": 3,
   "metadata": {},
   "outputs": [
    {
     "data": {
      "text/plain": [
       "array([ 0,  5, 10, 15, 20, 25, 30, 35, 40, 45, 50, 55, 60, 65, 70, 75, 80,\n",
       "       85, 90, 95], dtype=int32)"
      ]
     },
     "execution_count": 3,
     "metadata": {},
     "output_type": "execute_result"
    }
   ],
   "source": [
    "data = f['mydataset']\n",
    "data[:]"
   ]
  },
  {
   "cell_type": "markdown",
   "metadata": {},
   "source": [
    "We can for instance slice the array,\n",
    "```py\n",
    "data[2:-3]\n",
    "```\n",
    "or even plot it"
   ]
  },
  {
   "cell_type": "code",
   "execution_count": 4,
   "metadata": {},
   "outputs": [
    {
     "data": {
      "text/plain": [
       "[<matplotlib.lines.Line2D at 0x7f4640a68050>]"
      ]
     },
     "execution_count": 4,
     "metadata": {},
     "output_type": "execute_result"
    },
    {
     "data": {
      "image/png": "[encoded data removed]",
      "text/plain": [
       "<Figure size 432x288 with 1 Axes>"
      ]
     },
     "metadata": {
      "needs_background": "light"
     },
     "output_type": "display_data"
    }
   ],
   "source": [
    "import matplotlib.pyplot as plt \n",
    "plt.plot(data)"
   ]
  },
  {
   "cell_type": "markdown",
   "metadata": {},
   "source": [
    "Similarly, one  can now ask how to access the dataset contained in the group `'mygroup'`. For that we have several options:\n",
    "* By assigning a new variable to `f['mygroup']`, and then accessing `'newdataset'` using it as a keyword\n",
    "```py\n",
    "grp = f['mygroup']\n",
    "dset = grp['newdataset']\n",
    "dset\n",
    "```\n",
    "with output \n",
    "\n",
    "```py\n",
    "<HDF5 dataset \"newdataset\": shape (), type \"<f8\">\n",
    "```\n",
    "That means that `dset` is a scalar (shape() array), and therefore to access it we use the syntax\n",
    "```py\n",
    "dset[()]\n",
    "```\n",
    "which will produce as output the float number `50.0`"
   ]
  },
  {
   "cell_type": "code",
   "execution_count": 5,
   "metadata": {},
   "outputs": [],
   "source": [
    "# Try it yourself"
   ]
  },
  {
   "cell_type": "markdown",
   "metadata": {},
   "source": [
    "* We avoid too many variable assignation we can simply use repeated indexing\n",
    "```py\n",
    "dset = f['mygroup']['newdataset']\n",
    "```\n",
    "which will have the same effect. \n",
    "\n",
    "* To avoid too many square brackets we can simply use a path-like argument:\n",
    "```py\n",
    "dset = f['/mygroup/newdataset'][()]\n",
    "dset\n",
    "```\n",
    "where we have already  accessed the scalar element, getting as output the number `50.0`.  This is the path specification for Mac and Linux. For windows you will probably have to use\n",
    "```py\n",
    "dset = f['\\\\mygroup\\\\newdataset'][()]\n",
    "dset\n",
    "```\n"
   ]
  },
  {
   "cell_type": "code",
   "execution_count": 6,
   "metadata": {},
   "outputs": [],
   "source": [
    "#try it yourself"
   ]
  },
  {
   "cell_type": "markdown",
   "metadata": {},
   "source": [
    "We then see that it is very simple to navigate through the `HDF5` file by using keyword arguments. \n",
    "\n",
    "### Attributes of  groups and data sets\n",
    "The last element to explore in our `HDF5` file is to ask for the **Metadata** stored in **attributes** of the `HDF5` file itself, groups and datasets.  For that we use the `.attrs` proxy. See [documentation](https://docs.h5py.org/en/stable/high/attr.html#h5py.AttributeManager.keys). Let us see for instance if our `HDF5` has attribute keywords:"
   ]
  },
  {
   "cell_type": "code",
   "execution_count": 7,
   "metadata": {},
   "outputs": [
    {
     "data": {
      "text/plain": [
       "<KeysViewHDF5 []>"
      ]
     },
     "execution_count": 7,
     "metadata": {},
     "output_type": "execute_result"
    }
   ],
   "source": [
    "f.attrs.keys()"
   ]
  },
  {
   "cell_type": "markdown",
   "metadata": {},
   "source": [
    "the output is an empty list meaning that the file itself does not have attribute keywords. We can ask the same for the groups and datasets"
   ]
  },
  {
   "cell_type": "code",
   "execution_count": 8,
   "metadata": {},
   "outputs": [
    {
     "data": {
      "text/plain": [
       "<KeysViewHDF5 ['new_atribute']>"
      ]
     },
     "execution_count": 8,
     "metadata": {},
     "output_type": "execute_result"
    }
   ],
   "source": [
    "f['mygroup'].attrs.keys()"
   ]
  },
  {
   "cell_type": "markdown",
   "metadata": {},
   "source": [
    "in this case, the group itself has an attribute given by the keyword `'new_atribute'`. We can access its content in the usual indexing-like form"
   ]
  },
  {
   "cell_type": "code",
   "execution_count": 9,
   "metadata": {},
   "outputs": [
    {
     "data": {
      "text/plain": [
       "1.0"
      ]
     },
     "execution_count": 9,
     "metadata": {},
     "output_type": "execute_result"
    }
   ],
   "source": [
    "f['mygroup'].attrs['new_atribute']"
   ]
  },
  {
   "cell_type": "markdown",
   "metadata": {},
   "source": [
    "As we see, the attribute just has assigned the integer value 10.  You can check that the datasets do not have any attribute by using the same logic\n",
    "```py\n",
    "f['mygroup/newdataset'].attrs.keys()\n",
    "```\n",
    "and \n",
    "```\n",
    "f['mydataset'].attrs.keys()\n",
    "```\n",
    "both of which produce as output an empty list.\n",
    "\n",
    "Attributes have the following properties as specified in the [documentation](https://docs.h5py.org/en/stable/high/attr.html#h5py.AttributeManager.keys)\n",
    "\n",
    "* They may be created from any scalar or NumPy array\n",
    "* Each attribute should be small (generally < 64k)\n",
    "* There is no partial I/O (i.e. slicing); the entire attribute must be read."
   ]
  },
  {
   "cell_type": "markdown",
   "metadata": {},
   "source": [
    "### Closing the `HDF5` file\n",
    "\n",
    "Once we finish using the file we can simply close it using the `close()` attribute. "
   ]
  },
  {
   "cell_type": "code",
   "execution_count": 10,
   "metadata": {},
   "outputs": [],
   "source": [
    "f.close()"
   ]
  },
  {
   "cell_type": "markdown",
   "metadata": {},
   "source": [
    "# Exercise 1\n",
    "Repeat the all the above discussion but opening the file using a `with` block. Hint: use the `'r'` argument, and recall indentation is important.  `print` statements are also useful."
   ]
  },
  {
   "cell_type": "markdown",
   "metadata": {},
   "source": [
    "## Creating an HDF5 file\n",
    "\n",
    "We might now wonder how was `mytestfile.hdf5` file created. We simply used the following code:\n",
    "```py\n",
    "import h5py\n",
    "import numpy as np\n",
    "\n",
    "with h5py.File('mytestfile.hdf5', 'w') as g:\n",
    " \n",
    "    dset = g.create_dataset(\"mydataset\", (20,),data = np.arange(0,100,5), dtype='i')\n",
    "    grp2 = g.create_group('mygroup')\n",
    "    dset2 = grp2.create_dataset(\"newdataset\", data = 50.)\n",
    "    grp2.attrs['new_atribute'] = 1.0\n",
    "```\n",
    "which we will proceed to explain in detail. \n",
    "\n",
    "1. The first step is of course to create the datafile with the given name, in this case `mytestfile.hdf5`, and use the `'w'` (write) keyword, as indicated in the table above. We create the file under the alias `g`. Up to here, a new `HDF5` file will be created in the same location of our notebook. (To specify a particular location we use the path for it. example: `with h5py.File('Documents/my_files/Explore/.../mytestfile.hdf5', 'w') as g` ). The newly created file will be an empty file which we then proceed to fill with **groups** and **datasets**\n",
    "\n",
    "2. In the first indented line ` dset = g.create_dataset(\"mydataset\", (20,),data = np.arange(0,100,5), dtype='i')` we have created a new dataset, whose keyword is `\"mydataset\"`. It contain a vector with 20 entries, given by the `20` elements of the array `np.arange(0,100,5)`. We further specified the data type using the ` dtype` keyword.  \n",
    "3. In the second line `grp2 = g.create_group('mygroup')`, we simply added a new group, as clearly indicated by the syntax. \n",
    "4. In the next line we have added a new dataset to our existing group, where now the data corresponds to a scalar object\n",
    "5. Finally we assigned the attribute `'new_atribute'` with value `1.0`, to the existing **group**. \n",
    "\n",
    "And that's it! "
   ]
  },
  {
   "cell_type": "markdown",
   "metadata": {},
   "source": [
    "# Exercise 2\n",
    "Create your own `HDF5` file including groups, datasets and attributes. "
   ]
  },
  {
   "cell_type": "markdown",
   "metadata": {},
   "source": [
    "## Modifying an existing `HDF5` file\n",
    "\n",
    "In lecture 5 we learned how to modify `csv` files using **pandas** library. Existing `HDF5` files can also be modified. Let us see how this work with an specific example. \n",
    "\n",
    "First let us create a new `HDF5` file example"
   ]
  },
  {
   "cell_type": "code",
   "execution_count": 11,
   "metadata": {},
   "outputs": [],
   "source": [
    "import h5py\n",
    "import numpy as np\n",
    "\n",
    "with h5py.File('test_file.hdf5', 'w') as t:\n",
    "    dat = np.random.random((10,10))\n",
    "    dset = t.create_dataset(\"rand2d\",data = dat)"
   ]
  },
  {
   "cell_type": "markdown",
   "metadata": {},
   "source": [
    "Let us now open it using the `r+` keyword, which stands for read and write, as shown explicitly in our table above. "
   ]
  },
  {
   "cell_type": "code",
   "execution_count": 12,
   "metadata": {},
   "outputs": [
    {
     "name": "stdout",
     "output_type": "stream",
     "text": [
      "Dataset rand2d:  [[0.47303875 0.00185955 0.39730477 0.07430868 0.17485502 0.25681984\n",
      "  0.55515063 0.67084517 0.7680498  0.91349884]\n",
      " [0.35075328 0.78415693 0.57242067 0.13128179 0.95548179 0.62567705\n",
      "  0.72206224 0.45737436 0.60420352 0.0307579 ]\n",
      " [0.01371305 0.82773081 0.9960302  0.4083762  0.8294101  0.68678394\n",
      "  0.03190753 0.04539914 0.68200537 0.90963546]\n",
      " [0.39572538 0.88374697 0.5600418  0.78138835 0.72433941 0.09401458\n",
      "  0.51321568 0.87251261 0.6690137  0.50878722]\n",
      " [0.77729401 0.78459341 0.75890426 0.61670207 0.55321    0.19698551\n",
      "  0.74926632 0.57301041 0.70684834 0.97121521]\n",
      " [0.57296059 0.84465329 0.8492833  0.42233857 0.41338177 0.08172171\n",
      "  0.18735563 0.89391625 0.09626753 0.64020893]\n",
      " [0.90916676 0.94878361 0.232138   0.81820577 0.00689707 0.49200832\n",
      "  0.91192174 0.67840576 0.45701372 0.36064755]\n",
      " [0.30937057 0.99092873 0.42347961 0.281966   0.28216922 0.7679035\n",
      "  0.46525736 0.7260462  0.33013594 0.05166663]\n",
      " [0.98142504 0.59521607 0.41364011 0.91250429 0.94450926 0.02703629\n",
      "  0.07110943 0.87091236 0.21504772 0.72399554]\n",
      " [0.86886576 0.61912601 0.33631605 0.45439258 0.66634801 0.60730193\n",
      "  0.19930698 0.66718922 0.44659147 0.98573992]]\n",
      "\n",
      "keys after adding test_group and :  <KeysViewHDF5 ['rand2d', 'test_group']>\n",
      "\n",
      "geom_space data [  1.           1.09854114   1.20679264   1.32571137   1.45634848\n",
      "   1.59985872   1.75751062   1.93069773   2.12095089   2.32995181\n",
      "   2.55954792   2.8117687    3.0888436    3.39322177   3.72759372\n",
      "   4.09491506   4.49843267   4.94171336   5.42867544   5.96362332\n",
      "   6.55128557   7.19685673   7.90604321   8.68511374   9.54095476\n",
      "  10.48113134  11.51395399  12.64855217  13.89495494  15.26417967\n",
      "  16.76832937  18.42069969  20.23589648  22.22996483  24.42053095\n",
      "  26.82695795  29.47051703  32.37457543  35.56480306  39.06939937\n",
      "  42.9193426   47.14866363  51.79474679  56.89866029  62.50551925\n",
      "  68.6648845   75.43120063  82.86427729  91.0298178  100.        ]\n"
     ]
    }
   ],
   "source": [
    "test  = h5py.File('test_file.hdf5','r+')\n",
    "\n",
    "# To see we are able to use our file, let us for instance print the values contained in our dataset  \n",
    "print('Dataset rand2d: ', test['rand2d'][:])\n",
    "\n",
    "# Let us now for instance add a group into our existing file, a data set in that group, and an additional subgroup\n",
    "new_group = test.create_group('test_group')\n",
    "new_sub_group = new_group.create_group('test_sub_group')\n",
    "new_dset = new_group.create_dataset(\"geom_space\",data = np.geomspace(1,100,50))\n",
    "\n",
    "# Check that the group was added correctly by, for instance, checking the keys  \n",
    "print()\n",
    "print('keys after adding test_group and : ' , test.keys())\n",
    "\n",
    "# And access our `'geom_space'` dataset\n",
    "print()\n",
    "print('geom_space data', test['test_group/geom_space'][:])\n",
    "\n",
    "#Close the file\n",
    "test.close()"
   ]
  },
  {
   "cell_type": "markdown",
   "metadata": {},
   "source": [
    "Finally we check that our original `'test_file.hdf5'` file has saved all the changes made above by opening it using the `r` mode."
   ]
  },
  {
   "cell_type": "code",
   "execution_count": 13,
   "metadata": {},
   "outputs": [
    {
     "name": "stdout",
     "output_type": "stream",
     "text": [
      "keys <KeysViewHDF5 ['rand2d', 'test_group']>\n",
      "\n",
      "geom_space_data [  1.           1.09854114   1.20679264   1.32571137   1.45634848\n",
      "   1.59985872   1.75751062   1.93069773   2.12095089   2.32995181\n",
      "   2.55954792   2.8117687    3.0888436    3.39322177   3.72759372\n",
      "   4.09491506   4.49843267   4.94171336   5.42867544   5.96362332\n",
      "   6.55128557   7.19685673   7.90604321   8.68511374   9.54095476\n",
      "  10.48113134  11.51395399  12.64855217  13.89495494  15.26417967\n",
      "  16.76832937  18.42069969  20.23589648  22.22996483  24.42053095\n",
      "  26.82695795  29.47051703  32.37457543  35.56480306  39.06939937\n",
      "  42.9193426   47.14866363  51.79474679  56.89866029  62.50551925\n",
      "  68.6648845   75.43120063  82.86427729  91.0298178  100.        ]\n"
     ]
    }
   ],
   "source": [
    "with h5py.File('test_file.hdf5','r') as t2:\n",
    "    print('keys', t2.keys())\n",
    "    print()\n",
    "    print('geom_space_data',  t2['test_group/geom_space'][:])"
   ]
  },
  {
   "cell_type": "markdown",
   "metadata": {},
   "source": [
    "Once has to be careful when modifying `HDF5` files, since datasets added using already existing keywords as names, will overwrite the existing datasets. Similarly, `HDF5` files created with names of files already existing, will overwrite the existing files. \n",
    "\n",
    "Notice we have  interchangeably manipulate `HDF5` using or not the `with` blocks, to show the equivalence of the different ways of handle data files. "
   ]
  },
  {
   "cell_type": "code",
   "execution_count": null,
   "metadata": {},
   "outputs": [],
   "source": []
  },
  {
   "cell_type": "code",
   "execution_count": null,
   "metadata": {},
   "outputs": [],
   "source": []
  }
 ],
 "metadata": {
  "kernelspec": {
   "display_name": "Python 3",
   "language": "python",
   "name": "python3"
  },
  "language_info": {
   "codemirror_mode": {
    "name": "ipython",
    "version": 3
   },
   "file_extension": ".py",
   "mimetype": "text/x-python",
   "name": "python",
   "nbconvert_exporter": "python",
   "pygments_lexer": "ipython3",
   "version": "3.7.6"
  }
 },
 "nbformat": 4,
 "nbformat_minor": 4
}
