{
 "cells": [
  {
   "cell_type": "markdown",
   "metadata": {},
   "source": [
    "# Lecture 8\n",
    "\n",
    "**Authors:**\n",
    "* Yilber Fabian Bautista\n",
    "* \n",
    "\n",
    "**Last date of modification:**\n",
    " December 29th 2021\n",
    "\n",
    "Hello there, \n",
    "\n",
    "Welcome to Lecture 8 of this mini-lecture series on programing with Python. In this series, you will learn  basic and intermediate python tools that will be of great use in your scientific carer\n",
    "\n",
    "**Objectives:** \n",
    "\n",
    "By the end of this lecture you will be able to:\n",
    "* Create, modify, save, and interact with **HDF5** files\n",
    "* **Fit** curves to a given set of data points using **curve_fit** module in ** scipy.optimize** library"
   ]
  },
  {
   "cell_type": "markdown",
   "metadata": {},
   "source": [
    "## HDF5 files\n",
    "\n",
    "**HDF** stands for “Hierarchical Data Format”. An HDF5 file contains two kinds of objects: `datasets`, which are **array-like** collections of data, and ` groups`, which are **folder-like** containers that hold datasets and other groups. Schematically, an **HDF5** file looks as follows\n",
    "\n",
    "<img src=\"Figures/HDF5_gen.png\" width=\"600\" height=\"400\">\n",
    "\n",
    "\n",
    "Figure taken from [here](https://icmplus.neurosurg.cam.ac.uk/home/icm-features/hdf5-new-icm-data-format/).\n",
    "The Groups and datasets can be further commentated with **metadata**  contained in associated **Attributes**. We will expand on this bellow. \n",
    "\n",
    "The fundamental thing to have in mind when dealing with **HDF5** files is: **Groups** are used  like **dictionaries**, whereas **datasets** work like **NumPy arrays**. "
   ]
  },
  {
   "cell_type": "markdown",
   "metadata": {},
   "source": [
    "### Opening & creating HDF5 files\n",
    "\n",
    "We have two options for this:  The syntax for the first one is:\n",
    "\n",
    "```py\n",
    "f = h5py.File('myfile.hdf5','r')\n",
    "\n",
    "```\n",
    "whereas for the second one we use\n",
    "\n",
    "```\n",
    "\n",
    "```\n",
    "\n",
    "\n",
    "\n",
    "\n"
   ]
  },
  {
   "cell_type": "code",
   "execution_count": null,
   "metadata": {},
   "outputs": [],
   "source": []
  }
 ],
 "metadata": {
  "kernelspec": {
   "display_name": "Python 3",
   "language": "python",
   "name": "python3"
  },
  "language_info": {
   "codemirror_mode": {
    "name": "ipython",
    "version": 3
   },
   "file_extension": ".py",
   "mimetype": "text/x-python",
   "name": "python",
   "nbconvert_exporter": "python",
   "pygments_lexer": "ipython3",
   "version": "3.7.6"
  }
 },
 "nbformat": 4,
 "nbformat_minor": 4
}
