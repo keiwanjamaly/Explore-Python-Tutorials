{
 "cells": [
  {
   "cell_type": "markdown",
   "metadata": {},
   "source": [
    "# Lecture 7\n",
    "\n",
    "**Authors:**\n",
    "* Yilber Fabian Bautista \n",
    "* \n",
    "\n",
    "**Last date of modification:**\n",
    " December 26th 2021\n",
    "\n",
    "Hello there,\n",
    "\n",
    "welcome to Lecture 7 of this mini-lecture series on programing with Python. In this series, you will learn basic and intermediate python tools that will be of great use in your scientific carer.\n",
    "\n",
    "By the end of this lecture you will be able to:\n",
    "* Perform  1-Dimensional **interpolating** functions using **interp1d** and **InterpolatedUnivariateSpline** from the **scipy** library\n",
    "* Differentiate  between **polynomial** and **Spline** interpolation\n",
    "* Use the different interpolation **kinds** available for the **interp1d** method\n",
    "* Change the **polynomial degree** of an **InterpolatedUnivariateSpline** function. \n",
    "* Use the numeric **differentiation** and **integration** methods available from **InterpolatedUnivariateSpline** \n",
    "* Perform 2-Dimensional **interpolations** using  **RectBivariateSpline** function from  the **scipy** library"
   ]
  },
  {
   "cell_type": "markdown",
   "metadata": {},
   "source": [
    "# Interpolations\n",
    "\n",
    "In Lectures 3, 5 and 6 we have used **interpolations** to access information in a given set of data, where no data is available. In this tutorial we will expand on  **interpolations**. We will cover **1-Dimensional**\n",
    " and **2-Dimensional** interpolations. \n",
    " \n",
    "##  1-Dimensional Interpolations\n",
    "\n",
    "Given a set of data points $(x_i,f_i)$, with $x_{min} \\le x_i\\le x_{max}$, an **interpolation function** $ f(x)$ is a curve that passes through all of the data points available in the data set. Once such a curve is found,  it can be evaluated  at different locations $f(x')$, with $x_{min} \\le x'\\le x_{max}$,  i.e. it can only be evaluated in the interval $[x_{min}, x_{max}]$. \n",
    "\n",
    "In this tutorial we will cover two functions inside the `scipy` library to do **1-Dimensional interpolations**. The `interp1d` and the `InterpolatedUnivariateSpline` functions. \n",
    "\n",
    "\n",
    "## `interp1d` \n",
    "\n",
    "We have already used this function in previous tutorials. See  [here](https://docs.scipy.org/doc/scipy/reference/generated/scipy.interpolate.interp1d.html) for  accessing the documentation.  The basics syntax is the following\n",
    "\n",
    "```py\n",
    "x = ...\n",
    "y = ...\n",
    "interp1d(x, y)\n",
    "```\n",
    "Let us see an explicit example of an interpolation for a  1-Dimensional gaussian function\n"
   ]
  },
  {
   "cell_type": "code",
   "execution_count": null,
   "metadata": {},
   "outputs": [],
   "source": [
    "import numpy as np # For maths\n",
    "from scipy.interpolate import interp1d # For 1-D interpolations\n",
    "import matplotlib.pyplot as plt # For ploting\n",
    "\n",
    "x = np.linspace(0,10,15)\n",
    "y = np.exp(-x**2/2)\n",
    "\n",
    "f = interp1d(x,y)\n",
    "\n",
    "xp = np.linspace(0,10,30)\n",
    "fp = f(xp)\n",
    "\n",
    "plt.plot(x,y,'o',label = \"data\")\n",
    "plt.plot(xp,fp,'r--',label = \"interp\")\n",
    "plt.legend(loc = \"upper right\")\n",
    "plt.show()"
   ]
  },
  {
   "cell_type": "markdown",
   "metadata": {},
   "source": [
    "`interp1d` has different ways (`kind`) of doing the **interpolation**, the default type is `type = linear`, where polynomials of degree 1 are used to approximate the curve in the regions where no data is available.  Run the command \n",
    "\n",
    "```py\n",
    "interp1d?\n",
    "```\n",
    "to see the different `kind` available to use. In previous tutorials we have used `kind = quadratic ` to do the **interpolations**. This uses polynomials of second degree to approximate the curve. \n",
    "\n",
    "# Exercise 1\n",
    "\n",
    "Run the following `lines` to do a comparison of the different interpolations `kind ` available in the `interp1d` method. \n",
    "\n",
    "```py\n",
    "from scipy.interpolate import interp1d # For 1-D interpolations\n",
    "import matplotlib.pyplot as plt # For ploting\n",
    "\n",
    "#%matplotlib notebook #uncomment this line for plot manipulation in jupyter notebook\n",
    "x = np.linspace(0,10,11)\n",
    "y = np.sin(x) \n",
    "xp = np.linspace(0,10,100) #New data to evaluate after the  interpolation is done\n",
    "\n",
    "plt.plot(x,y,\"o\",label = \"data\")\n",
    "\n",
    "# Do the interpolation for all the different kinds \n",
    "kind = ['linear', 'nearest', 'zero', 'slinear', 'quadratic', 'cubic']\n",
    "\n",
    "\n",
    "for k in kind:\n",
    "    f = interp1d(x,y,kind = k)\n",
    "    yp = f(xp)\n",
    "    plt.plot(xp,yp,label = k)\n",
    "plt.legend(loc = 'lower right')  \n",
    "#plt.show()\n",
    "\n",
    "```\n",
    "\n",
    "\n",
    "What can you conclude from the different ways of doing the interpolations?\n",
    "\n",
    "\n",
    "\n"
   ]
  },
  {
   "cell_type": "code",
   "execution_count": null,
   "metadata": {},
   "outputs": [],
   "source": [
    "# Try it yourself"
   ]
  },
  {
   "cell_type": "markdown",
   "metadata": {},
   "source": [
    "## `InterpolatedUnivariateSpline`\n",
    "A **spline interpolation** is a way of interpolating a set of data, where  the interpolant is a piecewise polynomial called a spline. \n",
    "The advantage of **spline interpolation** over **polynomial interpolation** is that the former fits low-degree polynomials to small subsets of the values. For example, one can fit say nine cubic polynomials between each of the pairs of ten points, instead of fitting a single degree-ten polynomial to all of them.  \n",
    "\n",
    "![](./Figures/spline.png)\n",
    "\n",
    "\n",
    "Figure taken from [here](https://en.wikipedia.org/wiki/Spline_(mathematics)). The vertexes of the **spline** are called **knots**. \n",
    "\n",
    "`InterpolatedUnivariateSpline` Fits a spline y = spl(x) of degree $k$ with $k\\le5$, to the provided x, y data. The Spline function passes through all provided points. Here $k$ is the polynomial degree to approximate the curve.\n",
    "\n",
    "The syntax for interpolating a set of points using `InterpolatedUnivariateSpline` is very similar to the one for `interp1d`\n",
    "\n",
    "```py\n",
    "x = ...\n",
    "y = ...\n",
    "spl = InterpolatedUnivariateSpline(x, y, k = ..)\n",
    "```\n",
    " \n",
    "The default value for the polynomial degree is $k=3$. See the [InterpolatedUnivariateSpline documentation](https://docs.scipy.org/doc/scipy/reference/reference/generated/scipy.interpolate.InterpolatedUnivariateSpline.html)\n",
    "\n",
    "Let us provide  an specific example for our favorite 1-Dimensional gaussian function"
   ]
  },
  {
   "cell_type": "code",
   "execution_count": null,
   "metadata": {},
   "outputs": [],
   "source": [
    "from scipy.interpolate import InterpolatedUnivariateSpline\n",
    "\n",
    "x = np.linspace(0,10,15)\n",
    "y = np.exp(-x**2/2)\n",
    "\n",
    "spl = InterpolatedUnivariateSpline(x,y)\n",
    "\n",
    "xp = np.linspace(0,10,30)\n",
    "splp = spl(xp)\n",
    "\n",
    "plt.plot(x,y,'o',label = \"data\")\n",
    "plt.plot(xp,splp,'r--',label = \"interp\")\n",
    "plt.legend(loc = \"upper right\")\n",
    "plt.show()"
   ]
  },
  {
   "cell_type": "markdown",
   "metadata": {},
   "source": [
    "# Exercise 2\n",
    "\n",
    "Compare the result from the `InterpolatedUnivariateSpline` from the previous example  with the corresponding `interp1d` result for  interpolation kind, `kind ='cubic'`, by computing the error \n",
    "$$\n",
    "Error = ||f(yp)- f_{\\text{true}}(yp)||\n",
    "$$\n",
    "where $f_{\\text{true}}(yp)$ is the true value of the function (recall the true function is $e^{-x^2/2}$). Hint: Use `linalg.norm` function from `numpy` library to compute the norm of the vector $f(yp)- f_{\\text{true}}(yp)$. \n",
    "\n",
    "What do you conclude  from the comparison?\n"
   ]
  },
  {
   "cell_type": "markdown",
   "metadata": {},
   "source": [
    "# Solution  (will be removed from the students version)"
   ]
  },
  {
   "cell_type": "code",
   "execution_count": null,
   "metadata": {},
   "outputs": [],
   "source": [
    "from numpy import linalg\n",
    "\n",
    "\n",
    "x = np.linspace(0,10,15)\n",
    "y = np.exp(-x**2/2)\n",
    "\n",
    "f = interp1d(x,y,kind ='cubic')\n",
    "\n",
    "xp = np.linspace(0,10,30)\n",
    "fp = f(xp)\n",
    "\n",
    "\n",
    "true_val = np.exp(-xp**2/2)\n",
    "\n",
    "#errors\n",
    "error_spl = (splp - true_val)\n",
    "error_intp1d = (fp - true_val)\n",
    "\n",
    "#norms\n",
    "print(linalg.norm(error_spl))\n",
    "print(linalg.norm(error_intp1d))"
   ]
  },
  {
   "cell_type": "markdown",
   "metadata": {},
   "source": [
    "### Why using InterpolatedUnivariateSpline?\n",
    "\n",
    "Unlike for `interp1d`, **interpolating** functions created from `InterpolatedUnivariateSpline` have additional methods that can be applied to the resulting functions. Among these methods we have numeric **differentiation** and **integration**.\n",
    "\n",
    "Let us for instance compute the first antiderivative of our Spline for the previous example"
   ]
  },
  {
   "cell_type": "code",
   "execution_count": null,
   "metadata": {},
   "outputs": [],
   "source": [
    "#compute the antiderivative\n",
    "integral_spl = spl.antiderivative(1)\n",
    "\n",
    "#evaluate the function in the fine grid defined above\n",
    "int_splp = integral_spl(xp)\n",
    "\n",
    "#Plot the interpolation and its first antiderivative\n",
    "plt.plot(x,y,'o',label = \"data\")\n",
    "plt.plot(xp,splp,'r--',label = \"interp\")\n",
    "plt.plot(xp,int_splp,label = \"integral\")\n",
    "\n",
    "plt.legend(loc = \"upper right\")\n",
    "plt.show()"
   ]
  },
  {
   "cell_type": "markdown",
   "metadata": {},
   "source": [
    "# Exercise 3\n",
    "\n",
    "- Do the analog plot for the first and second **derivatives** of the spline of our example. Hint: The derivative method has the analog syntax `.derivative(n)`.\n",
    "\n",
    "- Explore the additional methods applied to the interpolating function resulting from using `InterpolatedUnivariateSpline`, mentioned in the  [documentation](https://docs.scipy.org/doc/scipy/reference/reference/generated/scipy.interpolate.InterpolatedUnivariateSpline.html)"
   ]
  },
  {
   "cell_type": "markdown",
   "metadata": {},
   "source": [
    "## 2-Dimensional interpolations\n",
    "\n",
    "We will use [RectBivariateSpline](https://docs.scipy.org/doc/scipy/reference/generated/scipy.interpolate.RectBivariateSpline.html#scipy.interpolate.RectBivariateSpline). Analog to the 1-Dimensional case, 2-dimensional interpolations can be made using the `RectBivariateSpline` method in the `scipy` library. `RectBivariateSpline`  describes a spline s(x, y) of degrees $k_x$ and $k_y$  on the rectangle $[x_b, x_e] \\times[y_b, y_e]$ calculated from a given set of data points (x, y, z). Likewise for the 1-Dimensional case, the default values for the polynomial degrees is $k_x=k_y=3$.\n",
    "\n",
    "Let us see an specific implementation for the interpolation of a 2-dimensional gaussian function"
   ]
  },
  {
   "cell_type": "code",
   "execution_count": null,
   "metadata": {},
   "outputs": [],
   "source": [
    "import numpy as np\n",
    "from scipy.interpolate import RectBivariateSpline\n",
    "import matplotlib.pyplot as plt\n",
    "from mpl_toolkits.mplot3d import Axes3D\n",
    "\n",
    "\n",
    "# Coarse grid\n",
    "dx, dy = 0.4, 0.4\n",
    "xmax, ymax = 2, 4\n",
    "x = np.arange(-xmax, xmax, dx)\n",
    "y = np.arange(-ymax, ymax, dy)\n",
    "X, Y = np.meshgrid(x, y)\n",
    "Z = np.exp(-(X)**2 - (Y)**2)\n",
    "\n",
    "# Do the interpolation\n",
    "interp_spline = RectBivariateSpline(y, x, Z)\n",
    "\n",
    "# Fine grid\n",
    "dxp, dyp = 0.16, 0.16\n",
    "xp = np.arange(-xmax, xmax, dxp)\n",
    "yp = np.arange(-ymax, ymax, dyp)\n",
    "Xp, Yp = np.meshgrid(xp,yp)\n",
    "Zp = interp_spline(yp, xp)\n",
    "\n",
    "#Plot the results\n",
    "fig, ax = plt.subplots(nrows=1, ncols=2, subplot_kw={'projection': '3d'})\n",
    "ax[0].plot_wireframe(X, Y, Z,label = 'data')\n",
    "\n",
    "ax[1].plot_wireframe(Xp, Yp, Zp, color='g', label = 'interpolation')\n",
    "for axes in ax:\n",
    "    axes.set_zlim(-0.2,1)\n",
    "\n",
    "fig.tight_layout()\n",
    "fig.legend()\n",
    "plt.show()"
   ]
  },
  {
   "cell_type": "markdown",
   "metadata": {},
   "source": [
    "# Exercise 4\n",
    "Compute the integral of `interp_spline` defined in the 2-Dimensional example, in the rectangle $[1,2]\\times[0,2]$ using the `integral()` method available for **RectBivariateSpline**. Hint: See the [documentation](https://docs.scipy.org/doc/scipy/reference/generated/scipy.interpolate.RectBivariateSpline.html#scipy.interpolate.RectBivariateSpline)"
   ]
  },
  {
   "cell_type": "code",
   "execution_count": null,
   "metadata": {},
   "outputs": [],
   "source": [
    "interp_spline.integral(1,2,0,2)"
   ]
  },
  {
   "cell_type": "code",
   "execution_count": null,
   "metadata": {},
   "outputs": [],
   "source": []
  }
 ],
 "metadata": {
  "kernelspec": {
   "display_name": "Python 3",
   "language": "python",
   "name": "python3"
  },
  "language_info": {
   "codemirror_mode": {
    "name": "ipython",
    "version": 3
   },
   "file_extension": ".py",
   "mimetype": "text/x-python",
   "name": "python",
   "nbconvert_exporter": "python",
   "pygments_lexer": "ipython3",
   "version": "3.8.9"
  }
 },
 "nbformat": 4,
 "nbformat_minor": 4
}
