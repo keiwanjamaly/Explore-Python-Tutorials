{
 "cells": [
  {
   "cell_type": "markdown",
   "metadata": {},
   "source": [
    "# Python Tutorial 3"
   ]
  },
  {
   "cell_type": "markdown",
   "metadata": {},
   "source": [
    "Hi there, \n",
    "\n",
    "in this tutorial we will learn about numerical integration and how to implement it in Python using scipy."
   ]
  },
  {
   "cell_type": "markdown",
   "metadata": {},
   "source": [
    "Let's assume, you want to integrate the following integral:\n",
    "\n",
    "$\\int_{a}^{b} f(x) dx$\n",
    "\n",
    "With the linearity of the integral, you can write it as:\n",
    "\n",
    "$\\int_{a}^{b} f(x) dx = \\sum_{i=0}^{N} \\int_{x_i}^{x_{i+1}} f(x) dx$\n",
    "\n",
    "where $x_i = a + ih$ and $h = (b-a)/N$. This ensures, that the $x_i$ are equally spaced.\n",
    "\n",
    "If $x_i$ and $x_{i+1}$ are close to each other, the integral $\\int_{x_i}^{x_{i+1}} f(x) dx$ can be approximated with different forms. \n",
    "\n",
    "## Rectangle rule\n",
    "\n",
    "The rectangle rule is the simplest form of the integral. Each integral in the summation is approximated by a rectangle. \n",
    "\n",
    "$\\int_{x_i}^{x_{i+1}} f(x) dx = (x_i - x_{i+1}) f(\\frac{x_i + x_{i+1}}{2}) + \\mathcal{O}(1/N^2)$\n",
    "\n",
    "<img src=\"https://upload.wikimedia.org/wikipedia/commons/2/26/Integration_rectangle.svg\" alt=\"drawing\" width=\"100%\"/>\n",
    "\n",
    "## Trapezoid rule\n",
    "\n",
    "A little bit more complicated is the trapezoid rule. Each integral in the summation is approximated by a trapezoid.\n",
    "\n",
    "$\\int_{x_i}^{x_{i+1}} f(x) dx = (x_i - x_{i+1}) \\frac{f(x_i) + f(x_{i+1})}{2} + \\mathcal{O}(1/N^3)$\n",
    "\n",
    "<img src=\"https://upload.wikimedia.org/wikipedia/commons/0/03/Integration_trapezoid.svg\" alt=\"drawing\" width=\"100%\"/>\n",
    "\n",
    "## Simpson's rule\n",
    "\n",
    "The most complicated rule out of the three is the Simpson's rule. The function of each interval is represented by a polynomial of order 2 and integrating that polynomial instead. It's error goes with $\\mathcal{O}(1/N^5)$.\n",
    "\n",
    "<img src=\"https://upload.wikimedia.org/wikipedia/commons/1/13/Integration_simpson.svg\" alt=\"drawing\" width=\"100%\"/>\n",
    "\n",
    "<style>\n",
    "img {\n",
    "  background-color: white;\n",
    "}\n",
    "</style>\n",
    "\n",
    "As you can see, the error for these methods evolve differently for different values of $N$. It's important to keep in mind, that different methods also require different numbers of function calls. So if f(x) is a very expensive function without a lot of fluctuations, it's better to use the rectangle rule, than the trapezoid rule.\n",
    "\n",
    "There is also a way, to vary the size of the intervals, but this is a more advanced method. \n",
    "\n",
    "Also keep in mind, that the methods presented here are just the common three out of many which are optimized for different problems. \n",
    "\n"
   ]
  },
  {
   "cell_type": "markdown",
   "metadata": {},
   "source": [
    "# Exercise 1\n",
    "\n",
    "Program the rectangular and trapezoid rule in the next code block to integrate the function $f(x) = e^{-x}$ from $x=0$ to $x=1$. Compare it with the analytic result. Also vary the number of intervals and see what happens. "
   ]
  },
  {
   "cell_type": "code",
   "execution_count": null,
   "metadata": {},
   "outputs": [],
   "source": [
    "# your solution goes inhere. "
   ]
  },
  {
   "cell_type": "markdown",
   "metadata": {},
   "source": [
    "The Simpson's rule is quiet complicated to implement and other integration methods can be even more complicated. For that reason, clever people have already done this for us and bundled them in a library. Scipy is such a library which contains a lot of methods for numerical calculations, as well as numerical integration. We will now take a look at some of there methods, but a full overview can be seen [here](https://docs.scipy.org/doc/scipy/reference/integrate.html)."
   ]
  },
  {
   "cell_type": "markdown",
   "metadata": {},
   "source": [
    "## scipy.integrate.quad\n",
    "\n",
    "let us first look at the quad method, which is made for directly integrating a function. It is based on the FORTRAN library QUADPACK. Scipy has generally a really good documentation we encourage you to take a look at [it](https://docs.scipy.org/doc/scipy/reference/reference/generated/scipy.integrate.quad.html#scipy.integrate.quad).\n",
    "\n",
    "Let us first define the function we want to integrate. "
   ]
  },
  {
   "cell_type": "code",
   "execution_count": 5,
   "metadata": {},
   "outputs": [
    {
     "data": {
      "text/plain": [
       "(1.0, 5.842605965544164e-11)"
      ]
     },
     "execution_count": 5,
     "metadata": {},
     "output_type": "execute_result"
    }
   ],
   "source": [
    "import numpy as np\n",
    "import scipy.integrate as integrate\n",
    "\n",
    "def f(x):\n",
    "    return np.exp(-x)\n",
    "\n",
    "integrate.quad(f, 0, np.inf)"
   ]
  }
 ],
 "metadata": {
  "interpreter": {
   "hash": "aee8b7b246df8f9039afb4144a1f6fd8d2ca17a180786b69acc140d282b71a49"
  },
  "kernelspec": {
   "display_name": "Python 3.10.0 64-bit",
   "language": "python",
   "name": "python3"
  },
  "language_info": {
   "codemirror_mode": {
    "name": "ipython",
    "version": 3
   },
   "file_extension": ".py",
   "mimetype": "text/x-python",
   "name": "python",
   "nbconvert_exporter": "python",
   "pygments_lexer": "ipython3",
   "version": "3.9.9"
  },
  "orig_nbformat": 4
 },
 "nbformat": 4,
 "nbformat_minor": 2
}
