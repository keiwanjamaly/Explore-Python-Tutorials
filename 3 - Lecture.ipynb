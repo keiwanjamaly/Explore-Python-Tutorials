{
 "cells": [
  {
   "cell_type": "markdown",
   "metadata": {},
   "source": [
    "# Lecture 3"
   ]
  },
  {
   "cell_type": "markdown",
   "metadata": {},
   "source": [
    "**Authors:**\n",
    "* Yilber Fabian Bautista\n",
    "* Keiwan Jamaly\n",
    "* Julia Lienert \n",
    "\n",
    "**Last date of modification:**\n",
    " December 6th 2021"
   ]
  },
  {
   "cell_type": "markdown",
   "metadata": {},
   "source": [
    "Hello there,\n",
    "\n",
    "welcome to Lecture 3 of this mini-lecture series on programing with Python. In this series, you will learn basic and intermediate python tools that will be of great use in your scientific carer.\n",
    "\n",
    "By the end of this lecture you will be able to:\n",
    "* Do **numerical differentiation** and understand the principles behind it.\n",
    "* Perform basic **numeric integration** using python integration libraries\n",
    "* Use several integration techniques including: **the rectangle, the trapezoid and the Simpson's rule**. \n",
    "* Do numeric integration in 1 dimensions using quadratures (**quad**)\n",
    "* Perform higher dimensional integrals using **dblquad, tplquad** "
   ]
  },
  {
   "cell_type": "markdown",
   "metadata": {},
   "source": [
    "# Numerical Differentiation"
   ]
  },
  {
   "cell_type": "markdown",
   "metadata": {},
   "source": [
    "Differentiation is a fundamental tool in science. Naively one would expect the usual derivative definition will  be used for numerics, that is\n",
    "\n",
    "\\begin{equation*}\n",
    "\\frac{f(x+h) - f(x)}{h}\n",
    "\\end{equation*}\n",
    "\n",
    "Expanding  $f(x+h)$ around $h=0$ we verify, that it is indeed the differential of $f(x)$.\n",
    "\n",
    "\\begin{equation*}\n",
    "\\frac{f(x+h) - f(x)}{h} = \\frac{f(x) + hf'(x) + \\mathcal{O}(h^2) - f(x)}{h} = f'(x) + \\mathcal{O}(h)\n",
    "\\end{equation*}\n",
    "\n",
    "As we can see,  the numerical  errors propagates with $\\mathcal{O}(h)$. This is a good approximation to start with, however  we can do better by simply changing our definition of the differential  and expanding around $h=0$\n",
    "\\begin{equation*}\n",
    "\\frac{f(x+h) - f(x-h)}{2h} = \\frac{f(x) + hf'(x) + h^2/2 f''(x) - (f(x) - hf'(x) + h^2/2 f''(x)) + \\mathcal{O}(h^3)}{2h} = f'(x) + \\mathcal{O}(h^2)\n",
    "\\end{equation*}\n",
    "This is called the central difference formula and is primarily used for any numerical differentiation, where now the numeric errors propagate as $\\mathcal{O}(h^2)$\n",
    "\n",
    "# Exercise 1\n",
    "Using the techniques from above, prove that \n",
    "\\begin{equation*}\n",
    "\\frac{f(x+h) -2f(x) + f(x-h)}{h^2} = f''(x) + \\mathcal{O}(h^2)\n",
    "\\end{equation*}"
   ]
  },
  {
   "cell_type": "markdown",
   "metadata": {},
   "source": [
    "# Implementations in SciPy\n",
    "\n",
    "The above numeric differentiation techniques are already implementations in scipy and numpy libraries.\n",
    "\n",
    "* [scipy.misc.derivative](https://docs.scipy.org/doc/scipy/reference/generated/scipy.misc.derivative.html) for calculating derivatives of analytic functions.\n",
    "* [numpy.gradient](https://docs.scipy.org/doc/numpy/reference/generated/numpy.gradient.html) for calculating derivatives for  array functions.\n",
    "\n",
    "both functions use the central difference formula.  "
   ]
  },
  {
   "cell_type": "markdown",
   "metadata": {},
   "source": [
    "### Example usage (scipy.misc.derivative)\n",
    "SciPy has the function [scipy.misc.derivative](https://docs.scipy.org/doc/scipy/reference/generated/scipy.misc.derivative.html), which allows us to  directly compute the derivative of an analytic function. The syntax for using `scipy.misc.derivative` function is the following:\n",
    "\n",
    "```py\n",
    "scipy.misc.derivative(func, x0, dx=1.0, n=1, args=(), order=3)\n",
    "```\n",
    "\n",
    "where `func` is the given function, `x0` the point  the derivative is calculated at, and `dx` is a float for spacing, in our previous formulas `dx=h`.\n",
    "\n",
    "Let us see an specific example"
   ]
  },
  {
   "cell_type": "code",
   "execution_count": 1,
   "metadata": {},
   "outputs": [
    {
     "name": "stdout",
     "output_type": "stream",
     "text": [
      "4.999999999921734\n"
     ]
    }
   ],
   "source": [
    "# include the function 'derivative' from SciPy\n",
    "from scipy.misc import derivative\n",
    "\n",
    "# define the function of which the derivative should be taken\n",
    "def test(x):\n",
    "\n",
    "    return x**3 + x**2\n",
    "\n",
    "# calculate the derivative, store the result of the calculation in the variable 'result' and print it\n",
    "result = derivative(test, 1.0, dx = 1e-6)\n",
    "print(result)"
   ]
  },
  {
   "cell_type": "markdown",
   "metadata": {},
   "source": [
    "From analytic differentiation, we  would have expected $test'(x)=3x^2+2x$, and evaluating at $x=1$ will produce $test'(1)=5$. The difference with our numeric differentiation is then"
   ]
  },
  {
   "cell_type": "code",
   "execution_count": 2,
   "metadata": {},
   "outputs": [
    {
     "data": {
      "text/plain": [
       "-7.826628234397504e-11"
      ]
     },
     "execution_count": 2,
     "metadata": {},
     "output_type": "execute_result"
    }
   ],
   "source": [
    "result-5"
   ]
  },
  {
   "cell_type": "markdown",
   "metadata": {},
   "source": [
    "and we can see this is a number approximately of order $\\mathcal{O}(dx^2)\\approx10^{-12}$. As expected from the central difference formula"
   ]
  },
  {
   "cell_type": "markdown",
   "metadata": {},
   "source": [
    "### Example usage (if only data points are given)\n",
    "For the case of not having an analytic function but only data points given, the derivative at each point is calculated using the formula of the centered derivative. Since both the leftmost and rightmost point do not have two neighbouring points, their derivatives are calculated using the forward (for the leftmost point) and the backward (for the rightmost point) derivative.\n",
    "\n",
    " **NumPy** includes the  function [np.gradient](https://numpy.org/doc/stable/reference/generated/numpy.gradient.html) that does the job for us, provided an array with data points is given. The syntax for using the **np.gradient** function is the following\n",
    "\n",
    "```py\n",
    "gradient(f,dx)\n",
    "```\n",
    "\n",
    "where `f` is the array with the data points and `dx` is the spacing between the data points.\n",
    "\n",
    "Notice that the **NumPy** functions for taking derivatives only work for data points given as arrays but not for specific functions. For the latter case, one has to use SciPy. On the other hand, NumPy is faster if the function is given as points on a grid.\n",
    "\n",
    "Let us see an specific example of how to use the **np.gradient** function in practice"
   ]
  },
  {
   "cell_type": "code",
   "execution_count": 3,
   "metadata": {},
   "outputs": [
    {
     "data": {
      "image/png": "[encoded data removed]",
      "text/plain": [
       "<Figure size 432x288 with 1 Axes>"
      ]
     },
     "metadata": {
      "needs_background": "light"
     },
     "output_type": "display_data"
    }
   ],
   "source": [
    "import numpy as np\n",
    "import matplotlib.pyplot as plt\n",
    "\n",
    "# note: numpy and matplotlib are already included\n",
    "# create list of evenly spaced numbers\n",
    "x = np.linspace(0.0, 2.0*np.pi, 100)\n",
    "\n",
    "# save the spacing in the variable 'h'; since the numbers in 'x' are evenly spaced it doesn't \n",
    "#matter which difference we use\n",
    "h = x[10] - x[9]\n",
    "\n",
    "# create array with the sine of that numbers\n",
    "f = np.sin(x)\n",
    "\n",
    "# calculate the derivatives of the points in 'f' using the spacing 'h' and store the results in the variable 'deriv_bf\n",
    "deriv_f = np.gradient(f, h)\n",
    "\n",
    "# plot the array 'b' and its derivative 'deriv_b'\n",
    "plt.plot(x/np.pi, f,       marker = 'o', color = 'red',  label = 'f (sin(x))')\n",
    "plt.plot(x/np.pi, deriv_f, marker = 'o', color = 'blue', label = 'deriv_f (cos(x))')\n",
    "plt.xlabel(r'x [$\\pi$]')\n",
    "plt.ylabel('f / deriv_f')\n",
    "plt.legend(loc = 'lower left', fontsize = 8)\n",
    "plt.show()\n",
    "\n",
    "# Note: As expected, 'f' shows the sine function and its derivative 'deriv_f' is the cosine!\n"
   ]
  },
  {
   "cell_type": "markdown",
   "metadata": {},
   "source": [
    "# Exercise 2\n",
    "Compute analytically derivative of $\\sin{x}$ and evaluate it at the given `x`-array. Convince yourself that the difference of this result and the numeric derivative `deriv_f` is approximately of  order $\\mathcal{O}(h^2)$. In addition, evaluate the derivative using the  **scipy.misc.derivative**, and compute the difference of this result and the previous two methods of computation. Plot the analytic, and the two numeric derivatives in a scale that makes visible their differences. "
   ]
  },
  {
   "cell_type": "markdown",
   "metadata": {},
   "source": [
    "# Exercise 3 (optional)\n",
    "To get more practice at the computation of numerical derivatives with Python:\n",
    "1. Calculate the derivative of the function $f(x) = x^4 - 4x^2 + 3x - 1$ at the point $x = 1.5$ both analytically (by hand + using your calculator) and numerically (using $h/dx = 0.1$ and $h/dx = 0.01$). Compare the results. What do you expect to change when using different values for $dx$?\n",
    "2. Calculate the derivative of the function $g(x) = 1/x$ at the point $x = 0.1$ both analytically (by hand + using your calculator) and numerically (using $h/dx = 0.1$). What happens?"
   ]
  },
  {
   "cell_type": "code",
   "execution_count": 4,
   "metadata": {},
   "outputs": [],
   "source": [
    "# solution to task 1"
   ]
  },
  {
   "cell_type": "code",
   "execution_count": 5,
   "metadata": {},
   "outputs": [],
   "source": [
    "# solution to task 2"
   ]
  },
  {
   "cell_type": "markdown",
   "metadata": {},
   "source": [
    "# Numerical Integration"
   ]
  },
  {
   "cell_type": "markdown",
   "metadata": {},
   "source": [
    "Given a 1-dimensional integral of the form\n",
    "$\\int_{a}^{b} f(x) dx,$\n",
    "exploiting the  linearity of the integral, this integral  can be rewrite it as:\n",
    "\n",
    "$\\int_{a}^{b} f(x) dx = \\sum_{i=0}^{N} \\int_{x_i}^{x_{i+1}} f(x) dx$\n",
    "\n",
    "where $x_i = a + i h$ and $h = (b-a)/N$. i.e. the  $x_i$ points are  equally spaced.\n",
    "\n",
    "If $x_i$ and $x_{i+1}$ are close to each other, the integral $\\int_{x_i}^{x_{i+1}} f(x) dx$ can be approximated with different forms. \n",
    "\n",
    "## Rectangle rule\n",
    "\n",
    "The rectangle rule is the simplest form of the integral. Each integral in the previous sum is approximated by the area of a rectangle of base $(x_i - x_{i+1})$ and height $ f(\\frac{x_i + x_{i+1}}{2})$, i.e. the curve passes through the central points in one of the rectangle's edges. \n",
    "\n",
    "$\\int_{x_i}^{x_{i+1}} f(x) dx = (x_i - x_{i+1}) f(\\frac{x_i + x_{i+1}}{2}) + \\mathcal{O}(1/N^2)$\n",
    "\n",
    "<img src=\"https://upload.wikimedia.org/wikipedia/commons/2/26/Integration_rectangle.svg\" alt=\"drawing\" width=\"100%\"/>\n",
    "\n",
    "## Trapezoid rule\n",
    "\n",
    "A little bit more complex is the trapezoid rule. Each integral in the sum is approximated by the area of a trapezoid. Notice that the trapezoid has two different  heights, and to compute its area we have have to evaluate the function at two different $x_i$ values. The area of the trapezoid is then computed by\n",
    "\n",
    "$\\int_{x_i}^{x_{i+1}} f(x) dx = (x_i - x_{i+1}) \\frac{f(x_i) + f(x_{i+1})}{2} + \\mathcal{O}(1/N^3)$\n",
    "\n",
    "<img src=\"https://upload.wikimedia.org/wikipedia/commons/0/03/Integration_trapezoid.svg\" alt=\"drawing\" width=\"100%\"/>\n",
    "\n",
    "## Simpson's rule\n",
    "\n",
    "The most complicated rule out of the three is the Simpson's rule. The function of each interval is approximated  by a polynomial of order 2 and integrating that polynomial instead of the original function. It's error propagation is of order $\\mathcal{O}(1/N^5)$\n",
    "\n",
    "<img src=\"https://upload.wikimedia.org/wikipedia/commons/1/13/Integration_simpson.svg\" alt=\"drawing\" width=\"100%\"/>\n",
    "\n",
    "<style>\n",
    "img {\n",
    "  background-color: white;\n",
    "}\n",
    "</style>\n",
    "\n",
    "As you can see, the error for these methods evolve differently for different values of $N$. It's important to keep in mind, that different methods also require different numbers of function calls. So if f(x) is a very expensive function without a lot of fluctuations, it's better to use the rectangle rule, than the trapezoid rule.\n",
    "\n",
    "There is also a way, to vary the size of the intervals, but this is a more advanced method. We will just mention it here, for you to know, that this exists. \n",
    "\n",
    "Also keep in mind, that the methods presented here are just the common three out of many which are optimized for different problems. \n",
    "\n",
    "[Source of images](https://en.wikipedia.org/wiki/Numerical_integration)\n",
    "\n"
   ]
  },
  {
   "cell_type": "markdown",
   "metadata": {},
   "source": [
    "# Exercise 4\n",
    "\n",
    "Using **numpy**, program the rectangle and trapezoid rules in the next code block to integrate the function $f(x) = e^{-x}$ from $x=0$ to $x=1$. Compare it with the analytic result varying the the number of intervals and see what the difference for the mentioned methods of computation. Plot all your findings"
   ]
  },
  {
   "cell_type": "code",
   "execution_count": 6,
   "metadata": {},
   "outputs": [],
   "source": [
    "# Write your solutions here\n"
   ]
  },
  {
   "cell_type": "markdown",
   "metadata": {},
   "source": [
    "The Simpson's rule is quite complicated to implement and other integration methods can be even more complicated. For that reason, clever people have already done this for us and bundled them in a library. **Scipy** library contains many methods for numerical integration. We will now take a look at some of them, but a broader implementation  see [here](https://docs.scipy.org/doc/scipy/reference/integrate.html)."
   ]
  },
  {
   "cell_type": "markdown",
   "metadata": {},
   "source": [
    "## scipy.integrate.quad\n",
    "\n",
    "Let us first look at the **quad** method, which is made for directly integrating a function. It is based on the FORTRAN library **QUADPACK**. **Scipy** has generally a really good documentation we encourage you to take a look at [it](https://docs.scipy.org/doc/scipy/reference/reference/generated/scipy.integrate.quad.html#scipy.integrate.quad).\n",
    "\n",
    "Given a 1-dimensional analytic integrand (or interpolated) function  `func`, the 1-dimensional quad integration has the following syntax:\n",
    "```py\n",
    "result, error = integrate.quad(func, x_min, x_max, args=())\n",
    "```\n",
    "where `args` are possible parameters entering in your function. \n",
    "Run the commands `import scipy.integrate as integrate` and  `integrate.quad?` for additional documentation.\n",
    "\n",
    "Let us see how to use  **quad** integration with an specific example.\n",
    "\n"
   ]
  },
  {
   "cell_type": "code",
   "execution_count": 7,
   "metadata": {},
   "outputs": [
    {
     "name": "stdout",
     "output_type": "stream",
     "text": [
      "0.9999546000702375 2.8326146575791917e-14\n"
     ]
    }
   ],
   "source": [
    "import numpy as np\n",
    "import scipy.integrate as integrate\n",
    "\n",
    "def f(x):\n",
    "    return np.exp(-x)\n",
    "\n",
    "# calculate the integral of 'f' from 0 to 10\n",
    "result, error = integrate.quad(f, 0, 10)\n",
    "\n",
    "print(result, error)"
   ]
  },
  {
   "cell_type": "markdown",
   "metadata": {},
   "source": [
    "The first number gives you the result, the second one the numerical error of the integration. "
   ]
  },
  {
   "cell_type": "markdown",
   "metadata": {},
   "source": [
    "While **quad** integration is useful for analytic integrand functions,  other method implemented in the  **scipy** library are of use when having integrand functions that are **np.arrays**. One of such a methods is the already mentioned   **trapezoid** rule.\n",
    "The syntax for implementation of this integration method is the following:\n",
    "\n",
    "```py\n",
    "scipy.integrate.trapezoid(y, x=None, dx=1.0, axis=- 1)\n",
    "```\n",
    "or \n",
    "```py\n",
    "scipy.integrate.trapz(y, x=None, dx=1.0, axis=- 1)\n",
    "```\n",
    "Integrate along the given axis using the composite trapezoidal rule\n",
    "\n",
    "Let us see an specific example of this."
   ]
  },
  {
   "cell_type": "code",
   "execution_count": 8,
   "metadata": {},
   "outputs": [
    {
     "data": {
      "text/plain": [
       "1.000834863090761"
      ]
     },
     "execution_count": 8,
     "metadata": {},
     "output_type": "execute_result"
    }
   ],
   "source": [
    "x = np.linspace(0, 100, 1000)\n",
    "y = f(x)\n",
    "\n",
    "integrate.trapz(y, x)"
   ]
  },
  {
   "cell_type": "markdown",
   "metadata": {},
   "source": [
    "As you can see, the result is fairly similar to the quad method, but you don't have an error estimate.\n",
    "\n",
    "The last method we will be presenting here, is the **simpson** method, which works similar as the trapezoid method. The syntax for the implementation is:\n",
    "\n",
    "```py\n",
    "scipy.integrate.simpson(y, x=None, dx=1.0, axis=-1)\n",
    "```\n",
    "or \n",
    "```py\n",
    "scipy.integrate.simps(y, x=None, dx=1.0, axis=-1)\n",
    "```\n"
   ]
  },
  {
   "cell_type": "code",
   "execution_count": 9,
   "metadata": {},
   "outputs": [
    {
     "data": {
      "text/plain": [
       "1.0000402922553666"
      ]
     },
     "execution_count": 9,
     "metadata": {},
     "output_type": "execute_result"
    }
   ],
   "source": [
    "x = np.linspace(0, 100, 1000)\n",
    "y = f(x)\n",
    "integrate.simps(y, x)"
   ]
  },
  {
   "cell_type": "markdown",
   "metadata": {},
   "source": [
    "We have then learnt that depending  on the problem we  are trying to solve we can use either of the different integration methods in **scipy** library.  While **quad** works just with functions and the step size is estimated on the fly, the implementation of the **trapezoid** and **simpson** methods work on arrays. Keep in mind that one can convert an array into a function and a function into an array, for that, you we have prepared an  optional section on  interpolating functions, which we will extend in Lecture 7. "
   ]
  },
  {
   "cell_type": "code",
   "execution_count": 10,
   "metadata": {},
   "outputs": [
    {
     "data": {
      "text/plain": [
       "(1.0000000000000002, 5.842606996763696e-11)"
      ]
     },
     "execution_count": 10,
     "metadata": {},
     "output_type": "execute_result"
    }
   ],
   "source": [
    "integrate.quad(f,0,np.inf)"
   ]
  },
  {
   "cell_type": "markdown",
   "metadata": {},
   "source": [
    "# Exercise 5\n",
    "In this exercise we will compute numerically the  integral of the function \n",
    "\n",
    "$$y(x,a) = \\int_0^{x} e^{-a\\phi^2} d\\phi,$$\n",
    "using the **quad** integration method described above. Here  $a$ is a positive real number. For $x\\to \\infty$, this integral has an analytic result \n",
    "\n",
    "$$\\int_0^{\\infty} e^{-a x^2} dx = \\sqrt{\\frac{\\pi}{4a}}$$\n",
    "\n",
    "which we will use to compare to our numeric integration. \n",
    "\n",
    "1. Write a function, which represents the integrand and a function y(x,a) which calculates the integral. \n",
    "Recall the **quad** function allows for integration when parameters are included inside the integrand, as well as infinite integration interval.\n",
    "\n",
    "2. Check that your function is well defined  by calculating y(np.inf,10) and compared to the analytic result using a = 10.\n",
    "\n",
    "3. Use the interval x = np.linspace(0, 100, 100) to evaluate y(x,10)\n",
    "\n",
    "5. Plot your result. "
   ]
  },
  {
   "cell_type": "code",
   "execution_count": 11,
   "metadata": {},
   "outputs": [],
   "source": [
    "# Write your results here"
   ]
  },
  {
   "cell_type": "markdown",
   "metadata": {},
   "source": [
    "# double integral (dblquad)"
   ]
  },
  {
   "cell_type": "markdown",
   "metadata": {},
   "source": [
    "Higher dimensional integration is also possible to perform, in particular, two for two dimensions we have the  `scipy.integrate.dblquad` at hand. \n",
    "For instance,  the area of a circle in cartesian coordinates can be computed from the double integral\n",
    "\n",
    "$A = \\int_{x=-1}^{1} \\int_{y=-\\sqrt{1-x^2}}^{\\sqrt{1-x^2}} dy dx$\n",
    "\n",
    "\n",
    "To understand this further, lets rewrite the integral, to make the variables match with the [documentation](https://docs.scipy.org/doc/scipy/reference/reference/generated/scipy.integrate.dblquad.html#scipy.integrate.dblquad)\n",
    "\n",
    "$\\int_{x=a}^{b} \\int_{y=\\text{gfun}(x)}^{\\text{hfun}(x)} \\text{fun}(y,x) dy dx$\n",
    "\n",
    "where:\n",
    "\n",
    "$a = -1$  \n",
    "$b = 1$  \n",
    "$\\text{gfun}(x) = -\\sqrt{1-x^2}$  \n",
    "$\\text{hfun}(x) = \\sqrt{1-x^2}$  \n",
    "$\\text{fun}(y,x) = 1$\n",
    "\n",
    "Let's program this integral using our `dblquad` documentation "
   ]
  },
  {
   "cell_type": "code",
   "execution_count": 12,
   "metadata": {},
   "outputs": [
    {
     "data": {
      "text/plain": [
       "(3.141592653589797, 2.000471344132393e-09)"
      ]
     },
     "execution_count": 12,
     "metadata": {},
     "output_type": "execute_result"
    }
   ],
   "source": [
    "a = -1\n",
    "b = 1\n",
    "\n",
    "def gfun(x):\n",
    "    return -np.sqrt(1-x**2)\n",
    "\n",
    "def hfun(x):\n",
    "    return np.sqrt(1-x**2)\n",
    "\n",
    "def fun(y, x): # the order of the arguments is important\n",
    "    return 1\n",
    "\n",
    "\n",
    "integrate.dblquad(fun, a, b, gfun, hfun)"
   ]
  },
  {
   "cell_type": "markdown",
   "metadata": {},
   "source": [
    "And it is as easy as that! "
   ]
  },
  {
   "cell_type": "markdown",
   "metadata": {},
   "source": [
    "# Exercise 4\n",
    "\n",
    "Using the same approach, calculate the volume of a sphere in three dimensional euclidean space and use the function [tplquad](https://docs.scipy.org/doc/scipy/reference/reference/generated/scipy.integrate.tplquad.html#scipy.integrate.tplquad)"
   ]
  },
  {
   "cell_type": "code",
   "execution_count": 13,
   "metadata": {},
   "outputs": [],
   "source": [
    "# Write your code here"
   ]
  },
  {
   "cell_type": "markdown",
   "metadata": {},
   "source": [
    "# Interpolation (optional)\n",
    "\n",
    "Given two arrays with data points (y, x), we have precise values where the data points are recorded, but sometimes one wants an estimate of the values in between these data points. A process called interpolation helps us to do this. We will roughly outline interpolation and discuss it in detail in  Lecture 7. \n",
    "\n",
    "Let's say that we have the following data points:"
   ]
  },
  {
   "cell_type": "code",
   "execution_count": 14,
   "metadata": {},
   "outputs": [
    {
     "data": {
      "text/plain": [
       "<matplotlib.collections.PathCollection at 0x1f4729b8e20>"
      ]
     },
     "execution_count": 14,
     "metadata": {},
     "output_type": "execute_result"
    },
    {
     "data": {
      "image/png": "[encoded data removed]",
      "text/plain": [
       "<Figure size 432x288 with 1 Axes>"
      ]
     },
     "metadata": {
      "needs_background": "light"
     },
     "output_type": "display_data"
    }
   ],
   "source": [
    "x = np.linspace(0.0, 5, 5)\n",
    "\n",
    "y = x**2*np.exp(x)\n",
    "\n",
    "plt.scatter(x, y)"
   ]
  },
  {
   "cell_type": "markdown",
   "metadata": {},
   "source": [
    "Suppose we want to estimate y(3), but as you can see, a value of y at x=3 doesn't exist. The simplest estimate is a linear interpolation, which means drawing a straight line between the points. This can be done with the `scipy.interpolate.interp1d` function. "
   ]
  },
  {
   "cell_type": "code",
   "execution_count": 15,
   "metadata": {},
   "outputs": [
    {
     "data": {
      "text/plain": [
       "array(284.8654386)"
      ]
     },
     "execution_count": 15,
     "metadata": {},
     "output_type": "execute_result"
    }
   ],
   "source": [
    "import scipy.interpolate as interpolate\n",
    "\n",
    "y_linear = interpolate.interp1d(x, y)\n",
    "\n",
    "y_linear(3)"
   ]
  },
  {
   "cell_type": "markdown",
   "metadata": {},
   "source": [
    "[scipy.interpolate.interp1d](https://docs.scipy.org/doc/scipy/reference/generated/scipy.interpolate.interp1d.html#scipy.interpolate.interp1d) generates a function in the domain $(min(x), max(x))$ It easily can be understood by plotting it with a high point density, to see that it truly continuous."
   ]
  },
  {
   "cell_type": "code",
   "execution_count": 16,
   "metadata": {},
   "outputs": [
    {
     "data": {
      "text/plain": [
       "<matplotlib.collections.PathCollection at 0x1f472ac9bb0>"
      ]
     },
     "execution_count": 16,
     "metadata": {},
     "output_type": "execute_result"
    },
    {
     "data": {
      "image/png": "[encoded data removed]",
      "text/plain": [
       "<Figure size 432x288 with 1 Axes>"
      ]
     },
     "metadata": {
      "needs_background": "light"
     },
     "output_type": "display_data"
    }
   ],
   "source": [
    "x_high_density = np.linspace(0.0, 5, 50)\n",
    "\n",
    "plt.scatter(x_high_density, y_linear(x_high_density))"
   ]
  },
  {
   "cell_type": "markdown",
   "metadata": {},
   "source": [
    "There is also the possibility to use a quadratic formula for interpolation,to ensure, that the first derivative is also continuous. "
   ]
  },
  {
   "cell_type": "code",
   "execution_count": 17,
   "metadata": {},
   "outputs": [
    {
     "data": {
      "text/plain": [
       "<matplotlib.collections.PathCollection at 0x1f4729d8670>"
      ]
     },
     "execution_count": 17,
     "metadata": {},
     "output_type": "execute_result"
    },
    {
     "data": {
      "image/png": "[encoded data removed]",
      "text/plain": [
       "<Figure size 432x288 with 1 Axes>"
      ]
     },
     "metadata": {
      "needs_background": "light"
     },
     "output_type": "display_data"
    }
   ],
   "source": [
    "y_quadric = interpolate.interp1d(x, y, kind=2)\n",
    "\n",
    "x_high_density = np.linspace(0.0, 5, 50)\n",
    "\n",
    "plt.scatter(x_high_density, y_quadric(x_high_density))"
   ]
  },
  {
   "cell_type": "markdown",
   "metadata": {},
   "source": [
    "A nice little hack to know is, that if you function is bijective, you can calculate the inverse with the inverse interpolation. "
   ]
  },
  {
   "cell_type": "code",
   "execution_count": 18,
   "metadata": {},
   "outputs": [
    {
     "data": {
      "text/plain": [
       "<matplotlib.collections.PathCollection at 0x1f472b822e0>"
      ]
     },
     "execution_count": 18,
     "metadata": {},
     "output_type": "execute_result"
    },
    {
     "data": {
      "image/png": "[encoded data removed]",
      "text/plain": [
       "<Figure size 432x288 with 1 Axes>"
      ]
     },
     "metadata": {
      "needs_background": "light"
     },
     "output_type": "display_data"
    }
   ],
   "source": [
    "y_inverse_quadric = interpolate.interp1d(y, x, kind=1) # normally it is x, y\n",
    "\n",
    "x_inverse_high_density = np.linspace(y.min(), y.max(), 1000)\n",
    "\n",
    "plt.scatter(x_inverse_high_density, y_inverse_quadric(x_inverse_high_density))"
   ]
  },
  {
   "cell_type": "markdown",
   "metadata": {},
   "source": [
    "there exist also interpolations for 'cubic', 'nearest', etc. depending on the problem you like to solve. Normally you need to experiment a little, to find the one, which fit's the best. "
   ]
  }
 ],
 "metadata": {
  "interpreter": {
   "hash": "aee8b7b246df8f9039afb4144a1f6fd8d2ca17a180786b69acc140d282b71a49"
  },
  "kernelspec": {
   "display_name": "Python 3",
   "language": "python",
   "name": "python3"
  },
  "language_info": {
   "codemirror_mode": {
    "name": "ipython",
    "version": 3
   },
   "file_extension": ".py",
   "mimetype": "text/x-python",
   "name": "python",
   "nbconvert_exporter": "python",
   "pygments_lexer": "ipython3",
   "version": "3.8.3"
  }
 },
 "nbformat": 4,
 "nbformat_minor": 2
}
