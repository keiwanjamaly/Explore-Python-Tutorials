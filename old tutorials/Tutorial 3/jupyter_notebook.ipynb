{
 "cells": [
  {
   "cell_type": "markdown",
   "id": "e10eefe9",
   "metadata": {},
   "source": [
    "# Numerical differentiation and integration\n",
    "## Junior mentor\n",
    "Julia Lienert\n",
    "\n",
    "## Objectives\n",
    "1. Repetition of SciPy\n",
    "2. Learn about numerical differentiation and its usage in SciPy\n",
    "2. Learn about numerical integration and its usage in SciPy\n",
    "3. Transfer our new knowledge to real physics examples (exercise)\n",
    "\n",
    "## Repetition: SciPy\n",
    "SciPy is a collection of various helpful Python packages, such as NumPy, Matplotlib, and Pandas.\n",
    "It therefore assembles useful mathematical algorithms and convenient functions. Additionally, tools for data manipulation and visualization are included.\n",
    "\n",
    "The packages are included via:"
   ]
  },
  {
   "cell_type": "code",
   "execution_count": 1,
   "id": "24e3a40e",
   "metadata": {},
   "outputs": [],
   "source": [
    "# import useful packages (the last line is needed to show plots directly in Jupyter Notebook)\n",
    "import numpy as np\n",
    "import matplotlib.pyplot as plt\n",
    "%matplotlib inline"
   ]
  },
  {
   "cell_type": "markdown",
   "id": "173ba00b",
   "metadata": {},
   "source": [
    "## Numerical differentiation\n",
    "### Mathematical background\n",
    "Sometimes, it is not possible to calculate the derivative of a function analytically. This is the case when we have no knowledge of the function itself and only have access to some data points or if the analytic derivative simply does not exist. Then, the derivative at a given point needs to be calculated numerically. A descriptive explanation can be found [here](https://www.youtube.com/watch?v=zM2wim4JZd0).\n",
    "\n",
    "A function at the point $i$ is described by $x_i$ and $f_i = f(x_i)$. The neighbouring points are $i-1$ (to the left), given by $(x_{i-1},f_{i-1})$, and $i+1$ (to the right), given by $(x_{i+1},f_{i+1})$. The function at each of those points can be approximated by the respective Taylor series.\n",
    "\n",
    "\\begin{align}\n",
    "    f_{i-1} &= f_i - f'_i \\Delta x + f''_i \\frac{\\Delta x^2}{2} - f'''_i \\frac{\\Delta x^3}{6} + O(\\Delta x^4), \\quad \\Delta x = x_i - x_{i-1} \\\\\n",
    "    f_{i+1} &= f_i + f'_i \\Delta x + f''_i \\frac{\\Delta x^2}{2} + f'''_i \\frac{\\Delta x^3}{6} + O(\\Delta x^4), \\quad \\Delta x = x_{i+1} - x_i\n",
    "\\end{align}\n",
    "\n",
    "Note that the Taylor series of a function at the point $i-1$ is in general defined using $\\Delta x = x_{i-1} - x_i$. Since we want to use $\\Delta x = x_i - x_{i-1}$ here, the sign of the odd terms in the Taylor series changes. Also, keep in mind that the two $\\Delta x$ used above are not the same!\n",
    "\n",
    "\n",
    "By solving the two equations above for $f'_i$, we are able to derive two similar formulas for the derivative at the point $i$. This gives us the so-called backward derivative when using the formula for $f_{i-1}$,\n",
    "\n",
    "$$ f'_i = \\frac{f_i - f_{i-1}}{\\Delta x} + f''_i \\frac{\\Delta x}{2} - f'''_i \\frac{\\Delta x^2}{6} + O(\\Delta x^3), $$\n",
    "\n",
    "and the forward derivative when using the formula for $f_{i+1}$,\n",
    "\n",
    "$$ f'_i = \\frac{f_{i+1} - f_i}{\\Delta x} - f''_i \\frac{\\Delta x}{2} - f'''_i \\frac{\\Delta x^2}{6} + O(\\Delta x^3). $$\n",
    "\n",
    "As we do not know the values for $f''_i$ and $f'''_i$, these terms are neglected and both forward and backward derivative therefore have an error of $O(\\Delta x)$.\n",
    "\n",
    "To be able to calculate the derivative more accurately, $\\Delta x$ has to be chosen relatively small. Another way of improving the calculation is assuming $\\Delta x$ to be constant. We set $\\Delta x = h$ in that case and use a combination of forward and backward derivative. The so-called centered derivative is calculated by subtracting the formula for $f_{i-1}$ from the one for $f_{i+1}$.\n",
    "\n",
    "$$ f_{i+1} - f_{i-1} = 2h f'_i + f'''_i \\frac{h^3}{3} + O(h^4) $$\n",
    "\n",
    "From that follows\n",
    "\n",
    "$$ f'_i = \\frac{f_{i+1} - f_{i-1}}{2h} - f'''_i \\frac{h^2}{6} + O(h^4). $$\n",
    "\n",
    "We see that for the case of the centered derivative, the error of neglecting the term containing $f'''_i$ is of the order of $O(h^2)$ since we got rid off the $O(h)$ term.\n",
    "\n",
    "In conclusion, a numerical derivative at the point $i$ is in general given by\n",
    "\n",
    "$$ f'_i = \\frac{f_{i+1} - f_{i-1}}{2h}. $$\n",
    "\n",
    "Of course, further improvements can be made using higher orders of the Taylor series. An illustration of the forward, backward and centered derivative, here referred to as 'finite differences', is given below."
   ]
  },
  {
   "cell_type": "markdown",
   "id": "bb7eddd4",
   "metadata": {},
   "source": [
    "<img src=\"./Pictures/Numerical_differentiation.png\" width=\"700\" height=\"800\">\n",
    "\n",
    "source: https://csw.uobaghdad.edu.iq/wp-content/uploads/sites/30/2019/09/Chapter1-2-merged.pdf"
   ]
  },
  {
   "cell_type": "markdown",
   "id": "4cd86937",
   "metadata": {},
   "source": [
    "### Example usage (if a function is given)\n",
    "In SciPy included is the function [scipy.misc.derivative](https://docs.scipy.org/doc/scipy/reference/generated/scipy.misc.derivative.html) that directly computes the derivative of a given function. It uses the formula of the centered derivative and its syntax is the following\n",
    "\n",
    "$$ derivative(f, x, h), $$\n",
    "\n",
    "where $f$ is the given function, $x$ the point at which the derivative should be calculated and $h$ is a float for spacing (might be called $dx$ later)."
   ]
  },
  {
   "cell_type": "code",
   "execution_count": 2,
   "id": "03206e87",
   "metadata": {},
   "outputs": [
    {
     "name": "stdout",
     "output_type": "stream",
     "text": [
      "4.999999999921734\n"
     ]
    }
   ],
   "source": [
    "# include the function 'derivative' from SciPy\n",
    "from scipy.misc import derivative\n",
    "\n",
    "# define the function of which the derivative should be taken\n",
    "def test(x):\n",
    "\n",
    "    return x**3 + x**2\n",
    "\n",
    "# calculate the derivative, store the result of the calculation in the variable 'result' and print it\n",
    "result = derivative(test, 1.0, dx = 1e-6)\n",
    "print(result)"
   ]
  },
  {
   "cell_type": "markdown",
   "id": "a61a5fee",
   "metadata": {},
   "source": [
    "### Example usage (if only data points are given)\n",
    "For the case of not having a function but only data points given, the derivative at each point is calculated using the formula of the centered derivative. Since both the leftmost and rightmost point does not have two neighbouring points, their derivatives are calculated using the forward (for the leftmost point) and the backward (for the rightmost point) derivative.\n",
    "\n",
    "In NumPy included is the function [np.gradient](https://numpy.org/doc/stable/reference/generated/numpy.gradient.html) that does all of that if an array with data points is given. Its syntax is\n",
    "\n",
    "$$ gradient(f,h), $$\n",
    "\n",
    "where $f$ is the given array and $h$ the float for spacing.\n",
    "\n",
    "Notice that the NumPy functions for taking derivatives only work for data points given as arrays but not for specific functions. For the latter case, one has to use SciPy. On the other hand, NumPy is faster if the function is given as points on a grid."
   ]
  },
  {
   "cell_type": "code",
   "execution_count": 3,
   "id": "78623856",
   "metadata": {},
   "outputs": [
    {
     "data": {
      "image/png": "[encoded data removed]",
      "text/plain": [
       "<Figure size 432x288 with 1 Axes>"
      ]
     },
     "metadata": {
      "needs_background": "light"
     },
     "output_type": "display_data"
    }
   ],
   "source": [
    "# note: numpy and matplotlib are already included\n",
    "# create list of evenly spaced numbers\n",
    "a = np.linspace(0.0, 2.0*np.pi, 100)\n",
    "\n",
    "# save the spacing in the variable 'h'; since the numbers in 'a' are evenly spaced it doesn't matter which difference we use\n",
    "h = a[10] - a[9]\n",
    "\n",
    "# create array with the sine of that numbers\n",
    "b = np.sin(a)\n",
    "\n",
    "# calculate the derivatives of the points in 'b' using the spacing 'h' and store the results in the variable 'deriv_b'\n",
    "deriv_b = np.gradient(b, h)\n",
    "\n",
    "# plot the array 'b' and its derivative 'deriv_b'\n",
    "plt.plot(a/np.pi, b,       marker = 'o', color = 'red',  label = 'b (sin(a))')\n",
    "plt.plot(a/np.pi, deriv_b, marker = 'o', color = 'blue', label = 'deriv_b (cos(a))')\n",
    "plt.xlabel(r'a [$\\pi$]')\n",
    "plt.ylabel('b / deriv_b')\n",
    "plt.legend(loc = 'lower left', fontsize = 8)\n",
    "plt.show()\n",
    "\n",
    "# Note: As expected, 'b' shows the sine function and its derivative 'deriv_b' is the cosine!"
   ]
  },
  {
   "cell_type": "markdown",
   "id": "29250641",
   "metadata": {},
   "source": [
    "### Short exercise\n",
    "The purpose of this exercise is to give you a feeling of how numerical derivatives are calculated with Python.\n",
    "1. Calculate the derivative of the function $f(x) = x^4 - 4x^2 + 3x - 1$ at the point $x = 1.5$ both analytically (by hand + using your calculator) and numerically (using $h/dx = 0.1$ and $h/dx = 0.01$). Compare the results. What do you expect to change when using different values for $dx$?\n",
    "2. Calculate the derivative of the function $g(x) = 1/x$ at the point $x = 0.1$ both analytically (by hand + using your calculator) and numerically (using $h/dx = 0.1$). What happens?"
   ]
  },
  {
   "cell_type": "code",
   "execution_count": 4,
   "id": "5b822cbc",
   "metadata": {},
   "outputs": [
    {
     "name": "stdout",
     "output_type": "stream",
     "text": [
      "result_1 =  4.560000000000001 result_2 =  4.500600000000032\n"
     ]
    }
   ],
   "source": [
    "# solution to task 1\n",
    "\n",
    "# The analytical derivative is f'(x) = 4x**3 - 8x + 3 with f'(1.5) = 4.5.\n",
    "\n",
    "# define the function of which the derivative should be taken\n",
    "def f(x):\n",
    "\n",
    "    return x**4 - 4.0*x**2 + 3.0*x - 1.0\n",
    "\n",
    "# calculate the derivative, store the result of the calculation in the variable 'result' and print it\n",
    "result_1 = derivative(f, 1.5, dx = 0.1)\n",
    "result_2 = derivative(f, 1.5, dx = 0.01)\n",
    "print('result_1 = ',result_1, 'result_2 = ', result_2)"
   ]
  },
  {
   "cell_type": "code",
   "execution_count": 5,
   "id": "7f28279c",
   "metadata": {},
   "outputs": [],
   "source": [
    "# solution to task 2\n",
    "\n",
    "# The analytical derivative is g'(x) = -1/x**2 with g'(0.1) = -100.\n",
    "\n",
    "# define the function of which the derivative should be taken\n",
    "def g(x):\n",
    "\n",
    "    return 1/x\n",
    "\n",
    "# calculate the derivative, store the result of the calculation in the variable 'result' and print it\n",
    "#result = derivative(g, 0.1, dx = 0.1)\n",
    "#print(result)\n",
    "\n",
    "# With the spacing chosen, the output will be an error message. This is because we try to take the value g(0)!"
   ]
  },
  {
   "cell_type": "markdown",
   "id": "621fa2e5",
   "metadata": {},
   "source": [
    "### Physics exercise\n",
    "Let's consider a binary system of two compact objects, such as neutron stars or black holes. We assume them to be point-like and their orbit to be circular. The objects have the masses $m_1$ and $m_2$.\n",
    "\n",
    "A certain combination of the objects' masses is the so-called chirp mass.\n",
    "\n",
    "$$ M_{chirp} = \\frac{(m_1 m_2)^{3/5}}{(m_1 + m_2)^{1/5}} $$\n",
    "\n",
    "The chirp mass is related to the frequency of the gravitational wave $f_{GW}$ that is emitted by the binary system. Over time, the emission of gravitational waves leads to the loss of energy, which results in the objects to inspiral and finally merge. At the same time, the frequency of the gravitational waves increases.\n",
    "\n",
    "Its time derivative can be written as\n",
    "\n",
    "$$ \\frac{d f_{GW}}{dt} = \\frac{96}{5} \\pi^{8/3} \\left( \\frac{G M_{chirp}}{c^3} \\right)^{5/3} f_{GW}^{11/3}, $$\n",
    "\n",
    "where $G$ is the gravitational constant and $c$ the speed of light.\n",
    "\n",
    "#### Task\n",
    "Use the given data (the arrays for the time $t$ and amplitude $h_{plus}$ of the GW) from a gravitational wave signal. Extract the frequency in e.g. the range (200,200000) and compute its derivative numerically. Derive the chirp mass using the frequency, its derivative and the formula above.\n",
    "\n",
    "#### Instructions\n",
    "1. First, we want to define a function that finds the roots of the array h_plus. This can be done using linear interpolation. The idea behind that is the following: We extract those pairs of points of h_plus where the sign changes from one point of the pair to the other. Then, we know that there has to be a root between them. We interpolate from one point to the other linearly and calculate the root of the straight line we get. <br>\n",
    "    a) On a piece of paper: Set up the equation for a straight line of the form $f(x) = ax + b$, where $a$ and $b$ are defined via two given points $(x_1,y_1)$ and $(x_2,y_2)$. <br>\n",
    "    b) On a piece of paper: Calculate the root of the straight line by setting $f(x) = 0$ and solving for $x$. <br>\n",
    "    c) Define a function using the just derived formula for the root. <br>\n",
    "2. Find all roots of h_plus and store them in an array. <br>\n",
    "    a) Keep in mind that we do not need the whole range of values contained in h_plus. <br>\n",
    "    b) Using all roots means sign changes from positive to negative and the other way round. <br>\n",
    "3. Extract the frequencies and the corresponding times and store both values in an array, respectively. <br>\n",
    "    a) Keep in mind that the frequency is 1/(time difference between two consecutive roots) but since we saved all roots, this would be the freqency of only half of the wavelength! <br>\n",
    "    b) The time corresponding to the frequency is more accurate if we take the mean value of both times used for calculating the frequency. <br>\n",
    "4. Plot the frequency as a function of time. We see that it has a linear behaviour but with an additional underlying oscillation. To get better results, take only every thousandth point of the frequency and time arrays for the following calculations. <br>\n",
    "5. Calculate the numerical derivative of the truncated frequency using $np.gradient(freq_{trunc},time_{trunc})$ and store the result in a new array. <br>\n",
    "6. Define a function that calculates the chirp mass from the input parameters 'frequency' and 'frequency derivative'. <br>\n",
    "7. Loop over all pairs of (frequency, frequency derivative) to calculate the respective values for the chirp mass. Store the results in an array. <br>\n",
    "8. Calculate the final result for the chirp mass as the mean value of the before created array and compare it to the value of 'm_chirp' defined in the code below. Both values should be similar."
   ]
  },
  {
   "cell_type": "code",
   "execution_count": 6,
   "id": "9b0be560",
   "metadata": {},
   "outputs": [
    {
     "data": {
      "image/png": "[encoded data removed]",
      "text/plain": [
       "<Figure size 432x288 with 1 Axes>"
      ]
     },
     "metadata": {
      "needs_background": "light"
     },
     "output_type": "display_data"
    }
   ],
   "source": [
    "# This code gives us the data of the GW signal! We'll need the arrays 't' and 'h_plus'!\n",
    "# define necessary constants\n",
    "G = 1.3274648756e11  # km^3/s^2 /M_sun\n",
    "c = 2.99792458e5     # km/s\n",
    "\n",
    "# initialize parameters\n",
    "m_1   = 1.4          # mass of first merging object (in M_sun)\n",
    "m_2   = 1.4          # mass of second merging object (in M_sun)\n",
    "d     = 3.086e16     # distance to merger, corresponds to 1 kpc (in km)\n",
    "R_0   = 1e3          # initial orbital radius (in km)\n",
    "f_min = 100          # minimum observable frequency of LIGO (in Hz)\n",
    "\n",
    "# chirp mass of the system (used for later cross check)\n",
    "m_chirp = ((m_1*m_2)**(3.0/5.0))/((m_1 + m_2)**(1.0/5.0))\n",
    "\n",
    "# time until coalescense (idealized of course)\n",
    "t_coal = (5.0/256.0)*(c**5.0)*((R_0**4.0)/((G**3.0)*m_1*m_2*(m_1 + m_2)))\n",
    "\n",
    "# create array with time steps\n",
    "t = np.arange(0.0, t_coal, step = 1.0/f_min)\n",
    "\n",
    "# calculate phase of GW\n",
    "phase = - 2.0*(((5.0*G*m_chirp)/(c**3.0))**(-5.0/8.0))*((t_coal - t)**(5.0/8.0))\n",
    "phase -= phase[0]\n",
    "\n",
    "# calculate amplitude of GW\n",
    "h_plus = (4.0/d)*(((G*m_chirp)/(c**2.0))**(5.0/4.0))*((5.0/(t_coal - t))**(1.0/4.0))*np.cos(phase)\n",
    "\n",
    "# plot the GW signal\n",
    "plt.plot(t, h_plus, color = 'red', label = r'$h_+$')\n",
    "plt.xlabel(r'time $t$ [s]')\n",
    "plt.ylabel(r'amplitude $h_+$')\n",
    "plt.xscale('log')\n",
    "plt.legend(loc = 'lower left', fontsize = 8)\n",
    "plt.show()"
   ]
  },
  {
   "cell_type": "code",
   "execution_count": 7,
   "id": "83c87c6b",
   "metadata": {},
   "outputs": [
    {
     "data": {
      "image/png": "[encoded data removed]",
      "text/plain": [
       "<Figure size 432x288 with 1 Axes>"
      ]
     },
     "metadata": {
      "needs_background": "light"
     },
     "output_type": "display_data"
    },
    {
     "name": "stdout",
     "output_type": "stream",
     "text": [
      "Chirp mass from GW signal (in solar masses):     1.2206251195560953\n",
      "Chirp mass cross check value (in solar masses):  1.2187707886145736\n"
     ]
    }
   ],
   "source": [
    "# solution to physics exercise\n",
    "# define function that interpolates linearly between two points and calculates the root of the interpolated line\n",
    "def find_root(x_1,x_2,y_1,y_2):\n",
    "    \n",
    "    return (y_1*x_2 - y_2*x_1)/(y_1 - y_2)\n",
    "\n",
    "# find all pairs of points in h_plus where values of h_plus change sign (there has to be a root)\n",
    "roots_h = []\n",
    "for i in range(200,20000):\n",
    "    if (h_plus[i] < 0 and h_plus[i+1] > 0) or (h_plus[i] > 0 and h_plus[i+1] < 0):\n",
    "        roots_h.append(find_root(t[i],t[i+1],h_plus[i],h_plus[i+1]))\n",
    "\n",
    "# extract the frequency as 1/(time difference between two consecutive roots)\n",
    "# extract time that belongs to frequency as mean value between two consecutive roots\n",
    "freq = []\n",
    "time = []\n",
    "for i in range(len(roots_h)):\n",
    "    if i == 0:\n",
    "        continue\n",
    "    else:\n",
    "        freq.append(1.0/(roots_h[i] - roots_h[i-1]))\n",
    "        time.append((roots_h[i] + roots_h[i-1])/2.0)\n",
    "\n",
    "# two consecutive roots = half of the wave -> to get frequency of total wave, we have to divide by two\n",
    "freq = np.array(freq)/2.0\n",
    "\n",
    "# plot the frequency as a function of time\n",
    "plt.plot(time, freq)\n",
    "plt.xlabel(r'time $t$ [s]')\n",
    "plt.ylabel(r'frequency $f_{GW}$ [Hz]')\n",
    "plt.show()\n",
    "\n",
    "# plot shows linear behaviour of frequency but with underlying oscillation -> smoothen values by truncating them\n",
    "freq_trunc = freq[::1000]\n",
    "time_trunc = time[::1000]\n",
    "\n",
    "# calculate the derivative of the frequency\n",
    "deriv_freq = np.gradient(freq_trunc, time_trunc)\n",
    "\n",
    "# define a function that calculates the chirp mass\n",
    "def chirp_mass(f,f_dot):\n",
    "    M_chirp = ((c**3.0)/G)*(((5.0*f_dot)/(96.0*(np.pi**(8.0/3.0))*(f**(11.0/3.0))))**(3.0/5.0))\n",
    "    \n",
    "    return M_chirp\n",
    "\n",
    "# loop over pair of frequency + its derivative, calculate chirp mass from that tuple\n",
    "chirp_mass_arr = []\n",
    "for f,f_dot in zip(freq_trunc, deriv_freq):\n",
    "    chirp_mass_arr.append(chirp_mass(f,f_dot))\n",
    "\n",
    "# calculate resulting chirp mass as mean value of chirp_mass_arr\n",
    "chirp_mass_result = np.mean(chirp_mass_arr)\n",
    "\n",
    "# print the result of the calculation and the real value of the chirp mass\n",
    "print('Chirp mass from GW signal (in solar masses):    ',chirp_mass_result)\n",
    "print('Chirp mass cross check value (in solar masses): ',m_chirp)"
   ]
  },
  {
   "cell_type": "markdown",
   "id": "cb96bd30",
   "metadata": {},
   "source": [
    "## Numerical integration\n",
    "### Mathematical background\n",
    "As it was the case for differentiation, sometimes, analytic solutions to integrals do not exist or the exact function is unknown (only data points are given). Then, numerical integration comes into play. Different methods exist to calculate the area underneath a function/set of data points numerically. Some of them will be discussed in the following. For a descriptive explanation, check [this video](https://www.youtube.com/watch?v=WxGIgWOiVx8) (you can skip the part on multiple integrals) and the PDF slides of topic 6 on [this webpage](https://empossible.net/academics/emp4301_5301/) (topic 6 also includes material on finite difference methods and numerical differentiation).\n",
    "\n",
    "The problem setup is always to calculate the integral $\\int_a^b f(x) \\, dx$, i.e. the area underneath the curve of the function $f(x)$ from point $a$ to point $b$.\n",
    "\n",
    "#### Riemann sum\n",
    "The Riemann sum divides the interval $[a,b]$ of the finite integral into descrete steps. The area that needs to be calculated is then approximated by rectangles, all of them having the same width $\\Delta x$. This breaks down the integral into a sum,\n",
    "\n",
    "$$ \\int_a^b f(x) \\, dx \\approx \\sum_{i=1}^N f(x_i) \\Delta x = \\Delta x \\sum_{i=1}^N f(x_i), $$\n",
    "\n",
    "where $f(x_i)$ is the function/data point value at the point $x_i$.\n",
    "\n",
    "There are three possibilities for choosing the points $x_i$, one can either always use the ones on the left hand-sides of the rectangles, the middle points or the ones on the right hand-sides of the rectangles, as shown below. Depending on which of those is chosen, the position of $x_1$ and $x_N$ with regard to $a$ and $b$ changes.\n",
    "1. left-hand Riemann sum: $a = x_1$, $b$ is not included, $x_N$ is therefore $\\Delta x$ left of $b$\n",
    "2. centered Riemann sum: $a$ and $b$ are not included, $x_1$ is $\\Delta x/2$ right of $a$ and $x_N$ is $\\Delta x/2$ left of $b$\n",
    "3. right-hand Riemann sum: $a$ is not included, $x_1$ is therefore $\\Delta x$ right of $a$, $b = x_N$\n",
    "\n",
    "All the possibilities listed above have similar errors coming from the gaps between the true curve and the rectangles. The accuracy can be improved by reducing $\\Delta x$ or by employing a different numerical integration method."
   ]
  },
  {
   "cell_type": "markdown",
   "id": "cd091e23",
   "metadata": {},
   "source": [
    "<img src=\"./Pictures/Riemann_sum.png\" width=\"300\" height=\"500\">\n",
    "\n",
    "source: https://empossible.net/wp-content/uploads/2020/09/Lecture-Introduction-and-Discrete-Integration.pdf"
   ]
  },
  {
   "cell_type": "markdown",
   "id": "2987157a",
   "metadata": {},
   "source": [
    "#### Trapezoidal approximation\n",
    "Using trapezoids instead of rectangles approximates the area underneath the curve $f(x)$ a bit better. Notice that in this case, both $a$ and $b$ are needed. They are set to $a = x_1$ and $b = x_{N+1}$, the remaining points $x_i$ are distributed evenly between starting and end point.\n",
    "\n",
    "The area of one trapezoid is given by\n",
    "\n",
    "$$ A = A_{triangle} + A_{rectangle} = \\frac{1}{2} (x_{i+1} - x_i) (f_{i+1} - f_i) + (x_{i+1} - x_i) f_i = \\Delta x \\, \\frac{f_i + f_{i+1}}{2}. $$\n",
    "\n",
    "The integral is then approximated by\n",
    "\n",
    "$$ \\int_a^b f(x) \\, dx \\approx \\frac{\\Delta x}{2} \\sum_{i=1}^N f_i + f_{i+1}. $$\n",
    "\n",
    "Notice that the first trapezoid has its left border at $a = x_1$, whereas the left border of the last trapezoid is at $x_N$, which is not equal to $b$. Nonetheless, the point $b = x_{N+1}$ is needed for calculating its area."
   ]
  },
  {
   "cell_type": "markdown",
   "id": "acd8b030",
   "metadata": {},
   "source": [
    "<img src=\"./Pictures/Trapezoidal_approximation.png\" width=\"300\" height=\"500\">\n",
    "\n",
    "source: https://empossible.net/wp-content/uploads/2020/09/Lecture-Trapezoidal-Integration.pdf"
   ]
  },
  {
   "cell_type": "markdown",
   "id": "912f8476",
   "metadata": {},
   "source": [
    "#### Simpson's rule\n",
    "Simpson's rule uses three or more adjacent points for calculating the desired integral. Instead of fitting rectangles or trapezoids underneath the curve of $f(x)$ to approximate the area, we now fit rectangles with a polynomial-like head.\n",
    "\n",
    "Using three adjacent points, the first step is to fit them to a polynomial of the form $f(x) = a_0 + a_1 x + a_2 x^2$. The points are given as $(-\\Delta x, f_1)$, $(0, f_2)$ and $(\\Delta x, f_3)$, where the x-axis was chosen to be at the position of the midpoint (it can be chosen freely). Substituting them into the polynomial leads to the following three equations.\n",
    "\n",
    "\\begin{align}\n",
    "    f_1 &= a_0 - a_1 \\Delta x + a_2 \\Delta x^2 \\\\\n",
    "    f_2 &= a_0 \\\\\n",
    "    f_3 &= a_0 + a_1 \\Delta x + a_2 \\Delta x^2\n",
    "\\end{align}\n",
    "\n",
    "Solving the equations above for the coefficients of the polynomial, $a_i$, leads to\n",
    "\n",
    "\\begin{align}\n",
    "    a_0 &= f_2, \\\\\n",
    "    a_1 &= \\frac{f_3 - f_1}{2 \\Delta x}, \\\\\n",
    "    a_2 &= \\frac{f_1 - 2 f_2 + f_3}{2 \\Delta x^2}.\n",
    "\\end{align}\n",
    "\n",
    "The polynomial can now be integrated from $- \\Delta x$ to $\\Delta x$.\n",
    "\n",
    "\\begin{align}\n",
    "    \\int_{- \\Delta x}^{\\Delta x} f(x) \\, dx &= \\int_{- \\Delta x}^{\\Delta x} a_0 + a_1 x + a_2 x^2 \\, dx = \\left[ a_0 x + \\frac{1}{2} a_1 x^2 + \\frac{1}{3} a_2 x^3 \\right]_{- \\Delta x}^{\\Delta x} = 2 a_0 \\Delta x + \\frac{2}{3} a_2 \\Delta x^3 \\\\\n",
    "    &= 2 f_2 \\Delta x + \\frac{2}{3} \\frac{f_1 - 2 f_2 + f_3}{2 \\Delta x^2} \\Delta x^3 = 2 f_2 \\Delta x + \\frac{1}{3} (f_1 - 2 f_2 + f_3) \\Delta x = \\frac{1}{3} \\Delta x (f_1 + 4 f_2 + f_3)\n",
    "\\end{align}\n",
    "\n",
    "Repeating this procedure and adding up all integrals gives us the approximation of our originally desired integral. The general fomula is given by\n",
    "\n",
    "$$ \\int_a^b f(x) \\, dx \\approx \\frac{\\Delta x}{3} \\sum_{i=1}^N f_i + 4 f_{i+1} + f_{i+2}. $$\n",
    "\n",
    "Notice that the first sub-area has its left border at $a = x_1$, whereas the left border of the last sub-area is at $x_N$, which is not equal to $b$. Nonetheless, the point $b = x_{N+2}$ is needed for calculating its area."
   ]
  },
  {
   "cell_type": "markdown",
   "id": "33ba45ba",
   "metadata": {},
   "source": [
    "<img src=\"./Pictures/Simpsons_rule.png\" width=\"500\" height=\"700\">\n",
    "\n",
    "source: https://www.youtube.com/watch?v=WxGIgWOiVx8"
   ]
  },
  {
   "cell_type": "markdown",
   "id": "7ab3c3c4",
   "metadata": {},
   "source": [
    "### Example usage in SciPy\n",
    "In SciPy included is the sub-package [scipy.integrate](https://docs.scipy.org/doc/scipy/reference/tutorial/integrate.html) that directly computes the finite integral of a given function/set of data points. Several different integration methods are available. Additionally, ordinary differential equations can be solved.\n",
    "\n",
    "In the case an analytic expression of the form $f(x,c,d)$ ($c$ and $d$ are additional parameters) for the integrand is given, we can use the function [scipy.integrate.quad](https://docs.scipy.org/doc/scipy/reference/generated/scipy.integrate.quad.html). Its syntax is the following\n",
    "\n",
    "$$ quad(f, a, b, args = (c,d)), $$\n",
    "\n",
    "where $f$ is the analytic expression we would like to integrate and $a$ and $b$ are the lower and upper bound, respectively. Those can take values of positive and negative infinity. If the function has additional parameters, they can be specified via the input $args$.\n",
    "\n",
    "The returned output consists of two values, the first one being the solution to the integral and the second one being an upper bound on the error."
   ]
  },
  {
   "cell_type": "code",
   "execution_count": 8,
   "id": "24c47cd5",
   "metadata": {},
   "outputs": [
    {
     "name": "stdout",
     "output_type": "stream",
     "text": [
      "(2.0, 2.220446049250313e-14)\n"
     ]
    }
   ],
   "source": [
    "# include the sub-package for integration from SciPy\n",
    "import scipy.integrate as integrate\n",
    "\n",
    "# define the function of which the integral should be taken\n",
    "def integrand_1(x):\n",
    "\n",
    "    return np.sin(x)\n",
    "\n",
    "# calculate the integral, store the result of the calculation in the variable 'result' and print it\n",
    "result = integrate.quad(integrand_1, 0.0, np.pi)\n",
    "print(result)\n",
    "\n",
    "# We know that the analytical result of this calculation is 2!"
   ]
  },
  {
   "cell_type": "markdown",
   "id": "c1acc528",
   "metadata": {},
   "source": [
    "If only a set of data points is given, we can either use [scipy.integrate.trapezoid](https://docs.scipy.org/doc/scipy/reference/generated/scipy.integrate.trapezoid.html) or [scipy.integrate.simpson](https://docs.scipy.org/doc/scipy/reference/generated/scipy.integrate.simpson.html) to calculate the desired area. The syntax of the two functions is similar.\n",
    "\n",
    "$$ trapezoid/simpson(y, x = None, dx = 1.0) $$\n",
    "\n",
    "The first parameter $y$ is an input array that should be integrated. $x$ is an array containing the sample points corresponding to the $y$ values. If $x$ is 'None', the sample points are assumed to be evenly spaced $dx$ apart. The default value is 'None'. The spacing between the sample is given by $dx$ when $x$ is 'None'. The default value is $1.0$.\n"
   ]
  },
  {
   "cell_type": "code",
   "execution_count": 9,
   "id": "405a5817",
   "metadata": {},
   "outputs": [
    {
     "name": "stdout",
     "output_type": "stream",
     "text": [
      "result_1 =  1.8961188979370398 result_2 =  2.0045597549844207\n"
     ]
    }
   ],
   "source": [
    "# create an array with data points of the sine function\n",
    "a = np.linspace(0.0, np.pi, 5)\n",
    "b = np.sin(a)\n",
    "\n",
    "# calculate the integral using the trapezoidal approximation, store the result of the calculation in the variable 'result_1'\n",
    "result_1 = integrate.trapezoid(b, a)\n",
    "\n",
    "# calculate the integral using Simpson's rule, store the result of the calculation in the variable 'result_2'\n",
    "result_2 = integrate.simpson(b, a)\n",
    "\n",
    "# print both results\n",
    "print('result_1 = ', result_1, 'result_2 = ', result_2)\n",
    "\n",
    "# We know that the analytical result of this calculation is 2!"
   ]
  },
  {
   "cell_type": "markdown",
   "id": "95b954cf",
   "metadata": {},
   "source": [
    "### Short exercise\n",
    "The purpose of this exercise is to give you a feeling of how integrals are calculated numerically with Python.\n",
    "\n",
    "Repeat the calculations above using the cosine function. Compare your results for the integral $\\int_{0}^{\\pi} cos(x) \\, dx$ for the three different functions scipy.integrate.quad, scipy.integrate.trapezoid and scipy.integrate.simpson (use only three data points for the last two functions)."
   ]
  },
  {
   "cell_type": "code",
   "execution_count": 10,
   "id": "b14dca62",
   "metadata": {},
   "outputs": [
    {
     "name": "stdout",
     "output_type": "stream",
     "text": [
      "Result from scipy.integrate.quad:       (4.9225526349740854e-17, 2.2102239425853306e-14)\n",
      "Result from scipy.integrate.trapezoid:  1.1102230246251565e-16\n",
      "Result from scipy.integrate.simpson:    1.1626228326695438e-16\n"
     ]
    }
   ],
   "source": [
    "# solution part 1\n",
    "# define the function of which the integral should be taken\n",
    "def integrand_2(x):\n",
    "\n",
    "    return np.cos(x)\n",
    "\n",
    "# calculate the integral, store the result of the calculation in the variable 'result_1'\n",
    "result_1 = integrate.quad(integrand_2, 0.0, np.pi)\n",
    "\n",
    "\n",
    "# solution part 2\n",
    "# create an array with data points of the cosine function\n",
    "a = np.linspace(0.0, np.pi, 3)\n",
    "b = np.cos(a)\n",
    "\n",
    "# calculate the integral using the trapezoidal approximation, store the result of the calculation in the variable 'result_2'\n",
    "result_2 = integrate.trapezoid(b, a)\n",
    "\n",
    "# calculate the integral using Simpson's rule, store the result of the calculation in the variable 'result_3'\n",
    "result_3 = integrate.simpson(b, a)\n",
    "\n",
    "\n",
    "# print all results in comparison\n",
    "print('Result from scipy.integrate.quad:      ', result_1)\n",
    "print('Result from scipy.integrate.trapezoid: ', result_2)\n",
    "print('Result from scipy.integrate.simpson:   ', result_3)\n",
    "\n",
    "\n",
    "# We know that the analytical result of this calculation is 0!"
   ]
  },
  {
   "cell_type": "markdown",
   "id": "f2e3b113",
   "metadata": {},
   "source": [
    "### Physics exercise\n",
    "As we have already learned before, the NFW profile describes the dark matter density $\\rho(r)$ as a function of radius in a dark matter halo.\n",
    "\n",
    "$$ \\rho(r) = \\frac{\\rho_s}{\\frac{r}{r_s} \\, \\left( 1 + \\frac{r}{r_s} \\right)^2} $$\n",
    "\n",
    "We can compute the amount of dark matter enclosed in the radius $R_{max}$ by solving the following integral.\n",
    "\n",
    "$$ M = \\int_0^{R_{max}} 4 \\pi r^2 \\rho(r) \\, dr = 4 \\pi \\rho_s r_s^3 \\left[ \\ln \\left( \\frac{r_s + R_{max}}{r_s} \\right) + \\frac{r_s}{r_s + R_{max}} - 1 \\right] $$\n",
    "\n",
    "We already see that the integral has an analytic solution. Nevertheless, we want to compute it numerically in the following to get used to doing numeric integrations.\n",
    "\n",
    "#### Task\n",
    "Compute the mass of the dark matter halo of a dwarf galaxy (parameters: $\\rho_s = 1.28 \\cdot 10^7 \\, M_{\\odot}/kpc^3$, $r_s = 6.5 \\, kpc$, $R_{max} = 7 \\, kpc$) numerically and analytically. Compare your results. Now, compute the mass as a function of $R_{max} = [0.1 \\, kpc,10 \\, kpc]$ ($R_{max}$ is a free parameter now) and plot it logarithmically.\n",
    "\n",
    "#### Instructions (for $R_{max}$ fixed)\n",
    "1. Define a function for the NFW profile (make sure to put the integration parameter first). It should have the input parameters $r$, $\\rho_s$ and $r_s$.\n",
    "2. Define a function for the integrand of the mass integral (make sure to put the integration parameter first). You can include $\\rho(r,\\rho_s,s_s)$ but notice that the order of the parameters should be the same as defined before.\n",
    "3. Specify the parameters $\\rho_s$, $r_s$ and $R_{max}$ with the given values.\n",
    "4. Calculate the integral numerically using $scipy.integrate.quad$ and store the result in a variable. The syntax will look similar to $result_{num} = integrate.quad(integrand, start, stop, args = (\\rho_s,r_s))$.\n",
    "5. Define a function of the form $f(\\rho_s,r_s,R_{max})$ for the analytic solution of the mass integral using the formula above.\n",
    "6. Calculate the analytic solution using your defined function and store the result in a variable.\n",
    "7. Print your results and compare the numeric to the analytic one.\n",
    "\n",
    "#### Instructions (for $R_{max}$ variable)\n",
    "1. Notice that you can reuse the function for the NFW profile, the function for the integrand of the mass integral and the parameters $\\rho_s$ and $r_s$.\n",
    "2. Define a function with only one variable $f(R_{max})$. It should return the result of the numerical calculation of the integral (which is the mass of the dark matter halo). Make sure that it returns only the result of the calculation without the error.\n",
    "3. Create an array for the values of $R_{max}$.\n",
    "4. Loop over the values in that array, calculate for each value the corresponding mass and store it in another array.\n",
    "5. Plot the mass versus $R_{max}$ using logarithmic scales for both axes."
   ]
  },
  {
   "cell_type": "code",
   "execution_count": 11,
   "id": "11f08caa",
   "metadata": {},
   "outputs": [
    {
     "name": "stdout",
     "output_type": "stream",
     "text": [
      "The result of the numeric calculation is:  9.381040e+09\n",
      "The result of the analytic calculation is: 9.381040e+09\n"
     ]
    }
   ],
   "source": [
    "# solution to physics exercise (R_max fixed)\n",
    "# part 1: calculate the mass of the dark matter halo numerically\n",
    "# define function for NFW profile\n",
    "def rho(r,rho_s,r_s):\n",
    "\n",
    "    return (rho_s*r_s)/(r*(1.0 + r/r_s)**2.0)\n",
    "\n",
    "# define function for integrand of mass integral\n",
    "def mass_integrand(r,rho_s,r_s):\n",
    "    \n",
    "    return 4.0*np.pi*r**2.0*rho(r,rho_s,r_s)\n",
    "\n",
    "# specify necessary parameters\n",
    "rho_s = 1.28*10.0**7.0    # in solar masses/kpc^3\n",
    "r_s   = 6.5               # in kpc\n",
    "R_max = 7.0               # in kpc\n",
    "\n",
    "# calculate the numeric solution\n",
    "dm_mass_num = integrate.quad(mass_integrand, 0.0, R_max, args = (rho_s,r_s))\n",
    "\n",
    "\n",
    "# part 2: calculate the mass of the dark matter halo analytically\n",
    "# define function for analytic solution of mass integral\n",
    "def analytic_solution(rho_s,r_s,R_max):\n",
    "    \n",
    "    return 4.0*np.pi*rho_s*(r_s**3.0)*(np.log((r_s + R_max)/r_s) + r_s/(r_s + R_max) - 1.0)\n",
    "\n",
    "# calculate the analytic solution\n",
    "dm_mass_ana = analytic_solution(rho_s,r_s,R_max)\n",
    "\n",
    "# print the solutions to compare them\n",
    "print('The result of the numeric calculation is:  {:e}'.format(dm_mass_num[0]))\n",
    "print('The result of the analytic calculation is: {:e}'.format(dm_mass_ana))"
   ]
  },
  {
   "cell_type": "code",
   "execution_count": 13,
   "id": "a654e558",
   "metadata": {},
   "outputs": [
    {
     "data": {
      "image/png": "[encoded data removed]",
      "text/plain": [
       "<Figure size 432x288 with 1 Axes>"
      ]
     },
     "metadata": {
      "needs_background": "light"
     },
     "output_type": "display_data"
    }
   ],
   "source": [
    "# solution to physics exercise (R_max variable)\n",
    "# define function that calculates mass of dark matter halo for given R_max value\n",
    "def calc_mass(R_max):\n",
    "    \n",
    "    return integrate.quad(mass_integrand, 0.0, R_max, args = (rho_s,r_s))[0]\n",
    "\n",
    "# create an array with values for R_max (in kpc)\n",
    "R_max_arr = np.linspace(0.1, 10.0, 50)\n",
    "\n",
    "# loop over values of R_max and store corresponding mass in array\n",
    "mass_arr = []\n",
    "for value in R_max_arr:\n",
    "    mass_arr.append(calc_mass(value))\n",
    "\n",
    "# plot mass of dark matter halo as a function of R_max\n",
    "plt.plot(R_max_arr, mass_arr, color = 'red')\n",
    "plt.xlabel(r'$R_{max}$ [kpc]')\n",
    "plt.ylabel(r'mass of the dark matter halo $m_{DMH}$ [M$_{\\odot}$]')\n",
    "plt.xscale('log')\n",
    "plt.yscale('log')\n",
    "plt.show()"
   ]
  },
  {
   "cell_type": "code",
   "execution_count": null,
   "id": "b1f975d9",
   "metadata": {},
   "outputs": [],
   "source": []
  }
 ],
 "metadata": {
  "kernelspec": {
   "display_name": "Python 3",
   "language": "python",
   "name": "python3"
  },
  "language_info": {
   "codemirror_mode": {
    "name": "ipython",
    "version": 3
   },
   "file_extension": ".py",
   "mimetype": "text/x-python",
   "name": "python",
   "nbconvert_exporter": "python",
   "pygments_lexer": "ipython3",
   "version": "3.8.8"
  }
 },
 "nbformat": 4,
 "nbformat_minor": 5
}
