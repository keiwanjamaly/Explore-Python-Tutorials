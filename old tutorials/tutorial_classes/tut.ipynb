{
 "cells": [
  {
   "cell_type": "markdown",
   "metadata": {},
   "source": [
    "# An Introduction to classes"
   ]
  },
  {
   "cell_type": "markdown",
   "metadata": {},
   "source": [
    "### But first: Namespaces and Scopes\n",
    "#### Namespaces\n",
    "Formally, a *namespace* is a mapping from names to objects. When you type the name of a function or variable, the python interpreter has to map that string to the corresponding object. Depending on the namespace, the same name can lead to different objects. For example, there is the namespace of built-in functions, such as *abs*() and *max*(). There is also a namespace for included libraries, and one for each function invocation.\n",
    "Some examples of the same name being resolved differently depending on the namespace:"
   ]
  },
  {
   "cell_type": "code",
   "execution_count": null,
   "metadata": {},
   "outputs": [],
   "source": [
    "import numpy\n",
    "\n",
    "\n",
    "print(abs(-1))       # This is the built-in abs function\n",
    "print(numpy.abs(-1)) # This is the abs function from the numpy package\n",
    "                     # The functions do effectively the same, but are different implementations\n",
    "print(numpy.abs == numpy.abs)\n",
    "print(numpy.abs == abs)\n",
    "\n",
    "# You can also see this for the max functions \n",
    "print(max(5, 10))\n",
    "print(numpy.max([5, 10]))           # Here the argument list is different"
   ]
  },
  {
   "cell_type": "markdown",
   "metadata": {},
   "source": [
    "There is no relation between names in different namespaces! You can have two functions with the same name but in different namespaces do completely different things."
   ]
  },
  {
   "cell_type": "markdown",
   "metadata": {},
   "source": [
    "There are 4 types of namespaces:\n",
    "- Built-In\n",
    "- Global\n",
    "- Enclosing\n",
    "- Local\n",
    "\n",
    "When the execution encounters a name, the namespaces are searched from *bottom to top* in this list until a name can be resolved.\n",
    "\n",
    "##### Built-in\n",
    "The first type of namespace was already shown in the example above. There are built-in functions that are available at all times and can be shown like this"
   ]
  },
  {
   "cell_type": "code",
   "execution_count": null,
   "metadata": {
    "scrolled": false
   },
   "outputs": [],
   "source": [
    "dir(__builtins__)"
   ]
  },
  {
   "cell_type": "markdown",
   "metadata": {},
   "source": [
    "##### Global\n",
    "The global namespace is created at the start of any program and contains all names defined at the level of the main program. This is where the user can come in and define functions"
   ]
  },
  {
   "cell_type": "code",
   "execution_count": null,
   "metadata": {},
   "outputs": [],
   "source": [
    "def max(a, b):\n",
    "    return \"moritz\"\n",
    "\n",
    "print(max(5, 10)) # Herethe max function in the global namespace is found first\n",
    "                 # and the Built-in namespace is not searched in "
   ]
  },
  {
   "cell_type": "markdown",
   "metadata": {},
   "source": [
    "The interpreter also creates namespaces for all modules that are imported, such as *numpy* in the example above. \n",
    "When importing modules, the names can also be made available at the global namespace of the program like this"
   ]
  },
  {
   "cell_type": "code",
   "execution_count": null,
   "metadata": {},
   "outputs": [],
   "source": [
    "from numpy import max\n",
    "max([5, 10])\n",
    "#max(5, 10)  # fails, as the built-in namespace is only searched if the global namespace doesn't find the name"
   ]
  },
  {
   "cell_type": "markdown",
   "metadata": {},
   "source": [
    "##### Local and Enclosing\n",
    "Every function has their own namespace associated with it. The local namespace is created when the function is executed and 'forgotten' afterwards."
   ]
  },
  {
   "cell_type": "code",
   "execution_count": null,
   "metadata": {},
   "outputs": [],
   "source": [
    "a = 5.         # Defines a new variable called a at the global level\n",
    "\n",
    "def foo():\n",
    "    a = 10.    # Defines a new variable called a at the local level, unrelated to the global namespace\n",
    "    b = -1\n",
    "    print(a)   # The a from the local namespace is found first and printed\n",
    "    print(b)   \n",
    "\n",
    "\n",
    "foo()\n",
    "print(a)    # The a from the global namespace is found and printed\n",
    "#print(b)   # fails as there is no b in the global namespace"
   ]
  },
  {
   "cell_type": "markdown",
   "metadata": {},
   "source": [
    "Observe the difference to this construction"
   ]
  },
  {
   "cell_type": "code",
   "execution_count": null,
   "metadata": {},
   "outputs": [],
   "source": [
    "a = 5.         # Defines a new variable called a at the global level\n",
    "\n",
    "def foo():\n",
    "    print(a)   # The a from the global namespace is found and printed\n",
    "\n",
    "foo()\n",
    "print(a)    # The a from the global namespace is found and printed"
   ]
  },
  {
   "cell_type": "markdown",
   "metadata": {},
   "source": [
    "If you want to modify a variable from the global namespace, you can specify that you want to use this variable with the *global* keyword"
   ]
  },
  {
   "cell_type": "code",
   "execution_count": null,
   "metadata": {},
   "outputs": [],
   "source": [
    "a = 5.         # Defines a new variable called a at the global level\n",
    "\n",
    "def foo():\n",
    "    global a   # Tells python to use the a from the global level\n",
    "    a = 10.    # Modifies the a at the global level\n",
    "    print(a)\n",
    "\n",
    "\n",
    "foo()\n",
    "print(a)"
   ]
  },
  {
   "cell_type": "markdown",
   "metadata": {},
   "source": [
    "This keyword also allows you to define a variable in the global namespace and makes it usable outside the current scope"
   ]
  },
  {
   "cell_type": "code",
   "execution_count": null,
   "metadata": {},
   "outputs": [],
   "source": [
    "def foo():\n",
    "    global xyz\n",
    "    xyz = 10\n",
    "foo()\n",
    "print(xyz)"
   ]
  },
  {
   "cell_type": "markdown",
   "metadata": {},
   "source": [
    "If you have nested functions the *enclosing* namespaces are the ones that are at a higher level of the function:"
   ]
  },
  {
   "cell_type": "code",
   "execution_count": null,
   "metadata": {},
   "outputs": [],
   "source": [
    "del(a)  # delete from previous codeblocks in the notebook\n",
    "\n",
    "def foo():\n",
    "    a = 5\n",
    "    b = 6\n",
    "    \n",
    "    def bar():\n",
    "        a = 10  # creates a new variable in the local namespace\n",
    "        print(a) # finds the a from the local namespace and not the enclosing\n",
    "        print(b) # find the b from the enclosing namespace\n",
    "    \n",
    "    bar()\n",
    "    print(a)\n",
    "    print(b)\n",
    "\n",
    "foo()\n",
    "#print(a) would fail"
   ]
  },
  {
   "cell_type": "markdown",
   "metadata": {},
   "source": [
    "Here, bar is defined inside of foo, so foo is the *enclosing* namespace for bar. A name lookup will first search the local namespace, then the enclosing namespace, then the global one(and finally the built-in one). \n",
    "To access the variables from the enclosing namespace, the *global* keyword cannot be used here. For this purpose there is the *nonlocal* keyword:"
   ]
  },
  {
   "cell_type": "code",
   "execution_count": null,
   "metadata": {},
   "outputs": [],
   "source": [
    "def foo():\n",
    "    a = 5\n",
    "    \n",
    "    def bar():\n",
    "        nonlocal a # specifies to use the a from the enclosing namespace\n",
    "        a = 10  # modifies the a in the enclosing namespace\n",
    "        print(a) \n",
    "    \n",
    "    bar()\n",
    "    print(a)\n",
    "\n",
    "foo()\n",
    "#print(a) would fail"
   ]
  },
  {
   "cell_type": "markdown",
   "metadata": {},
   "source": [
    "To get a feeling for this, you can play around with this example. Uncomment and comment out different lines and try to understand the output:"
   ]
  },
  {
   "cell_type": "code",
   "execution_count": null,
   "metadata": {},
   "outputs": [],
   "source": [
    "x = 'global'\n",
    "\n",
    "def foo():\n",
    "    #global x\n",
    "    x = 'enclosing'\n",
    "    def bar():\n",
    "        #nonlocal x\n",
    "        #global x\n",
    "        x = 'local'\n",
    "        print(x)\n",
    "    bar()\n",
    "    print(x)\n",
    "    \n",
    "foo()\n",
    "print(x)"
   ]
  },
  {
   "cell_type": "markdown",
   "metadata": {},
   "source": [
    "### Scope\n",
    "The *scope* of a name refers to the region of a code where it has meaning, where it can be associated with the object."
   ]
  },
  {
   "cell_type": "code",
   "execution_count": null,
   "metadata": {},
   "outputs": [],
   "source": [
    "def foo():\n",
    "    c = 5 # c is defined\n",
    "    def bar():\n",
    "        print(c)  \n",
    "    bar()  \n",
    "    print(c)  # until here 'c' has meaning\n",
    "\n",
    "foo()\n",
    "print(c)   # outside of the scope of c"
   ]
  },
  {
   "cell_type": "markdown",
   "metadata": {},
   "source": [
    "Once a variable is out of scope, it is forgotten and no longer accessible."
   ]
  },
  {
   "cell_type": "markdown",
   "metadata": {},
   "source": [
    "# Classes\n",
    "### What is a class?\n",
    "A class is a 'blueprint' for creating objects that binds together data (variables) and manipulation of such data (via *methods*)"
   ]
  },
  {
   "cell_type": "markdown",
   "metadata": {},
   "source": [
    "### Class Definition"
   ]
  },
  {
   "cell_type": "code",
   "execution_count": null,
   "metadata": {},
   "outputs": [],
   "source": [
    "class MyClass:\n",
    "    classVariable = \"This is a class variable\"\n",
    "    \n",
    "    def classMethod(self):\n",
    "        return \"Hello Class World\"\n",
    "    "
   ]
  },
  {
   "cell_type": "markdown",
   "metadata": {},
   "source": [
    "A class can have variables and methods (functions) associated to them. These are collectively called *attributes* of the class.\n",
    "\n",
    "The syntax is easy: Everything in the indented block belongs to the class.\n",
    "\n",
    "The class definition must be executed before it can be used. (In principle this enables definitions of classes inside conditional statements etc.)\n",
    "\n",
    "The class defines its own namespace. It needs to be accessed as with the syntax such as \"MyClass.classVariable\""
   ]
  },
  {
   "cell_type": "markdown",
   "metadata": {},
   "source": [
    "### Class Instances\n",
    "You can create an instance of a class with the following function notation:"
   ]
  },
  {
   "cell_type": "code",
   "execution_count": null,
   "metadata": {},
   "outputs": [],
   "source": [
    "classInstance = MyClass()"
   ]
  },
  {
   "cell_type": "markdown",
   "metadata": {},
   "source": [
    "This object now has the methods and variables associated with that class:"
   ]
  },
  {
   "cell_type": "code",
   "execution_count": null,
   "metadata": {},
   "outputs": [],
   "source": [
    "print(classInstance.classMethod())\n",
    "print(classInstance.classVariable)"
   ]
  },
  {
   "cell_type": "markdown",
   "metadata": {},
   "source": [
    "The argument list of classMethod includes the *self* keyword. The *self* keyword refers to the instance of the class and is not needed in the argument list when calling the function. The following two lines are equivalent:"
   ]
  },
  {
   "cell_type": "code",
   "execution_count": null,
   "metadata": {},
   "outputs": [],
   "source": [
    "print( classInstance.classMethod() )\n",
    "print( MyClass.classMethod(classInstance) )"
   ]
  },
  {
   "cell_type": "markdown",
   "metadata": {},
   "source": [
    "Classes can access their own methods and variables using the *self* keyword. These attritbutes can also be accessed from the outside"
   ]
  },
  {
   "cell_type": "code",
   "execution_count": null,
   "metadata": {},
   "outputs": [],
   "source": [
    "class MyClass:\n",
    "    classVariable = \"This is a class variable\"\n",
    "    \n",
    "    def classMethod(self):\n",
    "        return \"Hello Class World\"\n",
    "    \n",
    "    def anotherClassMethod(self):\n",
    "        return self.classMethod()\n",
    "        #return MyClass.classMethod(self)  # which is equivalent \n",
    "    \n",
    "classInstance = MyClass()\n",
    "\n",
    "print(classInstance.anotherClassMethod())"
   ]
  },
  {
   "cell_type": "markdown",
   "metadata": {},
   "source": [
    "#### Instance Variables\n",
    "Every instance of a class can also have their own variables - *instance variables* - associated to them. They are created like local variables and only associated with that instance\n"
   ]
  },
  {
   "cell_type": "code",
   "execution_count": null,
   "metadata": {
    "scrolled": true
   },
   "outputs": [],
   "source": [
    "class MyClass:\n",
    "    def startCounter(self):\n",
    "        self.counter = 0\n",
    "    \n",
    "    def increaseCounter(self):\n",
    "        self.counter += 1\n",
    "\n",
    "classInstance = MyClass()    # creates an instance of MyClass\n",
    "\n",
    "#print(classInstance.counter) # this will fail as the counter variable of the instance doesnt exist yet\n",
    "\n",
    "classInstance.startCounter() # This function creates the counter variable of the instance\n",
    "print(classInstance.counter) # now it can be accessed from the outside\n",
    "\n",
    "classInstance.increaseCounter()\n",
    "print(classInstance.counter)\n",
    "\n",
    "classInstance.secondCounter = 0  # Instance Variables can also be created from outside the class\n",
    "print(classInstance.secondCounter)"
   ]
  },
  {
   "cell_type": "markdown",
   "metadata": {},
   "source": [
    "Of course, these instance variables can differ between instances"
   ]
  },
  {
   "cell_type": "code",
   "execution_count": null,
   "metadata": {},
   "outputs": [],
   "source": [
    "class MyClass:    \n",
    "    def startCounter(self):\n",
    "        self.counter = 0\n",
    "    \n",
    "    def increaseCounter(self):\n",
    "        self.counter += 1\n",
    "\n",
    "classInstance = MyClass()\n",
    "\n",
    "classInstance.startCounter()\n",
    "print(classInstance.counter)\n",
    "\n",
    "classInstance.increaseCounter()\n",
    "print(classInstance.counter)\n",
    "\n",
    "secondClassInstance = MyClass()  # Creates a second instance, unrelated to the first\n",
    "secondClassInstance.startCounter() # and starts its own counter\n",
    "print(secondClassInstance.counter)\n",
    "\n",
    "secondClassInstance.increaseCounter()\n",
    "print(secondClassInstance.counter)\n",
    "print(classInstance.counter)     # the counter of the original instance wasn't affected"
   ]
  },
  {
   "cell_type": "markdown",
   "metadata": {},
   "source": [
    "### Initialization\n",
    "The most important instance variables are usually assigned on initialization. For this purpose, there is a special function for classes, the *\\__init\\__*(self,...) function. The *\\__init\\__*(self,...) function is called when the instance is first created:"
   ]
  },
  {
   "cell_type": "code",
   "execution_count": null,
   "metadata": {},
   "outputs": [],
   "source": [
    "class MyClass:\n",
    "    \n",
    "    def __init__(self):\n",
    "        self.instanceVariable = \"This is an instance variable\"\n",
    "    \n",
    "    def classMethod(self):\n",
    "        return \"Hello Class World\"\n",
    "    \n",
    "    def anotherClassMethod(self):\n",
    "        return self.instanceVariable\n",
    "\n",
    "classInstance = MyClass()     # This implicitly calls the __init__ function\n",
    "classInstance.anotherClassMethod()"
   ]
  },
  {
   "cell_type": "markdown",
   "metadata": {},
   "source": [
    "The *\\__init\\__* function is called the *constructor* and can take a list of parameters that need to be passed on during initialization:"
   ]
  },
  {
   "cell_type": "code",
   "execution_count": null,
   "metadata": {},
   "outputs": [],
   "source": [
    "class Person:\n",
    "    def __init__(self, name, age):\n",
    "        self.name = name \n",
    "        self.age = age\n",
    "    \n",
    "    def call(self):\n",
    "        print(\"Hey \" + self.name)\n",
    "\n",
    "bill = Person(\"Michael\", 53)\n",
    "janet = Person(\"Janet\", 35)\n",
    "\n",
    "bill.call()\n",
    "janet.call()"
   ]
  },
  {
   "cell_type": "markdown",
   "metadata": {},
   "source": [
    "#### Class Variable vs Instance Variable\n",
    "Care must be taken to differentiate between class variables and instance variables. Class variables are copied on each instantiantion of a class, while instance variables are created from scratch. This can have unintended effects for mutable variables, because their copies are *shallow*, i.e. they are copied by reference:"
   ]
  },
  {
   "cell_type": "code",
   "execution_count": null,
   "metadata": {},
   "outputs": [],
   "source": [
    "class Person:\n",
    "    hobbies = []   # here, hobbies is defined as a class variable\n",
    "    \n",
    "    def __init__(self, name):\n",
    "        self.name = name\n",
    "        \n",
    "    def addHobby(self, hobby):\n",
    "        self.hobbies.append(hobby)\n",
    "\n",
    "\n",
    "michael = Person(\"Michael\")\n",
    "michael.addHobby(\"Yoga\")\n",
    "janet = Person(\"Janet\")\n",
    "janet.addHobby(\"Marbles\")\n",
    "\n",
    "michael.hobbies"
   ]
  },
  {
   "cell_type": "code",
   "execution_count": null,
   "metadata": {},
   "outputs": [],
   "source": [
    "class Person:\n",
    "    \n",
    "    def __init__(self, name):\n",
    "        self.name = name\n",
    "        self.hobbies = []  # declare hobbies as an instance variable instead\n",
    "\n",
    "    def addHobby(self, hobby):\n",
    "        self.hobbies.append(hobby)\n",
    "\n",
    "\n",
    "michael = Person(\"Michael\")\n",
    "michael.addHobby(\"Yoga\")\n",
    "janet = Person(\"Janet\")\n",
    "janet.addHobby(\"Marbles\")\n",
    "\n",
    "michael.hobbies"
   ]
  },
  {
   "cell_type": "markdown",
   "metadata": {},
   "source": [
    "Generally, it is advisable to use class variables only for values that stay constant between all instances and mostly use instance variables instead."
   ]
  },
  {
   "cell_type": "markdown",
   "metadata": {},
   "source": [
    "#### Printing\n",
    "To simplify output, the classes can define a function that returns a string to represent that object. This is the *\\__str\\__* function:"
   ]
  },
  {
   "cell_type": "code",
   "execution_count": null,
   "metadata": {
    "scrolled": true
   },
   "outputs": [],
   "source": [
    "class Person:\n",
    "    def __init__(self, name, age):\n",
    "        self.name = name      # creates an instance variable\n",
    "        self.age = age\n",
    "    \n",
    "    def __str__(self):\n",
    "        return self.name + \", \" + str(self.age)\n",
    "\n",
    "chihiro = Person(\"Chihiro\", 10)\n",
    "\n",
    "print(chihiro)\n",
    "str(chihiro)"
   ]
  },
  {
   "cell_type": "markdown",
   "metadata": {},
   "source": [
    "Another function for a similar purpose is *\\__repr\\__*, the representation. It is internally used when outputting lists for example"
   ]
  },
  {
   "cell_type": "code",
   "execution_count": null,
   "metadata": {
    "scrolled": false
   },
   "outputs": [],
   "source": [
    "class Person:\n",
    "    def __init__(self, name, age):\n",
    "        self.name = name      # creates an instance variable\n",
    "        self.age = age\n",
    "    \n",
    "    def __str__(self):\n",
    "        return self.name + \", \" + str(self.age)\n",
    "    \n",
    "    def __repr__(self):\n",
    "        return \"Person: \" + self.name\n",
    "\n",
    "people = [Person(\"Michael\", 53), Person(\"Janet\", 35), Person(\"Chihiro\", 10)]\n",
    "\n",
    "print(people)"
   ]
  },
  {
   "cell_type": "markdown",
   "metadata": {},
   "source": [
    "#### Task 1\n",
    "Make a class modeling a car with the attributes *model*, *cost*, *fuel efficiency* (km/liter), *condition*, and *mileage*. The *condition* is supposed to model the status of the car in terms of functionality, which of course diminishes over time. Implement a sensible *\\__init\\__* function and additional functions:\n",
    " - Drive: Takes distance and fuel price as an input. The distance is added to the mileage. It also prints an estimate of the fuel cost and adds it to the total cost. The condition of the car deteriorates at a rate of (1%/1000km). If this drops below 0% the car stops working.\n",
    " - Repair: The car is taken to the garage. The condition is set back to 100% at a cost of 100€/1%. The cost is printed and added to the total cost.\n",
    " - LifetimeCost: Outputs the mileage and total cost of the car so far\n",
    " - Honk: ;)\n",
    " \n",
    "If you were to buy a new green VMW Imaginaris (cost 20k€) with a fuel efficiency of 0.05L/km what would be the approximated cost after driving for 10^5 km?\n",
    " And for the newer version VMW Imaginaris^2 for 25k€ with 0.04L/km?"
   ]
  },
  {
   "cell_type": "code",
   "execution_count": null,
   "metadata": {},
   "outputs": [],
   "source": [
    "class Car:\n",
    "    \n",
    "    def __init__(self, model, cost, fuel_efficiency, condition=1., mileage=0.):\n",
    "    \n",
    "    def drive(self, distance, fuel_price):\n",
    "        \n",
    "    def repair(self):\n",
    "\n",
    "    def lifetimeCost(self):\n",
    "\n",
    "ToyotaIm = Car(\"VMW Imaginaris\", 2e4, 0.05)\n",
    "ToyotaIm.drive(1e5, 2)\n",
    "ToyotaIm.repair()\n",
    "ToyotaIm.lifetimeCost()"
   ]
  },
  {
   "cell_type": "markdown",
   "metadata": {},
   "source": [
    "### Why use classes?\n",
    "- Enables encapsulation: Bind together data and code that manipulates the data in the same place\n",
    "- Brings structure into the code, and allows *real-world mapping*\n",
    "- Polymorphism -> See the following"
   ]
  },
  {
   "cell_type": "markdown",
   "metadata": {},
   "source": [
    "## Inheritance"
   ]
  },
  {
   "cell_type": "markdown",
   "metadata": {},
   "source": [
    "In object-oriented programming, inheritance describes the process of basing a class on another class' implemententation, thus *inheriting* its properties. \n",
    "The *child class* inherits all variables and methods from the parent class and can expand on them."
   ]
  },
  {
   "cell_type": "code",
   "execution_count": null,
   "metadata": {},
   "outputs": [],
   "source": [
    "class A:\n",
    "    text = \"This is set in A\"\n",
    "    \n",
    "    def f(self):\n",
    "        print(self.text)\n",
    "    \n",
    "\n",
    "class B(A):   # This tells python that B inherits from A\n",
    "    text = \"This is set in B\"\n",
    "    \n",
    "    def g(self):\n",
    "        print(\"A new function\")\n",
    "\n",
    "a = A()\n",
    "a.f()     # calls f in A, which accesses the text variable in A\n",
    "b = B()\n",
    "b.f()     # calls f defined in A, but accesses the text variable from B\n",
    "b.g()     # calls the newly defined function, which would not work for a"
   ]
  },
  {
   "cell_type": "markdown",
   "metadata": {},
   "source": [
    "The child class can also *override* functions from their parent class:"
   ]
  },
  {
   "cell_type": "code",
   "execution_count": null,
   "metadata": {},
   "outputs": [],
   "source": [
    "class A:\n",
    "    def f(self):\n",
    "        print(\"Parent function\")\n",
    "    \n",
    "\n",
    "class B(A):\n",
    "    def f(self):\n",
    "        print(\"Child function\")\n",
    "\n",
    "a = A()\n",
    "b = B()\n",
    "\n",
    "a.f()\n",
    "b.f()  \n",
    "\n",
    "A.f(b)        # This calls the function in the parent class for b"
   ]
  },
  {
   "cell_type": "markdown",
   "metadata": {},
   "source": [
    "The overwritten function can still be accessed from inside the child class"
   ]
  },
  {
   "cell_type": "code",
   "execution_count": null,
   "metadata": {},
   "outputs": [],
   "source": [
    "class A:\n",
    "    def f(self):\n",
    "        print(\"Parent function\")\n",
    "    \n",
    "\n",
    "class B(A):\n",
    "    def f(self):\n",
    "        super().f()    # first, A.f is called \n",
    "        print(\"Child function\")  # then new stuff is done\n",
    "\n",
    "\n",
    "b = B()\n",
    "b.f()"
   ]
  },
  {
   "cell_type": "markdown",
   "metadata": {},
   "source": [
    "This is especially useful when initializing an object"
   ]
  },
  {
   "cell_type": "code",
   "execution_count": null,
   "metadata": {},
   "outputs": [],
   "source": [
    "class A:\n",
    "    def __init__(self, text):\n",
    "        self.text = text\n",
    "    #...\n",
    "class B(A):\n",
    "    def __init__(self, text, moreText):\n",
    "        super().__init__( text)\n",
    "        self.moreText = moreText\n",
    "\n",
    "b = B(\"abc\", \"def\")\n",
    "print(b.text, b.moreText)"
   ]
  },
  {
   "attachments": {
    "Screenshot%20from%202021-06-23%2014-26-07.png": {
     "image/png": "[encoded data removed]"
    }
   },
   "cell_type": "markdown",
   "metadata": {},
   "source": [
    "Every instance of the child class also has the attributes from the parent class, so they can \"impersonate\" them. This makes generalizing and specializing easy. ![Screenshot%20from%202021-06-23%2014-26-07.png](attachment:Screenshot%20from%202021-06-23%2014-26-07.png)"
   ]
  },
  {
   "cell_type": "markdown",
   "metadata": {},
   "source": [
    "### Why use inheritance?"
   ]
  },
  {
   "cell_type": "markdown",
   "metadata": {},
   "source": [
    "- Code Reusability\n",
    "- Enables Subtyping (IsA relation): Dog > Mammal > Animal\n",
    "- Logical Hierarchy\n",
    "- Use Polymorphism: Calling code is agnostic to the specific implementation"
   ]
  },
  {
   "cell_type": "markdown",
   "metadata": {},
   "source": [
    "## Example: Dark Matter Halos\n",
    "We will look at different DM halo profiles again. Since they all share the same idea of describing the density and mass profile of a halo, it makes sense to use classes and inheritance features. To this end, we define the abstract basis class DMHalo, which doesn't describe a specific halo, but tells us how what properties a halo class should have.\n",
    "\n",
    "The 3 profiles we will look at are\n",
    "1. a constant density profile\n",
    "\\begin{equation}\n",
    "\\rho_{static}(r) = \\rho_0\n",
    "\\end{equation}\n",
    "2. an NFW profile\n",
    "\\begin{equation}\n",
    "\\rho_{NFW}(r) = \\frac{\\rho_0}{\\frac{r}{r_s} (1 + \\frac{r}{r_s})^2} \n",
    "\\end{equation}\n",
    "3. a NFW profile with a central density spike\n",
    "\\begin{equation}\n",
    "\\rho_{SpikedNFW} = \\begin{cases}\n",
    "               \\rho_{spike} \\left(\\frac{r_{spike}}{r}\\right)^{\\alpha}, \\quad r <= r_{spike} \\\\\n",
    "               \\rho_{NFW}(r), \\quad  r > r_{spike}\n",
    "            \\end{cases}\n",
    "\\end{equation}\n",
    "with the parameters chosen such that $\\rho_{spike} = \\rho_{NFW}(r_{spike})$\n",
    "\n",
    "The constant and NFW profiles can inherit from this base class, and the SpikedNFW profile can inherit from the NFW and modify its density in the appropriate region. "
   ]
  },
  {
   "cell_type": "code",
   "execution_count": null,
   "metadata": {},
   "outputs": [],
   "source": [
    "import numpy as np\n",
    "import matplotlib.pyplot as plt"
   ]
  },
  {
   "cell_type": "code",
   "execution_count": null,
   "metadata": {},
   "outputs": [],
   "source": [
    "# abstract base class for the DM halo\n",
    "class DMHalo:\n",
    "    def __init__(self, rho_0):\n",
    "        self.rho_0 = rho_0\n",
    "    \n",
    "    def density(self, r):\n",
    "        pass\n",
    "    \n",
    "    def __str__(self):\n",
    "        return \"DMHalo\"\n",
    "    \n",
    "    def mass(self, r):\n",
    "        pass"
   ]
  },
  {
   "cell_type": "code",
   "execution_count": null,
   "metadata": {},
   "outputs": [],
   "source": [
    "class ConstHalo(DMHalo):\n",
    "    def __init__(self, rho_0):\n",
    "        super().__init__(rho_0)\n",
    "        \n",
    "    def density(self, r):\n",
    "        return self.rho_0 * np.ones(np.shape(r))\n",
    "    \n",
    "    def __str__(self):\n",
    "        return \"ConstHalo\"\n"
   ]
  },
  {
   "cell_type": "code",
   "execution_count": null,
   "metadata": {},
   "outputs": [],
   "source": [
    "class NFW(DMHalo):\n",
    "    def __init__(self, rho_0, r_s):\n",
    "        super().__init__(rho_0)\n",
    "        self.r_s = r_s\n",
    "    \n",
    "    def density(self, r):\n",
    "        return self.rho_0 / (r/self.r_s) / (1. + r/self.r_s)**2\n",
    "    \n",
    "    def __str__(self):\n",
    "        return \"NFW\"\n",
    "    "
   ]
  },
  {
   "cell_type": "code",
   "execution_count": null,
   "metadata": {},
   "outputs": [],
   "source": [
    "class SpikedNFW(NFW):\n",
    "    def __init__(self, rho_s, r_s, r_spike, alpha):\n",
    "        super().__init__(rho_s, r_s)\n",
    "        self.alpha = alpha\n",
    "        self.r_spike = r_spike\n",
    "        self.rho_spike = rho_s * r_s/r_spike / (1.+r_spike/r_s)**2\n",
    "    \n",
    "    def density(self, r):\n",
    "        return np.where( r < self.r_spike, \\\n",
    "                           self.rho_spike * (self.r_spike/r)**self.alpha, \\\n",
    "                        super().density(r))\n",
    "\n",
    "    def __str__(self):\n",
    "        return \"SpikedNFW\"\n"
   ]
  },
  {
   "cell_type": "code",
   "execution_count": null,
   "metadata": {},
   "outputs": [],
   "source": [
    "# This is a function that plots the density for any object that has a density attribute\n",
    "def plotHalo(halo):\n",
    "    r = np.geomspace(1, 1e5)\n",
    "    l, = plt.loglog(r, halo.density(r), label=str(halo))\n",
    "    #plt.loglog(r, halo.mass(r), linestyle='--', color=l.get_c())"
   ]
  },
  {
   "cell_type": "code",
   "execution_count": null,
   "metadata": {},
   "outputs": [],
   "source": [
    "plotHalo(ConstHalo(5.))\n",
    "plotHalo(NFW(10, 1e3))\n",
    "plotHalo(SpikedNFW(10., 1e4, 1e2, 7./3.))\n",
    "plt.xlabel(\"r\"); plt.ylabel(r\"$\\rho$\")\n",
    "plt.legend(); plt.grid();"
   ]
  },
  {
   "cell_type": "markdown",
   "metadata": {},
   "source": [
    "#### Task 2\n",
    "Implement a mass function inside the classes and plot it alongside the density profile.\n",
    "There are two possible approaches to this:\n",
    "1. Implement the analytical mass function for each class individually\n",
    "2. Implement a numerical integration scheme in the base class and let inheritance do the rest  (tip: use odeint)\n",
    "\n",
    "What are the pros and cons of each approach?\n",
    "\n",
    "#### Implement both and compare the results"
   ]
  },
  {
   "cell_type": "code",
   "execution_count": null,
   "metadata": {},
   "outputs": [],
   "source": []
  }
 ],
 "metadata": {
  "kernelspec": {
   "display_name": "Python 3",
   "language": "python",
   "name": "python3"
  },
  "language_info": {
   "codemirror_mode": {
    "name": "ipython",
    "version": 3
   },
   "file_extension": ".py",
   "mimetype": "text/x-python",
   "name": "python",
   "nbconvert_exporter": "python",
   "pygments_lexer": "ipython3",
   "version": "3.8.5"
  }
 },
 "nbformat": 4,
 "nbformat_minor": 5
}
