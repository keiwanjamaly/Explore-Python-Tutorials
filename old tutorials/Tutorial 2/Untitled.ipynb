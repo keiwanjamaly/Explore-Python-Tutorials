{
 "cells": [
  {
   "cell_type": "code",
   "execution_count": 54,
   "metadata": {},
   "outputs": [
    {
     "data": {
      "image/png": "[encoded data removed]",
      "text/plain": [
       "<Figure size 432x288 with 1 Axes>"
      ]
     },
     "metadata": {
      "needs_background": "light"
     },
     "output_type": "display_data"
    }
   ],
   "source": [
    "import numpy as np\n",
    "from matplotlib import pyplot as plt\n",
    "import h5py\n",
    "import pandas as pd\n",
    "\n",
    "file_path = 'halo_1_DMO.hdf5'\n",
    "halo1 = h5py.File(file_path, 'r')\n",
    "halo1.keys()\n",
    "data_set = halo1['DarkMatter']\n",
    "data_set.keys()\n",
    "vels = np.array(data_set['Velocities'])\n",
    "particle_codts = np.array(data_set['Coordinates'])\n",
    "\n",
    "\n",
    "num_dat = len(particle_codts)\n",
    "\n",
    "r_i = np.sqrt( np.sum(particle_codts**2, axis=1) )\n",
    "len(r_i)\n",
    "#print(r_i)\n",
    "\n",
    "# def find_index(dat):\n",
    "#     index = np.array([])\n",
    "#     for i in range(0, len(dat)):\n",
    "#         r_min = 7  # lower bound of the solar vicinity\n",
    "#         r_max = 9  # uper bound of the solar vicinity\n",
    "\n",
    "#         if r_min <= dat[i] and r_max >= dat[i]:\n",
    "#             index = np.append(index, i)\n",
    "#         # print(index)\n",
    "#     return index\n",
    "def find_index(dat):\n",
    "    \n",
    "    index = []\n",
    "    for i in range(len(dat)):\n",
    "        r_min = 7 # lower bound of the solar vicinity\n",
    "        r_max = 9 # uper bound of the solar vicinity\n",
    "        \n",
    "        if r_min <= dat[i] and r_max >= dat[i]:\n",
    "            index.append(i)\n",
    "    return index\n",
    "# FOR SOME REASON, PUTTING THE INDEX IN A np.arry \n",
    "#convert them in floats, better to use a list\n",
    "index = find_index(r_i)\n",
    "\n",
    "num_vic = len(index)\n",
    "particle_veloc =  np.array([vels[i] for i in index])\n",
    "# Here need to extract the velocities of only the particles that are in the solar vicinity\n",
    "v = np.sqrt(np.sum(particle_veloc**2,axis=1)) #vels\n",
    "\n",
    "\n",
    "#print(v)\n",
    "\n",
    "dat_v_i = pd.Series(v)\n",
    "min_v = min(v)\n",
    "max_v = max(v)\n",
    "#The velocity axis has to be for the real velocities of the particles\n",
    "v_grid = np.linspace(min_v,max_v,1000) #np.linspace(0,1000)\n",
    "\n",
    "count_vel, v_points = np.histogram(v, bins= v_grid) #np.histogram(v, bins = len(v))\n",
    "\n",
    "new_v = np.array([v_points[i] for i in range(len(v_points)-1)])#np.array([v[i] for i in range(len(v_points) - 1)])\n",
    "\n",
    "\n",
    "Delta_v = v_grid[1] - v_grid[0]\n",
    "\n",
    "sum_f = Delta_v*np.sum(v)\n",
    "\n",
    "f_v =  count_vel / sum_f\n",
    "\n",
    "plt.scatter(new_v,count_vel,label = \"Data\")\n",
    "plt.xlabel('v ')\n",
    "plt.ylabel('Velocity distribution  f(v)')\n",
    "plt.legend(loc=\"upper right\")\n",
    "plt.show()\n",
    "#plt.savefig(\"vels.png\")"
   ]
  },
  {
   "cell_type": "code",
   "execution_count": null,
   "metadata": {},
   "outputs": [],
   "source": []
  }
 ],
 "metadata": {
  "kernelspec": {
   "display_name": "Python 3",
   "language": "python",
   "name": "python3"
  },
  "language_info": {
   "codemirror_mode": {
    "name": "ipython",
    "version": 3
   },
   "file_extension": ".py",
   "mimetype": "text/x-python",
   "name": "python",
   "nbconvert_exporter": "python",
   "pygments_lexer": "ipython3",
   "version": "3.7.6"
  }
 },
 "nbformat": 4,
 "nbformat_minor": 4
}
