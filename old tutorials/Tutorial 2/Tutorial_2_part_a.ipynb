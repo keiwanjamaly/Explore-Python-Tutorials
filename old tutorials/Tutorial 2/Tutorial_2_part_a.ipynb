{
 "cells": [
  {
   "cell_type": "markdown",
   "metadata": {},
   "source": [
    "# Working with data structures"
   ]
  },
  {
   "cell_type": "markdown",
   "metadata": {},
   "source": [
    "## Junior mentor:\n",
    "\n",
    "Y. Fabian Bautista\n"
   ]
  },
  {
   "cell_type": "markdown",
   "metadata": {},
   "source": [
    "## Objectives of the tutorial"
   ]
  },
  {
   "cell_type": "markdown",
   "metadata": {},
   "source": [
    "1. Create and manipulate  dictionaries\n",
    "2. Use Pandas package to manipulate data sets\n",
    "4. Plot data structures using matplotlib\n",
    "6. Use SciPy library to fit a curve to a given data set, and compute the goodness of the fit. "
   ]
  },
  {
   "cell_type": "markdown",
   "metadata": {},
   "source": [
    "### Loading packages"
   ]
  },
  {
   "cell_type": "code",
   "execution_count": 1,
   "metadata": {},
   "outputs": [],
   "source": [
    "import matplotlib.pyplot as plt # For ploting\n",
    "import numpy as np # For array and mathematical manipulations"
   ]
  },
  {
   "cell_type": "markdown",
   "metadata": {},
   "source": [
    "# Dictionaries"
   ]
  },
  {
   "cell_type": "markdown",
   "metadata": {},
   "source": [
    "<h3 id=\"content\">What are Dictionaries?</h3>\n",
    "A dictionary consists of keys and values. It is helpful to compare a dictionary to a list. Instead of the numerical indexes such as a list, dictionaries have keys. These keys are the keys that are used to access values within a dictionary.\n",
    "\n",
    "<img src=\"https://cf-courses-data.s3.us.cloud-object-storage.appdomain.cloud/IBMDeveloperSkillsNetwork-PY0101EN-SkillsNetwork/labs/Module%202/images/DictsList.png\" width=\"650\" />\n"
   ]
  },
  {
   "cell_type": "markdown",
   "metadata": {},
   "source": [
    "An example of a Dictionary <code>Dict</code>:\n"
   ]
  },
  {
   "cell_type": "code",
   "execution_count": 2,
   "metadata": {},
   "outputs": [
    {
     "data": {
      "text/plain": [
       "{'key1': 1,\n",
       " 'key2': '2',\n",
       " 'key3': array([3, 3, 8]),\n",
       " 'key4': (4, 4, '4'),\n",
       " 'key5': 5,\n",
       " (0, 1): 6}"
      ]
     },
     "execution_count": 2,
     "metadata": {},
     "output_type": "execute_result"
    }
   ],
   "source": [
    "# Create the dictionary\n",
    "\n",
    "Dict = {\"key1\": 1, \"key2\": \"2\", \"key3\": np.array([3, 3, 8]), \"key4\": (4, 4, '4'), ('key5'): 5, (0, 1): 6}\n",
    "Dict"
   ]
  },
  {
   "cell_type": "markdown",
   "metadata": {},
   "source": [
    "Notice for the keys we can use immutable objects such as <code>strings </code> or <code>tuples </code>."
   ]
  },
  {
   "cell_type": "markdown",
   "metadata": {},
   "source": [
    "### Acces the keys of a dictionary      <font color='green'>COVER</font> \n",
    "\n",
    "We can ask for the list of keys in the dictionary using the atribute <code> .keys()</code>. This is pecially important we using datafiles whose content we know nothing about"
   ]
  },
  {
   "cell_type": "code",
   "execution_count": 3,
   "metadata": {},
   "outputs": [
    {
     "data": {
      "text/plain": [
       "dict_keys(['key1', 'key2', 'key3', 'key4', 'key5', (0, 1)])"
      ]
     },
     "execution_count": 3,
     "metadata": {},
     "output_type": "execute_result"
    }
   ],
   "source": [
    "Dict.keys()"
   ]
  },
  {
   "cell_type": "markdown",
   "metadata": {},
   "source": [
    "### Access to the value by the key              <font color='green'>COVER</font>"
   ]
  },
  {
   "cell_type": "code",
   "execution_count": 4,
   "metadata": {},
   "outputs": [
    {
     "data": {
      "text/plain": [
       "array([3, 3, 8])"
      ]
     },
     "execution_count": 4,
     "metadata": {},
     "output_type": "execute_result"
    }
   ],
   "source": [
    "Dict[\"key3\"]\n"
   ]
  },
  {
   "cell_type": "code",
   "execution_count": 5,
   "metadata": {},
   "outputs": [
    {
     "data": {
      "text/plain": [
       "6"
      ]
     },
     "execution_count": 5,
     "metadata": {},
     "output_type": "execute_result"
    }
   ],
   "source": [
    "Dict[(0, 1)]"
   ]
  },
  {
   "cell_type": "markdown",
   "metadata": {},
   "source": [
    "### We can also use the get method to acces he value of a given key          <font color='red'>HOMEWORK</font>"
   ]
  },
  {
   "cell_type": "code",
   "execution_count": 6,
   "metadata": {},
   "outputs": [
    {
     "data": {
      "text/plain": [
       "array([3, 3, 8])"
      ]
     },
     "execution_count": 6,
     "metadata": {},
     "output_type": "execute_result"
    }
   ],
   "source": [
    "Dict.get(\"key3\")"
   ]
  },
  {
   "cell_type": "markdown",
   "metadata": {},
   "source": [
    "### Why is get usefull?        <font color='red'>HOMEWORK</font>"
   ]
  },
  {
   "cell_type": "markdown",
   "metadata": {},
   "source": [
    "If we ask for the value of the Dictionary for a given key, and the key does not exist in the dictionary, then the get method avoids error messages, and simply returns non"
   ]
  },
  {
   "cell_type": "code",
   "execution_count": 7,
   "metadata": {},
   "outputs": [
    {
     "name": "stdout",
     "output_type": "stream",
     "text": [
      "None\n"
     ]
    }
   ],
   "source": [
    "print(Dict.get(\"key7\"))\n"
   ]
  },
  {
   "cell_type": "code",
   "execution_count": 9,
   "metadata": {},
   "outputs": [
    {
     "ename": "NameError",
     "evalue": "name 'Dic' is not defined",
     "output_type": "error",
     "traceback": [
      "\u001b[0;31m---------------------------------------------------------------------------\u001b[0m",
      "\u001b[0;31mNameError\u001b[0m                                 Traceback (most recent call last)",
      "\u001b[0;32m<ipython-input-9-0ae95d5ef788>\u001b[0m in \u001b[0;36m<module>\u001b[0;34m\u001b[0m\n\u001b[0;32m----> 1\u001b[0;31m \u001b[0mprint\u001b[0m\u001b[0;34m(\u001b[0m\u001b[0mDic\u001b[0m\u001b[0;34m[\u001b[0m\u001b[0;34m\"key7\"\u001b[0m\u001b[0;34m]\u001b[0m\u001b[0;34m)\u001b[0m\u001b[0;34m\u001b[0m\u001b[0;34m\u001b[0m\u001b[0m\n\u001b[0m",
      "\u001b[0;31mNameError\u001b[0m: name 'Dic' is not defined"
     ]
    }
   ],
   "source": [
    "print(Dic[\"key7\"])"
   ]
  },
  {
   "cell_type": "markdown",
   "metadata": {},
   "source": [
    "With the get method, if nothing comes out, we can assign an ouput value"
   ]
  },
  {
   "cell_type": "code",
   "execution_count": null,
   "metadata": {},
   "outputs": [],
   "source": [
    "value = 4\n",
    "print(Dict.get(\"key7\",value ))\n"
   ]
  },
  {
   "cell_type": "markdown",
   "metadata": {},
   "source": [
    "the type of a dictionary is <code> dict </code>"
   ]
  },
  {
   "cell_type": "code",
   "execution_count": 10,
   "metadata": {},
   "outputs": [
    {
     "data": {
      "text/plain": [
       "dict"
      ]
     },
     "execution_count": 10,
     "metadata": {},
     "output_type": "execute_result"
    }
   ],
   "source": [
    "type(Dict)"
   ]
  },
  {
   "cell_type": "markdown",
   "metadata": {},
   "source": [
    "### Acces the values of a dicionary    <font color='red'>HOMEWORK</font>"
   ]
  },
  {
   "cell_type": "code",
   "execution_count": 11,
   "metadata": {},
   "outputs": [
    {
     "data": {
      "text/plain": [
       "dict_values([1, '2', array([3, 3, 8]), (4, 4, '4'), 5, 6])"
      ]
     },
     "execution_count": 11,
     "metadata": {},
     "output_type": "execute_result"
    }
   ],
   "source": [
    "Dict.values()"
   ]
  },
  {
   "cell_type": "markdown",
   "metadata": {},
   "source": [
    "Notice that the elements for each keys do not have to be of the same type. "
   ]
  },
  {
   "cell_type": "code",
   "execution_count": 12,
   "metadata": {},
   "outputs": [
    {
     "data": {
      "text/plain": [
       "array([3, 3, 8])"
      ]
     },
     "execution_count": 12,
     "metadata": {},
     "output_type": "execute_result"
    }
   ],
   "source": [
    "Dict['key3']"
   ]
  },
  {
   "cell_type": "markdown",
   "metadata": {},
   "source": [
    "In the case that the data values are given by arrays, we can use the atribute <code> .dtype </code>,  to  know the type of data contained in a key argument. \n",
    " "
   ]
  },
  {
   "cell_type": "code",
   "execution_count": 13,
   "metadata": {},
   "outputs": [
    {
     "data": {
      "text/plain": [
       "dtype('int64')"
      ]
     },
     "execution_count": 13,
     "metadata": {},
     "output_type": "execute_result"
    }
   ],
   "source": [
    "Dict['key3'].dtype"
   ]
  },
  {
   "cell_type": "markdown",
   "metadata": {},
   "source": [
    "Dictionary containing arrays can be sliced "
   ]
  },
  {
   "cell_type": "code",
   "execution_count": 14,
   "metadata": {},
   "outputs": [
    {
     "data": {
      "text/plain": [
       "array([3, 8])"
      ]
     },
     "execution_count": 14,
     "metadata": {},
     "output_type": "execute_result"
    }
   ],
   "source": [
    "Dict['key3'][1:3]"
   ]
  },
  {
   "cell_type": "markdown",
   "metadata": {},
   "source": [
    "# Add elements to a dictionary       <font color='green'>COVER</font>    "
   ]
  },
  {
   "cell_type": "code",
   "execution_count": 15,
   "metadata": {},
   "outputs": [
    {
     "data": {
      "text/plain": [
       "dict_keys(['key1', 'key2', 'key3', 'key4', 'key5', (0, 1)])"
      ]
     },
     "execution_count": 15,
     "metadata": {},
     "output_type": "execute_result"
    }
   ],
   "source": [
    "Dict.keys()"
   ]
  },
  {
   "cell_type": "code",
   "execution_count": 16,
   "metadata": {},
   "outputs": [],
   "source": [
    "Dict[\"list\"] = [1,2,3]"
   ]
  },
  {
   "cell_type": "code",
   "execution_count": 17,
   "metadata": {},
   "outputs": [
    {
     "data": {
      "text/plain": [
       "dict_keys(['key1', 'key2', 'key3', 'key4', 'key5', (0, 1), 'list'])"
      ]
     },
     "execution_count": 17,
     "metadata": {},
     "output_type": "execute_result"
    }
   ],
   "source": [
    "Dict.keys()"
   ]
  },
  {
   "cell_type": "code",
   "execution_count": 18,
   "metadata": {},
   "outputs": [
    {
     "data": {
      "text/plain": [
       "{'key1': 1,\n",
       " 'key2': '2',\n",
       " 'key3': array([3, 3, 8]),\n",
       " 'key4': (4, 4, '4'),\n",
       " 'key5': 5,\n",
       " (0, 1): 6,\n",
       " 'list': [1, 2, 3]}"
      ]
     },
     "execution_count": 18,
     "metadata": {},
     "output_type": "execute_result"
    }
   ],
   "source": [
    "Dict"
   ]
  },
  {
   "cell_type": "markdown",
   "metadata": {},
   "source": [
    "### Remove a key from a dictionary using the method <code> pop </code>        <font color='red'>HOMEWORK</font>"
   ]
  },
  {
   "cell_type": "code",
   "execution_count": 19,
   "metadata": {},
   "outputs": [
    {
     "data": {
      "text/plain": [
       "[1, 2, 3]"
      ]
     },
     "execution_count": 19,
     "metadata": {},
     "output_type": "execute_result"
    }
   ],
   "source": [
    "Dict.pop('list')"
   ]
  },
  {
   "cell_type": "code",
   "execution_count": 20,
   "metadata": {},
   "outputs": [
    {
     "data": {
      "text/plain": [
       "dict_keys(['key1', 'key2', 'key3', 'key4', 'key5', (0, 1)])"
      ]
     },
     "execution_count": 20,
     "metadata": {},
     "output_type": "execute_result"
    }
   ],
   "source": [
    "Dict.keys()"
   ]
  },
  {
   "cell_type": "markdown",
   "metadata": {},
   "source": [
    "### Adding two dictionaries"
   ]
  },
  {
   "cell_type": "code",
   "execution_count": 21,
   "metadata": {},
   "outputs": [
    {
     "name": "stdout",
     "output_type": "stream",
     "text": [
      "{'Ten': 10, 'Twenty': 20, 'Thirty': 30, 'Fourty': 40, 'Fifty': 50}\n"
     ]
    }
   ],
   "source": [
    "dict1 = {'Ten': 10, 'Twenty': 20, 'Thirty': 30}\n",
    "dict2 = {'Thirty': 30, 'Fourty': 40, 'Fifty': 50}\n",
    "\n",
    "dict3 = {**dict1, **dict2}\n",
    "print(dict3)"
   ]
  },
  {
   "cell_type": "markdown",
   "metadata": {},
   "source": [
    "# Excercise       <font color='red'>HOMEWORK</font>"
   ]
  },
  {
   "cell_type": "markdown",
   "metadata": {},
   "source": [
    "Given the following dictionaries, and using the previous explanations, write short line codes to answer the following  Questions. (See  <a href=\"https://holypython.com/beginner-python-exercises/exercise-8-python-dictionaries/\"> more exercices  </a>)"
   ]
  },
  {
   "cell_type": "markdown",
   "metadata": {},
   "source": [
    "#### 1) When was Plato born?"
   ]
  },
  {
   "cell_type": "code",
   "execution_count": 22,
   "metadata": {},
   "outputs": [
    {
     "name": "stdout",
     "output_type": "stream",
     "text": [
      "-427\n"
     ]
    }
   ],
   "source": [
    "dict={\"name\": \"Plato\", \"country\": \"Ancient Greece\", \"born\": -427, \"teacher\": \"Socrates\", \"student\": \"Aristotle\"}\n",
    "#Type your answer below.\n",
    "answer_1= dict[\"born\"]\n",
    "\n",
    "print(answer_1)\n"
   ]
  },
  {
   "cell_type": "markdown",
   "metadata": {},
   "source": [
    "#### 2) Change Plato's birth year from B.C. 427 to B.C. 428.\n"
   ]
  },
  {
   "cell_type": "code",
   "execution_count": 23,
   "metadata": {},
   "outputs": [
    {
     "name": "stdout",
     "output_type": "stream",
     "text": [
      "-428\n"
     ]
    }
   ],
   "source": [
    "#Type your answer below.\n",
    "dict[\"born\"] =-428 \n",
    "\n",
    "print(dict[\"born\"])"
   ]
  },
  {
   "cell_type": "markdown",
   "metadata": {},
   "source": [
    "#### 3) Add the keyword \"work\" to the dictionary, with the values \"Apology\", \"Phaedo\", \"Republic\", \"Symposium\" in a list "
   ]
  },
  {
   "cell_type": "code",
   "execution_count": 24,
   "metadata": {},
   "outputs": [
    {
     "name": "stdout",
     "output_type": "stream",
     "text": [
      "{'name': 'Plato', 'country': 'Ancient Greece', 'born': -428, 'teacher': 'Socrates', 'student': 'Aristotle', 'work': ['Apology', 'Phaedo', 'Republic', 'Symposium']}\n"
     ]
    }
   ],
   "source": [
    "#Type your answer below.\n",
    "dict['work'] = [\"Apology\", \"Phaedo\", \"Republic\", \"Symposium\"]\n",
    "\n",
    "print(dict)"
   ]
  },
  {
   "cell_type": "markdown",
   "metadata": {},
   "source": [
    "####  given the additional dictionary \n",
    "\n"
   ]
  },
  {
   "cell_type": "code",
   "execution_count": 25,
   "metadata": {},
   "outputs": [],
   "source": [
    "dict2 ={\"son's name\": \"Lucas\", \"son's eyes\": \"green\", \"son's height\": 32, \"son's weight\": 25}\n"
   ]
  },
  {
   "cell_type": "markdown",
   "metadata": {},
   "source": [
    "#### 4)Add 2 inches to the son's height.\n",
    "\n"
   ]
  },
  {
   "cell_type": "code",
   "execution_count": 26,
   "metadata": {},
   "outputs": [
    {
     "name": "stdout",
     "output_type": "stream",
     "text": [
      "{\"son's name\": 'Lucas', \"son's eyes\": 'green', \"son's height\": 34, \"son's weight\": 25}\n"
     ]
    }
   ],
   "source": [
    "#Type your answer below.\n",
    "dict2[\"son's height\"] +=2\n",
    "print(dict2)"
   ]
  },
  {
   "cell_type": "markdown",
   "metadata": {},
   "source": [
    "#### 5) Using .get() method print the value of \"son's eyes\".\n",
    "\n"
   ]
  },
  {
   "cell_type": "code",
   "execution_count": 27,
   "metadata": {},
   "outputs": [
    {
     "name": "stdout",
     "output_type": "stream",
     "text": [
      "green\n"
     ]
    }
   ],
   "source": [
    "#Type your answer inside the print.\n",
    "ans_e_c=dict2.get(\"son's eyes\") \n",
    "\n",
    "print (ans_e_c)"
   ]
  },
  {
   "cell_type": "markdown",
   "metadata": {},
   "source": [
    "#### 6) Merge <code> dict </code> and  <code> dict2 <code> into the dictionary <code> dic_merge </code>"
   ]
  },
  {
   "cell_type": "code",
   "execution_count": 28,
   "metadata": {},
   "outputs": [
    {
     "name": "stdout",
     "output_type": "stream",
     "text": [
      "{'name': 'Plato', 'country': 'Ancient Greece', 'born': -428, 'teacher': 'Socrates', 'student': 'Aristotle', 'work': ['Apology', 'Phaedo', 'Republic', 'Symposium'], \"son's name\": 'Lucas', \"son's eyes\": 'green', \"son's height\": 34, \"son's weight\": 25}\n"
     ]
    }
   ],
   "source": [
    "#Type your answer inside the print.\n",
    "dic_merge={**dict,**dict2}\n",
    "\n",
    "print (dic_merge)"
   ]
  },
  {
   "cell_type": "markdown",
   "metadata": {},
   "source": [
    "See <a href= \"https://www.w3schools.com/python/python_ref_dictionary.asp/\"> methods on dictionaries, </a> for additional methods\n"
   ]
  },
  {
   "cell_type": "markdown",
   "metadata": {},
   "source": [
    "# The Pandas library       <font color='green'>COVER</font>"
   ]
  },
  {
   "cell_type": "markdown",
   "metadata": {},
   "source": [
    "In this section we use Pandas library for data visualization of <code> .csv </code> files. Pandas is a very big library, useful for doing data analysis. Check <a href=\"https://pandas.pydata.org/pandas-docs/stable/index.html\"> pandas </a>  for more information. We will use the method <code> pandas.DataFrame </code> . See\n",
    "    <a href=\"https://pandas.pydata.org/pandas-docs/stable/reference/api/pandas.DataFrame.html\"> pandas.DataFrame </a> for information on DataFrames\n",
    "\n",
    "For a longer beginers introduction to pandas, watch the following  <a href='https://www.youtube.com/watch?v=UB3DE5Bgfx4'> lecture </a>"
   ]
  },
  {
   "cell_type": "markdown",
   "metadata": {},
   "source": [
    "Firts, let's import the library we will be using"
   ]
  },
  {
   "cell_type": "code",
   "execution_count": 1,
   "metadata": {},
   "outputs": [],
   "source": [
    "import pandas as pd"
   ]
  },
  {
   "cell_type": "markdown",
   "metadata": {},
   "source": [
    "### What are <code> .csv </code> files?\n",
    "\n",
    " A Comma Separated Values  (<code> .csv </code>) file, is a plain text file that contains a list of data, separated by commas.  Let us show an DM example on how to load and manipulate a <code> .csv </code> file. "
   ]
  },
  {
   "cell_type": "markdown",
   "metadata": {},
   "source": [
    "### Galaxy rotation curve"
   ]
  },
  {
   "cell_type": "markdown",
   "metadata": {},
   "source": [
    "Descritpion....."
   ]
  },
  {
   "cell_type": "markdown",
   "metadata": {},
   "source": [
    "\n",
    "In the following, we explore the <code> csv </code> files for different rotation curves...."
   ]
  },
  {
   "cell_type": "markdown",
   "metadata": {},
   "source": [
    "#### Specifying the paths to the data files"
   ]
  },
  {
   "cell_type": "markdown",
   "metadata": {},
   "source": [
    "It is usefull tospecify the path for the data file in two steps.\n",
    "\n",
    "\n",
    "1) Path to the folder containing the data files (IF THE DATA FILES ARE IN THE SAME FOLDER AS THE PYTHON NOTEBOOK, THIS STEP IS NOT NEEDED)\n",
    "\n",
    "2) Name of the specific file to read\n",
    "\n",
    "IMPORTANT, THE PATHS ARE STRING TYPE OBJECTS. When we have created the two path objects, we concatenate them using the + operation for strings (See tutorial 1) "
   ]
  },
  {
   "cell_type": "code",
   "execution_count": 4,
   "metadata": {},
   "outputs": [],
   "source": [
    "folder_path = 'Rotation curves/'\n",
    "file_neme = 'RotationCurve_IC2574.csv'\n",
    "full_path = folder_path + file_neme"
   ]
  },
  {
   "cell_type": "code",
   "execution_count": 31,
   "metadata": {},
   "outputs": [
    {
     "data": {
      "text/plain": [
       "str"
      ]
     },
     "execution_count": 31,
     "metadata": {},
     "output_type": "execute_result"
    }
   ],
   "source": [
    "type(full_path)"
   ]
  },
  {
   "cell_type": "markdown",
   "metadata": {},
   "source": [
    "#### Creating Data frames"
   ]
  },
  {
   "cell_type": "markdown",
   "metadata": {},
   "source": [
    "To read the <code> .csv </code> file we use the method <code > pandas.read_csv </code>"
   ]
  },
  {
   "cell_type": "code",
   "execution_count": 5,
   "metadata": {},
   "outputs": [],
   "source": [
    "df_rot_curve =  pd.read_csv(full_path)"
   ]
  },
  {
   "cell_type": "markdown",
   "metadata": {},
   "source": [
    "It creates a <code > DataFrame </code> which is a Two-dimensional, size-mutable, potentially heterogeneous tabular data. It consist of the following elements: <code> DataFrame(data, index = , columns = )</code>. Columns corresponds to the headers of the Data file. "
   ]
  },
  {
   "cell_type": "markdown",
   "metadata": {},
   "source": [
    " To acces the headers names we use the method <code> columns </code>`"
   ]
  },
  {
   "cell_type": "code",
   "execution_count": 33,
   "metadata": {},
   "outputs": [
    {
     "data": {
      "text/plain": [
       "Index(['radius (kpc)', 'circ velocity (km/s)', 'circ velocity error (km/s)'], dtype='object')"
      ]
     },
     "execution_count": 33,
     "metadata": {},
     "output_type": "execute_result"
    }
   ],
   "source": [
    "df_rot_curve.columns"
   ]
  },
  {
   "cell_type": "code",
   "execution_count": 10,
   "metadata": {},
   "outputs": [
    {
     "data": {
      "text/plain": [
       "<matplotlib.axes._subplots.AxesSubplot at 0x7fe3f96f6910>"
      ]
     },
     "execution_count": 10,
     "metadata": {},
     "output_type": "execute_result"
    },
    {
     "data": {
      "image/png": "[encoded data removed]",
      "text/plain": [
       "<Figure size 432x288 with 1 Axes>"
      ]
     },
     "metadata": {
      "needs_background": "light"
     },
     "output_type": "display_data"
    }
   ],
   "source": [
    "df_rot_curve.plot('radius (kpc)','circ velocity (km/s)')"
   ]
  },
  {
   "cell_type": "markdown",
   "metadata": {},
   "source": [
    "We can also acces the data type using the method <code> dtypes </code>"
   ]
  },
  {
   "cell_type": "code",
   "execution_count": 34,
   "metadata": {},
   "outputs": [
    {
     "data": {
      "text/plain": [
       "radius (kpc)                  float64\n",
       "circ velocity (km/s)          float64\n",
       "circ velocity error (km/s)    float64\n",
       "dtype: object"
      ]
     },
     "execution_count": 34,
     "metadata": {},
     "output_type": "execute_result"
    }
   ],
   "source": [
    "df_rot_curve.dtypes"
   ]
  },
  {
   "cell_type": "markdown",
   "metadata": {},
   "source": [
    "The method <code> head(i) </code> allows us to see only the first i elements of the data frame. The default value is i=5"
   ]
  },
  {
   "cell_type": "code",
   "execution_count": 35,
   "metadata": {},
   "outputs": [
    {
     "data": {
      "text/html": [
       "<div>\n",
       "<style scoped>\n",
       "    .dataframe tbody tr th:only-of-type {\n",
       "        vertical-align: middle;\n",
       "    }\n",
       "\n",
       "    .dataframe tbody tr th {\n",
       "        vertical-align: top;\n",
       "    }\n",
       "\n",
       "    .dataframe thead th {\n",
       "        text-align: right;\n",
       "    }\n",
       "</style>\n",
       "<table border=\"1\" class=\"dataframe\">\n",
       "  <thead>\n",
       "    <tr style=\"text-align: right;\">\n",
       "      <th></th>\n",
       "      <th>radius (kpc)</th>\n",
       "      <th>circ velocity (km/s)</th>\n",
       "      <th>circ velocity error (km/s)</th>\n",
       "    </tr>\n",
       "  </thead>\n",
       "  <tbody>\n",
       "    <tr>\n",
       "      <th>0</th>\n",
       "      <td>0.232710</td>\n",
       "      <td>3.33</td>\n",
       "      <td>1.36</td>\n",
       "    </tr>\n",
       "    <tr>\n",
       "      <th>1</th>\n",
       "      <td>0.465421</td>\n",
       "      <td>8.87</td>\n",
       "      <td>4.32</td>\n",
       "    </tr>\n",
       "    <tr>\n",
       "      <th>2</th>\n",
       "      <td>0.698131</td>\n",
       "      <td>11.89</td>\n",
       "      <td>4.51</td>\n",
       "    </tr>\n",
       "    <tr>\n",
       "      <th>3</th>\n",
       "      <td>0.930841</td>\n",
       "      <td>15.76</td>\n",
       "      <td>5.35</td>\n",
       "    </tr>\n",
       "    <tr>\n",
       "      <th>4</th>\n",
       "      <td>1.163550</td>\n",
       "      <td>18.62</td>\n",
       "      <td>5.54</td>\n",
       "    </tr>\n",
       "  </tbody>\n",
       "</table>\n",
       "</div>"
      ],
      "text/plain": [
       "   radius (kpc)  circ velocity (km/s)  circ velocity error (km/s)\n",
       "0      0.232710                  3.33                        1.36\n",
       "1      0.465421                  8.87                        4.32\n",
       "2      0.698131                 11.89                        4.51\n",
       "3      0.930841                 15.76                        5.35\n",
       "4      1.163550                 18.62                        5.54"
      ]
     },
     "execution_count": 35,
     "metadata": {},
     "output_type": "execute_result"
    }
   ],
   "source": [
    "df_rot_curve.head()"
   ]
  },
  {
   "cell_type": "markdown",
   "metadata": {},
   "source": [
    "The method <code> tail(i) </code> allows us to see only the last i elements of the data frame. The default value is i=10"
   ]
  },
  {
   "cell_type": "code",
   "execution_count": 36,
   "metadata": {},
   "outputs": [
    {
     "data": {
      "text/html": [
       "<div>\n",
       "<style scoped>\n",
       "    .dataframe tbody tr th:only-of-type {\n",
       "        vertical-align: middle;\n",
       "    }\n",
       "\n",
       "    .dataframe tbody tr th {\n",
       "        vertical-align: top;\n",
       "    }\n",
       "\n",
       "    .dataframe thead th {\n",
       "        text-align: right;\n",
       "    }\n",
       "</style>\n",
       "<table border=\"1\" class=\"dataframe\">\n",
       "  <thead>\n",
       "    <tr style=\"text-align: right;\">\n",
       "      <th></th>\n",
       "      <th>radius (kpc)</th>\n",
       "      <th>circ velocity (km/s)</th>\n",
       "      <th>circ velocity error (km/s)</th>\n",
       "    </tr>\n",
       "  </thead>\n",
       "  <tbody>\n",
       "    <tr>\n",
       "      <th>52</th>\n",
       "      <td>12.3336</td>\n",
       "      <td>78.41</td>\n",
       "      <td>3.96</td>\n",
       "    </tr>\n",
       "    <tr>\n",
       "      <th>53</th>\n",
       "      <td>12.5664</td>\n",
       "      <td>78.38</td>\n",
       "      <td>4.55</td>\n",
       "    </tr>\n",
       "    <tr>\n",
       "      <th>54</th>\n",
       "      <td>12.7991</td>\n",
       "      <td>78.87</td>\n",
       "      <td>2.80</td>\n",
       "    </tr>\n",
       "  </tbody>\n",
       "</table>\n",
       "</div>"
      ],
      "text/plain": [
       "    radius (kpc)  circ velocity (km/s)  circ velocity error (km/s)\n",
       "52       12.3336                 78.41                        3.96\n",
       "53       12.5664                 78.38                        4.55\n",
       "54       12.7991                 78.87                        2.80"
      ]
     },
     "execution_count": 36,
     "metadata": {},
     "output_type": "execute_result"
    }
   ],
   "source": [
    "df_rot_curve.tail(3)"
   ]
  },
  {
   "cell_type": "markdown",
   "metadata": {},
   "source": [
    "We can also slice the Data frame in a more general maner"
   ]
  },
  {
   "cell_type": "code",
   "execution_count": 37,
   "metadata": {},
   "outputs": [
    {
     "data": {
      "text/html": [
       "<div>\n",
       "<style scoped>\n",
       "    .dataframe tbody tr th:only-of-type {\n",
       "        vertical-align: middle;\n",
       "    }\n",
       "\n",
       "    .dataframe tbody tr th {\n",
       "        vertical-align: top;\n",
       "    }\n",
       "\n",
       "    .dataframe thead th {\n",
       "        text-align: right;\n",
       "    }\n",
       "</style>\n",
       "<table border=\"1\" class=\"dataframe\">\n",
       "  <thead>\n",
       "    <tr style=\"text-align: right;\">\n",
       "      <th></th>\n",
       "      <th>radius (kpc)</th>\n",
       "      <th>circ velocity (km/s)</th>\n",
       "      <th>circ velocity error (km/s)</th>\n",
       "    </tr>\n",
       "  </thead>\n",
       "  <tbody>\n",
       "    <tr>\n",
       "      <th>5</th>\n",
       "      <td>1.39626</td>\n",
       "      <td>20.15</td>\n",
       "      <td>6.81</td>\n",
       "    </tr>\n",
       "    <tr>\n",
       "      <th>6</th>\n",
       "      <td>1.62897</td>\n",
       "      <td>23.33</td>\n",
       "      <td>6.16</td>\n",
       "    </tr>\n",
       "    <tr>\n",
       "      <th>7</th>\n",
       "      <td>1.86168</td>\n",
       "      <td>23.72</td>\n",
       "      <td>4.92</td>\n",
       "    </tr>\n",
       "    <tr>\n",
       "      <th>8</th>\n",
       "      <td>2.09439</td>\n",
       "      <td>24.86</td>\n",
       "      <td>4.81</td>\n",
       "    </tr>\n",
       "    <tr>\n",
       "      <th>9</th>\n",
       "      <td>2.32710</td>\n",
       "      <td>27.63</td>\n",
       "      <td>4.28</td>\n",
       "    </tr>\n",
       "  </tbody>\n",
       "</table>\n",
       "</div>"
      ],
      "text/plain": [
       "   radius (kpc)  circ velocity (km/s)  circ velocity error (km/s)\n",
       "5       1.39626                 20.15                        6.81\n",
       "6       1.62897                 23.33                        6.16\n",
       "7       1.86168                 23.72                        4.92\n",
       "8       2.09439                 24.86                        4.81\n",
       "9       2.32710                 27.63                        4.28"
      ]
     },
     "execution_count": 37,
     "metadata": {},
     "output_type": "execute_result"
    }
   ],
   "source": [
    "df_rot_curve[5:10]"
   ]
  },
  {
   "cell_type": "markdown",
   "metadata": {},
   "source": [
    "####  To acces only to the data values in the Data frame, we use the atribute <code> value </code>"
   ]
  },
  {
   "cell_type": "code",
   "execution_count": 38,
   "metadata": {
    "scrolled": true
   },
   "outputs": [
    {
     "data": {
      "text/plain": [
       "array([[ 0.23271 ,  3.33    ,  1.36    ],\n",
       "       [ 0.465421,  8.87    ,  4.32    ],\n",
       "       [ 0.698131, 11.89    ,  4.51    ],\n",
       "       [ 0.930841, 15.76    ,  5.35    ],\n",
       "       [ 1.16355 , 18.62    ,  5.54    ],\n",
       "       [ 1.39626 , 20.15    ,  6.81    ],\n",
       "       [ 1.62897 , 23.33    ,  6.16    ],\n",
       "       [ 1.86168 , 23.72    ,  4.92    ],\n",
       "       [ 2.09439 , 24.86    ,  4.81    ],\n",
       "       [ 2.3271  , 27.63    ,  4.28    ],\n",
       "       [ 2.55981 , 29.36    ,  3.69    ],\n",
       "       [ 2.79252 , 33.38    ,  4.64    ],\n",
       "       [ 3.02523 , 33.49    ,  4.4     ],\n",
       "       [ 3.25794 , 34.81    ,  3.79    ],\n",
       "       [ 3.49066 , 37.44    ,  4.03    ],\n",
       "       [ 3.72337 , 37.95    ,  4.08    ],\n",
       "       [ 3.95608 , 41.17    ,  4.33    ],\n",
       "       [ 4.18879 , 42.97    ,  4.24    ],\n",
       "       [ 4.4215  , 43.67    ,  3.57    ],\n",
       "       [ 4.65421 , 44.86    ,  4.33    ],\n",
       "       [ 4.88692 , 46.81    ,  4.84    ],\n",
       "       [ 5.11963 , 49.89    ,  5.15    ],\n",
       "       [ 5.35234 , 51.74    ,  5.33    ],\n",
       "       [ 5.58505 , 52.91    ,  4.07    ],\n",
       "       [ 5.81776 , 53.65    ,  3.5     ],\n",
       "       [ 6.05047 , 55.38    ,  3.54    ],\n",
       "       [ 6.28318 , 57.29    ,  3.81    ],\n",
       "       [ 6.51589 , 58.99    ,  4.04    ],\n",
       "       [ 6.7486  , 61.39    ,  4.07    ],\n",
       "       [ 6.98131 , 64.56    ,  3.81    ],\n",
       "       [ 7.21402 , 66.77    ,  4.16    ],\n",
       "       [ 7.44673 , 68.09    ,  4.02    ],\n",
       "       [ 7.67944 , 67.52    ,  4.03    ],\n",
       "       [ 7.91215 , 69.26    ,  4.      ],\n",
       "       [ 8.14486 , 69.45    ,  3.41    ],\n",
       "       [ 8.37757 , 71.53    ,  3.99    ],\n",
       "       [ 8.61028 , 71.89    ,  4.75    ],\n",
       "       [ 8.84299 , 72.2     ,  4.84    ],\n",
       "       [ 9.0757  , 72.72    ,  4.83    ],\n",
       "       [ 9.30841 , 73.67    ,  4.84    ],\n",
       "       [ 9.54112 , 73.74    ,  4.71    ],\n",
       "       [ 9.77383 , 75.03    ,  5.3     ],\n",
       "       [10.0065  , 76.39    ,  4.77    ],\n",
       "       [10.2393  , 76.99    ,  4.45    ],\n",
       "       [10.472   , 78.19    ,  5.31    ],\n",
       "       [10.7047  , 75.13    ,  4.79    ],\n",
       "       [10.9374  , 76.4     ,  4.51    ],\n",
       "       [11.1701  , 79.99    ,  4.17    ],\n",
       "       [11.4028  , 76.07    ,  4.06    ],\n",
       "       [11.6355  , 76.04    ,  4.04    ],\n",
       "       [11.8682  , 75.11    ,  3.55    ],\n",
       "       [12.1009  , 73.76    ,  3.52    ],\n",
       "       [12.3336  , 78.41    ,  3.96    ],\n",
       "       [12.5664  , 78.38    ,  4.55    ],\n",
       "       [12.7991  , 78.87    ,  2.8     ]])"
      ]
     },
     "execution_count": 38,
     "metadata": {},
     "output_type": "execute_result"
    }
   ],
   "source": [
    "df_rot_curve.values"
   ]
  },
  {
   "cell_type": "markdown",
   "metadata": {},
   "source": [
    "#### Accesing specific elements of a Data frame"
   ]
  },
  {
   "cell_type": "markdown",
   "metadata": {},
   "source": [
    "##### Accesing a full column"
   ]
  },
  {
   "cell_type": "markdown",
   "metadata": {},
   "source": [
    "Data frames are pretty much like dictionaries, therefore, we can acces different column elements using the same inputs methods used for dictionaries. Of course we have to know what are the keywords (headers) of the data frame"
   ]
  },
  {
   "cell_type": "code",
   "execution_count": 39,
   "metadata": {},
   "outputs": [
    {
     "data": {
      "text/plain": [
       "Index(['radius (kpc)', 'circ velocity (km/s)', 'circ velocity error (km/s)'], dtype='object')"
      ]
     },
     "execution_count": 39,
     "metadata": {},
     "output_type": "execute_result"
    }
   ],
   "source": [
    "df_rot_curve.columns"
   ]
  },
  {
   "cell_type": "code",
   "execution_count": 40,
   "metadata": {
    "scrolled": true
   },
   "outputs": [
    {
     "data": {
      "text/plain": [
       "0      0.232710\n",
       "1      0.465421\n",
       "2      0.698131\n",
       "3      0.930841\n",
       "4      1.163550\n",
       "5      1.396260\n",
       "6      1.628970\n",
       "7      1.861680\n",
       "8      2.094390\n",
       "9      2.327100\n",
       "10     2.559810\n",
       "11     2.792520\n",
       "12     3.025230\n",
       "13     3.257940\n",
       "14     3.490660\n",
       "15     3.723370\n",
       "16     3.956080\n",
       "17     4.188790\n",
       "18     4.421500\n",
       "19     4.654210\n",
       "20     4.886920\n",
       "21     5.119630\n",
       "22     5.352340\n",
       "23     5.585050\n",
       "24     5.817760\n",
       "25     6.050470\n",
       "26     6.283180\n",
       "27     6.515890\n",
       "28     6.748600\n",
       "29     6.981310\n",
       "30     7.214020\n",
       "31     7.446730\n",
       "32     7.679440\n",
       "33     7.912150\n",
       "34     8.144860\n",
       "35     8.377570\n",
       "36     8.610280\n",
       "37     8.842990\n",
       "38     9.075700\n",
       "39     9.308410\n",
       "40     9.541120\n",
       "41     9.773830\n",
       "42    10.006500\n",
       "43    10.239300\n",
       "44    10.472000\n",
       "45    10.704700\n",
       "46    10.937400\n",
       "47    11.170100\n",
       "48    11.402800\n",
       "49    11.635500\n",
       "50    11.868200\n",
       "51    12.100900\n",
       "52    12.333600\n",
       "53    12.566400\n",
       "54    12.799100\n",
       "Name: radius (kpc), dtype: float64"
      ]
     },
     "execution_count": 40,
     "metadata": {},
     "output_type": "execute_result"
    }
   ],
   "source": [
    "df_rot_curve['radius (kpc)']"
   ]
  },
  {
   "cell_type": "code",
   "execution_count": 41,
   "metadata": {},
   "outputs": [
    {
     "name": "stdout",
     "output_type": "stream",
     "text": [
      "radius (kpc)                  0.23271\n",
      "circ velocity (km/s)          3.33000\n",
      "circ velocity error (km/s)    1.36000\n",
      "Name: 0, dtype: float64\n"
     ]
    }
   ],
   "source": [
    "#for accessing ith row we can use the iloc \"i location \" method\n",
    "print(df_rot_curve.iloc[0])"
   ]
  },
  {
   "cell_type": "markdown",
   "metadata": {},
   "source": [
    "# Adding a column to the data frame"
   ]
  },
  {
   "cell_type": "markdown",
   "metadata": {},
   "source": [
    "### Adding  a column for a  systematic error \n",
    "In some galaxies, the quoted errors are very small and have been underestimated. It is suggested to include a systematic error at the level of 5% for the last data point.\n"
   ]
  },
  {
   "cell_type": "code",
   "execution_count": 42,
   "metadata": {},
   "outputs": [
    {
     "data": {
      "text/plain": [
       "Index(['radius (kpc)', 'circ velocity (km/s)', 'circ velocity error (km/s)'], dtype='object')"
      ]
     },
     "execution_count": 42,
     "metadata": {},
     "output_type": "execute_result"
    }
   ],
   "source": [
    "# Recall the key arguments of the Data frame\n",
    "df_rot_curve.columns"
   ]
  },
  {
   "cell_type": "code",
   "execution_count": 43,
   "metadata": {},
   "outputs": [],
   "source": [
    "# Add a new column to the data frame\n",
    "df_rot_curve['syst_error'] =  0.05*df_rot_curve[ 'circ velocity error (km/s)'].iloc[-1] "
   ]
  },
  {
   "cell_type": "code",
   "execution_count": 44,
   "metadata": {},
   "outputs": [
    {
     "data": {
      "text/html": [
       "<div>\n",
       "<style scoped>\n",
       "    .dataframe tbody tr th:only-of-type {\n",
       "        vertical-align: middle;\n",
       "    }\n",
       "\n",
       "    .dataframe tbody tr th {\n",
       "        vertical-align: top;\n",
       "    }\n",
       "\n",
       "    .dataframe thead th {\n",
       "        text-align: right;\n",
       "    }\n",
       "</style>\n",
       "<table border=\"1\" class=\"dataframe\">\n",
       "  <thead>\n",
       "    <tr style=\"text-align: right;\">\n",
       "      <th></th>\n",
       "      <th>radius (kpc)</th>\n",
       "      <th>circ velocity (km/s)</th>\n",
       "      <th>circ velocity error (km/s)</th>\n",
       "      <th>syst_error</th>\n",
       "    </tr>\n",
       "  </thead>\n",
       "  <tbody>\n",
       "    <tr>\n",
       "      <th>0</th>\n",
       "      <td>0.232710</td>\n",
       "      <td>3.33</td>\n",
       "      <td>1.36</td>\n",
       "      <td>0.14</td>\n",
       "    </tr>\n",
       "    <tr>\n",
       "      <th>1</th>\n",
       "      <td>0.465421</td>\n",
       "      <td>8.87</td>\n",
       "      <td>4.32</td>\n",
       "      <td>0.14</td>\n",
       "    </tr>\n",
       "    <tr>\n",
       "      <th>2</th>\n",
       "      <td>0.698131</td>\n",
       "      <td>11.89</td>\n",
       "      <td>4.51</td>\n",
       "      <td>0.14</td>\n",
       "    </tr>\n",
       "    <tr>\n",
       "      <th>3</th>\n",
       "      <td>0.930841</td>\n",
       "      <td>15.76</td>\n",
       "      <td>5.35</td>\n",
       "      <td>0.14</td>\n",
       "    </tr>\n",
       "    <tr>\n",
       "      <th>4</th>\n",
       "      <td>1.163550</td>\n",
       "      <td>18.62</td>\n",
       "      <td>5.54</td>\n",
       "      <td>0.14</td>\n",
       "    </tr>\n",
       "  </tbody>\n",
       "</table>\n",
       "</div>"
      ],
      "text/plain": [
       "   radius (kpc)  circ velocity (km/s)  circ velocity error (km/s)  syst_error\n",
       "0      0.232710                  3.33                        1.36        0.14\n",
       "1      0.465421                  8.87                        4.32        0.14\n",
       "2      0.698131                 11.89                        4.51        0.14\n",
       "3      0.930841                 15.76                        5.35        0.14\n",
       "4      1.163550                 18.62                        5.54        0.14"
      ]
     },
     "execution_count": 44,
     "metadata": {},
     "output_type": "execute_result"
    }
   ],
   "source": [
    "#Check that the column was properly added\n",
    "df_rot_curve.head()"
   ]
  },
  {
   "cell_type": "markdown",
   "metadata": {},
   "source": [
    "# Add the errors in quadrature"
   ]
  },
  {
   "cell_type": "code",
   "execution_count": 45,
   "metadata": {},
   "outputs": [],
   "source": [
    "df_rot_curve[\"total_error\"] = np.sqrt(df_rot_curve['syst_error']**2+df_rot_curve['circ velocity error (km/s)']**2)"
   ]
  },
  {
   "cell_type": "code",
   "execution_count": 46,
   "metadata": {},
   "outputs": [
    {
     "data": {
      "text/html": [
       "<div>\n",
       "<style scoped>\n",
       "    .dataframe tbody tr th:only-of-type {\n",
       "        vertical-align: middle;\n",
       "    }\n",
       "\n",
       "    .dataframe tbody tr th {\n",
       "        vertical-align: top;\n",
       "    }\n",
       "\n",
       "    .dataframe thead th {\n",
       "        text-align: right;\n",
       "    }\n",
       "</style>\n",
       "<table border=\"1\" class=\"dataframe\">\n",
       "  <thead>\n",
       "    <tr style=\"text-align: right;\">\n",
       "      <th></th>\n",
       "      <th>radius (kpc)</th>\n",
       "      <th>circ velocity (km/s)</th>\n",
       "      <th>circ velocity error (km/s)</th>\n",
       "      <th>syst_error</th>\n",
       "      <th>total_error</th>\n",
       "    </tr>\n",
       "  </thead>\n",
       "  <tbody>\n",
       "    <tr>\n",
       "      <th>0</th>\n",
       "      <td>0.232710</td>\n",
       "      <td>3.33</td>\n",
       "      <td>1.36</td>\n",
       "      <td>0.14</td>\n",
       "      <td>1.367187</td>\n",
       "    </tr>\n",
       "    <tr>\n",
       "      <th>1</th>\n",
       "      <td>0.465421</td>\n",
       "      <td>8.87</td>\n",
       "      <td>4.32</td>\n",
       "      <td>0.14</td>\n",
       "      <td>4.322268</td>\n",
       "    </tr>\n",
       "    <tr>\n",
       "      <th>2</th>\n",
       "      <td>0.698131</td>\n",
       "      <td>11.89</td>\n",
       "      <td>4.51</td>\n",
       "      <td>0.14</td>\n",
       "      <td>4.512172</td>\n",
       "    </tr>\n",
       "    <tr>\n",
       "      <th>3</th>\n",
       "      <td>0.930841</td>\n",
       "      <td>15.76</td>\n",
       "      <td>5.35</td>\n",
       "      <td>0.14</td>\n",
       "      <td>5.351831</td>\n",
       "    </tr>\n",
       "    <tr>\n",
       "      <th>4</th>\n",
       "      <td>1.163550</td>\n",
       "      <td>18.62</td>\n",
       "      <td>5.54</td>\n",
       "      <td>0.14</td>\n",
       "      <td>5.541769</td>\n",
       "    </tr>\n",
       "  </tbody>\n",
       "</table>\n",
       "</div>"
      ],
      "text/plain": [
       "   radius (kpc)  circ velocity (km/s)  circ velocity error (km/s)  syst_error  \\\n",
       "0      0.232710                  3.33                        1.36        0.14   \n",
       "1      0.465421                  8.87                        4.32        0.14   \n",
       "2      0.698131                 11.89                        4.51        0.14   \n",
       "3      0.930841                 15.76                        5.35        0.14   \n",
       "4      1.163550                 18.62                        5.54        0.14   \n",
       "\n",
       "   total_error  \n",
       "0     1.367187  \n",
       "1     4.322268  \n",
       "2     4.512172  \n",
       "3     5.351831  \n",
       "4     5.541769  "
      ]
     },
     "execution_count": 46,
     "metadata": {},
     "output_type": "execute_result"
    }
   ],
   "source": [
    "df_rot_curve.head()"
   ]
  },
  {
   "cell_type": "markdown",
   "metadata": {},
   "source": [
    "##### We can also slice the column    <font color='red'>HOMEWORK</font>"
   ]
  },
  {
   "cell_type": "code",
   "execution_count": 47,
   "metadata": {},
   "outputs": [
    {
     "data": {
      "text/plain": [
       "0    0.232710\n",
       "1    0.465421\n",
       "2    0.698131\n",
       "3    0.930841\n",
       "4    1.163550\n",
       "5    1.396260\n",
       "6    1.628970\n",
       "7    1.861680\n",
       "8    2.094390\n",
       "9    2.327100\n",
       "Name: radius (kpc), dtype: float64"
      ]
     },
     "execution_count": 47,
     "metadata": {},
     "output_type": "execute_result"
    }
   ],
   "source": [
    "df_rot_curve['radius (kpc)'][0:10]"
   ]
  },
  {
   "cell_type": "markdown",
   "metadata": {},
   "source": [
    "## Ploting Data frames      <font color='red'>HOMEWORK</font>"
   ]
  },
  {
   "cell_type": "markdown",
   "metadata": {},
   "source": [
    "Pandas Library has the a ploting method called  <code> .plot() </code> . It uses mathplot library to create the different plots.  \n",
    "(See <a href=\"https://pandas.pydata.org/pandasdocs/stable/reference/api/pandas.DataFrame.plot.html\"> pandas.DataFrame.plot  </a>  )"
   ]
  },
  {
   "cell_type": "markdown",
   "metadata": {},
   "source": [
    "We can crate a plot of all of the columns contained in the Data frame, however, it uses as x-axis the index-lablel in the Data frame"
   ]
  },
  {
   "cell_type": "code",
   "execution_count": 48,
   "metadata": {},
   "outputs": [
    {
     "data": {
      "text/plain": [
       "<matplotlib.axes._subplots.AxesSubplot at 0x7f3d2b073c10>"
      ]
     },
     "execution_count": 48,
     "metadata": {},
     "output_type": "execute_result"
    },
    {
     "data": {
      "image/png": "[encoded data removed]",
      "text/plain": [
       "<Figure size 432x288 with 1 Axes>"
      ]
     },
     "metadata": {
      "needs_background": "light"
     },
     "output_type": "display_data"
    }
   ],
   "source": [
    "df_rot_curve.plot()"
   ]
  },
  {
   "cell_type": "markdown",
   "metadata": {},
   "source": [
    "To do more specific plots, for intance a plot of the velocity of rotation as a function of radius, we need to specify in angular paranthesis the keywords for the specific columns. The first keyword correspond to the values assigned to the x-axis"
   ]
  },
  {
   "cell_type": "code",
   "execution_count": 49,
   "metadata": {},
   "outputs": [
    {
     "data": {
      "text/plain": [
       "<matplotlib.axes._subplots.AxesSubplot at 0x7f3d2a772810>"
      ]
     },
     "execution_count": 49,
     "metadata": {},
     "output_type": "execute_result"
    },
    {
     "data": {
      "image/png": "[encoded data removed]",
      "text/plain": [
       "<Figure size 432x288 with 1 Axes>"
      ]
     },
     "metadata": {
      "needs_background": "light"
     },
     "output_type": "display_data"
    }
   ],
   "source": [
    "df_rot_curve.plot('radius (kpc)','circ velocity (km/s)')"
   ]
  },
  {
   "cell_type": "markdown",
   "metadata": {},
   "source": [
    "If we wanted to plot a specific slice of the Data frame, we just use our slicing comands before applying the <code> plot </code> method"
   ]
  },
  {
   "cell_type": "code",
   "execution_count": 50,
   "metadata": {},
   "outputs": [
    {
     "data": {
      "text/plain": [
       "<matplotlib.axes._subplots.AxesSubplot at 0x7f3d2a7041d0>"
      ]
     },
     "execution_count": 50,
     "metadata": {},
     "output_type": "execute_result"
    },
    {
     "data": {
      "image/png": "[encoded data removed]",
      "text/plain": [
       "<Figure size 432x288 with 1 Axes>"
      ]
     },
     "metadata": {
      "needs_background": "light"
     },
     "output_type": "display_data"
    }
   ],
   "source": [
    "df_rot_curve[20:].plot.scatter('radius (kpc)','circ velocity (km/s)')"
   ]
  },
  {
   "cell_type": "markdown",
   "metadata": {},
   "source": [
    "# Fitting functions using  SciPy library"
   ]
  },
  {
   "cell_type": "markdown",
   "metadata": {},
   "source": [
    "#### The funtion fitting procces can be divided into 4 steps:\n",
    "#### 1) Collect the data\n",
    "#### 2)  Define objective function (The fucntion that probably will describe well the data. It has free parameters that can be fixed from the fit)\n",
    "#### 3)  Do the Fit\n",
    "#### 4) Compute the goodness of the fit"
   ]
  },
  {
   "cell_type": "markdown",
   "metadata": {},
   "source": [
    "#### 1) Collecting the data"
   ]
  },
  {
   "cell_type": "markdown",
   "metadata": {},
   "source": [
    "First we want to select the date (x,y), for which we will do the fitting. The data also have uncertanties in the measured velocity values, and we want our fit function to take into account those uncertaties"
   ]
  },
  {
   "cell_type": "code",
   "execution_count": 51,
   "metadata": {},
   "outputs": [],
   "source": [
    "# choose the input and output variables, as well as the uncertaties\n",
    " \n",
    "r  = df_rot_curve['radius (kpc)']  # measured r vales\n",
    "v = df_rot_curve['circ velocity (km/s)']  # measured velocity values\n",
    "dv = df_rot_curve[\"circ velocity error (km/s)\"] # Uncertaties in the measured velocities\n",
    "dvt = df_rot_curve[\"total_error\"] # total error"
   ]
  },
  {
   "cell_type": "code",
   "execution_count": 52,
   "metadata": {},
   "outputs": [
    {
     "data": {
      "image/png": "[encoded data removed]",
      "text/plain": [
       "<Figure size 432x288 with 1 Axes>"
      ]
     },
     "metadata": {
      "needs_background": "light"
     },
     "output_type": "display_data"
    }
   ],
   "source": [
    "# plot input vs output\n",
    "plt.errorbar(r, v, yerr=dvt, fmt='.')\n",
    "plt.show()"
   ]
  },
  {
   "cell_type": "code",
   "execution_count": 53,
   "metadata": {},
   "outputs": [],
   "source": [
    "plt.errorbar?"
   ]
  },
  {
   "cell_type": "markdown",
   "metadata": {},
   "source": [
    "#### 2) Define the true objective function"
   ]
  },
  {
   "cell_type": "markdown",
   "metadata": {},
   "source": [
    "In this tutorial we will fit the rotation curve to a   <a href='https://en.wikipedia.org/wiki/Navarro%E2%80%93Frenk%E2%80%93White_profile'> NFW </a>   profile  , as well as to a  <a href='https://astro.uni-bonn.de/~uklein/research/dm.html'>  Burkert </a>  profile. They are characterized by two parameters\n",
    "\n",
    "$$ \\rho_{NFW} = \\frac{\\rho_s}{r/r_s(1+r/r_s)^2} $$ \n",
    "and $$\\rho_{Burkert} = \\rho_0\\frac{r_0^3}{(r+r_0)(r^2+r_0^2)} $$\n",
    "Notice that as $r\\rightarrow 0$, the desity functions behave as \n",
    "\n",
    "$$\\rho_{NFW} \\rightarrow  \\rho_s \\frac{r_s}{r} $$\n",
    "and $$\\rho_{Burkert} \\rightarrow \\rho_0$$"
   ]
  },
  {
   "cell_type": "markdown",
   "metadata": {},
   "source": [
    "Let us see what the density profile look like"
   ]
  },
  {
   "cell_type": "code",
   "execution_count": 54,
   "metadata": {},
   "outputs": [],
   "source": [
    "from density_profiles import rho_NFW, rho_burkert"
   ]
  },
  {
   "cell_type": "code",
   "execution_count": 55,
   "metadata": {},
   "outputs": [],
   "source": [
    "rhoNFW= rho_NFW(10**7,10)\n",
    "rhoburkert = rho_burkert(10**7,10)\n",
    "\n",
    "rd = np.logspace(-3,2)"
   ]
  },
  {
   "cell_type": "code",
   "execution_count": 56,
   "metadata": {},
   "outputs": [
    {
     "data": {
      "image/png": "[encoded data removed]",
      "text/plain": [
       "<Figure size 432x288 with 1 Axes>"
      ]
     },
     "metadata": {
      "needs_background": "light"
     },
     "output_type": "display_data"
    }
   ],
   "source": [
    "plt.loglog(rd,rhoNFW(rd), label =\"NFW\")\n",
    "plt.loglog(rd,rhoburkert(rd),label = \"Burkert\")\n",
    "plt.xlabel('radius (kpc)')\n",
    "plt.ylabel('density (M_s/kpc^3)')\n",
    "plt.legend(loc=\"upper right\")\n",
    "plt.show()\n"
   ]
  },
  {
   "cell_type": "markdown",
   "metadata": {},
   "source": [
    "The  mass functions are given by the volume integral of the  DM density function $\\rho(r)$\n",
    "\n",
    "\n",
    "\n",
    "$$ M_{NFW}(r) = 4\\pi \\rho_s r_s^3\\left[\\ln\\left(1+\\frac{r}{r_s}\\right)-\\frac{r}{r_s}\\frac{1}{1+r/r_s}\\right] $$ and\n",
    "$$ M_{Burkert}(r) = \\pi \\rho_0 r_0^3 \\left[ \\ln \\left((1+r^2/r_0^2)(1+r/r_0)^2\\right)-2\\arctan(r/r_0) \\right]$$\n",
    "\n",
    "The velocity of rotation is then computed from\n",
    "$$ v = \\sqrt {\\frac{GM(r)}{r} } $$\n"
   ]
  },
  {
   "cell_type": "code",
   "execution_count": 57,
   "metadata": {},
   "outputs": [],
   "source": [
    "# Newton's constant\n",
    "GN = 4.302e-6 # km^2/s^2*kpc/Msol\n",
    "\n",
    "def M_NFW(r, r_s, rho_s):\n",
    "    \"\"\"NFW mass function\"\"\"\n",
    "    xr = r/r_s\n",
    "    return 4*np.pi*rho_s*r_s**3*( np.log(1+xr) - xr/(1+xr) )\n",
    "\n",
    "def M_burkert(r, r_0, rho_0):\n",
    "    \"\"\"Burkert mass function\"\"\"\n",
    "    xr = r/r_0\n",
    "    return np.pi*rho_0*r_0**3*(-2 *np.arctan(xr) + np.log(1+xr**2) + 2*np.log(1+xr) )   "
   ]
  },
  {
   "cell_type": "code",
   "execution_count": 58,
   "metadata": {},
   "outputs": [],
   "source": [
    "M_NFW?"
   ]
  },
  {
   "cell_type": "markdown",
   "metadata": {},
   "source": [
    "With the mass function, we can define the true objective function for the velocity as \n"
   ]
  },
  {
   "cell_type": "code",
   "execution_count": 59,
   "metadata": {},
   "outputs": [],
   "source": [
    "def objective(r, r_s, rho_s):\n",
    "    \n",
    "    \"\"\"Velocity function for the NFW profile\"\"\"\n",
    "    \n",
    "    return np.sqrt(GN* M_NFW(r, r_s, rho_s)/r)\n",
    "\n",
    "\n",
    "def objective_b(r, r_0, rho_0):\n",
    "    \n",
    "    \"\"\"Velocity function for the Burkert profile\"\"\"\n",
    "    \n",
    "    return np.sqrt(GN* M_burkert(r, r_0, rho_0)/r)"
   ]
  },
  {
   "cell_type": "markdown",
   "metadata": {},
   "source": [
    "### Fit the curve"
   ]
  },
  {
   "cell_type": "markdown",
   "metadata": {},
   "source": [
    "For that we use the <code> curve_fit </code> module in the scipy library"
   ]
  },
  {
   "cell_type": "code",
   "execution_count": 60,
   "metadata": {},
   "outputs": [],
   "source": [
    "from scipy.optimize import curve_fit"
   ]
  },
  {
   "cell_type": "code",
   "execution_count": 61,
   "metadata": {},
   "outputs": [],
   "source": [
    "curve_fit?"
   ]
  },
  {
   "cell_type": "code",
   "execution_count": 62,
   "metadata": {},
   "outputs": [
    {
     "name": "stderr",
     "output_type": "stream",
     "text": [
      "/home/fabian/anaconda3/lib/python3.7/site-packages/pandas/core/series.py:679: RuntimeWarning: invalid value encountered in sqrt\n",
      "  result = getattr(ufunc, method)(*inputs, **kwargs)\n"
     ]
    }
   ],
   "source": [
    "# curve fit for NFW\n",
    "par, c_matrix = curve_fit(objective, r, v, sigma = dvt,p0=np.array([10., 1e7]))"
   ]
  },
  {
   "cell_type": "code",
   "execution_count": 63,
   "metadata": {},
   "outputs": [],
   "source": [
    "# curve fit Burkert\n",
    "par_b, c_matrix_b = curve_fit(objective_b, r, v, sigma = dvt, p0=np.array([10., 1e7]))"
   ]
  },
  {
   "cell_type": "code",
   "execution_count": 64,
   "metadata": {},
   "outputs": [
    {
     "name": "stdout",
     "output_type": "stream",
     "text": [
      "747.2453044088161 25679.68740293729\n",
      "8.236653216336087 9843524.102512754\n"
     ]
    }
   ],
   "source": [
    "# summarize the parameter values\n",
    "r_s, rho_s = par\n",
    "print(r_s, rho_s)\n",
    "r_0, rho_0 = par_b\n",
    "print(r_0, rho_0)"
   ]
  },
  {
   "cell_type": "markdown",
   "metadata": {},
   "source": [
    "### Plot of the fit function"
   ]
  },
  {
   "cell_type": "code",
   "execution_count": 65,
   "metadata": {},
   "outputs": [
    {
     "data": {
      "image/png": "[encoded data removed]",
      "text/plain": [
       "<Figure size 432x288 with 1 Axes>"
      ]
     },
     "metadata": {
      "needs_background": "light"
     },
     "output_type": "display_data"
    }
   ],
   "source": [
    "# Generate v_values from the fit\n",
    "\n",
    "v_fit_b = objective_b(r, r_0, rho_0) # For Burkert\n",
    "v_fit = objective(r, r_s, rho_s) # For NFW\n",
    "\n",
    "#Do the plots\n",
    "\n",
    "plt.errorbar(r, v, yerr=dvt, fmt='.',label = \"Data\")  # For the data\n",
    "plt.plot(r, v_fit, \"g\", label=\"Fit NFW\",linestyle = '--') # For  NFW\n",
    "plt.plot(r, v_fit_b, \"r\", label=\"Fit Burkert\",linestyle = '--')  # For Burkert\n",
    "# Adding axis labels\n",
    "plt.xlabel('radius (kpc)')\n",
    "plt.ylabel('circ velocity (km/s)')\n",
    "plt.legend(loc=\"upper left\")\n",
    "plt.show()"
   ]
  },
  {
   "cell_type": "markdown",
   "metadata": {},
   "source": [
    "### But, how good is the fitting function? \n",
    "We can determine the goodness of a fit function by means of a chi_square analysis. That is, given the measured data $y_i\\pm\\sigma_{y_i}$, for some $x_i$ range, and a fit function $f(x_i)$, the $\\chi^2$ function is defined by $$\\chi_n^2=\\sum_{i=1}^n\\left(\\frac{y_i-f(x_i)}{\\sigma_{y_i}}\\right)^2$$\n",
    "\n",
    "It is well known that $\\chi_n^2$ typical values are $$\\chi_n^2\\approx \\rm{dof},$$  where dof is the number of degrees of freedom, defined by $$\\rm dof = n-n_{parameters}.$$\n",
    "\n",
    "Then, $\\chi_n ^2\\gg n$ gives a bad fit.\n",
    "On the other hand, $\\chi_n^2 \\ll n$ indicates that the error bar in the data are wrong."
   ]
  },
  {
   "cell_type": "code",
   "execution_count": 66,
   "metadata": {},
   "outputs": [],
   "source": [
    "def chi_s(y,y_fit,dy):\n",
    "    \"\"\"chi_square function\"\"\"\n",
    "    return sum(((y-y_fit)/dy)**2)\n",
    "    "
   ]
  },
  {
   "cell_type": "code",
   "execution_count": 67,
   "metadata": {},
   "outputs": [
    {
     "name": "stdout",
     "output_type": "stream",
     "text": [
      "92.86707235446156\n",
      "15.833933203105577\n"
     ]
    }
   ],
   "source": [
    "#Chi square for NFW\n",
    "chi_s0 =  chi_s(v,v_fit,dvt) \n",
    "print(chi_s0)\n",
    "#Chi square for Burkert\n",
    "chi_s_b =  chi_s(v,v_fit_b,dvt) \n",
    "print(chi_s_b)"
   ]
  },
  {
   "cell_type": "markdown",
   "metadata": {},
   "source": [
    "#### Then we can compare the value of $\\chi^2$  to the number of degrees of freedom"
   ]
  },
  {
   "cell_type": "code",
   "execution_count": 68,
   "metadata": {},
   "outputs": [],
   "source": [
    "def dof(y,par):\n",
    "    \n",
    "    return len(y)-len(par)"
   ]
  },
  {
   "cell_type": "code",
   "execution_count": 69,
   "metadata": {},
   "outputs": [],
   "source": [
    "# Degrees of freedom for NFW\n",
    "dof0 = dof(v,par)\n",
    "# Degrees od freedom for Burkert\n",
    "dof_b = dof(v,par_b)"
   ]
  },
  {
   "cell_type": "code",
   "execution_count": 70,
   "metadata": {},
   "outputs": [
    {
     "name": "stdout",
     "output_type": "stream",
     "text": [
      "1.7522089123483313\n",
      "0.29875345666236935\n"
     ]
    }
   ],
   "source": [
    "print(chi_s0 / dof0)\n",
    "print(chi_s_b / dof_b)"
   ]
  },
  {
   "cell_type": "code",
   "execution_count": 71,
   "metadata": {},
   "outputs": [],
   "source": [
    "#The ratio should be close to 1"
   ]
  },
  {
   "cell_type": "markdown",
   "metadata": {},
   "source": [
    "#### We can quantify the difference further by checking the goodness of the fit.  i.e. the  probability that the fit function is the correct function to describe the data \n",
    "\n",
    "For this use the normalized incomplete <a href = \"https://en.wikipedia.org/wiki/Incomplete_gamma_function\"> gamma </a> function distributions, which are included as special functions in scipy library\n",
    "\n",
    "$$ P(a, x) = \\frac{1}{\\Gamma(a)} \\int_0^x t^{a - 1}e^{-t} dt$$"
   ]
  },
  {
   "cell_type": "code",
   "execution_count": 72,
   "metadata": {},
   "outputs": [],
   "source": [
    "import scipy.special as sf"
   ]
  },
  {
   "cell_type": "code",
   "execution_count": 73,
   "metadata": {},
   "outputs": [
    {
     "name": "stdout",
     "output_type": "stream",
     "text": [
      "0.9994146140660786\n",
      "0.9999932350105163\n"
     ]
    }
   ],
   "source": [
    "#Probabolity for NFW\n",
    "print(sf.gammainc(dof0/2,chi_s0/2))\n",
    "\n",
    "#probability for Burkert\n",
    "print(sf.gammainc(chi_s_b/2,dof_b/2))"
   ]
  },
  {
   "cell_type": "markdown",
   "metadata": {},
   "source": [
    "### A good fit, but not the best! What went wrong?   <font color='red'>HOMEWORK</font>"
   ]
  },
  {
   "cell_type": "markdown",
   "metadata": {},
   "source": [
    "For not linear functions, it is then usefull to deffine an initual guess for the parameters when doing de fit using <code> curve_fit </code>. The default value for the initial guess is $p0= [1.,]$. \n",
    "\n",
    "The <code> curve_fit </code> function indeed computes the fit for which the $\\chi^2$ function is minimized. However, this function can have different local minima, we want to look for the Global minimum. "
   ]
  },
  {
   "cell_type": "code",
   "execution_count": 74,
   "metadata": {},
   "outputs": [],
   "source": [
    "curve_fit?"
   ]
  },
  {
   "cell_type": "markdown",
   "metadata": {},
   "source": [
    "Let's try to do the fit with an initial guess"
   ]
  },
  {
   "cell_type": "code",
   "execution_count": 75,
   "metadata": {},
   "outputs": [
    {
     "name": "stderr",
     "output_type": "stream",
     "text": [
      "/home/fabian/anaconda3/lib/python3.7/site-packages/pandas/core/series.py:679: RuntimeWarning: invalid value encountered in sqrt\n",
      "  result = getattr(ufunc, method)(*inputs, **kwargs)\n"
     ]
    },
    {
     "name": "stdout",
     "output_type": "stream",
     "text": [
      "598.0422247888918 32205.5747716729\n"
     ]
    }
   ],
   "source": [
    "# curve fit2\n",
    "p0_guess = np.array([10, 5e7])\n",
    "par_1, c_matrix_1 = curve_fit(objective, r, v, sigma = dv,p0=p0_guess)\n",
    "\n",
    "# summarize the parameter values\n",
    "r_s_1, rho_s_1 = par_1\n",
    "print(r_s_1, rho_s_1)"
   ]
  },
  {
   "cell_type": "code",
   "execution_count": 76,
   "metadata": {},
   "outputs": [],
   "source": [
    "v_fit1 = objective(r,*par_1)"
   ]
  },
  {
   "cell_type": "code",
   "execution_count": 77,
   "metadata": {},
   "outputs": [
    {
     "name": "stdout",
     "output_type": "stream",
     "text": [
      "93.84231725343906\n"
     ]
    }
   ],
   "source": [
    "chi_s1 =  chi_s(v,v_fit1,dv) \n",
    "dof1 = dof(v,par_1)\n",
    "print(chi_s1)"
   ]
  },
  {
   "cell_type": "markdown",
   "metadata": {},
   "source": [
    "We can again look  the chi_square function, and compare it to the number of degrees of freefom."
   ]
  },
  {
   "cell_type": "code",
   "execution_count": 78,
   "metadata": {},
   "outputs": [
    {
     "data": {
      "text/plain": [
       "1.7522089123483313"
      ]
     },
     "execution_count": 78,
     "metadata": {},
     "output_type": "execute_result"
    }
   ],
   "source": [
    "chi_s0 / dof0"
   ]
  },
  {
   "cell_type": "markdown",
   "metadata": {},
   "source": [
    "compared to the case without initial guess"
   ]
  },
  {
   "cell_type": "code",
   "execution_count": 79,
   "metadata": {},
   "outputs": [
    {
     "data": {
      "text/plain": [
       "1.7706097594988504"
      ]
     },
     "execution_count": 79,
     "metadata": {},
     "output_type": "execute_result"
    }
   ],
   "source": [
    "chi_s1 / dof1"
   ]
  },
  {
   "cell_type": "markdown",
   "metadata": {},
   "source": [
    "The ratio is closser to 1, but still need more precision "
   ]
  },
  {
   "cell_type": "markdown",
   "metadata": {},
   "source": [
    "We can also look at the goodness of the fit"
   ]
  },
  {
   "cell_type": "code",
   "execution_count": 80,
   "metadata": {},
   "outputs": [
    {
     "data": {
      "text/plain": [
       "0.9994146140660786"
      ]
     },
     "execution_count": 80,
     "metadata": {},
     "output_type": "execute_result"
    }
   ],
   "source": [
    "sf.gammainc(dof0/2,chi_s0/2)"
   ]
  },
  {
   "cell_type": "markdown",
   "metadata": {},
   "source": [
    "compare to the case without initial guess"
   ]
  },
  {
   "cell_type": "code",
   "execution_count": 81,
   "metadata": {},
   "outputs": [
    {
     "data": {
      "text/plain": [
       "0.999535776194912"
      ]
     },
     "execution_count": 81,
     "metadata": {},
     "output_type": "execute_result"
    }
   ],
   "source": [
    "sf.gammainc(dof1/2,chi_s1/2)"
   ]
  },
  {
   "cell_type": "markdown",
   "metadata": {},
   "source": [
    "still not too much difference"
   ]
  },
  {
   "cell_type": "markdown",
   "metadata": {},
   "source": [
    "We can plot the results on top of each other, to se if something has changed"
   ]
  },
  {
   "cell_type": "code",
   "execution_count": 82,
   "metadata": {},
   "outputs": [
    {
     "data": {
      "image/png": "[encoded data removed]",
      "text/plain": [
       "<Figure size 432x288 with 1 Axes>"
      ]
     },
     "metadata": {
      "needs_background": "light"
     },
     "output_type": "display_data"
    }
   ],
   "source": [
    "\n",
    "plt.errorbar(r, v, yerr=dv, fmt='.',label = \"Data\")\n",
    "plt.plot(r, v_fit, \"r\", label=\"Fit\",linestyle = '-')\n",
    "plt.plot(r, v_fit1, \"b\", label=\"Fit_1\",linestyle = '--')\n",
    "\n",
    "plt.xlabel('radius (kpc)')\n",
    "plt.ylabel('circ velocity (km/s)')\n",
    "plt.legend(loc=\"upper left\")\n",
    "plt.show()"
   ]
  },
  {
   "cell_type": "markdown",
   "metadata": {},
   "source": [
    "#### Still not the best fit. What could have gone wrong?"
   ]
  },
  {
   "cell_type": "markdown",
   "metadata": {},
   "source": [
    "# Excercise   <font color='green'>COVER</font>\n",
    "The folder <code> Rotation curves </code>, contains different data sets for the rotation curve for several Dwarf galaxies. See <a href='https://github.com/EXPLORE-for-students/python-tutorials/blob/main/Rotation%20curves/readme.pdf'> readme </a> for a description of the files.\n",
    "\n",
    "In this excercise we will fit a rotation curve function for every single galaxy in the folder, and compare the resulting functions. \n",
    "\n",
    "Let us divide the excercise into different steps:\n",
    "\n",
    "#### 1) Fit a  Burkert  velocity curve for the Galaxy  IC 2574 \n",
    "So far  in this tutorial we have  worked only  with the Galaxy  IC 2574. We fitted a NFW rotation curve and found  that the fit we obtained is not the best. We want to start investigating on how to get better fit functions. One possibility is to use a different velocity function to fit the data. In this part of the excercise you are asked to fit a Burkert  velocity curve to the Galaxy  IC 2574 rotation data.\n",
    "\n",
    "- Before doing the fit, as explained in the <a href='https://github.com/EXPLORE-for-students/python-tutorials/blob/main/Rotation%20curves/readme.pdf'> readme </a> file, we want to include a systematic error in the game. Add a new column to the data frame called, \"total_error\", which is the sum in quadrature of the systematic error, and the uncertanties in the measured velocities.\n",
    "- Use the total_error as the uncertanties in v, to do the fit.  \n",
    "- Once the fit is done as explained in the turorial, you are required to compute the goodness of the fit, and compare it to the goodness of the fit for the NFW fit.  \n",
    "\n",
    "#### 2) Fit rotation curves for the remaining galaxies\n",
    "\n",
    "Ignoring the contribution of  the baryon  to the rotation curve data (as we did for  Galaxy  IC 2574), fit a NFW and a Burkert  velocity curve for the remaning galaxies in the folder <code> Rotation curves </code>. Compute the goodness of every fit, and compare them. For which Galaxies is better a NFW fit and for which a Burkert fit? Are these fits good enought to describe the measure data? If not, can you think of what are we  missing?\n",
    "\n",
    "##### 3) Remove baryon contributions to the rotation curve\n",
    "\n",
    "As an extra challenge, as described in <a href='https://github.com/EXPLORE-for-students/python-tutorials/blob/main/Rotation%20curves/readme.pdf'> readme </a>, remove the baryon contribution to the observed circular velocity data. Then, fit a NFW and a   Burkert  velocity curve for each  galaxy. Compare the goodness of the  NFW and Burkert among themselves, and also to the goodness of the fits, when the fit was done without removing the baryon contribution.\n",
    "For which Galaxies is better a NFW fit and for which a Burkert fit? Are these fits good enought to describe the measure data? If not, can you think of what are we  missing?\n",
    "\n",
    " Warning: Notice that the values or r points in the baryon data set are not the same as the r values in the observed circular velocity. Hint: Perhaps you might find usefull   <a href=' https://docs.scipy.org/doc/scipy/reference/generated/scipy.interpolate.interp1d.html'>  interpolating functions </a>. \n",
    " \n"
   ]
  },
  {
   "cell_type": "markdown",
   "metadata": {},
   "source": [
    "# Solution"
   ]
  },
  {
   "cell_type": "markdown",
   "metadata": {},
   "source": [
    "## Preparing the data\n",
    "Let us first load the data we are going to use"
   ]
  },
  {
   "cell_type": "code",
   "execution_count": 83,
   "metadata": {},
   "outputs": [],
   "source": [
    "folder_path = '/home/fabian/Documents/Git files/python-tutorials/Tutorial 2/Rotation curves/'\n",
    "file_IC2574_circular = 'RotationCurve_IC2574.csv'\n",
    "file_IC2574_baryon = 'RotationCurve_baryons_IC2574.csv' # baryon contribution\n",
    "full_IC2574_circular = folder_path + file_IC2574_circular\n",
    "full_IC2574_baryon = folder_path +file_IC2574_baryon # Baryon contribution"
   ]
  },
  {
   "cell_type": "markdown",
   "metadata": {},
   "source": [
    "Now let us create two data frames to unpack these data sets"
   ]
  },
  {
   "cell_type": "code",
   "execution_count": 84,
   "metadata": {},
   "outputs": [],
   "source": [
    "df_IC2574_circular = pd.read_csv(full_IC2574_circular)\n",
    "df_IC2574_baryon = pd.read_csv(full_IC2574_baryon)"
   ]
  },
  {
   "cell_type": "markdown",
   "metadata": {},
   "source": [
    "To have the data measured in the same r_grid, let us create an interpolating function for the stelar and gas velocities"
   ]
  },
  {
   "cell_type": "code",
   "execution_count": 85,
   "metadata": {},
   "outputs": [],
   "source": [
    "from scipy.interpolate import interp1d # For 1-D interpolations"
   ]
  },
  {
   "cell_type": "code",
   "execution_count": 86,
   "metadata": {},
   "outputs": [],
   "source": [
    "# Axis grids\n",
    "r_baryon = df_IC2574_baryon[\"radius (kpc)\"]\n",
    "v_star = df_IC2574_baryon[\"stars circ velocity (km/s)\"]\n",
    "v_gas = df_IC2574_baryon['gas circ velocity (km/s)']"
   ]
  },
  {
   "cell_type": "code",
   "execution_count": 87,
   "metadata": {},
   "outputs": [],
   "source": [
    "# Interpolations\n",
    "inter_stars_circ_velocity = interp1d(r_baryon,v_star,kind = 'quadratic')\n",
    "inter_gas_circ_velocity = interp1d(r_baryon,v_gas,kind = 'quadratic')"
   ]
  },
  {
   "cell_type": "markdown",
   "metadata": {},
   "source": [
    "Let us add two colums to the <code> df_IC2574_circular </code> data frame, with has the baryon velocities evaluated at the same position as the measured measured circular velocity"
   ]
  },
  {
   "cell_type": "code",
   "execution_count": 88,
   "metadata": {},
   "outputs": [],
   "source": [
    "df_IC2574_circular[\"stars circ velocity (km/s)\"] =  inter_stars_circ_velocity(df_IC2574_circular[\"radius (kpc)\"])"
   ]
  },
  {
   "cell_type": "code",
   "execution_count": 89,
   "metadata": {},
   "outputs": [],
   "source": [
    "df_IC2574_circular[\"gas circ velocity (km/s)\"] =  inter_gas_circ_velocity(df_IC2574_circular[\"radius (kpc)\"])"
   ]
  },
  {
   "cell_type": "markdown",
   "metadata": {},
   "source": [
    "Let us now add a new column with the systematic error"
   ]
  },
  {
   "cell_type": "code",
   "execution_count": 90,
   "metadata": {},
   "outputs": [],
   "source": [
    "df_IC2574_circular['syst_error'] =  0.05*df_IC2574_circular[ 'circ velocity error (km/s)'].iloc[-1] "
   ]
  },
  {
   "cell_type": "markdown",
   "metadata": {},
   "source": [
    "Now add a column with the total error, as the sum in quadrature of the systematic error, and the error in the mearused velocity"
   ]
  },
  {
   "cell_type": "code",
   "execution_count": 91,
   "metadata": {},
   "outputs": [],
   "source": [
    "df_IC2574_circular[\"total_error\"] = np.sqrt(df_IC2574_circular['syst_error']**2+df_IC2574_circular['circ velocity error (km/s)']**2)"
   ]
  },
  {
   "cell_type": "code",
   "execution_count": 92,
   "metadata": {},
   "outputs": [
    {
     "data": {
      "text/html": [
       "<div>\n",
       "<style scoped>\n",
       "    .dataframe tbody tr th:only-of-type {\n",
       "        vertical-align: middle;\n",
       "    }\n",
       "\n",
       "    .dataframe tbody tr th {\n",
       "        vertical-align: top;\n",
       "    }\n",
       "\n",
       "    .dataframe thead th {\n",
       "        text-align: right;\n",
       "    }\n",
       "</style>\n",
       "<table border=\"1\" class=\"dataframe\">\n",
       "  <thead>\n",
       "    <tr style=\"text-align: right;\">\n",
       "      <th></th>\n",
       "      <th>radius (kpc)</th>\n",
       "      <th>circ velocity (km/s)</th>\n",
       "      <th>circ velocity error (km/s)</th>\n",
       "      <th>stars circ velocity (km/s)</th>\n",
       "      <th>gas circ velocity (km/s)</th>\n",
       "      <th>syst_error</th>\n",
       "      <th>total_error</th>\n",
       "    </tr>\n",
       "  </thead>\n",
       "  <tbody>\n",
       "    <tr>\n",
       "      <th>0</th>\n",
       "      <td>0.232710</td>\n",
       "      <td>3.33</td>\n",
       "      <td>1.36</td>\n",
       "      <td>3.048860</td>\n",
       "      <td>2.051611</td>\n",
       "      <td>0.14</td>\n",
       "      <td>1.367187</td>\n",
       "    </tr>\n",
       "    <tr>\n",
       "      <th>1</th>\n",
       "      <td>0.465421</td>\n",
       "      <td>8.87</td>\n",
       "      <td>4.32</td>\n",
       "      <td>5.447722</td>\n",
       "      <td>4.196565</td>\n",
       "      <td>0.14</td>\n",
       "      <td>4.322268</td>\n",
       "    </tr>\n",
       "    <tr>\n",
       "      <th>2</th>\n",
       "      <td>0.698131</td>\n",
       "      <td>11.89</td>\n",
       "      <td>4.51</td>\n",
       "      <td>7.264598</td>\n",
       "      <td>6.273282</td>\n",
       "      <td>0.14</td>\n",
       "      <td>4.512172</td>\n",
       "    </tr>\n",
       "    <tr>\n",
       "      <th>3</th>\n",
       "      <td>0.930841</td>\n",
       "      <td>15.76</td>\n",
       "      <td>5.35</td>\n",
       "      <td>9.047033</td>\n",
       "      <td>6.981577</td>\n",
       "      <td>0.14</td>\n",
       "      <td>5.351831</td>\n",
       "    </tr>\n",
       "    <tr>\n",
       "      <th>4</th>\n",
       "      <td>1.163550</td>\n",
       "      <td>18.62</td>\n",
       "      <td>5.54</td>\n",
       "      <td>10.911456</td>\n",
       "      <td>6.058803</td>\n",
       "      <td>0.14</td>\n",
       "      <td>5.541769</td>\n",
       "    </tr>\n",
       "  </tbody>\n",
       "</table>\n",
       "</div>"
      ],
      "text/plain": [
       "   radius (kpc)  circ velocity (km/s)  circ velocity error (km/s)  \\\n",
       "0      0.232710                  3.33                        1.36   \n",
       "1      0.465421                  8.87                        4.32   \n",
       "2      0.698131                 11.89                        4.51   \n",
       "3      0.930841                 15.76                        5.35   \n",
       "4      1.163550                 18.62                        5.54   \n",
       "\n",
       "   stars circ velocity (km/s)  gas circ velocity (km/s)  syst_error  \\\n",
       "0                    3.048860                  2.051611        0.14   \n",
       "1                    5.447722                  4.196565        0.14   \n",
       "2                    7.264598                  6.273282        0.14   \n",
       "3                    9.047033                  6.981577        0.14   \n",
       "4                   10.911456                  6.058803        0.14   \n",
       "\n",
       "   total_error  \n",
       "0     1.367187  \n",
       "1     4.322268  \n",
       "2     4.512172  \n",
       "3     5.351831  \n",
       "4     5.541769  "
      ]
     },
     "execution_count": 92,
     "metadata": {},
     "output_type": "execute_result"
    }
   ],
   "source": [
    "df_IC2574_circular.head()"
   ]
  },
  {
   "cell_type": "markdown",
   "metadata": {},
   "source": [
    "Let us finally add a column with the DM velocity, which is given by $$v_{DM} = \\sqrt{v_c^2-v_{star}^2-v_{gas}^2}.$$ We have to be careful, since $v_{DM}^2$ could be negative, if that is the case,  we choose to change sign of $v_{gas}^2$."
   ]
  },
  {
   "cell_type": "code",
   "execution_count": 93,
   "metadata": {},
   "outputs": [],
   "source": [
    "vel_s = np.array([] )\n",
    "v_s_c = df_IC2574_circular['circ velocity (km/s)']**2\n",
    "v_s_star = df_IC2574_circular['stars circ velocity (km/s)']**2\n",
    "v_s_gas = df_IC2574_circular['gas circ velocity (km/s)']**2\n",
    "\n",
    "for i in range(len(df_IC2574_circular)):\n",
    "    test = v_s_c[i] - v_s_star[i]-v_s_gas[i]\n",
    "    \n",
    "    if test <0:\n",
    "        new_test = v_s_c[i] - v_s_star[i] + v_s_gas[i]\n",
    "        vel_s = np.append(vel_s,new_test)\n",
    "        \n",
    "    else:\n",
    "        vel_s = np.append(vel_s,test)\n",
    "v_DM =  np.sqrt(vel_s)       \n",
    "    "
   ]
  },
  {
   "cell_type": "code",
   "execution_count": 94,
   "metadata": {},
   "outputs": [],
   "source": [
    "# Now add the new column\n",
    "df_IC2574_circular[\"DM circ velocity (km/s)\"] = v_DM"
   ]
  },
  {
   "cell_type": "code",
   "execution_count": 95,
   "metadata": {},
   "outputs": [
    {
     "data": {
      "text/html": [
       "<div>\n",
       "<style scoped>\n",
       "    .dataframe tbody tr th:only-of-type {\n",
       "        vertical-align: middle;\n",
       "    }\n",
       "\n",
       "    .dataframe tbody tr th {\n",
       "        vertical-align: top;\n",
       "    }\n",
       "\n",
       "    .dataframe thead th {\n",
       "        text-align: right;\n",
       "    }\n",
       "</style>\n",
       "<table border=\"1\" class=\"dataframe\">\n",
       "  <thead>\n",
       "    <tr style=\"text-align: right;\">\n",
       "      <th></th>\n",
       "      <th>radius (kpc)</th>\n",
       "      <th>circ velocity (km/s)</th>\n",
       "      <th>circ velocity error (km/s)</th>\n",
       "      <th>stars circ velocity (km/s)</th>\n",
       "      <th>gas circ velocity (km/s)</th>\n",
       "      <th>syst_error</th>\n",
       "      <th>total_error</th>\n",
       "      <th>DM circ velocity (km/s)</th>\n",
       "    </tr>\n",
       "  </thead>\n",
       "  <tbody>\n",
       "    <tr>\n",
       "      <th>0</th>\n",
       "      <td>0.232710</td>\n",
       "      <td>3.33</td>\n",
       "      <td>1.36</td>\n",
       "      <td>3.048860</td>\n",
       "      <td>2.051611</td>\n",
       "      <td>0.14</td>\n",
       "      <td>1.367187</td>\n",
       "      <td>2.449992</td>\n",
       "    </tr>\n",
       "    <tr>\n",
       "      <th>1</th>\n",
       "      <td>0.465421</td>\n",
       "      <td>8.87</td>\n",
       "      <td>4.32</td>\n",
       "      <td>5.447722</td>\n",
       "      <td>4.196565</td>\n",
       "      <td>0.14</td>\n",
       "      <td>4.322268</td>\n",
       "      <td>5.602506</td>\n",
       "    </tr>\n",
       "    <tr>\n",
       "      <th>2</th>\n",
       "      <td>0.698131</td>\n",
       "      <td>11.89</td>\n",
       "      <td>4.51</td>\n",
       "      <td>7.264598</td>\n",
       "      <td>6.273282</td>\n",
       "      <td>0.14</td>\n",
       "      <td>4.512172</td>\n",
       "      <td>7.017382</td>\n",
       "    </tr>\n",
       "    <tr>\n",
       "      <th>3</th>\n",
       "      <td>0.930841</td>\n",
       "      <td>15.76</td>\n",
       "      <td>5.35</td>\n",
       "      <td>9.047033</td>\n",
       "      <td>6.981577</td>\n",
       "      <td>0.14</td>\n",
       "      <td>5.351831</td>\n",
       "      <td>10.852944</td>\n",
       "    </tr>\n",
       "    <tr>\n",
       "      <th>4</th>\n",
       "      <td>1.163550</td>\n",
       "      <td>18.62</td>\n",
       "      <td>5.54</td>\n",
       "      <td>10.911456</td>\n",
       "      <td>6.058803</td>\n",
       "      <td>0.14</td>\n",
       "      <td>5.541769</td>\n",
       "      <td>13.817939</td>\n",
       "    </tr>\n",
       "  </tbody>\n",
       "</table>\n",
       "</div>"
      ],
      "text/plain": [
       "   radius (kpc)  circ velocity (km/s)  circ velocity error (km/s)  \\\n",
       "0      0.232710                  3.33                        1.36   \n",
       "1      0.465421                  8.87                        4.32   \n",
       "2      0.698131                 11.89                        4.51   \n",
       "3      0.930841                 15.76                        5.35   \n",
       "4      1.163550                 18.62                        5.54   \n",
       "\n",
       "   stars circ velocity (km/s)  gas circ velocity (km/s)  syst_error  \\\n",
       "0                    3.048860                  2.051611        0.14   \n",
       "1                    5.447722                  4.196565        0.14   \n",
       "2                    7.264598                  6.273282        0.14   \n",
       "3                    9.047033                  6.981577        0.14   \n",
       "4                   10.911456                  6.058803        0.14   \n",
       "\n",
       "   total_error  DM circ velocity (km/s)  \n",
       "0     1.367187                 2.449992  \n",
       "1     4.322268                 5.602506  \n",
       "2     4.512172                 7.017382  \n",
       "3     5.351831                10.852944  \n",
       "4     5.541769                13.817939  "
      ]
     },
     "execution_count": 95,
     "metadata": {},
     "output_type": "execute_result"
    }
   ],
   "source": [
    "df_IC2574_circular.head()"
   ]
  },
  {
   "cell_type": "markdown",
   "metadata": {},
   "source": [
    "## Defining the objective functions"
   ]
  },
  {
   "cell_type": "code",
   "execution_count": 96,
   "metadata": {},
   "outputs": [],
   "source": [
    "def v_DM_NFW(r, r_s, rho_s):\n",
    "    \n",
    "    \"\"\" Dark matter velocity function for the NFW profile\"\"\"\n",
    "    # Newton's constant\n",
    "    GN = 4.302e-6 # km^2/s^2*kpc/Msol\n",
    "    \n",
    "    def M_NFW(r, r_s, rho_s):\n",
    "        \"\"\"NFW mass function\"\"\"\n",
    "        xr = r/r_s\n",
    "        return 4*np.pi*rho_s*r_s**3*( np.log(1+xr) - xr/(1+xr) )\n",
    "    \n",
    "    return np.sqrt(GN* M_NFW(r, r_s, rho_s)/r)\n",
    "\n",
    "def v_DM_Burkert(r, r_0, rho_0):    \n",
    "    \"\"\"Dark Matter velocity function for the Burkert profile\"\"\"\n",
    "    # Newton's constant\n",
    "    GN = 4.302e-6 # km^2/s^2*kpc/Msol\n",
    "    \n",
    "    def M_burkert(r, r_0, rho_0):\n",
    "        \"\"\"Burkert mass function\"\"\"\n",
    "        xr = r/r_0\n",
    "        return np.pi*rho_0*r_0**3*(-2 *np.arctan(xr) + np.log(1+xr**2) + 2*np.log(1+xr) ) \n",
    "    \n",
    "    return np.sqrt(GN* M_burkert(r, r_0, rho_0)/r)"
   ]
  },
  {
   "cell_type": "markdown",
   "metadata": {},
   "source": [
    "## Doing the fit"
   ]
  },
  {
   "cell_type": "code",
   "execution_count": 97,
   "metadata": {},
   "outputs": [],
   "source": [
    "from scipy.optimize import curve_fit"
   ]
  },
  {
   "cell_type": "code",
   "execution_count": 98,
   "metadata": {},
   "outputs": [],
   "source": [
    "r_val = df_IC2574_circular[\"radius (kpc)\"]\n",
    "dv_val =  df_IC2574_circular[\"total_error\"]"
   ]
  },
  {
   "cell_type": "code",
   "execution_count": 99,
   "metadata": {},
   "outputs": [
    {
     "name": "stderr",
     "output_type": "stream",
     "text": [
      "/home/fabian/anaconda3/lib/python3.7/site-packages/pandas/core/series.py:679: RuntimeWarning: invalid value encountered in sqrt\n",
      "  result = getattr(ufunc, method)(*inputs, **kwargs)\n"
     ]
    }
   ],
   "source": [
    "# curve fit for NFW\n",
    "par_NFW, c_matrix_NFW = curve_fit(v_DM_NFW, r_val, v_DM, sigma =dv_val,p0=np.array([10., 1e7]))"
   ]
  },
  {
   "cell_type": "code",
   "execution_count": 100,
   "metadata": {},
   "outputs": [],
   "source": [
    "# curve fit for Burkert\n",
    "par_Burkert, c_matrix_Burkert = curve_fit(v_DM_Burkert, r_val, v_DM, sigma =dv_val,p0=np.array([10., 1e10]))"
   ]
  },
  {
   "cell_type": "code",
   "execution_count": 101,
   "metadata": {},
   "outputs": [],
   "source": [
    "v_DM_NFW_fit = v_DM_NFW(r_val, par_NFW[0], par_NFW[1])\n",
    "v_DM_Burkert_fit = v_DM_Burkert(r_val, par_Burkert[0], par_Burkert[1])"
   ]
  },
  {
   "cell_type": "code",
   "execution_count": 102,
   "metadata": {},
   "outputs": [
    {
     "data": {
      "text/plain": [
       "array([1.05927550e+01, 5.08979143e+06])"
      ]
     },
     "execution_count": 102,
     "metadata": {},
     "output_type": "execute_result"
    }
   ],
   "source": [
    "par_Burkert"
   ]
  },
  {
   "cell_type": "markdown",
   "metadata": {},
   "source": [
    "## Goodness of the fit"
   ]
  },
  {
   "cell_type": "code",
   "execution_count": 103,
   "metadata": {},
   "outputs": [],
   "source": [
    "def chi_s(y,y_fit,dy):\n",
    "    \"\"\"chi_square function\"\"\"\n",
    "    return sum(((y-y_fit)/dy)**2)\n",
    "def dof(y,par):\n",
    "    \n",
    "    return len(y)-len(par)"
   ]
  },
  {
   "cell_type": "code",
   "execution_count": 104,
   "metadata": {},
   "outputs": [],
   "source": [
    "# For NFW\n",
    "gf_NFW = chi_s(v_DM,v_DM_NFW_fit,dv_val)/dof(v_DM,par_NFW)\n",
    "# For Burkert\n",
    "gf_Burkert = chi_s(v_DM,v_DM_Burkert_fit,dv_val)/dof(v_DM,par_Burkert)"
   ]
  },
  {
   "cell_type": "code",
   "execution_count": 105,
   "metadata": {},
   "outputs": [],
   "source": [
    "import scipy.special as sf"
   ]
  },
  {
   "cell_type": "code",
   "execution_count": 106,
   "metadata": {},
   "outputs": [
    {
     "name": "stdout",
     "output_type": "stream",
     "text": [
      "0.9733336688055315\n",
      "0.9999999790100592\n"
     ]
    }
   ],
   "source": [
    "#Probabolity for NFW\n",
    "print(sf.gammainc(dof(v_DM,par_NFW)/2,chi_s(v_DM,v_DM_NFW_fit,dv_val)/2))\n",
    "\n",
    "#probability for Burkert\n",
    "print(sf.gammainc(chi_s(v_DM,v_DM_Burkert_fit,dv_val)/2,dof(v_DM,par_Burkert)/2))"
   ]
  },
  {
   "cell_type": "markdown",
   "metadata": {},
   "source": [
    "# Plot of the results"
   ]
  },
  {
   "cell_type": "code",
   "execution_count": 107,
   "metadata": {},
   "outputs": [
    {
     "name": "stdout",
     "output_type": "stream",
     "text": [
      "Goodness of the fit. NFW: 1.4083615923568105 . For Burkert: 0.16340634132534845\n"
     ]
    },
    {
     "data": {
      "image/png": "[encoded data removed]",
      "text/plain": [
       "<Figure size 432x288 with 1 Axes>"
      ]
     },
     "metadata": {
      "needs_background": "light"
     },
     "output_type": "display_data"
    }
   ],
   "source": [
    "print(\"Goodness of the fit. NFW:\", gf_NFW, \". For Burkert:\",gf_Burkert)\n",
    "plt.errorbar(r_val,v_DM , yerr=dv_val, fmt='.',label = \"Data\")\n",
    "plt.plot(r_val, v_DM_NFW_fit, \"r\", label=\"Fit_NFW\",linestyle = '-')\n",
    "plt.plot(r_val, v_DM_Burkert_fit, \"g\", label=\"Fit_Burkert\",linestyle = '--')\n",
    "plt.xlabel('radius (kpc)')\n",
    "plt.ylabel('DM circ velocity (km/s)')\n",
    "plt.legend(loc=\"upper left\")\n",
    "plt.show()"
   ]
  },
  {
   "cell_type": "code",
   "execution_count": null,
   "metadata": {},
   "outputs": [],
   "source": []
  }
 ],
 "metadata": {
  "kernelspec": {
   "display_name": "Python 3",
   "language": "python",
   "name": "python3"
  },
  "language_info": {
   "codemirror_mode": {
    "name": "ipython",
    "version": 3
   },
   "file_extension": ".py",
   "mimetype": "text/x-python",
   "name": "python",
   "nbconvert_exporter": "python",
   "pygments_lexer": "ipython3",
   "version": "3.7.6"
  }
 },
 "nbformat": 4,
 "nbformat_minor": 4
}
