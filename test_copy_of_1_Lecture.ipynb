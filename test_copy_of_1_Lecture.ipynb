{
  "nbformat": 4,
  "nbformat_minor": 0,
  "metadata": {
    "interpreter": {
      "hash": "916dbcbb3f70747c44a77c7bcd40155683ae19c65e1c03b4aa3499c5328201f1"
    },
    "kernelspec": {
      "display_name": "Python 3",
      "language": "python",
      "name": "python3"
    },
    "language_info": {
      "codemirror_mode": {
        "name": "ipython",
        "version": 3
      },
      "file_extension": ".py",
      "mimetype": "text/x-python",
      "name": "python",
      "nbconvert_exporter": "python",
      "pygments_lexer": "ipython3",
      "version": "3.7.6"
    },
    "colab": {
      "name": "Copy of 1 - Lecture.ipynb",
      "provenance": [],
      "collapsed_sections": [
        "0XB5rh0V6_Ow",
        "6DmzwvNd6_PH",
        "A936WdLB6_PJ",
        "J8802sum6_PK",
        "Y6xpfauY6_PL",
        "Stdxv7s46_PP",
        "1xulu-tW6_PR",
        "P2ybkcVj6_PS",
        "lVUHCYBF6_PS",
        "NyKwQc026_PY",
        "SKsN65Ek6_Pb",
        "Nkbo6r6m6_Pc",
        "YXCsGa7e6_Pe",
        "qs-_-9OG6_Pf",
        "ebmpD4uf6_Pi"
      ],
      "include_colab_link": true
    }
  },
  "cells": [
    {
      "cell_type": "markdown",
      "metadata": {
        "id": "view-in-github",
        "colab_type": "text"
      },
      "source": [
        "<a href=\"https://colab.research.google.com/github/keiwanjamaly/Python-Tutorials/blob/main/test_copy_of_1_Lecture.ipynb\" target=\"_parent\"><img src=\"https://colab.research.google.com/assets/colab-badge.svg\" alt=\"Open In Colab\"/></a>"
      ]
    },
    {
      "cell_type": "markdown",
      "metadata": {
        "id": "DCen_IiB6_N3"
      },
      "source": [
        "# Lecture 1"
      ]
    },
    {
      "cell_type": "markdown",
      "metadata": {
        "id": "CTnrddNO6_N_"
      },
      "source": [
        "**Authors:**\n",
        "* Yilber Fabian Bautista\n",
        "* Keiwan Jamaly\n",
        "\n",
        "**Last date of modification:**\n",
        " November 27th 2021"
      ]
    },
    {
      "cell_type": "markdown",
      "metadata": {
        "id": "cCzZlQ0a6_OE"
      },
      "source": [
        "Hello there, \n",
        "\n",
        "Welcome to Lecture 1 of this mini-lecture series on programing with Python. In this series, you will learn  basic and intermediate python tools that will be of great use in your scientific carer\n",
        "\n",
        "**Objectives:** \n",
        "\n",
        "By the end of this lecture you will be able to:\n",
        "* Define **variables** and  differentiate between global and local variables. \n",
        "* Identify and use different object **types** in python.\n",
        "* Use some of the python's default functions and define your own **functions**.\n",
        "* Manipulate **lists**\n",
        "* Use function within the  **numpy** library\n",
        "* Creates and manipulate plots using  **Matplot** library "
      ]
    },
    {
      "cell_type": "markdown",
      "metadata": {
        "id": "1dvg1j1I6_OG"
      },
      "source": [
        "##  Variables"
      ]
    },
    {
      "cell_type": "markdown",
      "metadata": {
        "id": "YE5vIqUZ6_OH"
      },
      "source": [
        "When programming,  generally one wants to implement algorithms that simplify cumbersome  calculations. \n",
        "Let us consider the following analytic expression:\n",
        "\n",
        "\\begin{equation*}\\label{eq:1}\n",
        "x^2 + 1\n",
        "\\end{equation*}\n",
        "\n",
        "\n",
        "In this expression, $x$ corresponds to a variable, whereas $1$ is a fix number. To define a variable in a python program we use the following syntax:\n",
        "\n",
        "```py\n",
        "x = 5\n",
        "```\n"
      ]
    },
    {
      "cell_type": "code",
      "metadata": {
        "id": "qCUx9C8w6_OI"
      },
      "source": [
        "x = 5"
      ],
      "execution_count": null,
      "outputs": []
    },
    {
      "cell_type": "markdown",
      "metadata": {
        "id": "hx_1Ebne6_OL"
      },
      "source": [
        "this simply means that every time in the code we use <code> x </code>, \n",
        "the code automatically replaces it by its numerical value. For instance, going back to our example analytic example, if we evaluate \n",
        "```py\n",
        "x**2 + 1\n",
        "```\n",
        "we will get as output <code> 26 </code>. Try this out by yourself"
      ]
    },
    {
      "cell_type": "code",
      "metadata": {
        "id": "TZx4upGB6_ON",
        "colab": {
          "base_uri": "https://localhost:8080/"
        },
        "outputId": "ad3c91a9-5d7d-41f2-f1f2-f4789805ec67"
      },
      "source": [
        "#type here the analytic exampe\n",
        "x**2 + 1 + 23\n"
      ],
      "execution_count": null,
      "outputs": [
        {
          "output_type": "execute_result",
          "data": {
            "text/plain": [
              "49"
            ]
          },
          "metadata": {},
          "execution_count": 3
        }
      ]
    },
    {
      "cell_type": "markdown",
      "metadata": {
        "id": "7QO0YNsG6_OO"
      },
      "source": [
        "<code> x </code> as defined before corresponds to a **global variable**  \n",
        "since every time we use <code> x </code> in the code, python automatically  assigns its numeric value. "
      ]
    },
    {
      "cell_type": "code",
      "metadata": {
        "id": "xUfb7dpk6_OQ"
      },
      "source": [
        "#Use x in different parts of the code and convince yourself that it corresponds to a global variable\n"
      ],
      "execution_count": null,
      "outputs": []
    },
    {
      "cell_type": "markdown",
      "metadata": {
        "id": "bPhfpVzG6_OR"
      },
      "source": [
        "# Types"
      ]
    },
    {
      "cell_type": "markdown",
      "metadata": {
        "id": "poRrucbH6_OS"
      },
      "source": [
        "In mathematics  a variable `a`,  can  take values in scalar (Natural Numbers, Real Numbers, etc. ), vector,  matrix etc. It is the same in programing and there, the objects have defined **types**. There are many types in programing, and you can even define your own, but the most important ones you need to know for the moment are (without any particular order)\n",
        "\n",
        "* Boolean point number ` (bool) ` :  a binary value; True, False <- spelling is important\n",
        "* Integer ` (int) `:  a number; 1, 4, 6, 23, also -34\n",
        "* Floating Point Number ` (float) `: a decimal number; 2.4, 34.2325, -54.234967\n",
        "* String ` (str) `: a sequence of characters; \"hello\", \"I learn python!\", \"I am a string\"\n",
        "\n",
        "Python is a dynamically typed language, so you can change the type of a variable at any time. This means also, that python tries to guess the type of a variable when you assign it a value.\n",
        "\n",
        "Let us explore these examples in practice\n",
        "\n"
      ]
    },
    {
      "cell_type": "markdown",
      "metadata": {
        "id": "r-62XEYW6_OV"
      },
      "source": [
        "**Boolean variables**"
      ]
    },
    {
      "cell_type": "code",
      "metadata": {
        "id": "2aPt7uau6_OW",
        "outputId": "fdd52668-17d1-427a-c6bb-7e9c032dd5b7"
      },
      "source": [
        "a = True\n",
        "print('type of a:',type(a))"
      ],
      "execution_count": null,
      "outputs": [
        {
          "name": "stdout",
          "output_type": "stream",
          "text": [
            "type of a: <class 'bool'>\n"
          ]
        }
      ]
    },
    {
      "cell_type": "markdown",
      "metadata": {
        "id": "I3PQeByE6_OZ"
      },
      "source": [
        "**integer and float variables**"
      ]
    },
    {
      "cell_type": "code",
      "metadata": {
        "id": "TTQJNT9b6_OZ",
        "outputId": "8e06f074-20f0-47c1-8858-754b5f71f441"
      },
      "source": [
        "x = 5\n",
        "print(\"type of x:\", type(x))\n",
        "y = 5.0\n",
        "print(\"type of y:\", type(y))"
      ],
      "execution_count": null,
      "outputs": [
        {
          "name": "stdout",
          "output_type": "stream",
          "text": [
            "type of x: <class 'int'>\n",
            "type of y: <class 'float'>\n"
          ]
        }
      ]
    },
    {
      "cell_type": "markdown",
      "metadata": {
        "id": "Z_8_YRxF6_Ob"
      },
      "source": [
        "**string variables**"
      ]
    },
    {
      "cell_type": "code",
      "metadata": {
        "id": "oWO02Xrd6_Oc",
        "outputId": "fe969f7b-192c-4fd4-b1bd-fb89bd92fdc2"
      },
      "source": [
        "r = 'hello world'\n",
        "print(\" type of r:  \", type(r))"
      ],
      "execution_count": null,
      "outputs": [
        {
          "name": "stdout",
          "output_type": "stream",
          "text": [
            " type of r:   <class 'str'>\n"
          ]
        }
      ]
    },
    {
      "cell_type": "markdown",
      "metadata": {
        "id": "OyQogiSW6_Od"
      },
      "source": [
        "Different variable types have different kinds of operations, for example:\n",
        "* Integers and floats can be added:  `1 + 2` ,  or multiplided  `1 * 2` in the usual form.\n",
        "\n",
        "* Strings  can be concatenated using the + operator `\"hello\" + \"world\"`, you can also do string comparison using  `\"hello\" == \"hello\"`.\n",
        "\n",
        "\n",
        "You can read more about them [here](https://docs.python.org/3/library/stdtypes.html#boolean-operations-and-or-not), [here](https://docs.python.org/3/library/stdtypes.html#numeric-types-int-float-complex) and [here](https://docs.python.org/3/library/stdtypes.html#text-sequence-type-str). But let us see an specific example of how to concatenate two strings"
      ]
    },
    {
      "cell_type": "code",
      "metadata": {
        "id": "WnwTlxRP6_Of",
        "outputId": "54275445-6092-4075-933f-4e6e64963e7a"
      },
      "source": [
        "string1 = \"hello\"\n",
        "string2 = 'world'\n",
        "string3 = string1 + string2\n",
        "print(string3)"
      ],
      "execution_count": null,
      "outputs": [
        {
          "name": "stdout",
          "output_type": "stream",
          "text": [
            "helloworld\n"
          ]
        }
      ]
    },
    {
      "cell_type": "markdown",
      "metadata": {
        "id": "ZokXS5yC6_Oi"
      },
      "source": [
        "Strings are just sequences of characters, and you can extract a specific element, or a slice,  by indexing and slicing. For instance, if we want to extract only the `h` element from the <code>string1</code> variable,  we use syntax `string1[0]` Notice that the to get the first element we use the index <code> [0] </code>. \n",
        "\n",
        "I we want to extract the slice `lowor` from `string3`, we can simply take the slice of elements  `string3[1:8]`, here, the first entry specify the first element of the interval we want to take, and the second entry, the previous to last element of the slice.  Let's see it in practice"
      ]
    },
    {
      "cell_type": "code",
      "metadata": {
        "id": "2HhIDgEI6_Ok",
        "outputId": "8ebbb128-8057-48a7-d81f-be689f883955"
      },
      "source": [
        "print(string1[0])\n",
        "print(string3[3:8:1])\n",
        "print(string3[::2]) #printing all the elements of a string in steps of 2 using an additional argument"
      ],
      "execution_count": null,
      "outputs": [
        {
          "name": "stdout",
          "output_type": "stream",
          "text": [
            "h\n",
            "lowor\n",
            "hlool\n"
          ]
        }
      ]
    },
    {
      "cell_type": "markdown",
      "metadata": {
        "id": "5WzBLQcf6_On"
      },
      "source": [
        "A variable of a given type  can be turn into a variable of a different type. For instance, a float can be turn into an integer using the python's default function `int()`. An integer can be turn into an string using the function `str()`. In a similar way, you can ask for the integer value of the division of two numbers in two ways, for instance doing the usual division and the using the `int()` function on the final result. You can also use the command  `a//b`. Let see"
      ]
    },
    {
      "cell_type": "code",
      "metadata": {
        "id": "Iu1nArm46_Op",
        "outputId": "cebfc4db-fa3a-4e3b-ee41-ad5231812706"
      },
      "source": [
        "x = 5 # this is an integer\n",
        "x = float(x) # this is a float using float() function\n",
        "print(\"type of x:\", type(x))\n",
        "print(int(9.1)) #use int() function\n",
        "print(type(str(1))) #use str() function\n",
        "print(int(9/2))\n",
        "print(9//2) #ask for the integer part of a division"
      ],
      "execution_count": null,
      "outputs": [
        {
          "name": "stdout",
          "output_type": "stream",
          "text": [
            "type of x: <class 'float'>\n",
            "9\n",
            "<class 'str'>\n",
            "4\n",
            "4\n"
          ]
        }
      ]
    },
    {
      "cell_type": "markdown",
      "metadata": {
        "id": "0M0QytSn6_Oq"
      },
      "source": [
        "Operations can also change the type of a variable, for instance, the division of two integers numbers  give in general float numbers"
      ]
    },
    {
      "cell_type": "code",
      "metadata": {
        "id": "en6ZLKNs6_Or",
        "outputId": "e1ec72c9-dfde-4fea-acad-57997d9bb60c"
      },
      "source": [
        "x = 5\n",
        "print(\"x = 5 is of type :\", type(x))\n",
        "y = x/3\n",
        "print(\"y = x/3 is of type :\", type(y))"
      ],
      "execution_count": null,
      "outputs": [
        {
          "name": "stdout",
          "output_type": "stream",
          "text": [
            "x = 5 is of type : <class 'int'>\n",
            "y = x/3 is of type : <class 'float'>\n"
          ]
        }
      ]
    },
    {
      "cell_type": "markdown",
      "metadata": {
        "id": "WjROU09_6_Os"
      },
      "source": [
        "There are is a set of mathematical operations which are applicable to the different variable **types**, \"+, -, *, /, **, //, %, <, >, <=, >=, ==, !=\". The order of operations can be seen [here](https://docs.python.org/3/reference/expressions.html#operator-precedence). But you can always override the priority with round brackets."
      ]
    },
    {
      "cell_type": "code",
      "metadata": {
        "id": "15sqhNOJ6_Os",
        "outputId": "7594c898-74de-4f87-f48d-77339694897b"
      },
      "source": [
        "print(3 + 3)\n",
        "print(3 + 3 * 15)\n",
        "print((3 + 3) * 15)"
      ],
      "execution_count": null,
      "outputs": [
        {
          "name": "stdout",
          "output_type": "stream",
          "text": [
            "6\n",
            "48\n",
            "90\n"
          ]
        }
      ]
    },
    {
      "cell_type": "markdown",
      "metadata": {
        "id": "SUQBuE4s6_Ot"
      },
      "source": [
        "To finalize this section, let us point that all of the variables that we have defined above are Global variables, that means that we can use them in different cells in the notebook without having to define them again. For instance we can ` print ` the value of ` x ` defined above."
      ]
    },
    {
      "cell_type": "code",
      "metadata": {
        "id": "E7YKOUB26_Ou",
        "outputId": "edf8c4cc-bfe3-4150-8f95-75de7e421be1"
      },
      "source": [
        "x"
      ],
      "execution_count": null,
      "outputs": [
        {
          "data": {
            "text/plain": [
              "5"
            ]
          },
          "execution_count": 12,
          "metadata": {},
          "output_type": "execute_result"
        }
      ]
    },
    {
      "cell_type": "markdown",
      "metadata": {
        "id": "hRcfwf-S6_Ov"
      },
      "source": [
        "get yourself convinced by using some of the previous defined variables in the following cell:"
      ]
    },
    {
      "cell_type": "code",
      "metadata": {
        "id": "Eky-B_BY6_Ow"
      },
      "source": [
        ""
      ],
      "execution_count": null,
      "outputs": []
    },
    {
      "cell_type": "markdown",
      "metadata": {
        "id": "0XB5rh0V6_Ow"
      },
      "source": [
        "# Fuctions"
      ]
    },
    {
      "cell_type": "markdown",
      "metadata": {
        "id": "xMR0BBuE6_Ox"
      },
      "source": [
        "Going back to our mathematical expression\n",
        "```py\n",
        "x**2 + 1\n",
        "```\n",
        " we now want to evaluate it at an specific value, for instance   ` x  = 3`. The result of this evaluation will  be   `10` "
      ]
    },
    {
      "cell_type": "code",
      "metadata": {
        "id": "1XBgS9Ug6_Oy",
        "outputId": "371370d5-f3be-4037-d3cf-4d84d7fd4c57"
      },
      "source": [
        "x = 3\n",
        "x**2 + 1"
      ],
      "execution_count": null,
      "outputs": [
        {
          "data": {
            "text/plain": [
              "10"
            ]
          },
          "execution_count": 3,
          "metadata": {},
          "output_type": "execute_result"
        }
      ]
    },
    {
      "cell_type": "markdown",
      "metadata": {
        "id": "Ih6T6G6D6_O0"
      },
      "source": [
        "We  could do this also for another input number, for example `x = 7`."
      ]
    },
    {
      "cell_type": "code",
      "metadata": {
        "id": "ukbWJT836_O1",
        "outputId": "1528ba22-4346-43a4-f137-c0dfbc2d5547"
      },
      "source": [
        "x = 7\n",
        "x**2 + 1"
      ],
      "execution_count": null,
      "outputs": [
        {
          "data": {
            "text/plain": [
              "50"
            ]
          },
          "execution_count": 4,
          "metadata": {},
          "output_type": "execute_result"
        }
      ]
    },
    {
      "cell_type": "markdown",
      "metadata": {
        "id": "77A0JChj6_O3"
      },
      "source": [
        "or `x = 50`"
      ]
    },
    {
      "cell_type": "code",
      "metadata": {
        "id": "G7Y7r7tX6_O4",
        "outputId": "66ca2ba8-11e0-4c6d-d6c8-419ec7923d6e"
      },
      "source": [
        "x = 50\n",
        "x**2 + 1"
      ],
      "execution_count": null,
      "outputs": [
        {
          "data": {
            "text/plain": [
              "2501"
            ]
          },
          "execution_count": 16,
          "metadata": {},
          "output_type": "execute_result"
        }
      ]
    },
    {
      "cell_type": "markdown",
      "metadata": {
        "id": "3RU8zsg76_O5"
      },
      "source": [
        "You get the idea.. You can save your time by abstracting \n",
        "\n",
        "```py\n",
        "x**2 + 1\n",
        "```\n",
        "\n",
        "into a function which can be reused any time we desire to. The syntax for defining a function in python is the following: \n",
        "\n",
        "```py\n",
        "def function_name(x1):\n",
        "    # ...\n",
        "```\n",
        " Here\n",
        "\n",
        "`x1` is a function parameter (independent variable). \n",
        "\n",
        "It is  recommended that you use functions names that accurately describe the function purpose.\n",
        "\n",
        "You can have multiple function parameters.\n",
        "```py\n",
        "def f(x1, x2):\n",
        "    # ...\n",
        "```\n",
        "\n",
        "The function parameters ` x ` can be of any type (including functions themselves).\n",
        "\n",
        "A Function generally takes an input and returns an output. As an example: Let us imagine, we want to write a function that adds two parameters and squares them afterwards. You could write a code of the following form"
      ]
    },
    {
      "cell_type": "code",
      "metadata": {
        "id": "RT0Ll1Jc6_O6"
      },
      "source": [
        "def sum_and_square(x1, x2):\n",
        "    power = 2\n",
        "    sum_ = x1 + x2\n",
        "    sum_sq = sum_**power\n",
        "    return sum_sq"
      ],
      "execution_count": null,
      "outputs": []
    },
    {
      "cell_type": "markdown",
      "metadata": {
        "id": "WoT_aOyg6_O8"
      },
      "source": [
        "We can now use this function with specific input variables as follows"
      ]
    },
    {
      "cell_type": "code",
      "metadata": {
        "id": "T8edAjmc6_O8",
        "outputId": "1ae5a238-80d9-4d7c-806f-48e4403e7c22"
      },
      "source": [
        "x = sum_and_square(2, 3)\n",
        "x"
      ],
      "execution_count": null,
      "outputs": [
        {
          "data": {
            "text/plain": [
              "25"
            ]
          },
          "execution_count": 18,
          "metadata": {},
          "output_type": "execute_result"
        }
      ]
    },
    {
      "cell_type": "markdown",
      "metadata": {
        "id": "KdinD9W16_O9"
      },
      "source": [
        "Let us take  this example function to discuss local variables. As you can see, inside the function we have defined the variable  ` power = 2 `, that means that  inside the function, anywhere you encounter the variable ` power `, the program automatically replace its value `2`. However, outside the function the variable ` power ` is not defined, and if you try to call it, you will get an error message, namely,   ` power ` was written as a **local** variable. "
      ]
    },
    {
      "cell_type": "code",
      "metadata": {
        "id": "tXr90Mg06_O-",
        "outputId": "b9bcaf2c-6b4a-402b-c603-b3b82ee86211"
      },
      "source": [
        "power"
      ],
      "execution_count": null,
      "outputs": [
        {
          "ename": "NameError",
          "evalue": "name 'power' is not defined",
          "output_type": "error",
          "traceback": [
            "\u001b[0;31m---------------------------------------------------------------------------\u001b[0m",
            "\u001b[0;31mNameError\u001b[0m                                 Traceback (most recent call last)",
            "\u001b[0;32m<ipython-input-19-d6a407a2c881>\u001b[0m in \u001b[0;36m<module>\u001b[0;34m\u001b[0m\n\u001b[0;32m----> 1\u001b[0;31m \u001b[0mpower\u001b[0m\u001b[0;34m\u001b[0m\u001b[0;34m\u001b[0m\u001b[0m\n\u001b[0m",
            "\u001b[0;31mNameError\u001b[0m: name 'power' is not defined"
          ]
        }
      ]
    },
    {
      "cell_type": "markdown",
      "metadata": {
        "id": "ngwg1n7y6_O-"
      },
      "source": [
        "python syntax for error printed is very informative, as we can see, it tells that the variable <code>power </code> has not been defined."
      ]
    },
    {
      "cell_type": "markdown",
      "metadata": {
        "id": "aMkn4xvl6_O_"
      },
      "source": [
        "Returning to our  function. As you can see, the job of `return`  is to store the result of the operation in the function,  in the variable `x`. A function doesn't need to have a `return` statement, for example, when you work with **classes** (you will learn about classes later). \n",
        "\n",
        "Keep in mind, that the argument's types are carried into the function, so you get an error, when you try use undefined operations  between different type objects. For example, the  sum of a  string and a number is not defined, and the error would be the following "
      ]
    },
    {
      "cell_type": "code",
      "metadata": {
        "id": "j2LouRm46_PA",
        "outputId": "177aa874-6e1e-43d5-a347-2458475e240b"
      },
      "source": [
        "sum_and_square(\"hello\", 2)"
      ],
      "execution_count": null,
      "outputs": [
        {
          "ename": "TypeError",
          "evalue": "can only concatenate str (not \"int\") to str",
          "output_type": "error",
          "traceback": [
            "\u001b[0;31m---------------------------------------------------------------------------\u001b[0m",
            "\u001b[0;31mTypeError\u001b[0m                                 Traceback (most recent call last)",
            "\u001b[0;32m<ipython-input-19-518941e76f79>\u001b[0m in \u001b[0;36m<module>\u001b[0;34m\u001b[0m\n\u001b[0;32m----> 1\u001b[0;31m \u001b[0msum_and_square\u001b[0m\u001b[0;34m(\u001b[0m\u001b[0;34m\"hello\"\u001b[0m\u001b[0;34m,\u001b[0m \u001b[0;36m2\u001b[0m\u001b[0;34m)\u001b[0m\u001b[0;34m\u001b[0m\u001b[0;34m\u001b[0m\u001b[0m\n\u001b[0m",
            "\u001b[0;32m<ipython-input-15-412aa82abc70>\u001b[0m in \u001b[0;36msum_and_square\u001b[0;34m(x1, x2)\u001b[0m\n\u001b[1;32m      1\u001b[0m \u001b[0;32mdef\u001b[0m \u001b[0msum_and_square\u001b[0m\u001b[0;34m(\u001b[0m\u001b[0mx1\u001b[0m\u001b[0;34m,\u001b[0m \u001b[0mx2\u001b[0m\u001b[0;34m)\u001b[0m\u001b[0;34m:\u001b[0m\u001b[0;34m\u001b[0m\u001b[0;34m\u001b[0m\u001b[0m\n\u001b[1;32m      2\u001b[0m     \u001b[0mpower\u001b[0m \u001b[0;34m=\u001b[0m \u001b[0;36m2\u001b[0m\u001b[0;34m\u001b[0m\u001b[0;34m\u001b[0m\u001b[0m\n\u001b[0;32m----> 3\u001b[0;31m     \u001b[0msum_\u001b[0m \u001b[0;34m=\u001b[0m \u001b[0mx1\u001b[0m \u001b[0;34m+\u001b[0m \u001b[0mx2\u001b[0m\u001b[0;34m\u001b[0m\u001b[0;34m\u001b[0m\u001b[0m\n\u001b[0m\u001b[1;32m      4\u001b[0m     \u001b[0msum_sq\u001b[0m \u001b[0;34m=\u001b[0m \u001b[0msum_\u001b[0m\u001b[0;34m**\u001b[0m\u001b[0;36m2\u001b[0m\u001b[0;34m\u001b[0m\u001b[0;34m\u001b[0m\u001b[0m\n\u001b[1;32m      5\u001b[0m     \u001b[0;32mreturn\u001b[0m \u001b[0msum_sq\u001b[0m\u001b[0;34m\u001b[0m\u001b[0;34m\u001b[0m\u001b[0m\n",
            "\u001b[0;31mTypeError\u001b[0m: can only concatenate str (not \"int\") to str"
          ]
        }
      ]
    },
    {
      "cell_type": "markdown",
      "metadata": {
        "id": "Sw-OVpJr6_PA"
      },
      "source": [
        "Let us finally comment on a useful feature when defining functions. You can pre-assign a default value for the independent variables. For instance, let us imagine we want to  define a function of two parameters ` a, b `, but we want to specify a default value for ` b = 1. `, so that when using the function, it assumes that ` b =1. ` , but we could change the value of ` b ` if desired.  The syntax for this will be \n",
        "```py\n",
        "def fun( a, b = 1):\n",
        "    # ...\n",
        "```\n",
        "here we refer to ` b ` as a named variable. Let us see how this works in the following example"
      ]
    },
    {
      "cell_type": "code",
      "metadata": {
        "id": "BMIzpszW6_PB"
      },
      "source": [
        "def fun(a,b =1.):\n",
        "    return a + b"
      ],
      "execution_count": null,
      "outputs": []
    },
    {
      "cell_type": "code",
      "metadata": {
        "id": "gxszqJLp6_PC",
        "outputId": "08932acd-1eb8-48df-952e-e66c8d7397a4"
      },
      "source": [
        "print(fun(3)) # use the default value for variable b\n",
        "print(fun(3,b=2)) # Change the input value for b"
      ],
      "execution_count": null,
      "outputs": [
        {
          "name": "stdout",
          "output_type": "stream",
          "text": [
            "4.0\n",
            "5\n"
          ]
        }
      ]
    },
    {
      "cell_type": "markdown",
      "metadata": {
        "id": "e5_TDQ5D6_PC"
      },
      "source": [
        "Notice that the order of the arguments matters, no named variables always go first, and named variables go afterwards. For instance, if you want to invert the order, you will get an error message"
      ]
    },
    {
      "cell_type": "code",
      "metadata": {
        "id": "wh8yD9Zr6_PD",
        "outputId": "2d7c6d55-66fc-4f36-844d-810c33001fe0"
      },
      "source": [
        "fun(b=1,3)"
      ],
      "execution_count": null,
      "outputs": [
        {
          "ename": "SyntaxError",
          "evalue": "positional argument follows keyword argument (<ipython-input-22-9f63f40b7e1a>, line 1)",
          "output_type": "error",
          "traceback": [
            "\u001b[0;36m  File \u001b[0;32m\"<ipython-input-22-9f63f40b7e1a>\"\u001b[0;36m, line \u001b[0;32m1\u001b[0m\n\u001b[0;31m    fun(b=1,3)\u001b[0m\n\u001b[0m           ^\u001b[0m\n\u001b[0;31mSyntaxError\u001b[0m\u001b[0;31m:\u001b[0m positional argument follows keyword argument\n"
          ]
        }
      ]
    },
    {
      "cell_type": "markdown",
      "metadata": {
        "id": "tGt_qI356_PE"
      },
      "source": [
        "Defining function with default key-values for different parameters  is useful when dealing functions with a big number of  arguments, since it allows us to input the arguments without an specific order. For example"
      ]
    },
    {
      "cell_type": "code",
      "metadata": {
        "id": "Qr6PzsFj6_PF"
      },
      "source": [
        "def func2 (a=1,b=3,c=19):\n",
        "    return (a-b)/c"
      ],
      "execution_count": null,
      "outputs": []
    },
    {
      "cell_type": "code",
      "metadata": {
        "id": "D19rdF0y6_PG",
        "outputId": "ee4f6d09-c7e1-46b5-d83e-ff8448f242e8"
      },
      "source": [
        "func2 (b=3, a=13,c=19) == func2 (b=3,c=19, a=13) "
      ],
      "execution_count": null,
      "outputs": [
        {
          "data": {
            "text/plain": [
              "True"
            ]
          },
          "execution_count": 24,
          "metadata": {},
          "output_type": "execute_result"
        }
      ]
    },
    {
      "cell_type": "markdown",
      "metadata": {
        "id": "6DmzwvNd6_PH"
      },
      "source": [
        "### Excercise 1\n",
        "To get some practice with functions, let us imagine a freely falling particle whose coordinate position (x, y) is described by the relations  $y(t) = -9.81*t^2 + 0.23*t + 100.34$ and $x(t) = 0.5 * t$. Write two functions, the first (second) one should give you the x(y)-Position for a given t. \n",
        "\n",
        "Being a good programmer means also to verify the functionality of your code, so run some tests. "
      ]
    },
    {
      "cell_type": "code",
      "metadata": {
        "id": "wQYRt9QA6_PH"
      },
      "source": [
        "# Write your solution in this cell\n"
      ],
      "execution_count": null,
      "outputs": []
    },
    {
      "cell_type": "markdown",
      "metadata": {
        "id": "u1w00F7U6_PI"
      },
      "source": [
        "Functions have additional features like optional parameters, default parameters, typing, etc., some of them are self explanatory, some of them are not. We encourage you to learn more about functions [here](https://www.w3schools.com/python/python_functions.asp). "
      ]
    },
    {
      "cell_type": "markdown",
      "metadata": {
        "id": "A936WdLB6_PJ"
      },
      "source": [
        "# Lists and Tuples"
      ]
    },
    {
      "cell_type": "markdown",
      "metadata": {
        "id": "J8802sum6_PK"
      },
      "source": [
        "Lists and tuples are data structures, which as the name explicitly suggests, they are utilized to collect data in one single variable.  Let's define a List, to make it more clear.\n",
        "\n",
        "### List\n",
        "\n",
        "To define a list, we use the following syntax\n",
        "\n",
        "```py\n",
        "my_list = [3, 4, 8, 2, 5, 3, 7]\n",
        "```\n",
        "\n",
        "Likewise for strings, we can:\n",
        "* Acces  a list element by defining the specific index\n",
        "```py\n",
        "my_list[2]\n",
        "```\n",
        "this will give you `8`. Keep in mind, that in python, the first element is referenced as the 0th element. So \n",
        "```py\n",
        "my_list[5]\n",
        "```\n",
        "will result into  `3`  **rather than** 5. You can also access the last (second to last) element by using the index `-1`(`-2`). \n",
        "\n",
        "```py\n",
        "my_list[-1]\n",
        "```\n",
        "* Slice the list by defining the range of interest in the list \n",
        "\n",
        "```py\n",
        "slice = my_list[1:4]\n",
        "```\n",
        "this will give as output  ` [4, 8, 2] `\n",
        "\n",
        "* Lists are **mutable** objects, this means that we can change one or more elements of the list \n",
        "\n",
        "```py\n",
        "my_list[3] = \"string\"\n",
        "```\n",
        "in this example, we would have added a string as the fourth element. This is just to show that the elements of a list do not have to be of the same type.\n",
        "\n",
        "* Append to a list by using\n",
        "```py\n",
        "my_list.append(10)\n",
        "```\n",
        "or you can simply do \n",
        "```\n",
        "my_list+=[10]\n",
        "```\n",
        "* Concatenate two lists \n",
        "\n",
        "```\n",
        "my_list2 = [1,4,'r',(3,4)]\n",
        "my_list3 = [5.6,4,'c',[1,2,3]]\n",
        "my_list4 = my_list2 + my_list3\n",
        "```\n",
        "\n",
        "* Determine the lenght of your list\n",
        "```\n",
        "len(my_list4)\n",
        "```\n",
        "producing as output ` 8 `\n",
        "\n",
        "### Exercise 2 \n",
        "Go ahead and try all these things out!"
      ]
    },
    {
      "cell_type": "code",
      "metadata": {
        "id": "mBPr1OJ-6_PL"
      },
      "source": [
        "# Here you have space to play with lists. \n"
      ],
      "execution_count": null,
      "outputs": []
    },
    {
      "cell_type": "markdown",
      "metadata": {
        "id": "Y6xpfauY6_PL"
      },
      "source": [
        "### Tuples\n",
        "Tuples are in general similar objects  as Lists, but they are defined with round brackets instead of squared ones.\n",
        "```py\n",
        "my_list = [3, 4, 8, 2, 5, 3, 7] # This is a list\n",
        "my_tuple = (3, 4, 8, 2, 5, 3, 7) # This is a tuple\n",
        "```\n",
        "accessing different  elements of a tuple  can be done in the same way than for lists. However,  tuples are **not mutable** which means that one cannot change or add more elements to the tuple. \n",
        "\n",
        "### Exercise 3\n",
        "Go ahead and try to use the operations for list in tuples and convince yourself of their main differences "
      ]
    },
    {
      "cell_type": "code",
      "metadata": {
        "id": "tXimWDfs6_PM"
      },
      "source": [
        "# Here you have space to play with tuples\n"
      ],
      "execution_count": null,
      "outputs": []
    },
    {
      "cell_type": "markdown",
      "metadata": {
        "id": "RQ5C-5876_PN"
      },
      "source": [
        "Lists and tuples can be change one into another, and as usual,  python has already default functions for doing that, for instance to go from a list into a tuple we use the function <code> tuple(my_list) </code>, and viceversa, <code> list(my_tuple) </code>.\n",
        "    \n",
        "Convince yourself of this with the following two objects\n",
        "    \n",
        "```py\n",
        "my_list = [3, 4, 8, 2, 5, 3, 7] # This is a list\n",
        "my_tuple = (3, 4, 8, 2, 5, 3, 7) # This is a tuple\n",
        "```    \n"
      ]
    },
    {
      "cell_type": "code",
      "metadata": {
        "id": "X3PCVW816_PN"
      },
      "source": [
        ""
      ],
      "execution_count": null,
      "outputs": []
    },
    {
      "cell_type": "markdown",
      "metadata": {
        "id": "u7ZlPOsv6_PO"
      },
      "source": [
        "Let us finally  point out some useful differences between lists and tuples in the following image, they will be useful on your  future programing \n",
        "\n"
      ]
    },
    {
      "cell_type": "code",
      "metadata": {
        "id": "g41rG3Ca6_PO",
        "outputId": "17420e0f-c9b4-4a20-9dca-1eada9d1a0f4"
      },
      "source": [
        "from IPython.display import Image\n",
        "Image(\"image_1.png\")"
      ],
      "execution_count": null,
      "outputs": [
        {
          "data": {
            "image/png": "[encoded data removed]",
            "text/plain": [
              "<IPython.core.display.Image object>"
            ]
          },
          "execution_count": 7,
          "metadata": {},
          "output_type": "execute_result"
        }
      ]
    },
    {
      "cell_type": "markdown",
      "metadata": {
        "id": "Stdxv7s46_PP"
      },
      "source": [
        "# Numpy"
      ]
    },
    {
      "cell_type": "markdown",
      "metadata": {
        "id": "mUEef4GU6_PP"
      },
      "source": [
        "Sometimes you have to beef up your List experience because the build in functionality is not sufficient for your problems or it is just slow. Here we introduce the **numpy** library,  which create a whole universe of functions which are fast and efficient. Without further due, let's import numpy to make it usable in our code \n",
        "\n",
        "```py\n",
        "import numpy as np\n",
        "```\n",
        "\n",
        "A module import has to happen before the libarie's code execution. \n",
        "\n",
        "you may have noticed, that the import statement ends with `as np`, this is called aliasing.  This enables to every time we call the library to call it as `np` instead of `numpy`. For instance to call <code>numpy</code> functions we will always use  `np.fun()` instead of `numpy.fun()` which is just more convenient but doesn't change the nature of the execution. \n",
        "\n",
        "As an example, let us use numpy's <code> sqrt() </code> function "
      ]
    },
    {
      "cell_type": "code",
      "metadata": {
        "id": "u2FsUrjN6_PQ",
        "outputId": "1808da04-cfc0-4cfd-efa6-e43095f9062e"
      },
      "source": [
        "import numpy as np\n",
        "\n",
        "x = 2\n",
        "y = np.sqrt(x)\n",
        "print(y)"
      ],
      "execution_count": null,
      "outputs": [
        {
          "name": "stdout",
          "output_type": "stream",
          "text": [
            "1.4142135623730951\n"
          ]
        }
      ]
    },
    {
      "cell_type": "markdown",
      "metadata": {
        "id": "1xulu-tW6_PR"
      },
      "source": [
        "Additional **numpy** functions include \n",
        "1. exponential function: np.exp(x)\n",
        "2. logarithmic function: np.log(x)\n",
        "3. cosine function: np.cos(x)\n",
        "\n",
        "constants like pi and the Euler number  are also accessible by using the syntax `np.pi` and `np.e` respectively. \n",
        "\n",
        "A full documentation can be seen [here](https://numpy.org/devdocs/index.html)\n",
        "\n",
        "### Exercise 4\n",
        "As an exercise and using numpy functions,  write a function which takes as arguments the coordinates `x` and `y` and returns the polar coordinates `r` and `phi`. Recall the change of variables from Euclidean to polar coordinates is \n",
        " $$\n",
        " r = \\sqrt(x^2+y^2)\\\\\n",
        " \\theta = \\arctan{y/x}.\n",
        " $$\n",
        "\n"
      ]
    },
    {
      "cell_type": "code",
      "metadata": {
        "id": "BFUcZTKR6_PR"
      },
      "source": [
        "# write your function here\n"
      ],
      "execution_count": null,
      "outputs": []
    },
    {
      "cell_type": "markdown",
      "metadata": {
        "id": "P2ybkcVj6_PS"
      },
      "source": [
        "# Numpy Arrays"
      ]
    },
    {
      "cell_type": "markdown",
      "metadata": {
        "id": "lVUHCYBF6_PS"
      },
      "source": [
        "\n",
        "Withing the many useful tools in <code> numpy </code>, we have  <code> numpy-arrays</code>, which replaces  python <code> lists </code> and works hand in hand with other libraries like <code> matplotlib </code> (for plotting) and <code>scipy </code>(for scientific calculations as for instance  solving differential equations which we will learn in Lecture 4). Numpy arrays are fast for evaluation as compared lists (see  [here](https://numpy.org/doc/stable/user/whatisnumpy.html) )\n",
        "\n",
        "To convert a list into a <code>numpy</code> array we use the following syntax:\n",
        "```py\n",
        "a_numpy_array = np.array([2, 3, 4])\n",
        "```\n",
        "### Exercise 5\n",
        "Convert the previous generated List into <code> numpy </code> arrays and calculate the sum of it using [this](https://numpy.org/doc/stable/reference/generated/numpy.ndarray.sum.html?highlight=sum) function. \n",
        "\n",
        "In addition, convince yourself that the indexing, slicing, computing the length of the array, etc, works in a similar way that for lists.\n",
        "However, if you want to add append an element to an array, you do not use the command ` list.append([3]) `, but rather the command ` np.append(array, value)`. Add the element ` 10 ` to the array `a_numpy_array ` above. \n"
      ]
    },
    {
      "cell_type": "code",
      "metadata": {
        "id": "5lfUor0K6_PU"
      },
      "source": [
        "# here goes your result. "
      ],
      "execution_count": null,
      "outputs": []
    },
    {
      "cell_type": "markdown",
      "metadata": {
        "id": "N_Jk3axb6_PW"
      },
      "source": [
        "Next, let us create  a new numpy array named `t`, that looks like this  \n",
        "```py\n",
        "array([0. , 0.1, 0.2, 0.3, 0.4, 0.5, 0.6, 0.7, 0.8, 0.9, 1. , 1.1, 1.2,\n",
        "       1.3, 1.4, 1.5, 1.6, 1.7, 1.8, 1.9, 2. , 2.1, 2.2, 2.3, 2.4, 2.5,\n",
        "       2.6, 2.7, 2.8, 2.9, 3. , 3.1, 3.2, 3.3, 3.4, 3.5, 3.6, 3.7, 3.8,\n",
        "       3.9, 4. , 4.1, 4.2, 4.3, 4.4, 4.5, 4.6, 4.7, 4.8, 4.9, 5. , 5.1,\n",
        "       5.2, 5.3, 5.4, 5.5, 5.6, 5.7, 5.8, 5.9, 6. , 6.1, 6.2, 6.3, 6.4,\n",
        "       6.5, 6.6, 6.7, 6.8, 6.9, 7. , 7.1, 7.2, 7.3, 7.4, 7.5, 7.6, 7.7,\n",
        "       7.8, 7.9, 8. , 8.1, 8.2, 8.3, 8.4, 8.5, 8.6, 8.7, 8.8, 8.9, 9. ,\n",
        "       9.1, 9.2, 9.3, 9.4, 9.5, 9.6, 9.7, 9.8, 9.9])\n",
        "```\n",
        "\n",
        "We have two options for this task:\n",
        "1. Use [np.linspace](https://numpy.org/doc/stable/reference/generated/numpy.linspace.html) to create a numpy array from **start** to **stop** with **steps**. An example of this is:\n",
        "```py\n",
        "t = np.linspace(0, 10, 101)\n",
        "```\n",
        "2. Use [np.arange](https://numpy.org/doc/stable/reference/generated/numpy.arange.html) to create a numpy array with a fixed step size. An example of this is:\n",
        "```py\n",
        "t = np.arange(0, 10.1, 0.1)\n",
        "```\n"
      ]
    },
    {
      "cell_type": "code",
      "metadata": {
        "id": "1FGSprv56_PX"
      },
      "source": [
        "# write them explicitly here"
      ],
      "execution_count": null,
      "outputs": []
    },
    {
      "cell_type": "markdown",
      "metadata": {
        "id": "NyKwQc026_PY"
      },
      "source": [
        "### Exercise 6\n",
        "Recall Exercise 1? We created the functions ` x(t), y(t) `. In this exercise  we want to compute the values for the coordinates positions at every single elements of the array ` t ` above, we can simply   insert the array into the function. The function will be applied element wise onto that array.\n",
        "For example, your functions on exercise 1 have the structure: \n",
        "\n",
        "```py\n",
        "def x(t):\n",
        "    #....\n",
        "x_t = x(t)\n",
        "```\n",
        "the resulting evaluation  `x_t ` will be \n",
        "    \n",
        "```py\n",
        "array([ 1.003400e+02,  1.002649e+02,  9.999360e+01,  9.952610e+01,\n",
        "        9.886240e+01,  9.800250e+01,  9.694640e+01,  9.569410e+01,\n",
        "        9.424560e+01,  9.260090e+01,  9.076000e+01,  8.872290e+01,\n",
        "        8.648960e+01,  8.406010e+01,  8.143440e+01,  7.861250e+01,\n",
        "        7.559440e+01,  7.238010e+01,  6.896960e+01,  6.536290e+01,\n",
        "        6.156000e+01,  5.756090e+01,  5.336560e+01,  4.897410e+01,\n",
        "        4.438640e+01,  3.960250e+01,  3.462240e+01,  2.944610e+01,\n",
        "        2.407360e+01,  1.850490e+01,  1.274000e+01,  6.778900e+00,\n",
        "        6.216000e-01, -5.731900e+00, -1.228160e+01, -1.902750e+01,\n",
        "       -2.596960e+01, -3.310790e+01, -4.044240e+01, -4.797310e+01,\n",
        "       -5.570000e+01, -6.362310e+01, -7.174240e+01, -8.005790e+01,\n",
        "       -8.856960e+01, -9.727750e+01, -1.061816e+02, -1.152819e+02,\n",
        "       -1.245784e+02, -1.340711e+02, -1.437600e+02, -1.536451e+02,\n",
        "       -1.637264e+02, -1.740039e+02, -1.844776e+02, -1.951475e+02,\n",
        "       -2.060136e+02, -2.170759e+02, -2.283344e+02, -2.397891e+02,\n",
        "       -2.514400e+02, -2.632871e+02, -2.753304e+02, -2.875699e+02,\n",
        "       -3.000056e+02, -3.126375e+02, -3.254656e+02, -3.384899e+02,\n",
        "       -3.517104e+02, -3.651271e+02, -3.787400e+02, -3.925491e+02,\n",
        "       -4.065544e+02, -4.207559e+02, -4.351536e+02, -4.497475e+02,\n",
        "       -4.645376e+02, -4.795239e+02, -4.947064e+02, -5.100851e+02,\n",
        "       -5.256600e+02, -5.414311e+02, -5.573984e+02, -5.735619e+02,\n",
        "       -5.899216e+02, -6.064775e+02, -6.232296e+02, -6.401779e+02,\n",
        "       -6.573224e+02, -6.746631e+02, -6.922000e+02, -7.099331e+02,\n",
        "       -7.278624e+02, -7.459879e+02, -7.643096e+02, -7.828275e+02,\n",
        "       -8.015416e+02, -8.204519e+02, -8.395584e+02, -8.588611e+02,\n",
        "       -8.783600e+02])\n",
        "```\n",
        "and similar for ` y(t) ` . Write a code that evaluates ` x(t) ` and ` y(t) ` for the <code> t</code> array. \n",
        "In addition, try to do the same evaluation but using <code> t</code> as a list rather than a <code>numpy </code>array. "
      ]
    },
    {
      "cell_type": "code",
      "metadata": {
        "id": "gMKIpSnl6_PZ"
      },
      "source": [
        "#Write your code here"
      ],
      "execution_count": null,
      "outputs": []
    },
    {
      "cell_type": "markdown",
      "metadata": {
        "id": "tONZ9ydg6_PZ"
      },
      "source": [
        "Numpy also allows you to easily do elementwise operations, if the arrays are of equal length. This feature is called [broadcasting](https://numpy.org/doc/stable/user/basics.broadcasting.html)"
      ]
    },
    {
      "cell_type": "code",
      "metadata": {
        "id": "nKiRcxNl6_Pa",
        "outputId": "f2019976-0d31-45c3-a909-cbf6f2414272"
      },
      "source": [
        "y = np.linspace(0, 1, 10)\n",
        "x = np.linspace(0, 2, 10)\n",
        "print(\"adding two arrays of the same size:\", x+y)\n",
        "\n",
        "# let's compare this operation with list\n",
        "x_list = list(x)\n",
        "y_list = list(y)\n",
        "print()\n",
        "print(\"adding two list\", x_list+y_list)"
      ],
      "execution_count": null,
      "outputs": [
        {
          "name": "stdout",
          "output_type": "stream",
          "text": [
            "adding two arrays of the same size: [0.         0.33333333 0.66666667 1.         1.33333333 1.66666667\n",
            " 2.         2.33333333 2.66666667 3.        ]\n",
            "\n",
            "adding two list [0.0, 0.2222222222222222, 0.4444444444444444, 0.6666666666666666, 0.8888888888888888, 1.1111111111111112, 1.3333333333333333, 1.5555555555555554, 1.7777777777777777, 2.0, 0.0, 0.1111111111111111, 0.2222222222222222, 0.3333333333333333, 0.4444444444444444, 0.5555555555555556, 0.6666666666666666, 0.7777777777777777, 0.8888888888888888, 1.0]\n"
          ]
        }
      ]
    },
    {
      "cell_type": "markdown",
      "metadata": {
        "id": "qk-8PF3b6_Pa"
      },
      "source": [
        "As you can see, python list do not add elementwise, instead they just concatenate. So you need to be careful, you can't just replace python lists with numpy arrays. "
      ]
    },
    {
      "cell_type": "markdown",
      "metadata": {
        "id": "SKsN65Ek6_Pb"
      },
      "source": [
        "### Exercise 7\n",
        "* Create two arrays named `x_euclidean` and `y_euclidean` of lenght 15.   `x_euclidean` should have  initial value 0, and final value 5, whereas  `y_euclidean` will have initial value 1 and final value 10. \n",
        "\n",
        "* Use the function defined in **Exercise 4** to convert the euclidean coordinates to polar coordinates. "
      ]
    },
    {
      "cell_type": "code",
      "metadata": {
        "id": "_s94RViW6_Pc"
      },
      "source": [
        "# convert the coordinates here\n"
      ],
      "execution_count": null,
      "outputs": []
    },
    {
      "cell_type": "markdown",
      "metadata": {
        "id": "Nkbo6r6m6_Pc"
      },
      "source": [
        "# Plotting"
      ]
    },
    {
      "cell_type": "markdown",
      "metadata": {
        "id": "68Xosjl36_Pd"
      },
      "source": [
        "To end this lecture we will lear how to plot functions using the **matplotlib**\n",
        "\n",
        "First we need to import the library using \n",
        "\n",
        "```py\n",
        "import matplotlib.pyplot as plt\n",
        "```\n",
        "\n",
        "just by looking at the import statement, you already know, that every function of this library will be executed with\n",
        "\n",
        "```py\n",
        "plt.function()\n",
        "```\n",
        "\n",
        "This is in particular useful, if you have a large codebase and you don't want to mix up functions while coding. \n",
        "\n",
        "Back to plotting. You can simply plot two numpy arrays or Lists against each other (they must have the same dimensionality, or in other words: length), by using\n",
        "\n",
        "```py\n",
        "plt.plot(x_axis_array, y_axis_array)\n",
        "``` \n",
        "\n",
        "In the next codeblock, you see an example of a plot."
      ]
    },
    {
      "cell_type": "code",
      "metadata": {
        "id": "jEaHxI-t6_Pd",
        "outputId": "c1bd6345-c921-48ee-d0a0-6c34dbf93d44"
      },
      "source": [
        "import matplotlib.pyplot as plt\n",
        "\n",
        "x = [1, 2, 3, 4, 5]\n",
        "y = [1, 4, 9, 16, 25]\n",
        "\n",
        "plt.plot(x, y)"
      ],
      "execution_count": null,
      "outputs": [
        {
          "data": {
            "text/plain": [
              "[<matplotlib.lines.Line2D at 0x7f6ccfc7b790>]"
            ]
          },
          "execution_count": 38,
          "metadata": {},
          "output_type": "execute_result"
        },
        {
          "data": {
            "image/png": "[encoded data removed]",
            "text/plain": [
              "<Figure size 432x288 with 1 Axes>"
            ]
          },
          "metadata": {
            "needs_background": "light"
          },
          "output_type": "display_data"
        }
      ]
    },
    {
      "cell_type": "markdown",
      "metadata": {
        "id": "YXCsGa7e6_Pe"
      },
      "source": [
        "You can see, that the graph is kind of edgy. This is due to the fact, that matplotlib is drawing a straight line between every two points. If you add more points, the line will get smoother. If you want to plot only the points, you can use the scatter plot function as follows\n",
        "```\n",
        "plt.scatter(x,y)\n",
        "```\n",
        "### Excercise 8\n",
        "Convince yourself that this give you a scatter plot. \n",
        "\n",
        "You can include the points and the line in the same plot by using \n",
        "```\n",
        "plt.plot(x,y)\n",
        "plt.scatter(x,y)\n",
        "```\n"
      ]
    },
    {
      "cell_type": "code",
      "metadata": {
        "id": "WbpMBWjd6_Pf"
      },
      "source": [
        "# convincing is done here"
      ],
      "execution_count": null,
      "outputs": []
    },
    {
      "cell_type": "markdown",
      "metadata": {
        "id": "qs-_-9OG6_Pf"
      },
      "source": [
        "### Exercise 9\n",
        "* Remember Exercise 7? Make a plot of ` x_euclidean vs y_euclidean `. \n",
        "* Make a plot of the polar coordinates resulting for that exercise  ` r vs phi `"
      ]
    },
    {
      "cell_type": "code",
      "metadata": {
        "id": "I7nw2ZWy6_Pg"
      },
      "source": [
        "# do the Eucidian plot here"
      ],
      "execution_count": null,
      "outputs": []
    },
    {
      "cell_type": "markdown",
      "metadata": {
        "id": "tAKOWGS26_Pg"
      },
      "source": [
        "Now, plot the angular component!"
      ]
    },
    {
      "cell_type": "code",
      "metadata": {
        "id": "2NiCVYfM6_Ph"
      },
      "source": [
        "# Do the plot in polar coordinates here"
      ],
      "execution_count": null,
      "outputs": []
    },
    {
      "cell_type": "markdown",
      "metadata": {
        "id": "l2kKC_IG6_Pi"
      },
      "source": [
        "You are also required to look up in the internet how to adjust the the axis-label, title and legend of your plots."
      ]
    },
    {
      "cell_type": "markdown",
      "metadata": {
        "id": "ebmpD4uf6_Pi"
      },
      "source": [
        "# Example\n",
        "\n",
        "Let us finish the lecture with the following example.\n",
        "We want to plot the function $f(x) = 1/x$ against the values of $x$ from $10^-7$ to $100$.\n",
        "\n",
        "First, we want to create a numpy array, which contains the values of $x$ from $10^-7$ to $100$. For this, I use [np.logspace](https://numpy.org/doc/stable/reference/generated/numpy.logspace.html) which is a function, which creates a numpy array with logarithmic steps."
      ]
    },
    {
      "cell_type": "code",
      "metadata": {
        "id": "LJtuexK26_Pi"
      },
      "source": [
        "import numpy as np\n",
        "\n",
        "x = np.logspace(-7, 3, 1000) # going from 10^-7 to 10^3"
      ],
      "execution_count": null,
      "outputs": []
    },
    {
      "cell_type": "markdown",
      "metadata": {
        "id": "2v0MxRG46_Pj"
      },
      "source": [
        "Then, we create a function which returns the value of $f(x) = 1/x$."
      ]
    },
    {
      "cell_type": "code",
      "metadata": {
        "id": "SbQQhwn16_Pj"
      },
      "source": [
        "def f(x):\n",
        "    return 1/x"
      ],
      "execution_count": null,
      "outputs": []
    },
    {
      "cell_type": "markdown",
      "metadata": {
        "id": "UGazdw426_Pj"
      },
      "source": [
        "The last step of the calculation is to calculate the values of $f(x)$ for every value of $x$."
      ]
    },
    {
      "cell_type": "code",
      "metadata": {
        "id": "z4HTTDZ_6_Pk"
      },
      "source": [
        "f_x = f(x)"
      ],
      "execution_count": null,
      "outputs": []
    },
    {
      "cell_type": "markdown",
      "metadata": {
        "id": "cr7YxTCe6_Pk"
      },
      "source": [
        "Finally, we plot the values of $f(x)$ against the values of $x$."
      ]
    },
    {
      "cell_type": "code",
      "metadata": {
        "id": "vYg32U1w6_Pl",
        "colab": {
          "base_uri": "https://localhost:8080/",
          "height": 307
        },
        "outputId": "08f1b730-4d35-4c08-ac17-175937566690"
      },
      "source": [
        "import matplotlib.pyplot as plt\n",
        "\n",
        "plt.plot(x, f_x, label=r'$f(x)=1/x$') # LaTeX support for graph labels :)\n",
        "plt.xlabel(\"x\")\n",
        "plt.ylabel(\"f(x)\")\n",
        "plt.legend()"
      ],
      "execution_count": null,
      "outputs": [
        {
          "output_type": "execute_result",
          "data": {
            "text/plain": [
              "<matplotlib.legend.Legend at 0x7f2c6556a9d0>"
            ]
          },
          "metadata": {},
          "execution_count": 6
        },
        {
          "output_type": "display_data",
          "data": {
            "image/png": "[encoded data removed]",
            "text/plain": [
              "<Figure size 432x288 with 1 Axes>"
            ]
          },
          "metadata": {
            "needs_background": "light"
          }
        }
      ]
    },
    {
      "cell_type": "markdown",
      "metadata": {
        "id": "GBulijtJ6_Pl"
      },
      "source": [
        "As  can be seen, the graph looks horrible. This is due to the fact that we use a linear scale for plotting. A better scale would be a logarithmic scale. Logarithmic plots can be created using the <code> plt.loglog() <code> function"
      ]
    },
    {
      "cell_type": "code",
      "metadata": {
        "id": "hweXoLMZ6_Pm",
        "colab": {
          "base_uri": "https://localhost:8080/",
          "height": 300
        },
        "outputId": "058db3e0-bb80-4936-be17-16b4c92b21e7"
      },
      "source": [
        "plt.loglog(x, f_x, label=r'$f(x)=x^{-1}$', color=\"green\") # LaTeX support for graph labels :)\n",
        "plt.xlabel(\"x\")\n",
        "plt.ylabel(\"f(x)\")\n",
        "plt.legend()"
      ],
      "execution_count": null,
      "outputs": [
        {
          "output_type": "execute_result",
          "data": {
            "text/plain": [
              "<matplotlib.legend.Legend at 0x7f2c654dd150>"
            ]
          },
          "metadata": {},
          "execution_count": 7
        },
        {
          "output_type": "display_data",
          "data": {
            "image/png": "[encoded data removed]",
            "text/plain": [
              "<Figure size 432x288 with 1 Axes>"
            ]
          },
          "metadata": {
            "needs_background": "light"
          }
        }
      ]
    },
    {
      "cell_type": "markdown",
      "metadata": {
        "id": "PH8Jy86Y6_Pn"
      },
      "source": [
        "one could have alternative use the <code>plt.xscale()</code> function to change the x-axis scales, and similar for the y-axis"
      ]
    },
    {
      "cell_type": "code",
      "metadata": {
        "id": "DMF6dd296_Pn",
        "colab": {
          "base_uri": "https://localhost:8080/",
          "height": 311
        },
        "outputId": "26311df7-5388-4ada-8d1b-34a55709f89e"
      },
      "source": [
        "plt.plot(x, f_x, label=r'$f(x)=x^{-1}$', color=\"green\") # LaTeX support for graph labels :)\n",
        "plt.xlabel(\"x\")\n",
        "plt.ylabel(\"f(x)\")\n",
        "plt.xscale('log')\n",
        "#plt.yscale('log')\n",
        "plt.legend()"
      ],
      "execution_count": null,
      "outputs": [
        {
          "output_type": "execute_result",
          "data": {
            "text/plain": [
              "<matplotlib.legend.Legend at 0x7f2c64fa2e50>"
            ]
          },
          "metadata": {},
          "execution_count": 8
        },
        {
          "output_type": "display_data",
          "data": {
            "image/png": "[encoded data removed]",
            "text/plain": [
              "<Figure size 432x288 with 1 Axes>"
            ]
          },
          "metadata": {
            "needs_background": "light"
          }
        }
      ]
    },
    {
      "cell_type": "code",
      "metadata": {
        "id": "alhbctnn6_Po"
      },
      "source": [
        ""
      ],
      "execution_count": null,
      "outputs": []
    }
  ]
}