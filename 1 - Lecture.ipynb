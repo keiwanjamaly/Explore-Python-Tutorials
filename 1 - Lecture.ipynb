{
 "cells": [
  {
   "cell_type": "markdown",
   "metadata": {},
   "source": [
    "Hello there, \n",
    "\n",
    "with this Python lecture series, you all the python tools you need for EXPLORE II and your scientific carer. In this Lecture we go threw the **basics** and you will learn something about about **functions**, **lists**, **plotting** and **numpy** 😮."
   ]
  },
  {
   "cell_type": "markdown",
   "metadata": {},
   "source": [
    "So in programming, you generally want to implement algorithms which do tedious calculations for you. In analytic expressions you will encounter variables (I really hope, that you did), for example:\n",
    "\n",
    "$x^2 + 1$\n",
    "\n",
    "So $x$ is here the variable (hold on, I know this is boring stuff you already know, but we have do this). The same concept exists in programming. In python you can do something like:\n",
    "\n",
    "```py\n",
    "x = 5\n",
    "```\n",
    "\n",
    "and if you run \n",
    "```py\n",
    "x**2 + 1\n",
    "```\n",
    "you get 26 as a result (If not, you should get a new Computer). Here `**` stands for the power function, so the expression means $x^2 + 1$.\n",
    "\n",
    "You can try it out by clicking the **play** button on the next block."
   ]
  },
  {
   "cell_type": "code",
   "execution_count": 1,
   "metadata": {},
   "outputs": [
    {
     "data": {
      "text/plain": [
       "26"
      ]
     },
     "execution_count": 1,
     "metadata": {},
     "output_type": "execute_result"
    }
   ],
   "source": [
    "x = 5\n",
    "x**2 + 1"
   ]
  },
  {
   "cell_type": "markdown",
   "metadata": {},
   "source": [
    "So you could do this also for another number.. lets say `x = 7`."
   ]
  },
  {
   "cell_type": "code",
   "execution_count": 2,
   "metadata": {},
   "outputs": [
    {
     "data": {
      "text/plain": [
       "50"
      ]
     },
     "execution_count": 2,
     "metadata": {},
     "output_type": "execute_result"
    }
   ],
   "source": [
    "x = 7\n",
    "x**2 + 1"
   ]
  },
  {
   "cell_type": "markdown",
   "metadata": {},
   "source": [
    "or `x = 50`"
   ]
  },
  {
   "cell_type": "code",
   "execution_count": 3,
   "metadata": {},
   "outputs": [
    {
     "data": {
      "text/plain": [
       "2501"
      ]
     },
     "execution_count": 3,
     "metadata": {},
     "output_type": "execute_result"
    }
   ],
   "source": [
    "x = 50\n",
    "x**2 + 1"
   ]
  },
  {
   "cell_type": "markdown",
   "metadata": {},
   "source": [
    "You get the idea.. You can save your time and calories by abstracting \n",
    "\n",
    "```py\n",
    "x**2 + 1\n",
    "```\n",
    "\n",
    "into a function which can be reused several times. The basic function definition goes like\n",
    "\n",
    "```py\n",
    "def a_fancy_function_name(x1):\n",
    "    # ...\n",
    "```\n",
    "\n",
    "`x1` is a function parameter, if you compare it to math, it is like a dependency. You can have multiple function parameters\n",
    "\n",
    "```py\n",
    "def another_fancy_function_name(x1, x2):\n",
    "    # ...\n",
    "```\n",
    "\n",
    "A Function generally \"does\" something. But sometimes you want your function to return something. Let's make an example. Let's say, you want to write a function, which adds two parameters and squares them afterwards. You could write something like\n",
    "\n",
    "```py\n",
    "def sum_and_square(x1, x2):\n",
    "    summed_parameters = x1 + x2\n",
    "    squared_result = summed_parameters**2\n",
    "    return squared_result\n",
    "```"
   ]
  },
  {
   "cell_type": "code",
   "execution_count": 4,
   "metadata": {},
   "outputs": [],
   "source": [
    "def sum_and_square(x1, x2):\n",
    "    summed_parameters = x1 + x2\n",
    "    squared_result = summed_parameters**2\n",
    "    return squared_result"
   ]
  },
  {
   "cell_type": "code",
   "execution_count": 5,
   "metadata": {},
   "outputs": [
    {
     "data": {
      "text/plain": [
       "25"
      ]
     },
     "execution_count": 5,
     "metadata": {},
     "output_type": "execute_result"
    }
   ],
   "source": [
    "x = sum_and_square(2, 3)\n",
    "x"
   ]
  },
  {
   "cell_type": "markdown",
   "metadata": {},
   "source": [
    "As you can see, the variable from `return` is stored in the variable `x`. A function doesn't need to have a `return` statement, when you work with a **class** (you will learn about classes later). You can do a lot more with functions, some of them are self explanatory, some of them are not. I encourage you to learn more about functions [here](https://www.w3schools.com/python/python_functions.asp). \n",
    "\n",
    "But first, lets do an exercise:\n",
    "You all probably know the fibonacci sequence if not, you can look it up [here](https://en.wikipedia.org/wiki/Fibonacci_number). Now program a function `fibonacci(n)`, which returns the n-th number of the fibonacci sequence starting with $F_1 = 1$, $F_2 = 2$.\n",
    "\n",
    "Beeing a good programmer means also, to verify your code, you should also test you function to a degree, to be able to say with confidince, that you function works. "
   ]
  },
  {
   "cell_type": "code",
   "execution_count": 6,
   "metadata": {},
   "outputs": [],
   "source": [
    "# here goes your solution"
   ]
  },
  {
   "cell_type": "markdown",
   "metadata": {},
   "source": [
    "Now, that I have introduced functions, I want to take a step back and speak about **types**. \n",
    "\n",
    "In mathematics if you write a variable `a` it could be a scalar (Natural Number, Real Number, etc. ), vector, matrix or some other weird stuff. It is the same in programing and there are called **types**. There are a lot of types and you can even define your own, but the most important you need to know for now are (without a particular order)\n",
    "\n",
    "* Boolean point number (bool): a binary value; True, False <- spelling is important\n",
    "* Integer (int): a number; 1, 4, 6, 23, also -34\n",
    "* Floating Point Number (float): a decimal number; 2.4, 34.2325, -54.234967\n",
    "* String (str): a sequence of characters; \"hello\", \"I learn python!\", \"I am a string\"\n",
    "\n",
    "You can read more about them [here](https://docs.python.org/3/library/stdtypes.html#boolean-operations-and-or-not), [here](https://docs.python.org/3/library/stdtypes.html#numeric-types-int-float-complex) and [here](https://docs.python.org/3/library/stdtypes.html#text-sequence-type-str).\n"
   ]
  },
  {
   "cell_type": "markdown",
   "metadata": {},
   "source": [
    "Let's say, you want to compute the square-root of some number. Then you need some kind of function, which computes the square root for you. Luckily, this is already included in python, but it is not available out of the box. You need to import the `math` library for that. To do so you include \n",
    "\n",
    "```py\n",
    "import math\n",
    "```\n",
    "\n",
    "before you want to execute the square-root function by using `math.sqrt(n)`. This library includes other function like\n",
    "\n",
    "1. exponential function: math.exp(x)\n",
    "2. logarithmic function: math.log(x)\n",
    "3. cosine function: math.cos(x)\n",
    "\n",
    "also constants are accessible with `math.py` and `math.e`.\n",
    "\n",
    "A full documentation can be seen [here](https://docs.python.org/3/library/math.html)\n",
    "\n",
    "For an exercise, write a function which takes to arguments `x` and `y` and returns the polar coordinates `r` and `phi`.\n",
    "Hint: You need the documentation of the math library and [this forum post](https://stackoverflow.com/questions/38508/whats-the-best-way-to-return-multiple-values-from-a-function)."
   ]
  },
  {
   "cell_type": "code",
   "execution_count": null,
   "metadata": {},
   "outputs": [],
   "source": [
    "# your solution goes here"
   ]
  },
  {
   "cell_type": "markdown",
   "metadata": {},
   "source": [
    "You probably stumbled over the word \"List\" or \"Tuple\" at the last exercise. I use this as an introduction into Lists. They are used to collect data in one variable. Let's define a List, to make it more clearer.\n",
    "\n",
    "```py\n",
    "my_fancy_list = [3, 4, 8, 2, 5, 3, 7]\n",
    "```\n",
    "\n",
    "You can now access a list element with:\n",
    "```py\n",
    "my_fancy_list[2]\n",
    "```\n",
    "this will give you `8`. Keep in mind, that in programing languages, the first element is referenced as the 0th element. So \n",
    "```py\n",
    "my_fancy_list[5]\n",
    "```\n",
    "will give you `3` and **not** 5. \n",
    "\n",
    "you can also write/change variables with\n",
    "```py\n",
    "my_fancy_list[5] = 83\n",
    "```\n",
    "and even append to a list by using\n",
    "```py\n",
    "my_fancy_list.append(10)\n",
    "```\n",
    "\n",
    "You can also access the last (second to last) element by using the index `-1`(`-2`).\n",
    "```py\n",
    "my_fancy_list[-1]\n",
    "```\n",
    "\n",
    "Go ahead and try all these things out!"
   ]
  },
  {
   "cell_type": "code",
   "execution_count": null,
   "metadata": {},
   "outputs": [],
   "source": [
    "# Here you have space to mess around with lists. "
   ]
  },
  {
   "cell_type": "markdown",
   "metadata": {},
   "source": [
    "Tuples function in general the same way as Lists, but you define dem with round brackets instead of squared ones.\n",
    "```py\n",
    "my_fancy_list = [3, 4, 8, 2, 5, 3, 7] # This is a list\n",
    "my_fancy_tuple = (3, 4, 8, 2, 5, 3, 7) # This is a tuple\n",
    "```\n",
    "and tuples are not mutable (you cannot change them), Once they are defined, they stay that way. "
   ]
  },
  {
   "cell_type": "markdown",
   "metadata": {},
   "source": [
    "Sometimes you have to beef up your List experience because the build in functionality is not sufficient for your problems or it is just slow. Here comes numpy which create a whole universe of functions which are fast and efficient. Without further talking, let's import numpy to make it usable in our code \n",
    "```py\n",
    "import numpy as np\n",
    "```\n",
    "you may have noticed, that the import statement looks differently from the one we have used before. This enables us to write `np.function_i_want_to_use()` instead of `numpy.function_i_want_to_use()` which is just more convenient but doesn't change the nature of the execution. \n",
    "\n",
    "To truly grasp the benefit of using numpy, we need to introduce for loops, but this will be done in lecture 2. If you are still interested, you can read [this](https://numpy.org/doc/stable/user/whatisnumpy.html), you should also get familiar with numpy and how it actually works, to tickle every least bit of performance out of python, and to avoid some gotchas regarding numpy. This is just optional, because the computation time is not so relevant in EXPLORE. What is important to know, that numpy builds around an object called numpy-array, which replaces the python list and works hand in hand with other libraries like matplotlib (for plotting) and scipy (for scientific calculations like solving differential equations).\n",
    "\n",
    "To convert a list into a numpy array you write:\n",
    "```py\n",
    "a_numpy_array = np.array([2, 3, 4])\n",
    "```\n",
    "\n",
    "go ahead and convert you previous generated array into an numpy array and calculate the sum of it using [this](https://numpy.org/doc/stable/reference/generated/numpy.ndarray.sum.html?highlight=sum) function. "
   ]
  }
 ],
 "metadata": {
  "interpreter": {
   "hash": "efe6c67f6304a6b945c77842a19820b093f93a7087cca5d871effb2b9455b0d2"
  },
  "kernelspec": {
   "display_name": "Python 3.8.10 64-bit",
   "name": "python3"
  },
  "language_info": {
   "codemirror_mode": {
    "name": "ipython",
    "version": 3
   },
   "file_extension": ".py",
   "mimetype": "text/x-python",
   "name": "python",
   "nbconvert_exporter": "python",
   "pygments_lexer": "ipython3",
   "version": "3.6.9"
  },
  "orig_nbformat": 4
 },
 "nbformat": 4,
 "nbformat_minor": 2
}
