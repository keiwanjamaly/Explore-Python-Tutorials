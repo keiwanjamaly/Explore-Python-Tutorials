{
 "cells": [
  {
   "cell_type": "markdown",
   "metadata": {},
   "source": [
    "Hello there, \n",
    "\n",
    "with this Python lecture series, you all the python tools you need for EXPLORE II and your scientific carer. In this Lecture we go threw the **basics** and you will learn something about about **list**, **functions**, **plotting** and **numpy** 😮."
   ]
  },
  {
   "cell_type": "markdown",
   "metadata": {},
   "source": [
    "So in programming, you generally want to implement algorithms which do tedious calculations for you. In analytic expressions you will encounter variables (I really hope, that you did), for example:\n",
    "\n",
    "$x^2 + 1$\n",
    "\n",
    "So $x$ is here the variable (hold on, I know this is boring stuff you already know, but we have do this). The same concept exists in programming. In python you can do something like:\n",
    "\n",
    "```py\n",
    "x = 5\n",
    "```\n",
    "\n",
    "and if you run \n",
    "```py\n",
    "x**2 + 1\n",
    "```\n",
    "you get 26 as a result (If not, you should get a new Computer). Here `**` stands for the power function, so the expression means $x^2 + 1$.\n",
    "\n",
    "You can try it out by clicking the **play** button on the next block."
   ]
  },
  {
   "cell_type": "code",
   "execution_count": 5,
   "metadata": {},
   "outputs": [
    {
     "data": {
      "text/plain": [
       "26"
      ]
     },
     "execution_count": 5,
     "metadata": {},
     "output_type": "execute_result"
    }
   ],
   "source": [
    "x = 5\n",
    "x**2 + 1"
   ]
  }
 ],
 "metadata": {
  "interpreter": {
   "hash": "916dbcbb3f70747c44a77c7bcd40155683ae19c65e1c03b4aa3499c5328201f1"
  },
  "kernelspec": {
   "display_name": "Python 3.8.10 64-bit",
   "name": "python3"
  },
  "language_info": {
   "codemirror_mode": {
    "name": "ipython",
    "version": 3
   },
   "file_extension": ".py",
   "mimetype": "text/x-python",
   "name": "python",
   "nbconvert_exporter": "python",
   "pygments_lexer": "ipython3",
   "version": "3.8.10"
  },
  "orig_nbformat": 4
 },
 "nbformat": 4,
 "nbformat_minor": 2
}
