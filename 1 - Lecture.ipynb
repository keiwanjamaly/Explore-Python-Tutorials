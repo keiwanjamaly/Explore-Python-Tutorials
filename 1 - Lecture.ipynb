{
 "cells": [
  {
   "cell_type": "markdown",
   "metadata": {},
   "source": [
    "# Lecture 1"
   ]
  },
  {
   "cell_type": "markdown",
   "metadata": {},
   "source": [
    "**Authors:**\n",
    "* Yilber Fabian Bautista\n",
    "* Keiwan Jamaly\n",
    "\n",
    "**Last date of modification:**\n",
    " November 27th 2021"
   ]
  },
  {
   "cell_type": "markdown",
   "metadata": {},
   "source": [
    "Hello there, \n",
    "\n",
    "Welcome to Lecture 1 of this mini-lecture series on programing with Python. In this series, you will learn  basic and intermediate python tools that will be of great use in your scientific carer\n",
    "\n",
    "**Objectives:** \n",
    "\n",
    "By the end of this lecture you will be able to:\n",
    "* Define **variables** and  differentiate between global and local variables. \n",
    "* Identify and use different object **types** in python.\n",
    "* Use some of the python's default functions and define your own **functions**.\n",
    "* Manipulate **lists**\n",
    "* Use function within the  **numpy** library\n",
    "* Creates and manipulate plots using  **Matplot** library "
   ]
  },
  {
   "cell_type": "markdown",
   "metadata": {},
   "source": [
    "##  Variables"
   ]
  },
  {
   "cell_type": "markdown",
   "metadata": {},
   "source": [
    "When programming,  generally one wants to implement algorithms that simplify cumbersome  calculations. \n",
    "Let us consider the following analytic expression:\n",
    "\n",
    "\\begin{equation*}\n",
    "x^2 + 1\n",
    "\\end{equation*}\n",
    "\n",
    "\n",
    "In this expression, $x$ corresponds to a variable, whereas $1$ is a fix number. To define a variable in a python program we use the following syntax:\n",
    "\n",
    "```py\n",
    "x = 5\n",
    "```\n"
   ]
  },
  {
   "cell_type": "code",
   "execution_count": null,
   "metadata": {},
   "outputs": [],
   "source": [
    "x = 5"
   ]
  },
  {
   "cell_type": "markdown",
   "metadata": {},
   "source": [
    "this simply means that every time in the code we use <code> x </code>, \n",
    "the code automatically replaces it by its numerical value. For instance, going back to our example analytic example, if we evaluate \n",
    "```py\n",
    "x**2 + 1\n",
    "```\n",
    "we will get as output <code> 26 </code>. Try this out by yourself"
   ]
  },
  {
   "cell_type": "code",
   "execution_count": null,
   "metadata": {},
   "outputs": [],
   "source": [
    "#type here the analytic exampe\n"
   ]
  },
  {
   "cell_type": "markdown",
   "metadata": {},
   "source": [
    "<code> x </code> as defined before corresponds to a **global variable**  \n",
    "since every time we use <code> x </code> in the code, python automatically  assigns its numeric value. "
   ]
  },
  {
   "cell_type": "code",
   "execution_count": null,
   "metadata": {},
   "outputs": [],
   "source": [
    "#Use x in different cells  and convince yourself that it corresponds to a global variable\n"
   ]
  },
  {
   "cell_type": "markdown",
   "metadata": {},
   "source": [
    "# Types"
   ]
  },
  {
   "cell_type": "markdown",
   "metadata": {},
   "source": [
    "In mathematics  a variable `a`,  can  take values in scalar (Natural Numbers, Real Numbers, etc. ), vector,  matrix etc. It is the same in programing and there, the objects have defined **types**. There are many types in programing, and you can even define your own, but the most important ones you need to know for the moment are (without any particular order)\n",
    "\n",
    "* Boolean point number ` (bool) ` :  a binary value; True, False <- spelling is important\n",
    "* Integer ` (int) `:  a number; 1, 4, 6, 23, also -34\n",
    "* Floating Point Number ` (float) `: a decimal number; 2.4, 34.2325, -54.234967\n",
    "* String ` (str) `: a sequence of characters; \"hello\", \"I learn python!\", \"I am a string\"\n",
    "\n",
    "Python is a dynamically typed language, so you can change the type of a variable at any time. This means also, that python tries to guess the type of a variable when you assign it a value.\n",
    "\n",
    "Let us explore these examples in practice\n",
    "\n"
   ]
  },
  {
   "cell_type": "markdown",
   "metadata": {},
   "source": [
    "**Boolean variables**"
   ]
  },
  {
   "cell_type": "code",
   "execution_count": null,
   "metadata": {},
   "outputs": [],
   "source": [
    "a = True\n",
    "print('type of a:',type(a))"
   ]
  },
  {
   "cell_type": "markdown",
   "metadata": {},
   "source": [
    "**integer and float variables**"
   ]
  },
  {
   "cell_type": "code",
   "execution_count": null,
   "metadata": {},
   "outputs": [],
   "source": [
    "x = 5\n",
    "print(\"type of x:\", type(x))\n",
    "y = 5.0\n",
    "print(\"type of y:\", type(y))"
   ]
  },
  {
   "cell_type": "markdown",
   "metadata": {},
   "source": [
    "**string variables**"
   ]
  },
  {
   "cell_type": "code",
   "execution_count": null,
   "metadata": {},
   "outputs": [],
   "source": [
    "r = 'hello world'\n",
    "print(\" type of r:  \", type(r))"
   ]
  },
  {
   "cell_type": "markdown",
   "metadata": {},
   "source": [
    "Different variable types have different kinds of operations, for example:\n",
    "* Integers and floats can be added:  `1 + 2` ,  or multiplided  `1 * 2` in the usual form.\n",
    "\n",
    "* Strings  can be concatenated using the + operator `\"hello\" + \"world\"`, you can also do string comparison using  `\"hello\" == \"hello\"`.\n",
    "\n",
    "\n",
    "You can read more about them [here](https://docs.python.org/3/library/stdtypes.html#boolean-operations-and-or-not), [here](https://docs.python.org/3/library/stdtypes.html#numeric-types-int-float-complex) and [here](https://docs.python.org/3/library/stdtypes.html#text-sequence-type-str). But let us see an specific example of how to concatenate two strings"
   ]
  },
  {
   "cell_type": "code",
   "execution_count": null,
   "metadata": {},
   "outputs": [],
   "source": [
    "string1 = \"hello\"\n",
    "string2 = 'world'\n",
    "string3 = string1 + string2\n",
    "print(string3)"
   ]
  },
  {
   "cell_type": "markdown",
   "metadata": {},
   "source": [
    "Strings are just sequences of characters, and you can extract a specific element, or a slice,  by indexing and slicing. For instance, if we want to extract only the `h` element from the <code>string1</code> variable,  we use syntax `string1[0]` Notice that the to get the first element we use the index <code> [0] </code>. \n",
    "\n",
    "I we want to extract the slice `lowor` from `string3`, we can simply take the slice of elements  `string3[1:8]`, here, the first entry specify the first element of the interval we want to take, and the second entry, the previous to last element of the slice.  Let's see it in practice"
   ]
  },
  {
   "cell_type": "code",
   "execution_count": null,
   "metadata": {},
   "outputs": [],
   "source": [
    "print(string1[0])\n",
    "print(string3[3:8:1])\n",
    "print(string3[::2]) #printing all the elements of a string in steps of 2 using an additional argument"
   ]
  },
  {
   "cell_type": "markdown",
   "metadata": {},
   "source": [
    "A variable of a given type  can be turn into a variable of a different type. For instance, a float can be turn into an integer using the python's default function `int()`. An integer can be turn into an string using the function `str()`. In a similar way, you can ask for the integer value of the division of two numbers in two ways, for instance doing the usual division and the using the `int()` function on the final result. You can also use the command  `a//b`. Let see"
   ]
  },
  {
   "cell_type": "code",
   "execution_count": null,
   "metadata": {},
   "outputs": [],
   "source": [
    "x = 5 # this is an integer\n",
    "x = float(x) # this is a float using float() function\n",
    "print(\"type of x:\", type(x))\n",
    "print(int(9.1)) #use int() function\n",
    "print(type(str(1))) #use str() function\n",
    "print(int(9/2))\n",
    "print(9//2) #ask for the integer part of a division"
   ]
  },
  {
   "cell_type": "markdown",
   "metadata": {},
   "source": [
    "Operations can also change the type of a variable, for instance, the division of two integers numbers  give in general float numbers"
   ]
  },
  {
   "cell_type": "code",
   "execution_count": null,
   "metadata": {},
   "outputs": [],
   "source": [
    "x = 5\n",
    "print(\"x = 5 is of type :\", type(x))\n",
    "y = x/3\n",
    "print(\"y = x/3 is of type :\", type(y))"
   ]
  },
  {
   "cell_type": "markdown",
   "metadata": {},
   "source": [
    "There are is a set of mathematical operations which are applicable to the different variable **types**, \"+, -, *, /, **, //, %, <, >, <=, >=, ==, !=\". The order of operations can be seen [here](https://docs.python.org/3/reference/expressions.html#operator-precedence). But you can always override the priority with round brackets."
   ]
  },
  {
   "cell_type": "code",
   "execution_count": null,
   "metadata": {},
   "outputs": [],
   "source": [
    "print(3 + 3)\n",
    "print(3 + 3 * 15)\n",
    "print((3 + 3) * 15)"
   ]
  },
  {
   "cell_type": "markdown",
   "metadata": {},
   "source": [
    "To finalize this section, let us point that all of the variables that we have defined above are Global variables, that means that we can use them in different cells in the notebook without having to define them again. For instance we can ` print ` the value of ` x ` defined above."
   ]
  },
  {
   "cell_type": "code",
   "execution_count": null,
   "metadata": {},
   "outputs": [],
   "source": [
    "x"
   ]
  },
  {
   "cell_type": "markdown",
   "metadata": {},
   "source": [
    "get yourself convinced by using some of the previous defined variables in the following cell:"
   ]
  },
  {
   "cell_type": "code",
   "execution_count": null,
   "metadata": {},
   "outputs": [],
   "source": []
  },
  {
   "cell_type": "markdown",
   "metadata": {},
   "source": [
    "# Functions"
   ]
  },
  {
   "cell_type": "markdown",
   "metadata": {},
   "source": [
    "Going back to our mathematical expression\n",
    "```py\n",
    "x**2 + 1\n",
    "```\n",
    " we now want to evaluate it at an specific value, for instance   ` x  = 3`. The result of this evaluation will  be   `10` "
   ]
  },
  {
   "cell_type": "code",
   "execution_count": null,
   "metadata": {},
   "outputs": [],
   "source": [
    "x = 3\n",
    "x**2 + 1"
   ]
  },
  {
   "cell_type": "markdown",
   "metadata": {},
   "source": [
    "We  could do this also for another input number, for example `x = 7`."
   ]
  },
  {
   "cell_type": "code",
   "execution_count": null,
   "metadata": {},
   "outputs": [],
   "source": [
    "x = 7\n",
    "x**2 + 1"
   ]
  },
  {
   "cell_type": "markdown",
   "metadata": {},
   "source": [
    "or `x = 50`"
   ]
  },
  {
   "cell_type": "code",
   "execution_count": null,
   "metadata": {},
   "outputs": [],
   "source": [
    "x = 50\n",
    "x**2 + 1"
   ]
  },
  {
   "cell_type": "markdown",
   "metadata": {},
   "source": [
    "You get the idea.. You can save your time by abstracting \n",
    "\n",
    "```py\n",
    "x**2 + 1\n",
    "```\n",
    "\n",
    "into a function which can be reused any time we desire to. The syntax for defining a function in python is the following: \n",
    "\n",
    "```py\n",
    "def function_name(x1):\n",
    "    # ...\n",
    "```\n",
    " Here\n",
    "\n",
    "`x1` is a function parameter (independent variable). \n",
    "\n",
    "It is  recommended that you use functions names that accurately describe the function purpose.\n",
    "\n",
    "You can have multiple function parameters.\n",
    "```py\n",
    "def f(x1, x2):\n",
    "    # ...\n",
    "```\n",
    "\n",
    "The function parameters ` x ` can be of any type (including functions themselves).\n",
    "\n",
    "A Function generally takes an input and returns an output. As an example: Let us imagine, we want to write a function that adds two parameters and squares them afterwards. You could write a code of the following form"
   ]
  },
  {
   "cell_type": "code",
   "execution_count": null,
   "metadata": {},
   "outputs": [],
   "source": [
    "def sum_and_square(x1, x2):\n",
    "    power = 2\n",
    "    sum_ = x1 + x2\n",
    "    sum_sq = sum_**power\n",
    "    return sum_sq"
   ]
  },
  {
   "cell_type": "markdown",
   "metadata": {},
   "source": [
    "We can now use this function with specific input variables as follows"
   ]
  },
  {
   "cell_type": "code",
   "execution_count": null,
   "metadata": {},
   "outputs": [],
   "source": [
    "x = sum_and_square(2, 3)\n",
    "x"
   ]
  },
  {
   "cell_type": "markdown",
   "metadata": {},
   "source": [
    "Let us take  this example function to discuss local variables. As you can see, inside the function we have defined the variable  ` power = 2 `, that means that  inside the function, anywhere you encounter the variable ` power `, the program automatically replace its value `2`. However, outside the function the variable ` power ` is not defined, and if you try to call it, you will get an error message, namely,   ` power ` was written as a **local** variable. "
   ]
  },
  {
   "cell_type": "code",
   "execution_count": null,
   "metadata": {},
   "outputs": [],
   "source": [
    "power"
   ]
  },
  {
   "cell_type": "markdown",
   "metadata": {},
   "source": [
    "python syntax for error printed is very informative, as we can see, it tells that the variable <code>power </code> has not been defined."
   ]
  },
  {
   "cell_type": "markdown",
   "metadata": {},
   "source": [
    "Returning to our  function. As you can see, the job of `return`  is to store the result of the operation in the function,  in the variable `x`. A function doesn't need to have a `return` statement, for example, when you work with **classes** (you will learn about classes later). \n",
    "\n",
    "Keep in mind, that the argument's types are carried into the function, so you get an error, when you try use undefined operations  between different type objects. For example, the  sum of a  string and a number is not defined, and the error would be the following "
   ]
  },
  {
   "cell_type": "code",
   "execution_count": null,
   "metadata": {},
   "outputs": [],
   "source": [
    "sum_and_square(\"hello\", 2)"
   ]
  },
  {
   "cell_type": "markdown",
   "metadata": {},
   "source": [
    "Let us finally comment on a useful feature when defining functions. You can pre-assign a default value for the independent variables. For instance, let us imagine we want to  define a function of two parameters ` a, b `, but we want to specify a default value for ` b = 1. `, so that when using the function, it assumes that ` b =1. ` , but we could change the value of ` b ` if desired.  The syntax for this will be \n",
    "```py\n",
    "def fun( a, b = 1):\n",
    "    # ...\n",
    "```\n",
    "here we refer to ` b ` as a named variable. Let us see how this works in the following example"
   ]
  },
  {
   "cell_type": "code",
   "execution_count": null,
   "metadata": {},
   "outputs": [],
   "source": [
    "def fun(a,b =1.):\n",
    "    return a + b"
   ]
  },
  {
   "cell_type": "code",
   "execution_count": null,
   "metadata": {},
   "outputs": [],
   "source": [
    "print(fun(3)) # use the default value for variable b\n",
    "print(fun(3,b=2)) # Change the input value for b"
   ]
  },
  {
   "cell_type": "markdown",
   "metadata": {},
   "source": [
    "Notice that the order of the arguments matters, no named variables always go first, and named variables go afterwards. For instance, if you want to invert the order, you will get an error message"
   ]
  },
  {
   "cell_type": "code",
   "execution_count": null,
   "metadata": {},
   "outputs": [],
   "source": [
    "fun(b=1,3)"
   ]
  },
  {
   "cell_type": "markdown",
   "metadata": {},
   "source": [
    "Defining function with default key-values for different parameters  is useful when dealing functions with a big number of  arguments, since it allows us to input the arguments without an specific order. For example"
   ]
  },
  {
   "cell_type": "code",
   "execution_count": null,
   "metadata": {},
   "outputs": [],
   "source": [
    "def func2 (a=1,b=3,c=19):\n",
    "    return (a-b)/c"
   ]
  },
  {
   "cell_type": "code",
   "execution_count": null,
   "metadata": {},
   "outputs": [],
   "source": [
    "func2 (b=3, a=13,c=19) == func2 (b=3,c=19, a=13) "
   ]
  },
  {
   "cell_type": "markdown",
   "metadata": {},
   "source": [
    "### Exercise 1\n",
    "To get some practice with functions, let us imagine a freely falling particle whose coordinate position (x, y) is described by the relations  $y(t) = -9.81*t^2 + 0.23*t + 100.34$ and $x(t) = 0.5 * t$. Write two functions, the first (second) one should give you the x(y)-Position for a given t. \n",
    "\n",
    "Being a good programmer means also to verify the functionality of your code, so run some tests. "
   ]
  },
  {
   "cell_type": "code",
   "execution_count": null,
   "metadata": {},
   "outputs": [],
   "source": [
    "# Write your solution in this cell\n"
   ]
  },
  {
   "cell_type": "markdown",
   "metadata": {},
   "source": [
    "Functions have additional features like optional parameters, default parameters, typing, etc., some of them are self explanatory, some of them are not. We encourage you to learn more about functions [here](https://www.w3schools.com/python/python_functions.asp). "
   ]
  },
  {
   "cell_type": "markdown",
   "metadata": {},
   "source": [
    "# Lists and Tuples"
   ]
  },
  {
   "cell_type": "markdown",
   "metadata": {},
   "source": [
    "Lists and tuples are data structures, which as the name explicitly suggests, they are utilized to collect data in one single variable.  Let's define a List, to make it more clear.\n",
    "\n",
    "### List\n",
    "\n",
    "To define a list, we use the following syntax\n",
    "\n",
    "```py\n",
    "my_list = [3, 4, 8, 2, 5, 3, 7]\n",
    "```\n",
    "\n",
    "Likewise for strings, we can:\n",
    "* Acces  a list element by defining the specific index\n",
    "```py\n",
    "my_list[2]\n",
    "```\n",
    "this will give you `8`. Keep in mind, that in python, the first element is referenced as the 0th element. So \n",
    "```py\n",
    "my_list[5]\n",
    "```\n",
    "will result into  `3`  **rather than** 5. You can also access the last (second to last) element by using the index `-1`(`-2`). \n",
    "\n",
    "```py\n",
    "my_list[-1]\n",
    "```\n",
    "* Slice the list by defining the range of interest in the list \n",
    "\n",
    "```py\n",
    "slice = my_list[1:4]\n",
    "```\n",
    "this will give as output  ` [4, 8, 2] `\n",
    "\n",
    "* Lists are **mutable** objects, this means that we can change one or more elements of the list \n",
    "\n",
    "```py\n",
    "my_list[3] = \"string\"\n",
    "```\n",
    "in this example, we would have added a string as the fourth element. This is just to show that the elements of a list do not have to be of the same type.\n",
    "\n",
    "* Append to a list by using\n",
    "```py\n",
    "my_list.append(10)\n",
    "```\n",
    "or you can simply do \n",
    "```\n",
    "my_list+=[10]\n",
    "```\n",
    "* Concatenate two lists \n",
    "\n",
    "```\n",
    "my_list2 = [1,4,'r',(3,4)]\n",
    "my_list3 = [5.6,4,'c',[1,2,3]]\n",
    "my_list4 = my_list2 + my_list3\n",
    "```\n",
    "\n",
    "* Determine the lenght of your list\n",
    "```\n",
    "len(my_list4)\n",
    "```\n",
    "producing as output ` 8 `\n",
    "\n",
    "### Exercise 2 \n",
    "Go ahead and try all these things out!"
   ]
  },
  {
   "cell_type": "code",
   "execution_count": null,
   "metadata": {},
   "outputs": [],
   "source": [
    "# Here you have space to play with lists. \n"
   ]
  },
  {
   "cell_type": "markdown",
   "metadata": {},
   "source": [
    "### Tuples\n",
    "Tuples are in general similar objects  as Lists, but they are defined with round brackets instead of squared ones.\n",
    "```py\n",
    "my_list = [3, 4, 8, 2, 5, 3, 7] # This is a list\n",
    "my_tuple = (3, 4, 8, 2, 5, 3, 7) # This is a tuple\n",
    "```\n",
    "accessing different  elements of a tuple  can be done in the same way than for lists. However,  tuples are **not mutable** which means that one cannot change or add more elements to the tuple. \n",
    "\n",
    "### Exercise 3\n",
    "Go ahead and try to use the operations for list in tuples and convince yourself of their main differences "
   ]
  },
  {
   "cell_type": "code",
   "execution_count": null,
   "metadata": {},
   "outputs": [],
   "source": [
    "# Here you have space to play with tuples\n"
   ]
  },
  {
   "cell_type": "markdown",
   "metadata": {},
   "source": [
    "Lists and tuples can be change one into another, and as usual,  python has already default functions for doing that, for instance to go from a list into a tuple we use the function <code> tuple(my_list) </code>, and viceversa, <code> list(my_tuple) </code>.\n",
    "    \n",
    "Convince yourself of this with the following two objects\n",
    "    \n",
    "```py\n",
    "my_list = [3, 4, 8, 2, 5, 3, 7] # This is a list\n",
    "my_tuple = (3, 4, 8, 2, 5, 3, 7) # This is a tuple\n",
    "```    \n"
   ]
  },
  {
   "cell_type": "code",
   "execution_count": null,
   "metadata": {},
   "outputs": [],
   "source": []
  },
  {
   "cell_type": "markdown",
   "metadata": {},
   "source": [
    "Let us finally  point out some useful differences between lists and tuples in the following image, they will be useful on your  future programing \n",
    "\n"
   ]
  },
  {
   "cell_type": "code",
   "execution_count": null,
   "metadata": {},
   "outputs": [],
   "source": [
    "from IPython.display import Image\n",
    "Image(\"Figures/image_1.png\")"
   ]
  },
  {
   "cell_type": "markdown",
   "metadata": {},
   "source": [
    "# Numpy"
   ]
  },
  {
   "cell_type": "markdown",
   "metadata": {},
   "source": [
    "Sometimes you have to beef up your List experience because the build in functionality is not sufficient for your problems or it is just slow. Here we introduce the **numpy** library,  which create a whole universe of functions which are fast and efficient. Without further due, let's import numpy to make it usable in our code \n",
    "\n",
    "```py\n",
    "import numpy as np\n",
    "```\n",
    "\n",
    "A module import has to happen before the libarie's code execution. \n",
    "\n",
    "you may have noticed, that the import statement ends with `as np`, this is called aliasing.  This enables to every time we call the library to call it as `np` instead of `numpy`. For instance to call <code>numpy</code> functions we will always use  `np.fun()` instead of `numpy.fun()` which is just more convenient but doesn't change the nature of the execution. \n",
    "\n",
    "As an example, let us use numpy's <code> sqrt() </code> function "
   ]
  },
  {
   "cell_type": "code",
   "execution_count": null,
   "metadata": {},
   "outputs": [],
   "source": [
    "import numpy as np\n",
    "\n",
    "x = 2\n",
    "y = np.sqrt(x)\n",
    "print(y)"
   ]
  },
  {
   "cell_type": "markdown",
   "metadata": {},
   "source": [
    "Additional **numpy** functions include \n",
    "1. exponential function: np.exp(x)\n",
    "2. logarithmic function: np.log(x)\n",
    "3. cosine function: np.cos(x)\n",
    "\n",
    "constants like pi and the Euler number  are also accessible by using the syntax `np.pi` and `np.e` respectively. \n",
    "\n",
    "A full documentation can be seen [here](https://numpy.org/devdocs/index.html)\n",
    "\n",
    "### Exercise 4\n",
    "As an exercise and using numpy functions,  write a function which takes as arguments the coordinates `x` and `y` and returns the polar coordinates `r` and `phi`. Recall the change of variables from Euclidean to polar coordinates is \n",
    " $$\n",
    " r = \\sqrt(x^2+y^2)\\\\\n",
    " \\theta = \\arctan{y/x}.\n",
    " $$\n",
    "\n"
   ]
  },
  {
   "cell_type": "code",
   "execution_count": null,
   "metadata": {},
   "outputs": [],
   "source": [
    "# write your function here\n"
   ]
  },
  {
   "cell_type": "markdown",
   "metadata": {},
   "source": [
    "# Numpy Arrays"
   ]
  },
  {
   "cell_type": "markdown",
   "metadata": {},
   "source": [
    "\n",
    "Withing the many useful tools in <code> numpy </code>, we have  <code> numpy-arrays</code>, which replaces  python <code> lists </code> and works hand in hand with other libraries like <code> matplotlib </code> (for plotting) and <code>scipy </code>(for scientific calculations as for instance  solving differential equations which we will learn in Lecture 4). Numpy arrays are fast for evaluation as compared lists (see  [here](https://numpy.org/doc/stable/user/whatisnumpy.html) )\n",
    "\n",
    "To convert a list into a <code>numpy</code> array we use the following syntax:\n",
    "```py\n",
    "a_numpy_array = np.array([2, 3, 4])\n",
    "```\n",
    "### Exercise 5\n",
    "Convert the previous generated List into <code> numpy </code> arrays and calculate the sum of it using [this](https://numpy.org/doc/stable/reference/generated/numpy.ndarray.sum.html?highlight=sum) function. \n",
    "\n",
    "In addition, convince yourself that the indexing, slicing, computing the length of the array, etc, works in a similar way that for lists.\n",
    "However, if you want to add append an element to an array, you do not use the command ` list.append([3]) `, but rather the command ` np.append(array, value)`. Add the element ` 10 ` to the array `a_numpy_array ` above. \n",
    "Note: changing the size of an numpy array is generally not recommended, since this is a very expensive operation. If you often need to append or remove elements, consider using a list instead.\n"
   ]
  },
  {
   "cell_type": "code",
   "execution_count": null,
   "metadata": {},
   "outputs": [],
   "source": [
    "# here goes your result. "
   ]
  },
  {
   "cell_type": "markdown",
   "metadata": {},
   "source": [
    "Next, let us create  a new numpy array named `t`, that looks like this  \n",
    "```py\n",
    "array([0. , 0.1, 0.2, 0.3, 0.4, 0.5, 0.6, 0.7, 0.8, 0.9, 1. , 1.1, 1.2,\n",
    "       1.3, 1.4, 1.5, 1.6, 1.7, 1.8, 1.9, 2. , 2.1, 2.2, 2.3, 2.4, 2.5,\n",
    "       2.6, 2.7, 2.8, 2.9, 3. , 3.1, 3.2, 3.3, 3.4, 3.5, 3.6, 3.7, 3.8,\n",
    "       3.9, 4. , 4.1, 4.2, 4.3, 4.4, 4.5, 4.6, 4.7, 4.8, 4.9, 5. , 5.1,\n",
    "       5.2, 5.3, 5.4, 5.5, 5.6, 5.7, 5.8, 5.9, 6. , 6.1, 6.2, 6.3, 6.4,\n",
    "       6.5, 6.6, 6.7, 6.8, 6.9, 7. , 7.1, 7.2, 7.3, 7.4, 7.5, 7.6, 7.7,\n",
    "       7.8, 7.9, 8. , 8.1, 8.2, 8.3, 8.4, 8.5, 8.6, 8.7, 8.8, 8.9, 9. ,\n",
    "       9.1, 9.2, 9.3, 9.4, 9.5, 9.6, 9.7, 9.8, 9.9])\n",
    "```\n",
    "\n",
    "We have two options for this task:\n",
    "1. Use [np.linspace](https://numpy.org/doc/stable/reference/generated/numpy.linspace.html) to create a numpy array from **start** to **stop** with **steps**. An example of this is:\n",
    "```py\n",
    "t = np.linspace(0, 10, 101)\n",
    "```\n",
    "2. Use [np.arange](https://numpy.org/doc/stable/reference/generated/numpy.arange.html) to create a numpy array with a fixed step size. An example of this is:\n",
    "```py\n",
    "t = np.arange(0, 10.1, 0.1)\n",
    "```\n"
   ]
  },
  {
   "cell_type": "code",
   "execution_count": null,
   "metadata": {},
   "outputs": [],
   "source": [
    "# write them explicitly here"
   ]
  },
  {
   "cell_type": "markdown",
   "metadata": {},
   "source": [
    "### Exercise 6\n",
    "Recall Exercise 1? We created the functions ` x(t), y(t) `. In this exercise  we want to compute the values for the coordinates positions at every single elements of the array ` t ` above, we can simply   insert the array into the function. The function will be applied element wise onto that array.\n",
    "For example, your functions on exercise 1 have the structure: \n",
    "\n",
    "```py\n",
    "def x(t):\n",
    "    #....\n",
    "x_t = x(t)\n",
    "```\n",
    "the resulting evaluation  `x_t ` will be \n",
    "    \n",
    "```py\n",
    "array([ 1.003400e+02,  1.002649e+02,  9.999360e+01,  9.952610e+01,\n",
    "        9.886240e+01,  9.800250e+01,  9.694640e+01,  9.569410e+01,\n",
    "        9.424560e+01,  9.260090e+01,  9.076000e+01,  8.872290e+01,\n",
    "        8.648960e+01,  8.406010e+01,  8.143440e+01,  7.861250e+01,\n",
    "        7.559440e+01,  7.238010e+01,  6.896960e+01,  6.536290e+01,\n",
    "        6.156000e+01,  5.756090e+01,  5.336560e+01,  4.897410e+01,\n",
    "        4.438640e+01,  3.960250e+01,  3.462240e+01,  2.944610e+01,\n",
    "        2.407360e+01,  1.850490e+01,  1.274000e+01,  6.778900e+00,\n",
    "        6.216000e-01, -5.731900e+00, -1.228160e+01, -1.902750e+01,\n",
    "       -2.596960e+01, -3.310790e+01, -4.044240e+01, -4.797310e+01,\n",
    "       -5.570000e+01, -6.362310e+01, -7.174240e+01, -8.005790e+01,\n",
    "       -8.856960e+01, -9.727750e+01, -1.061816e+02, -1.152819e+02,\n",
    "       -1.245784e+02, -1.340711e+02, -1.437600e+02, -1.536451e+02,\n",
    "       -1.637264e+02, -1.740039e+02, -1.844776e+02, -1.951475e+02,\n",
    "       -2.060136e+02, -2.170759e+02, -2.283344e+02, -2.397891e+02,\n",
    "       -2.514400e+02, -2.632871e+02, -2.753304e+02, -2.875699e+02,\n",
    "       -3.000056e+02, -3.126375e+02, -3.254656e+02, -3.384899e+02,\n",
    "       -3.517104e+02, -3.651271e+02, -3.787400e+02, -3.925491e+02,\n",
    "       -4.065544e+02, -4.207559e+02, -4.351536e+02, -4.497475e+02,\n",
    "       -4.645376e+02, -4.795239e+02, -4.947064e+02, -5.100851e+02,\n",
    "       -5.256600e+02, -5.414311e+02, -5.573984e+02, -5.735619e+02,\n",
    "       -5.899216e+02, -6.064775e+02, -6.232296e+02, -6.401779e+02,\n",
    "       -6.573224e+02, -6.746631e+02, -6.922000e+02, -7.099331e+02,\n",
    "       -7.278624e+02, -7.459879e+02, -7.643096e+02, -7.828275e+02,\n",
    "       -8.015416e+02, -8.204519e+02, -8.395584e+02, -8.588611e+02,\n",
    "       -8.783600e+02])\n",
    "```\n",
    "and similar for ` y(t) ` . Write a code that evaluates ` x(t) ` and ` y(t) ` for the <code> t</code> array and store them into the variables `x_t`, `y_t`. \n",
    "In addition, try to do the same evaluation but using <code> t</code> as a list rather than a <code>numpy </code>array. "
   ]
  },
  {
   "cell_type": "code",
   "execution_count": null,
   "metadata": {},
   "outputs": [],
   "source": [
    "#Write your code here"
   ]
  },
  {
   "cell_type": "markdown",
   "metadata": {},
   "source": [
    "Numpy also allows you to easily do elementwise operations, if the arrays are of equal length. This feature is called [broadcasting](https://numpy.org/doc/stable/user/basics.broadcasting.html)"
   ]
  },
  {
   "cell_type": "code",
   "execution_count": null,
   "metadata": {},
   "outputs": [],
   "source": [
    "y = np.linspace(0, 1, 10)\n",
    "x = np.linspace(0, 2, 10)\n",
    "print(\"adding two arrays of the same size:\", x+y)\n",
    "\n",
    "# let's compare this operation with list\n",
    "x_list = list(x)\n",
    "y_list = list(y)\n",
    "print()\n",
    "print(\"adding two list\", x_list+y_list)"
   ]
  },
  {
   "cell_type": "markdown",
   "metadata": {},
   "source": [
    "As you can see, python list do not add elementwise, instead they just concatenate. So you need to be careful, you can't just replace python lists with numpy arrays. "
   ]
  },
  {
   "cell_type": "markdown",
   "metadata": {},
   "source": [
    "### Exercise 7\n",
    "\n",
    "Use the function defined in **Exercise 4** to convert the arrays `x_t` and `y_t` to polar coordinates. Store your results into `x_p` and `y_p`."
   ]
  },
  {
   "cell_type": "code",
   "execution_count": null,
   "metadata": {},
   "outputs": [],
   "source": [
    "# convert the coordinates here\n"
   ]
  },
  {
   "cell_type": "markdown",
   "metadata": {},
   "source": [
    "# Plotting"
   ]
  },
  {
   "cell_type": "markdown",
   "metadata": {},
   "source": [
    "To end this lecture we will lear how to plot functions using the **matplotlib**\n",
    "\n",
    "First we need to import the library using \n",
    "\n",
    "```py\n",
    "import matplotlib.pyplot as plt\n",
    "```\n",
    "\n",
    "just by looking at the import statement, you already know, that every function of this library will be executed with\n",
    "\n",
    "```py\n",
    "plt.function()\n",
    "```\n",
    "\n",
    "This is in particular useful, if you have a large codebase and you don't want to mix up functions while coding. \n",
    "\n",
    "Back to plotting. You can simply plot two numpy arrays or Lists against each other (they must have the same dimensionality, or in other words: length), by using\n",
    "\n",
    "```py\n",
    "plt.plot(x_axis_array, y_axis_array)\n",
    "``` \n",
    "\n",
    "In the next codeblock, you see an example of a plot."
   ]
  },
  {
   "cell_type": "code",
   "execution_count": null,
   "metadata": {},
   "outputs": [],
   "source": [
    "import matplotlib.pyplot as plt\n",
    "\n",
    "x = [1, 2, 3, 4, 5]\n",
    "y = [1, 4, 9, 16, 25]\n",
    "\n",
    "plt.plot(x, y)"
   ]
  },
  {
   "cell_type": "markdown",
   "metadata": {},
   "source": [
    "You can see, that the graph is kind of edgy. This is due to the fact, that matplotlib is drawing a straight line between every two points. If you add more points, the line will get smoother. If you want to plot only the points, you can use the scatter plot function as follows\n",
    "```\n",
    "plt.scatter(x,y)\n",
    "```\n",
    "### Exercise 8\n",
    "Convince yourself that this give you a scatter plot. \n",
    "\n",
    "You can include the points and the line in the same plot by using \n",
    "```\n",
    "plt.plot(x,y)\n",
    "plt.scatter(x,y)\n",
    "```\n"
   ]
  },
  {
   "cell_type": "code",
   "execution_count": null,
   "metadata": {},
   "outputs": [],
   "source": [
    "# convincing is done here"
   ]
  },
  {
   "cell_type": "markdown",
   "metadata": {},
   "source": [
    "### Exercise 9\n",
    "* Make also a plot of the polar coordinates using results from Exercise 7."
   ]
  },
  {
   "cell_type": "code",
   "execution_count": null,
   "metadata": {},
   "outputs": [],
   "source": [
    "# do the radial plot here"
   ]
  },
  {
   "cell_type": "markdown",
   "metadata": {},
   "source": [
    "Now, plot the angular component!"
   ]
  },
  {
   "cell_type": "code",
   "execution_count": null,
   "metadata": {},
   "outputs": [],
   "source": [
    "# Do the plot in angular coordinates here"
   ]
  },
  {
   "cell_type": "markdown",
   "metadata": {},
   "source": [
    "You are also required to look up in the internet how to adjust the the axis-label, title and legend of your plots."
   ]
  },
  {
   "cell_type": "markdown",
   "metadata": {},
   "source": [
    "# Example\n",
    "\n",
    "Let us finish the lecture with the following example.\n",
    "We want to plot the function $f(x) = 1/x$ against the values of $x$ from $10^-7$ to $100$.\n",
    "\n",
    "First, we want to create a numpy array, which contains the values of $x$ from $10^-7$ to $100$. For this, I use [np.logspace](https://numpy.org/doc/stable/reference/generated/numpy.logspace.html) which is a function, which creates a numpy array with logarithmic steps."
   ]
  },
  {
   "cell_type": "code",
   "execution_count": null,
   "metadata": {},
   "outputs": [],
   "source": [
    "import numpy as np\n",
    "\n",
    "x = np.logspace(-7, 3, 1000) # going from 10^-7 to 10^3"
   ]
  },
  {
   "cell_type": "markdown",
   "metadata": {},
   "source": [
    "Then, we create a function which returns the value of $f(x) = 1/x$."
   ]
  },
  {
   "cell_type": "code",
   "execution_count": null,
   "metadata": {},
   "outputs": [],
   "source": [
    "def f(x):\n",
    "    return 1/x"
   ]
  },
  {
   "cell_type": "markdown",
   "metadata": {},
   "source": [
    "The last step of the calculation is to calculate the values of $f(x)$ for every value of $x$."
   ]
  },
  {
   "cell_type": "code",
   "execution_count": null,
   "metadata": {},
   "outputs": [],
   "source": [
    "f_x = f(x)"
   ]
  },
  {
   "cell_type": "markdown",
   "metadata": {},
   "source": [
    "Finally, we plot the values of $f(x)$ against the values of $x$."
   ]
  },
  {
   "cell_type": "code",
   "execution_count": null,
   "metadata": {},
   "outputs": [],
   "source": [
    "import matplotlib.pyplot as plt\n",
    "\n",
    "plt.plot(x, f_x, label=r'$f(x)=1/x$') # LaTeX support for graph labels :)\n",
    "plt.xlabel(\"x\")\n",
    "plt.ylabel(\"f(x)\")\n",
    "plt.legend()"
   ]
  },
  {
   "cell_type": "markdown",
   "metadata": {},
   "source": [
    "As  can be seen, the graph looks horrible. This is due to the fact that we use a linear scale for plotting. A better scale would be a logarithmic scale. Logarithmic plots can be created using the <code> plt.loglog() <code> function"
   ]
  },
  {
   "cell_type": "code",
   "execution_count": null,
   "metadata": {},
   "outputs": [],
   "source": [
    "plt.loglog(x, f_x, label=r'$f(x)=x^{-1}$', color=\"green\") # LaTeX support for graph labels :)\n",
    "plt.xlabel(\"x\")\n",
    "plt.ylabel(\"f(x)\")\n",
    "plt.legend()"
   ]
  },
  {
   "cell_type": "markdown",
   "metadata": {},
   "source": [
    "one could have alternative use the <code>plt.xscale()</code> function to change the x-axis scales, and similar for the y-axis"
   ]
  },
  {
   "cell_type": "code",
   "execution_count": null,
   "metadata": {},
   "outputs": [],
   "source": [
    "plt.plot(x, f_x, label=r'$f(x)=x^{-1}$', color=\"green\") # LaTeX support for graph labels :)\n",
    "plt.xlabel(\"x\")\n",
    "plt.ylabel(\"f(x)\")\n",
    "plt.xscale('log')\n",
    "#plt.yscale('log')\n",
    "plt.legend()"
   ]
  },
  {
   "cell_type": "code",
   "execution_count": null,
   "metadata": {},
   "outputs": [],
   "source": []
  }
 ],
 "metadata": {
  "interpreter": {
   "hash": "916dbcbb3f70747c44a77c7bcd40155683ae19c65e1c03b4aa3499c5328201f1"
  },
  "kernelspec": {
   "display_name": "Python 3",
   "language": "python",
   "name": "python3"
  },
  "language_info": {
   "codemirror_mode": {
    "name": "ipython",
    "version": 3
   },
   "file_extension": ".py",
   "mimetype": "text/x-python",
   "name": "python",
   "nbconvert_exporter": "python",
   "pygments_lexer": "ipython3",
   "version": "3.8.9"
  }
 },
 "nbformat": 4,
 "nbformat_minor": 2
}
