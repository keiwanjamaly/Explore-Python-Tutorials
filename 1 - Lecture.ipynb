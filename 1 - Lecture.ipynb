{
 "cells": [
  {
   "cell_type": "markdown",
   "metadata": {},
   "source": [
    "Hello there, \n",
    "\n",
    "with this Python lecture series, you all the python tools you need for EXPLORE II and your scientific carer. In this Lecture we go threw the **basics** and you will learn something about about **functions**, **lists**, **plotting** and **numpy** 😮."
   ]
  },
  {
   "cell_type": "markdown",
   "metadata": {},
   "source": [
    "So in programming, you generally want to implement algorithms which do tedious calculations for you. In analytic expressions you will encounter variables (I really hope, that you did), for example:\n",
    "\n",
    "$x^2 + 1$\n",
    "\n",
    "So $x$ is here the variable (hold on, I know this is boring stuff you already know, but we have do this). The same concept exists in programming. In python you can do something like:\n",
    "\n",
    "```py\n",
    "x = 5\n",
    "```\n",
    "\n",
    "and if you run \n",
    "```py\n",
    "x**2 + 1\n",
    "```\n",
    "you get 26 as a result (If not, you should get a new Computer). Here `**` stands for the power function, so the expression means $x^2 + 1$.\n",
    "\n",
    "You can try it out by clicking the **play** button on the next block."
   ]
  },
  {
   "cell_type": "code",
   "execution_count": 5,
   "metadata": {},
   "outputs": [
    {
     "data": {
      "text/plain": [
       "26"
      ]
     },
     "execution_count": 5,
     "metadata": {},
     "output_type": "execute_result"
    }
   ],
   "source": [
    "x = 5\n",
    "x**2 + 1"
   ]
  },
  {
   "cell_type": "markdown",
   "metadata": {},
   "source": [
    "So you could do this also for another number.. lets say `x = 7`."
   ]
  },
  {
   "cell_type": "code",
   "execution_count": 6,
   "metadata": {},
   "outputs": [
    {
     "data": {
      "text/plain": [
       "50"
      ]
     },
     "execution_count": 6,
     "metadata": {},
     "output_type": "execute_result"
    }
   ],
   "source": [
    "x = 7\n",
    "x**2 + 1"
   ]
  },
  {
   "cell_type": "markdown",
   "metadata": {},
   "source": [
    "or `x = 50`"
   ]
  },
  {
   "cell_type": "code",
   "execution_count": 7,
   "metadata": {},
   "outputs": [
    {
     "data": {
      "text/plain": [
       "2501"
      ]
     },
     "execution_count": 7,
     "metadata": {},
     "output_type": "execute_result"
    }
   ],
   "source": [
    "x = 50\n",
    "x**2 + 1"
   ]
  },
  {
   "cell_type": "markdown",
   "metadata": {},
   "source": [
    "You get the idea.. You can save your time and calories by abstracting \n",
    "\n",
    "```py\n",
    "x**2 + 1\n",
    "```\n",
    "\n",
    "into a function which can be reused several times. The basic function definition goes like\n",
    "\n",
    "```py\n",
    "def a_fancy_function_name(x1):\n",
    "    # ...\n",
    "```\n",
    "\n",
    "`x1` is a function parameter, if you compare it to math, it is like a dependency. You can have multiple function parameters\n",
    "\n",
    "```py\n",
    "def another_fancy_function_name(x1, x2):\n",
    "    # ...\n",
    "```\n",
    "\n",
    "A Function generally \"does\" something. But sometimes you want your function to return something. Let's make an example. Let's say, you want to write a function, which adds two parameters and squares them afterwards. You could write something like\n",
    "\n",
    "```py\n",
    "def sum_and_square(x1, x2):\n",
    "    summed_parameters = x1 + x2\n",
    "    squared_result = summed_parameters**2\n",
    "    return squared_result\n",
    "```"
   ]
  },
  {
   "cell_type": "code",
   "execution_count": 10,
   "metadata": {},
   "outputs": [],
   "source": [
    "def sum_and_square(x1, x2):\n",
    "    summed_parameters = x1 + x2\n",
    "    squared_result = summed_parameters**2\n",
    "    return squared_result"
   ]
  },
  {
   "cell_type": "code",
   "execution_count": 13,
   "metadata": {},
   "outputs": [
    {
     "data": {
      "text/plain": [
       "25"
      ]
     },
     "execution_count": 13,
     "metadata": {},
     "output_type": "execute_result"
    }
   ],
   "source": [
    "x = sum_and_square(2, 3)\n",
    "x"
   ]
  },
  {
   "cell_type": "markdown",
   "metadata": {},
   "source": [
    "As you can see, the variable from `return` is stored in the variable `x`. A function doesn't need to have a `return` statement, when you work with a **class** (you will learn about classes later). You can do a lot more with functions, some of them are self explanatory, some of them are not. I encourage you to learn more about functions [here](https://www.w3schools.com/python/python_functions.asp). "
   ]
  },
  {
   "cell_type": "markdown",
   "metadata": {},
   "source": [
    "Now, that I have introduced functions, I want to take a step back and speak about **types**. \n",
    "\n",
    "In mathematics if you write a variable `a` it could be a scalar (Natural Number, Real Number, etc. ), vector, matrix or some other weird stuff. It is the same in programing and there are called **types**. There are a lot of types and you can even define your own, but the most important you need to know for now are (without a particular order)\n",
    "\n",
    "* Boolean point number (bool): a binary value; True, False <- spelling is important\n",
    "* Integer (int): a number; 1, 4, 6, 23, also -34\n",
    "* Floating Point Number (float): a decimal number; 2.4, 34.2325, -54.234967\n",
    "* String (str): a sequence of characters; \"hello\", \"I learn python!\", \"I am a string\"\n",
    "\n",
    "You can read more about them [here](https://docs.python.org/3/library/stdtypes.html#boolean-operations-and-or-not), [here](https://docs.python.org/3/library/stdtypes.html#numeric-types-int-float-complex) and [here](https://docs.python.org/3/library/stdtypes.html#text-sequence-type-str).\n"
   ]
  }
 ],
 "metadata": {
  "interpreter": {
   "hash": "916dbcbb3f70747c44a77c7bcd40155683ae19c65e1c03b4aa3499c5328201f1"
  },
  "kernelspec": {
   "display_name": "Python 3.8.10 64-bit",
   "name": "python3"
  },
  "language_info": {
   "codemirror_mode": {
    "name": "ipython",
    "version": 3
   },
   "file_extension": ".py",
   "mimetype": "text/x-python",
   "name": "python",
   "nbconvert_exporter": "python",
   "pygments_lexer": "ipython3",
   "version": "3.8.10"
  },
  "orig_nbformat": 4
 },
 "nbformat": 4,
 "nbformat_minor": 2
}
