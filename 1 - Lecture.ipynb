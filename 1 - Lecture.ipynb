{
 "cells": [
  {
   "cell_type": "markdown",
   "metadata": {},
   "source": [
    "# Python Tutotial 1"
   ]
  },
  {
   "cell_type": "markdown",
   "metadata": {},
   "source": [
    "Hello there, \n",
    "\n",
    "with this Python lecture series, you learn the most important python tools you need for your scientific carer. In this Lecture we go threw the **basics** and you will learn something about about **functions**, **lists**, **plotting** and **numpy** 😮."
   ]
  },
  {
   "cell_type": "markdown",
   "metadata": {},
   "source": [
    "# Variables"
   ]
  },
  {
   "cell_type": "markdown",
   "metadata": {},
   "source": [
    "So in programming, you generally want to implement algorithms which do tedious calculations for you. In analytic expressions you have encountered variables, for example:\n",
    "\n",
    "$x^2 + 1$\n",
    "\n",
    "So here, $x$ is the variable (hold on, I know this is boring stuff you already know, but we have do this). The same concept exists in programming. In python you can do something like:\n",
    "\n",
    "```py\n",
    "x = 5\n",
    "```\n",
    "\n",
    "and if you run \n",
    "```py\n",
    "x**2 + 1\n",
    "```\n",
    "you get `26` as a result (If not, you should get a new Computer). Here `**` stands for the power function, so the expression means $x^2 + 1$.\n",
    "\n",
    "You can try it out by clicking the **play** button on the next block."
   ]
  },
  {
   "cell_type": "code",
   "execution_count": 1,
   "metadata": {},
   "outputs": [
    {
     "data": {
      "text/plain": [
       "26"
      ]
     },
     "execution_count": 1,
     "metadata": {},
     "output_type": "execute_result"
    }
   ],
   "source": [
    "x = 5\n",
    "x**2 + 1"
   ]
  },
  {
   "cell_type": "markdown",
   "metadata": {},
   "source": [
    "So you could do this also for another number.. lets say `x = 7`."
   ]
  },
  {
   "cell_type": "code",
   "execution_count": 2,
   "metadata": {},
   "outputs": [
    {
     "data": {
      "text/plain": [
       "50"
      ]
     },
     "execution_count": 2,
     "metadata": {},
     "output_type": "execute_result"
    }
   ],
   "source": [
    "x = 7\n",
    "x**2 + 1"
   ]
  },
  {
   "cell_type": "markdown",
   "metadata": {},
   "source": [
    "or `x = 50`"
   ]
  },
  {
   "cell_type": "code",
   "execution_count": 3,
   "metadata": {},
   "outputs": [
    {
     "data": {
      "text/plain": [
       "2501"
      ]
     },
     "execution_count": 3,
     "metadata": {},
     "output_type": "execute_result"
    }
   ],
   "source": [
    "x = 50\n",
    "x**2 + 1"
   ]
  },
  {
   "cell_type": "markdown",
   "metadata": {},
   "source": [
    "# Fuctions"
   ]
  },
  {
   "cell_type": "markdown",
   "metadata": {},
   "source": [
    "You get the idea.. You can save your time and calories by abstracting \n",
    "\n",
    "```py\n",
    "x**2 + 1\n",
    "```\n",
    "\n",
    "into a function which can be reused several times. The basic function definition goes like\n",
    "\n",
    "```py\n",
    "def a_fancy_function_name(x1):\n",
    "    # ...\n",
    "```\n",
    "\n",
    "`x1` is a function parameter, if you compare it to math, it is like a dependency. You can have multiple function parameters\n",
    "\n",
    "```py\n",
    "def another_fancy_function_name(x1, x2):\n",
    "    # ...\n",
    "```\n",
    "\n",
    "The function parameters can be of any type (also functions). We get to types later.\n",
    "\n",
    "A Function generally \"does\" something. But sometimes you want your function to return something. As an example: Let's say, you want to write a function, which adds two parameters and squares them afterwards. You could write something like\n",
    "\n",
    "```py\n",
    "def sum_and_square(x1, x2):\n",
    "    summed_parameters = x1 + x2\n",
    "    squared_result = summed_parameters**2\n",
    "    return squared_result\n",
    "```"
   ]
  },
  {
   "cell_type": "code",
   "execution_count": 4,
   "metadata": {},
   "outputs": [],
   "source": [
    "def sum_and_square(x1, x2):\n",
    "    summed_parameters = x1 + x2\n",
    "    squared_result = summed_parameters**2\n",
    "    return squared_result"
   ]
  },
  {
   "cell_type": "code",
   "execution_count": 5,
   "metadata": {},
   "outputs": [
    {
     "data": {
      "text/plain": [
       "25"
      ]
     },
     "execution_count": 5,
     "metadata": {},
     "output_type": "execute_result"
    }
   ],
   "source": [
    "x = sum_and_square(2, 3)\n",
    "x"
   ]
  },
  {
   "cell_type": "markdown",
   "metadata": {},
   "source": [
    "As you can see, the functions from `return` Value is stored in the variable `x`. A function doesn't need to have a `return` statement, for example, when you work with **classes** (you will learn about classes later). Functions have other features like optional parameters, default parameters, typing, etc., some of them are self explanatory, some of them are not. I encourage you to learn more about functions [here](https://www.w3schools.com/python/python_functions.asp). \n",
    "\n",
    "But first, lets do an exercise:\n",
    "Imagine a freely falling particle $x(t) = -9.81*t^2 + 0.23*t + 100.34$ and $y(t) = 0.5 * t$. Write two functions, the first(second) one should give you the x(y)-Position for a givin t. \n",
    "\n",
    "Being a good programmer means also, to verify the functionality of your code, so run sum tests. "
   ]
  },
  {
   "cell_type": "code",
   "execution_count": 6,
   "metadata": {},
   "outputs": [],
   "source": [
    "# here goes your solution"
   ]
  },
  {
   "cell_type": "markdown",
   "metadata": {},
   "source": [
    "# Types"
   ]
  },
  {
   "cell_type": "markdown",
   "metadata": {},
   "source": [
    "Now, that I have introduced functions, I want to take a step back and speak about **types**. \n",
    "\n",
    "In mathematics if you write a variable `a` it could be a scalar (Natural Number, Real Number, etc. ), vector, matrix or some other weird stuff. It is the same in programing and there are called **types**. There are a lot of types and you can even define your own, but the most important ones you need to know for now are (without any particular order)\n",
    "\n",
    "* Boolean point number (bool): a binary value; True, False <- spelling is important\n",
    "* Integer (int): a number; 1, 4, 6, 23, also -34\n",
    "* Floating Point Number (float): a decimal number; 2.4, 34.2325, -54.234967\n",
    "* String (str): a sequence of characters; \"hello\", \"I learn python!\", \"I am a string\"\n",
    "\n",
    "Types have different kinds of operations, for example: with integers you can do addition like `1 + 2` and you can also do multiplication like `1 * 2`. Strings you can concatenate like `\"hello\" + \"world\"` and you can also do string comparison like `\"hello\" == \"hello\"`.\n",
    "\n",
    "You can read more about them [here](https://docs.python.org/3/library/stdtypes.html#boolean-operations-and-or-not), [here](https://docs.python.org/3/library/stdtypes.html#numeric-types-int-float-complex) and [here](https://docs.python.org/3/library/stdtypes.html#text-sequence-type-str).\n"
   ]
  },
  {
   "cell_type": "code",
   "execution_count": null,
   "metadata": {},
   "outputs": [],
   "source": [
    "# your solution goes here"
   ]
  },
  {
   "cell_type": "markdown",
   "metadata": {},
   "source": [
    "# Lists and Tuples"
   ]
  },
  {
   "cell_type": "markdown",
   "metadata": {},
   "source": [
    "You probably stumbled over the word \"List\" or \"Tuple\" at the last exercise. I use this as an introduction into Lists. They are used to collect data in one variable. Let's define a List, to make it more clearer.\n",
    "\n",
    "```py\n",
    "my_fancy_list = [3, 4, 8, 2, 5, 3, 7]\n",
    "```\n",
    "\n",
    "You can now access a list element with:\n",
    "```py\n",
    "my_fancy_list[2]\n",
    "```\n",
    "this will give you `8`. Keep in mind, that in programing languages, the first element is referenced as the 0th element. So \n",
    "```py\n",
    "my_fancy_list[5]\n",
    "```\n",
    "will give you `3` and **not** 5. \n",
    "\n",
    "you can also write/change variables with\n",
    "```py\n",
    "my_fancy_list[5] = 83\n",
    "```\n",
    "and even append to a list by using\n",
    "```py\n",
    "my_fancy_list.append(10)\n",
    "```\n",
    "\n",
    "You can also access the last (second to last) element by using the index `-1`(`-2`).\n",
    "```py\n",
    "my_fancy_list[-1]\n",
    "```\n",
    "\n",
    "Go ahead and try all these things out!"
   ]
  },
  {
   "cell_type": "code",
   "execution_count": null,
   "metadata": {},
   "outputs": [],
   "source": [
    "# Here you have space to mess around with lists. "
   ]
  },
  {
   "cell_type": "markdown",
   "metadata": {},
   "source": [
    "Tuples function in general the same way as Lists, but you define dem with round brackets instead of squared ones.\n",
    "```py\n",
    "my_fancy_list = [3, 4, 8, 2, 5, 3, 7] # This is a list\n",
    "my_fancy_tuple = (3, 4, 8, 2, 5, 3, 7) # This is a tuple\n",
    "```\n",
    "and tuples are immutable (you cannot change them), Once they are defined, they stay that way. "
   ]
  },
  {
   "cell_type": "markdown",
   "metadata": {},
   "source": [
    "# Numpy"
   ]
  },
  {
   "cell_type": "markdown",
   "metadata": {},
   "source": [
    "Sometimes you have to beef up your List experience because the build in functionality is not sufficient for your problems or it is just slow. Here comes numpy which create a whole universe of functions which are fast and efficient. Without further talking, let's import numpy to make it usable in our code \n",
    "\n",
    "```py\n",
    "import numpy as np\n",
    "```\n",
    "\n",
    "A module import has to happen before the libarie's code execution. \n",
    "\n",
    "you may have noticed, that the import statement ends with `as np`. This enables us to write `np.function_i_want_to_use()` instead of `numpy.function_i_want_to_use()` which is just more convenient but doesn't change the nature of the execution. \n",
    "\n",
    "Let's say, you want to compute the square-root of some number `x`. \n",
    "\n",
    "so you can write `np.sqrt(x)`. "
   ]
  },
  {
   "cell_type": "code",
   "execution_count": 1,
   "metadata": {},
   "outputs": [
    {
     "name": "stdout",
     "output_type": "stream",
     "text": [
      "1.4142135623730951\n"
     ]
    }
   ],
   "source": [
    "import numpy as np\n",
    "\n",
    "x = 2\n",
    "y = np.sqrt(x)\n",
    "print(y)"
   ]
  },
  {
   "cell_type": "markdown",
   "metadata": {},
   "source": [
    "\n",
    "1. exponential function: math.exp(x)\n",
    "2. logarithmic function: math.log(x)\n",
    "3. cosine function: math.cos(x)\n",
    "\n",
    "also constants are accessible with `math.py` and `math.e`.\n",
    "\n",
    "A full documentation can be seen [here](https://docs.python.org/3/library/math.html)\n",
    "\n",
    "For an exercise, write a function which takes two arguments `x` and `y` and returns the polar coordinates `r` and `phi`.\n",
    "Hint: You need the documentation of the math library and [this forum post](https://stackoverflow.com/questions/38508/whats-the-best-way-to-return-multiple-values-from-a-function).\n"
   ]
  },
  {
   "cell_type": "markdown",
   "metadata": {},
   "source": [
    "To truly grasp the benefit of using numpy, we need to introduce for loops, but this will be done in lecture 2. If you are still interested, you can read [this](https://numpy.org/doc/stable/user/whatisnumpy.html) (You should actually read this! xD). You should also get familiar with numpy and how it actually works, to tickle every least bit of performance out of python and to avoid some gotchas regarding numpy. The selling point of numpy is, that numpy builds around an object called numpy-array, which replaces the python List and works hand in hand with other libraries like matplotlib (for plotting) and scipy (for scientific calculations like solving differential equations).\n",
    "\n",
    "To convert a list into a numpy array you write:\n",
    "```py\n",
    "a_numpy_array = np.array([2, 3, 4])\n",
    "```\n",
    "\n",
    "go ahead and convert you previous generated List into an numpy array and calculate the sum of it using [this](https://numpy.org/doc/stable/reference/generated/numpy.ndarray.sum.html?highlight=sum) function. "
   ]
  },
  {
   "cell_type": "code",
   "execution_count": 1,
   "metadata": {},
   "outputs": [],
   "source": [
    "# here goes your result. "
   ]
  },
  {
   "cell_type": "markdown",
   "metadata": {},
   "source": [
    "Next, create a new numpy array named `t`. It should look like \n",
    "```py\n",
    "array([0. , 0.1, 0.2, 0.3, 0.4, 0.5, 0.6, 0.7, 0.8, 0.9, 1. , 1.1, 1.2,\n",
    "       1.3, 1.4, 1.5, 1.6, 1.7, 1.8, 1.9, 2. , 2.1, 2.2, 2.3, 2.4, 2.5,\n",
    "       2.6, 2.7, 2.8, 2.9, 3. , 3.1, 3.2, 3.3, 3.4, 3.5, 3.6, 3.7, 3.8,\n",
    "       3.9, 4. , 4.1, 4.2, 4.3, 4.4, 4.5, 4.6, 4.7, 4.8, 4.9, 5. , 5.1,\n",
    "       5.2, 5.3, 5.4, 5.5, 5.6, 5.7, 5.8, 5.9, 6. , 6.1, 6.2, 6.3, 6.4,\n",
    "       6.5, 6.6, 6.7, 6.8, 6.9, 7. , 7.1, 7.2, 7.3, 7.4, 7.5, 7.6, 7.7,\n",
    "       7.8, 7.9, 8. , 8.1, 8.2, 8.3, 8.4, 8.5, 8.6, 8.7, 8.8, 8.9, 9. ,\n",
    "       9.1, 9.2, 9.3, 9.4, 9.5, 9.6, 9.7, 9.8, 9.9])\n",
    "```\n",
    "\n",
    "Compare [np.linspace](https://numpy.org/doc/stable/reference/generated/numpy.linspace.html) and [np.arange](https://numpy.org/doc/stable/reference/generated/numpy.arange.html) and choose wisely to do this task :)"
   ]
  },
  {
   "cell_type": "code",
   "execution_count": 2,
   "metadata": {},
   "outputs": [],
   "source": [
    "# here goes your result. "
   ]
  },
  {
   "cell_type": "markdown",
   "metadata": {},
   "source": [
    "Now we want to use the previous created methods, for computing the positions of our trajectory. This can be done by simply inserting the array into the function. The function will be applied element wise onto that array. For example:\n",
    "\n",
    "```py\n",
    "my_fancy_array = # definition of numpy array\n",
    "a_new_array = my_fancy_function(my_fancy_array)\n",
    "```"
   ]
  },
  {
   "cell_type": "markdown",
   "metadata": {},
   "source": [
    "So go ahead and create two arrays named `x_component_euclidean` and `y_component_euclidean`. The naming will become clearer at the end. "
   ]
  },
  {
   "cell_type": "code",
   "execution_count": null,
   "metadata": {},
   "outputs": [],
   "source": [
    "# here go your new arrays. "
   ]
  },
  {
   "cell_type": "markdown",
   "metadata": {},
   "source": [
    "Now use your previous written function, to convert the euclidean coordinates to polar coordinates. "
   ]
  },
  {
   "cell_type": "code",
   "execution_count": null,
   "metadata": {},
   "outputs": [],
   "source": [
    "# convert the coordinates here"
   ]
  },
  {
   "cell_type": "markdown",
   "metadata": {},
   "source": [
    "# Plotting"
   ]
  },
  {
   "cell_type": "markdown",
   "metadata": {},
   "source": [
    "Okay, so far so good. The final goal of the first lecture will be, to plot the coordinates $r, \\phi$ against the time. We do this by using matplotlib which is a horribly documented but powerful library for plotting. As for every library, you need to import it first. You can do this, by running.\n",
    "\n",
    "```py\n",
    "import matplotlib.pyplot as plt\n",
    "```\n",
    "\n",
    "just by looking at the import statement, you already know, that every function of this library will be executed with\n",
    "\n",
    "```py\n",
    "plt.here_is_you_function_call()\n",
    "```\n",
    "\n",
    "This is in particular useful, if you have a large codebase and you don't want to mix up functions while coding. \n",
    "\n",
    "Back to plotting!!! you can simply plot two numpy arrays or Lists against each other (they must have the same dimensionality, or in other words: length), by using\n",
    "\n",
    "```py\n",
    "plt.plot(x_axis_array, y_axis_array)\n",
    "``` \n",
    "\n",
    "In the next codeblock, you see an example of a plot."
   ]
  },
  {
   "cell_type": "code",
   "execution_count": 1,
   "metadata": {},
   "outputs": [
    {
     "data": {
      "text/plain": [
       "[<matplotlib.lines.Line2D at 0x7f1d09eb5d30>]"
      ]
     },
     "execution_count": 1,
     "metadata": {},
     "output_type": "execute_result"
    },
    {
     "data": {
      "image/png": "[encoded data removed]",
      "text/plain": [
       "<Figure size 432x288 with 1 Axes>"
      ]
     },
     "metadata": {
      "needs_background": "light"
     },
     "output_type": "display_data"
    }
   ],
   "source": [
    "import matplotlib.pyplot as plt\n",
    "\n",
    "x = [1, 2, 3, 4, 5]\n",
    "y = [1, 4, 9, 16, 25]\n",
    "\n",
    "plt.plot(x, y)"
   ]
  },
  {
   "cell_type": "markdown",
   "metadata": {},
   "source": [
    "Try it in the next code block, by plotting the radial component of the trajectory of your freely falling particle in polar coordinates."
   ]
  },
  {
   "cell_type": "code",
   "execution_count": null,
   "metadata": {},
   "outputs": [],
   "source": [
    "# do the radial plot here"
   ]
  },
  {
   "cell_type": "markdown",
   "metadata": {},
   "source": [
    "Now, plot the angular component!"
   ]
  },
  {
   "cell_type": "code",
   "execution_count": null,
   "metadata": {},
   "outputs": [],
   "source": [
    "# plot the angular component here"
   ]
  },
  {
   "cell_type": "markdown",
   "metadata": {},
   "source": [
    "As a last exercise, you can look up the internet to adjust the the axis-label, title and legend of your plots."
   ]
  }
 ],
 "metadata": {
  "interpreter": {
   "hash": "916dbcbb3f70747c44a77c7bcd40155683ae19c65e1c03b4aa3499c5328201f1"
  },
  "kernelspec": {
   "display_name": "Python 3",
   "language": "python",
   "name": "python3"
  },
  "language_info": {
   "codemirror_mode": {
    "name": "ipython",
    "version": 3
   },
   "file_extension": ".py",
   "mimetype": "text/x-python",
   "name": "python",
   "nbconvert_exporter": "python",
   "pygments_lexer": "ipython3",
   "version": "3.8.10"
  }
 },
 "nbformat": 4,
 "nbformat_minor": 2
}
