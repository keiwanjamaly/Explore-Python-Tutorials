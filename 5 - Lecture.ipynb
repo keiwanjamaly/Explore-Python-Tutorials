{
 "cells": [
  {
   "cell_type": "markdown",
   "metadata": {},
   "source": [
    "# Lecture 5"
   ]
  },
  {
   "cell_type": "markdown",
   "metadata": {},
   "source": [
    "**Authors:**\n",
    "* Yilber Fabian Bautista \n",
    "\n",
    "**Last date of modification:**\n",
    " December 21th 2021"
   ]
  },
  {
   "cell_type": "markdown",
   "metadata": {},
   "source": [
    "Hello there,\n",
    "\n",
    "welcome to Lecture 5 of this mini-lecture series on programing with Python. In this series, you will learn basic and intermediate python tools that will be of great use in your scientific carer.\n",
    "\n",
    "By the end of this lecture you will be able to:\n",
    "* Use **dictionaries** in python\n",
    "* Use **pandas** library to read, create and modify data frames\n",
    "* ...."
   ]
  },
  {
   "cell_type": "markdown",
   "metadata": {},
   "source": [
    "## Dictionaries\n",
    "\n",
    "Let us start this lecture by introducing a new type of data structure, that is, **dictionaries**. \n",
    "In **Lecture 2** we learned how to use **lists** and **arrays** as data structures.\n",
    "\n",
    "**What are Dictionaries?**\n",
    "\n",
    "A dictionary consists of keys and values assigned to those keys. Since **dictionaries** have similar characteristics to **lists**, it is helpful to compare the former to the latter.\n",
    "\n",
    "<img src=\"https://cf-courses-data.s3.us.cloud-object-storage.appdomain.cloud/IBMDeveloperSkillsNetwork-PY0101EN-SkillsNetwork/labs/Module%202/images/DictsList.png\" width=\"650\" /> \n",
    "Figure taken from [IBM courses](https://cf-courses-data.s3.us.cloud-object-storage.appdomain.cloud/IBMDeveloperSkillsNetwork-PY0101EN-SkillsNetwork/labs/Module%202/images/DictsList.png)\n",
    "\n",
    "Instead of the numerical indexes, dictionaries have keys, which are non-mutable objects like **strings** or **tuples**. These keys are the \"indexes\" that are used to access values within a dictionary. \n",
    "Likewise **lists**, **dictionaries** are mutable objects, which means  we can modify them, change values for a given key, add new keys with their corresponding values, etc. \n",
    "\n",
    "The python syntax to create dictionaries is the following:\n",
    "\n",
    "```py\n",
    "my_dictionary = {'key':value}\n",
    "```\n",
    "\n",
    "The `type` of a dictionary (`type(my_dictionary)`) is `dict`. Let us create our first **dictionary** in python:\n"
   ]
  },
  {
   "cell_type": "code",
   "execution_count": 15,
   "metadata": {},
   "outputs": [
    {
     "data": {
      "text/plain": [
       "dict"
      ]
     },
     "execution_count": 15,
     "metadata": {},
     "output_type": "execute_result"
    }
   ],
   "source": [
    "import numpy as np\n",
    "# Create the dictionary\n",
    "\n",
    "my_dictionary = {\"key1\": 1, \"key2\": \"2\", \"key3\": np.array([3, 3, 8]),\n",
    "                 \"key4\": (4, 4, '4'), ('key5'): 5, (0, 1): 6}\n",
    "type(my_dictionary)"
   ]
  },
  {
   "cell_type": "markdown",
   "metadata": {},
   "source": [
    "Notice that likewise for **lists** and **tuples**, dictionary elements do not have to be of the same `type`.\n",
    "\n",
    "* **Accessing the keys of a dictionary**:\n",
    "\n",
    "In case we do not know the keys of a given dictionary, the function `keys()` can be use to obtain a list of the keys of the dictionary.\n",
    "```py\n",
    "my_dictionary.keys()\n",
    "```\n",
    "* **Accessing  the value by the key**\n",
    "\n",
    "To access the elements of a given key, we have two options: the first one by using  an  \"indexing\"-like approach. That is\n",
    "\n",
    "```py\n",
    "my_dictionary['key1']\n",
    "```\n",
    "this will return the output `1`. The second option is by using the  `get()` method. It is used as\n",
    "\n",
    "```py\n",
    "my_dictionary.get((0, 1))\n",
    "```\n",
    "this will produce the output `6`. **Why is get useful?** If we ask for the value of the dictionary for a given key and the key does not exist in the dictionary, then the `get` method avoids error messages, and simply returns `None`. For instance if we did\n",
    "\n",
    "```\n",
    "my_dictionary.get('key7')\n",
    "```\n",
    "the output will be `None`.\n",
    "\n",
    "* **Adding a new element to the dictionary**\n",
    "\n",
    "For **lists** and **arrays** we would had use the `list.append(value)` and `np.append(array,value)` methods respectively. For **dictionaries** instead, we will use the following syntax:\n",
    "\n",
    "```py\n",
    "my_dictionary['key7'] = 'new_value'\n",
    "```\n",
    "\n",
    "* **Remove a key from a dictionary**\n",
    "\n",
    "To remove an key with its respective values we use the `pop()` method. For instance, if we want to delete the newly assigned `key7` from our dictionary we use:\n",
    "```py\n",
    "my_dictionary.pop('key7')\n",
    "```\n",
    "then, if we ask for the keys of our dictionary \n",
    "```\n",
    "my_dictionary.keys()\n",
    "```\n",
    "we will get as output `dict_keys(['key1', 'key2', 'key3', 'key4', 'key5', (0, 1)])`.\n",
    "\n",
    "See  [this link](https://www.w3schools.com/python/python_ref_dictionary.asp) for additional methods applied to dictionaries\n"
   ]
  },
  {
   "cell_type": "markdown",
   "metadata": {},
   "source": [
    "# Exercise 1\n",
    "1. Try out yourself the previous explanation\n",
    "2. Given the following dictionaries, write short line codes to answer the following Questions (See also [this page](https://holypython.com/beginner-python-exercises/exercise-8-python-dictionaries/) for more exercises with dictionaries): \n",
    "\n",
    "```py\n",
    "dictionary_1 ={\"name\": \"Plato\", \"country\": \"Ancient Greece\", \"born\": -427, \"teacher\": \"Socrates\", \"student\": \"Aristotle\"}\n",
    "dictionary_2 = {\"son's name\": \"Lucas\", \"son's eyes\": \"green\", \"son's height\": 32, \"son's weight\": 25}\n",
    "```\n",
    "* When was Plato born?\n",
    "* Change Plato's birth year from B.C. 427 to B.C. 428\n",
    "* Add the key \"work\" to `dictionary_1`, with the values \"Apology\", \"Phaedo\", \"Republic\", \"Symposium\" in a list \n",
    "* Add 2 inches to the son's height in `dictionary_2`\n",
    "* Using .get() method print the value of \"son's eyes\"\n",
    "* Merge  dictionary_1  and  dictionary_2  into the dictionary  dictionary_merge, using the syntax:\n",
    "\n",
    "```py\n",
    "dictionary_merge = merge(**dictionary_1,**dictionary_2)\n",
    "```\n",
    "and print the list of keys in `dictionary_merge`\n"
   ]
  },
  {
   "cell_type": "code",
   "execution_count": null,
   "metadata": {},
   "outputs": [],
   "source": []
  }
 ],
 "metadata": {
  "kernelspec": {
   "display_name": "Python 3",
   "language": "python",
   "name": "python3"
  },
  "language_info": {
   "codemirror_mode": {
    "name": "ipython",
    "version": 3
   },
   "file_extension": ".py",
   "mimetype": "text/x-python",
   "name": "python",
   "nbconvert_exporter": "python",
   "pygments_lexer": "ipython3",
   "version": "3.7.6"
  }
 },
 "nbformat": 4,
 "nbformat_minor": 4
}
