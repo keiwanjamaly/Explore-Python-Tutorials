{
 "cells": [
  {
   "cell_type": "markdown",
   "metadata": {},
   "source": [
    "# Lecture 5"
   ]
  },
  {
   "cell_type": "markdown",
   "metadata": {},
   "source": [
    "**Authors:**\n",
    "* Yilber Fabian Bautista \n",
    "* \n",
    "\n",
    "**Last date of modification:**\n",
    " December 21th 2021"
   ]
  },
  {
   "cell_type": "markdown",
   "metadata": {},
   "source": [
    "Hello there,\n",
    "\n",
    "welcome to Lecture 5 of this mini-lecture series on programing with Python. In this series, you will learn basic and intermediate python tools that will be of great use in your scientific carer.\n",
    "\n",
    "By the end of this lecture you will be able to:\n",
    "* Use **dictionaries** in python\n",
    "* Use **pandas**  create, modify, save and read **csv** data files"
   ]
  },
  {
   "cell_type": "markdown",
   "metadata": {},
   "source": [
    "## Dictionaries\n",
    "\n",
    "In **Lecture 2** we learned how to use **lists** and **arrays** as data structures. In this lecture we introduce **dictionaries**\n",
    "\n",
    "**What are Dictionaries?**\n",
    "\n",
    "A dictionary consists of keys and values assigned to those keys. Since **dictionaries** have similar characteristics to **lists**, it is helpful to compare these two\n",
    "\n",
    "<img src=\"https://cf-courses-data.s3.us.cloud-object-storage.appdomain.cloud/IBMDeveloperSkillsNetwork-PY0101EN-SkillsNetwork/labs/Module%202/images/DictsList.png\" width=\"650\" /> \n",
    "Figure taken from [IBM courses](https://cf-courses-data.s3.us.cloud-object-storage.appdomain.cloud/IBMDeveloperSkillsNetwork-PY0101EN-SkillsNetwork/labs/Module%202/images/DictsList.png)\n",
    "\n",
    "Instead of the numerical indexes, dictionaries have keys, which are non-mutable objects like **strings** or **tuples**. These keys are the \"indexes\" that are used to access values within a dictionary. \n",
    "Likewise **lists**, **dictionaries** are mutable objects, which means  we can modify them, change values for a given key, add new keys with their corresponding values, etc. \n",
    "\n",
    "The python syntax to create a dictionary is the following:\n",
    "\n",
    "```py\n",
    "my_dictionary = {'key':value}\n",
    "```\n",
    "\n",
    "The `type` of a dictionary (`type(my_dictionary)`) is `dict`. \n",
    "\n",
    "Let us create our first **dictionary** in python:\n"
   ]
  },
  {
   "cell_type": "code",
   "execution_count": 1,
   "metadata": {},
   "outputs": [
    {
     "data": {
      "text/plain": [
       "dict"
      ]
     },
     "execution_count": 1,
     "metadata": {},
     "output_type": "execute_result"
    }
   ],
   "source": [
    "import numpy as np\n",
    "# Create the dictionary\n",
    "\n",
    "my_dictionary = {\"key1\": 1, \"key2\": \"2\", \"key3\": np.array([3, 3, 8]),\n",
    "                 \"key4\": (4, 4, '4'), ('key5'): 5, (0, 1): 6}\n",
    "type(my_dictionary)"
   ]
  },
  {
   "cell_type": "markdown",
   "metadata": {},
   "source": [
    "Notice that likewise for **lists** and **tuples**, dictionary elements do not have to be of the same `type`.\n",
    "\n",
    "* **Accessing the keys of a dictionary**:\n",
    "\n",
    "In case we do not know the keys of a given dictionary, the function `keys()` can be use to obtain a list of the keys of the dictionary.\n",
    "```py\n",
    "my_dictionary.keys()\n",
    "```\n",
    "* **Accessing  the value by the key**\n",
    "\n",
    "To access the elements of a given key, we have two options: the first one by using  an  \"indexing\"-like approach. That is\n",
    "\n",
    "```py\n",
    "my_dictionary['key1']\n",
    "```\n",
    "this will return the output `1`. The second option is by using the  `get()` method. It is used as\n",
    "\n",
    "```py\n",
    "my_dictionary.get((0, 1))\n",
    "```\n",
    "this will produce the output `6`. \n",
    "\n",
    "**Why is get useful?** If we ask for the value of the dictionary for a given key and the key does not exist in the dictionary, then the `get` method avoids error messages, and simply returns `None`. For instance if we did\n",
    "\n",
    "```\n",
    "my_dictionary.get('key7')\n",
    "```\n",
    "the output will be `None`.\n",
    "\n",
    "* **Adding a new element to the dictionary**\n",
    "\n",
    "For **lists** and **arrays** we would had use the `list.append(value)` and `np.append(array,value)` methods respectively. For **dictionaries** instead, we will use the following syntax:\n",
    "\n",
    "```py\n",
    "my_dictionary['key7'] = 'new_value'\n",
    "```\n",
    "\n",
    "* **Remove a key from a dictionary**\n",
    "\n",
    "To remove an key with its respective values we use the `pop()` method. For instance, if we want to delete the newly assigned `key7` from our dictionary we use:\n",
    "```py\n",
    "my_dictionary.pop('key7')\n",
    "```\n",
    "then, if we ask for the keys of our dictionary \n",
    "```\n",
    "my_dictionary.keys()\n",
    "```\n",
    "we will get as output `dict_keys(['key1', 'key2', 'key3', 'key4', 'key5', (0, 1)])`.\n",
    "\n",
    "See  [this link](https://www.w3schools.com/python/python_ref_dictionary.asp) for additional methods applied to dictionaries\n"
   ]
  },
  {
   "cell_type": "markdown",
   "metadata": {},
   "source": [
    "# Exercise 1\n",
    "1. Try out yourself the previous explanation (Try typing down all of the commands yourself, it gives you some coding practice)\n",
    "2. Given the following dictionaries, write short line codes to answer the following Questions (See  [this page](https://holypython.com/beginner-python-exercises/exercise-8-python-dictionaries/) for more exercises with dictionaries): \n",
    "\n",
    "```py\n",
    "dictionary_1 ={\"name\": \"Plato\", \"country\": \"Ancient Greece\", \"born\": -427, \"teacher\": \"Socrates\", \"student\": \"Aristotle\"}\n",
    "dictionary_2 = {\"son's name\": \"Lucas\", \"son's eyes\": \"green\", \"son's height\": 32, \"son's weight\": 25}\n",
    "```\n",
    "* When was Plato born?\n",
    "* Change Plato's birth year from B.C. 427 to B.C. 428\n",
    "* Add the key \"work\" to `dictionary_1`, with the values \"Apology\", \"Phaedo\", \"Republic\", \"Symposium\" in a list \n",
    "* Add 2 inches to the son's height in `dictionary_2`\n",
    "* Using .get() method print the value of \"son's eyes\"\n",
    "* Merge  dictionary_1  and  dictionary_2  into the dictionary  dictionary_merge, using the syntax:\n",
    "\n",
    "```py\n",
    "dictionary_merge = merge(**dictionary_1,**dictionary_2)\n",
    "```\n",
    "and print the list of keys in `dictionary_merge`\n"
   ]
  },
  {
   "cell_type": "markdown",
   "metadata": {},
   "source": [
    "## The pandas library"
   ]
  },
  {
   "cell_type": "markdown",
   "metadata": {},
   "source": [
    "We now focus on the main part of this tutorial i.e. the **pandas** library.\n",
    "It is used to   manipulate tabular data such as data stored in spreadsheets or databases, and  to do statistics analysis of such data. Pandas library supports the integration of several file formats and data sources, for instance `csv`, `excel`, `sql`, `json`, etc. In this tutorial we will focus on `csv` files. For a detail  view of **pandas** library, see [here](https://pandas.pydata.org/pandas-docs/stable/getting_started/index.html#getting-started)  \n",
    "\n",
    "\n",
    "In **pandas**, data tables are named  `DataFrame`. \n",
    "\n",
    "Let us start our pandas journey  by creating simple data frames from the data structure we learned above, namely, **dictionaries**. We need to import the `pandas` library first"
   ]
  },
  {
   "cell_type": "code",
   "execution_count": 2,
   "metadata": {},
   "outputs": [],
   "source": [
    "import pandas as pd"
   ]
  },
  {
   "cell_type": "markdown",
   "metadata": {},
   "source": [
    "Given the dictionary: "
   ]
  },
  {
   "cell_type": "code",
   "execution_count": 3,
   "metadata": {},
   "outputs": [],
   "source": [
    "dictionary =  {\n",
    "        \"Name\": [\n",
    "            \"Braund, Mr. Owen Harris\",\n",
    "            \"Allen, Mr. William Henry\",\n",
    "            \"Bonnell, Miss. Elizabeth\",\n",
    "        ],\n",
    "        \"Age\": [22, 35, 25],\n",
    "        \"Course\": [\"Data Structures\", \"Machine Learning\", \"OOPS with java\"],\n",
    "    }"
   ]
  },
  {
   "cell_type": "markdown",
   "metadata": {},
   "source": [
    "a `DataFrame`  is created as follows"
   ]
  },
  {
   "cell_type": "code",
   "execution_count": 4,
   "metadata": {},
   "outputs": [
    {
     "data": {
      "text/html": [
       "<div>\n",
       "<style scoped>\n",
       "    .dataframe tbody tr th:only-of-type {\n",
       "        vertical-align: middle;\n",
       "    }\n",
       "\n",
       "    .dataframe tbody tr th {\n",
       "        vertical-align: top;\n",
       "    }\n",
       "\n",
       "    .dataframe thead th {\n",
       "        text-align: right;\n",
       "    }\n",
       "</style>\n",
       "<table border=\"1\" class=\"dataframe\">\n",
       "  <thead>\n",
       "    <tr style=\"text-align: right;\">\n",
       "      <th></th>\n",
       "      <th>Name</th>\n",
       "      <th>Age</th>\n",
       "      <th>Course</th>\n",
       "    </tr>\n",
       "  </thead>\n",
       "  <tbody>\n",
       "    <tr>\n",
       "      <th>0</th>\n",
       "      <td>Braund, Mr. Owen Harris</td>\n",
       "      <td>22</td>\n",
       "      <td>Data Structures</td>\n",
       "    </tr>\n",
       "    <tr>\n",
       "      <th>1</th>\n",
       "      <td>Allen, Mr. William Henry</td>\n",
       "      <td>35</td>\n",
       "      <td>Machine Learning</td>\n",
       "    </tr>\n",
       "    <tr>\n",
       "      <th>2</th>\n",
       "      <td>Bonnell, Miss. Elizabeth</td>\n",
       "      <td>25</td>\n",
       "      <td>OOPS with java</td>\n",
       "    </tr>\n",
       "  </tbody>\n",
       "</table>\n",
       "</div>"
      ],
      "text/plain": [
       "                       Name  Age            Course\n",
       "0   Braund, Mr. Owen Harris   22   Data Structures\n",
       "1  Allen, Mr. William Henry   35  Machine Learning\n",
       "2  Bonnell, Miss. Elizabeth   25    OOPS with java"
      ]
     },
     "execution_count": 4,
     "metadata": {},
     "output_type": "execute_result"
    }
   ],
   "source": [
    "df = pd.DataFrame(dictionary)\n",
    "df"
   ]
  },
  {
   "cell_type": "code",
   "execution_count": 18,
   "metadata": {},
   "outputs": [
    {
     "data": {
      "text/html": [
       "<div>\n",
       "<style scoped>\n",
       "    .dataframe tbody tr th:only-of-type {\n",
       "        vertical-align: middle;\n",
       "    }\n",
       "\n",
       "    .dataframe tbody tr th {\n",
       "        vertical-align: top;\n",
       "    }\n",
       "\n",
       "    .dataframe thead th {\n",
       "        text-align: right;\n",
       "    }\n",
       "</style>\n",
       "<table border=\"1\" class=\"dataframe\">\n",
       "  <thead>\n",
       "    <tr style=\"text-align: right;\">\n",
       "      <th></th>\n",
       "      <th>Name</th>\n",
       "      <th>Age</th>\n",
       "      <th>Course</th>\n",
       "    </tr>\n",
       "  </thead>\n",
       "  <tbody>\n",
       "    <tr>\n",
       "      <th>1</th>\n",
       "      <td>Allen, Mr. William Henry</td>\n",
       "      <td>35</td>\n",
       "      <td>Machine Learning</td>\n",
       "    </tr>\n",
       "    <tr>\n",
       "      <th>2</th>\n",
       "      <td>Bonnell, Miss. Elizabeth</td>\n",
       "      <td>25</td>\n",
       "      <td>OOPS with java</td>\n",
       "    </tr>\n",
       "  </tbody>\n",
       "</table>\n",
       "</div>"
      ],
      "text/plain": [
       "                       Name  Age            Course\n",
       "1  Allen, Mr. William Henry   35  Machine Learning\n",
       "2  Bonnell, Miss. Elizabeth   25    OOPS with java"
      ]
     },
     "execution_count": 18,
     "metadata": {},
     "output_type": "execute_result"
    }
   ],
   "source": [
    "df[1:3]"
   ]
  },
  {
   "cell_type": "markdown",
   "metadata": {},
   "source": [
    "# Exercise 2\n",
    "\n",
    "Get some experience with `DataFrames` by codding all the explanation bellow (Avoid coping and pasting the code from the text)"
   ]
  },
  {
   "cell_type": "markdown",
   "metadata": {},
   "source": [
    "* **The head/tail attributes**\n",
    "\n",
    "To access the first/last `i` elements of your `DataFrame` we use the `head(i)/tail(i)` attributes. This is useful when dealing with large datasets.  As an example we can access the first two elements of our `df` defined above:\n",
    "\n",
    "```py\n",
    "df.head(2)\n",
    "\n",
    "```\n",
    "\n",
    "* **Slicing a DataFrame**\n",
    "\n",
    "To access a desired slice of a `DataFrame`  we use a similar syntax that for `lists`. We can of course save that slice as a new `DataFrame`, which has the same attributes as the original `DataFrame`, but with less elements. Let us for instance take the slice containing the second and third elements of our `df` defined above and save them in the new `sub_df ` `DataFrame`. We use\n",
    "\n",
    "```py\n",
    "sub_df = df[1:3]\n",
    "sub_df\n",
    "```\n",
    "\n",
    "\n",
    "When using a Python dictionary of lists, the dictionary keys will be used as column headers and the values in each list as columns of the `DataFrame`. \n",
    "\n",
    "* **Keys in a DataFrame**\n",
    "\n",
    "Likewise for dictionaries, we can ask for the `keys` of a  `DataFrame` using the `keys()` attribute.  In our `df` example \n",
    "```py\n",
    "df.keys()\n",
    "```\n",
    "\n",
    "we get as output `Index(['Name', 'Age', 'Course'], dtype='object')`.\n",
    "\n",
    "One can also access the keys using the attribute `columns`. \n",
    "\n",
    "```py\n",
    "df.columns\n",
    "\n",
    "```\n",
    "\n",
    "* **Accessing a column in a DataFrame**\n",
    "\n",
    "Once we know the `keys` in our `DataFrame`, we can access different parts of it. To access a specific column of our `DataFrame` we use the same syntax as for dictionaries. For instance, to access the column containing all of the names in our `df` defined above we use:\n",
    "\n",
    "```py\n",
    "df['Name']\n",
    "\n",
    "```\n",
    "which will produce as an output the list with all of the names contained in the table. \n",
    "\n",
    "\n",
    "* **Accessing a row in a DataFrame**\n",
    "To access a row in a data frame we use the `iloc[]` function. Imagine we want to access the  second row in our `df`, and  store it in a new variable. We use\n",
    "\n",
    "```py\n",
    "Allen_info = df.iloc[1]\n",
    "print(Allen_info)\n",
    "```\n",
    "which will produce the output\n",
    "\n",
    "```py\n",
    "Name      Allen, Mr. William Henry\n",
    "Age                             35\n",
    "Course            Machine Learning\n",
    "Name: 1, dtype: object\n",
    "```\n",
    "\n",
    "\n",
    "* **Accessing a single element in a DataFrame**\n",
    "\n",
    "Now imagine we want to know `Allen's` age. For that we have different options, either by accessing it using the variable `Allen_info` we just defined, or by accessing it directly in the original `df`. For the former we will use\n",
    "\n",
    "```py\n",
    "Allen_info['Age']\n",
    "```\n",
    "whereas for the latter we use\n",
    "```py\n",
    "df['Age'][1]\n",
    "```\n",
    "with bot methods producing the output `35`. \n",
    "\n"
   ]
  },
  {
   "cell_type": "code",
   "execution_count": 5,
   "metadata": {},
   "outputs": [],
   "source": [
    "# Try this out yourself in this cell\n"
   ]
  },
  {
   "cell_type": "markdown",
   "metadata": {},
   "source": [
    "\n",
    "\n",
    "* **Adding a new row to the DataFrame**\n",
    "\n",
    "Likewise for lists, to add a new element to the  `DataFrame` we use the `append()` attribute. Since the `DataFrame` has several entries, we need  first to create  a dictionary, which will be added to the `DataFrame`. Let us see how this work with the following example\n"
   ]
  },
  {
   "cell_type": "code",
   "execution_count": 6,
   "metadata": {},
   "outputs": [
    {
     "data": {
      "text/html": [
       "<div>\n",
       "<style scoped>\n",
       "    .dataframe tbody tr th:only-of-type {\n",
       "        vertical-align: middle;\n",
       "    }\n",
       "\n",
       "    .dataframe tbody tr th {\n",
       "        vertical-align: top;\n",
       "    }\n",
       "\n",
       "    .dataframe thead th {\n",
       "        text-align: right;\n",
       "    }\n",
       "</style>\n",
       "<table border=\"1\" class=\"dataframe\">\n",
       "  <thead>\n",
       "    <tr style=\"text-align: right;\">\n",
       "      <th></th>\n",
       "      <th>Name</th>\n",
       "      <th>Age</th>\n",
       "      <th>Course</th>\n",
       "      <th>Grade</th>\n",
       "    </tr>\n",
       "  </thead>\n",
       "  <tbody>\n",
       "    <tr>\n",
       "      <th>0</th>\n",
       "      <td>Braund, Mr. Owen Harris</td>\n",
       "      <td>22</td>\n",
       "      <td>Data Structures</td>\n",
       "      <td>NaN</td>\n",
       "    </tr>\n",
       "    <tr>\n",
       "      <th>1</th>\n",
       "      <td>Allen, Mr. William Henry</td>\n",
       "      <td>35</td>\n",
       "      <td>Machine Learning</td>\n",
       "      <td>NaN</td>\n",
       "    </tr>\n",
       "    <tr>\n",
       "      <th>2</th>\n",
       "      <td>Bonnell, Miss. Elizabeth</td>\n",
       "      <td>25</td>\n",
       "      <td>OOPS with java</td>\n",
       "      <td>NaN</td>\n",
       "    </tr>\n",
       "    <tr>\n",
       "      <th>3</th>\n",
       "      <td>Sara Remmen</td>\n",
       "      <td>20</td>\n",
       "      <td>Python programing</td>\n",
       "      <td>10.0</td>\n",
       "    </tr>\n",
       "  </tbody>\n",
       "</table>\n",
       "</div>"
      ],
      "text/plain": [
       "                       Name  Age             Course  Grade\n",
       "0   Braund, Mr. Owen Harris   22    Data Structures    NaN\n",
       "1  Allen, Mr. William Henry   35   Machine Learning    NaN\n",
       "2  Bonnell, Miss. Elizabeth   25     OOPS with java    NaN\n",
       "3               Sara Remmen   20  Python programing   10.0"
      ]
     },
     "execution_count": 6,
     "metadata": {},
     "output_type": "execute_result"
    }
   ],
   "source": [
    "sara_info = {'Name':'Sara Remmen', 'Age': 20, 'Course':'Python programing','Grade': 10}\n",
    "#adding the new dictionary\n",
    "df2 = df.append(sara_info, ignore_index = True)\n",
    "df2"
   ]
  },
  {
   "cell_type": "markdown",
   "metadata": {},
   "source": [
    "Notice we have added a new `key` to the dictionary. This has created a new column with the `NaN` for the other rows. Furthermore,  note that using the `append()` attribute does not modify the original `DataFrame`, but we have rather create a new `df2` to store those changes. This is useful if you do not want to modify the original `DataFrame`. If we want to modify `df` directly, we can use the `loc[i]` function, where `i` is the position we want to add the new row. Let us do it explicitly in our example\n"
   ]
  },
  {
   "cell_type": "code",
   "execution_count": 7,
   "metadata": {},
   "outputs": [
    {
     "data": {
      "text/html": [
       "<div>\n",
       "<style scoped>\n",
       "    .dataframe tbody tr th:only-of-type {\n",
       "        vertical-align: middle;\n",
       "    }\n",
       "\n",
       "    .dataframe tbody tr th {\n",
       "        vertical-align: top;\n",
       "    }\n",
       "\n",
       "    .dataframe thead th {\n",
       "        text-align: right;\n",
       "    }\n",
       "</style>\n",
       "<table border=\"1\" class=\"dataframe\">\n",
       "  <thead>\n",
       "    <tr style=\"text-align: right;\">\n",
       "      <th></th>\n",
       "      <th>Name</th>\n",
       "      <th>Age</th>\n",
       "      <th>Course</th>\n",
       "    </tr>\n",
       "  </thead>\n",
       "  <tbody>\n",
       "    <tr>\n",
       "      <th>0</th>\n",
       "      <td>Braund, Mr. Owen Harris</td>\n",
       "      <td>22</td>\n",
       "      <td>Data Structures</td>\n",
       "    </tr>\n",
       "    <tr>\n",
       "      <th>1</th>\n",
       "      <td>Allen, Mr. William Henry</td>\n",
       "      <td>35</td>\n",
       "      <td>Machine Learning</td>\n",
       "    </tr>\n",
       "    <tr>\n",
       "      <th>2</th>\n",
       "      <td>Bonnell, Miss. Elizabeth</td>\n",
       "      <td>25</td>\n",
       "      <td>OOPS with java</td>\n",
       "    </tr>\n",
       "    <tr>\n",
       "      <th>3</th>\n",
       "      <td>Nathan S.</td>\n",
       "      <td>20</td>\n",
       "      <td>Julia programing</td>\n",
       "    </tr>\n",
       "  </tbody>\n",
       "</table>\n",
       "</div>"
      ],
      "text/plain": [
       "                       Name  Age            Course\n",
       "0   Braund, Mr. Owen Harris   22   Data Structures\n",
       "1  Allen, Mr. William Henry   35  Machine Learning\n",
       "2  Bonnell, Miss. Elizabeth   25    OOPS with java\n",
       "3                 Nathan S.   20  Julia programing"
      ]
     },
     "execution_count": 7,
     "metadata": {},
     "output_type": "execute_result"
    }
   ],
   "source": [
    "df.loc[3] = ['Nathan S.',20, 'Julia programing']\n",
    "df"
   ]
  },
  {
   "cell_type": "markdown",
   "metadata": {},
   "source": [
    "* **Changing an entry in your DataFrame**\n",
    "\n",
    "If we want for instance to change Allen's grade in our `df2` defined above we use the `at[]` function. Let us see it in practice"
   ]
  },
  {
   "cell_type": "code",
   "execution_count": 8,
   "metadata": {},
   "outputs": [
    {
     "data": {
      "text/html": [
       "<div>\n",
       "<style scoped>\n",
       "    .dataframe tbody tr th:only-of-type {\n",
       "        vertical-align: middle;\n",
       "    }\n",
       "\n",
       "    .dataframe tbody tr th {\n",
       "        vertical-align: top;\n",
       "    }\n",
       "\n",
       "    .dataframe thead th {\n",
       "        text-align: right;\n",
       "    }\n",
       "</style>\n",
       "<table border=\"1\" class=\"dataframe\">\n",
       "  <thead>\n",
       "    <tr style=\"text-align: right;\">\n",
       "      <th></th>\n",
       "      <th>Name</th>\n",
       "      <th>Age</th>\n",
       "      <th>Course</th>\n",
       "      <th>Grade</th>\n",
       "    </tr>\n",
       "  </thead>\n",
       "  <tbody>\n",
       "    <tr>\n",
       "      <th>0</th>\n",
       "      <td>Braund, Mr. Owen Harris</td>\n",
       "      <td>22</td>\n",
       "      <td>Data Structures</td>\n",
       "      <td>NaN</td>\n",
       "    </tr>\n",
       "    <tr>\n",
       "      <th>1</th>\n",
       "      <td>Allen, Mr. William Henry</td>\n",
       "      <td>35</td>\n",
       "      <td>Machine Learning</td>\n",
       "      <td>8.0</td>\n",
       "    </tr>\n",
       "    <tr>\n",
       "      <th>2</th>\n",
       "      <td>Bonnell, Miss. Elizabeth</td>\n",
       "      <td>25</td>\n",
       "      <td>OOPS with java</td>\n",
       "      <td>NaN</td>\n",
       "    </tr>\n",
       "    <tr>\n",
       "      <th>3</th>\n",
       "      <td>Sara Remmen</td>\n",
       "      <td>20</td>\n",
       "      <td>Python programing</td>\n",
       "      <td>10.0</td>\n",
       "    </tr>\n",
       "  </tbody>\n",
       "</table>\n",
       "</div>"
      ],
      "text/plain": [
       "                       Name  Age             Course  Grade\n",
       "0   Braund, Mr. Owen Harris   22    Data Structures    NaN\n",
       "1  Allen, Mr. William Henry   35   Machine Learning    8.0\n",
       "2  Bonnell, Miss. Elizabeth   25     OOPS with java    NaN\n",
       "3               Sara Remmen   20  Python programing   10.0"
      ]
     },
     "execution_count": 8,
     "metadata": {},
     "output_type": "execute_result"
    }
   ],
   "source": [
    "df2.at[1,'Grade'] = 8 \n",
    "df2"
   ]
  },
  {
   "cell_type": "markdown",
   "metadata": {},
   "source": [
    "As we see, Allen's Grade changed from `NaN` to `8`. Notice the syntax for the `at[.,.]` function is `at[row,column]`. "
   ]
  },
  {
   "cell_type": "markdown",
   "metadata": {},
   "source": [
    "* **Removing a whole row in a DataFrame**\n",
    "\n",
    "In a similar way to adding rows, we can delete them, either saving the output in a new `DataFrame` or by modifying the original `DataFrame`. For instance, let us remove the entry for Sara's info from `df2`. Notice the label for Sara's row is `3`. In the  former case we use the syntax \n",
    "```\n",
    "df3 = df2.drop(labels = 3 )\n",
    "df4\n",
    "```\n",
    "where `3` corresponds to the Sara's row label. \n",
    "\n",
    "For the latter case (modifying the original `DataFrame`) we use\n",
    "\n",
    "```py\n",
    "df2.drop(labels = 3 ,inplace=True)\n",
    "```\n",
    "However, we have to be careful when using this option since once rows are removed, we cannot recover them, therefore, unless we are sure we want to delete a row, use the `drop()` attribute without the `inplace=True` keyword. "
   ]
  },
  {
   "cell_type": "code",
   "execution_count": 9,
   "metadata": {},
   "outputs": [],
   "source": [
    "# Some space to write your own code\n"
   ]
  },
  {
   "cell_type": "markdown",
   "metadata": {},
   "source": [
    "* **Adding a whole column to the DataFrame**\n",
    "\n",
    "To add a complete column we use a syntax similar to dictionaries. We have to specify all the elements of the column in a list, whose length has to match the length of the `DataFrame`. In our previous examples we would have made.\n",
    "\n",
    "```py\n",
    "df2['Major'] =  ['Physiscs and Astronomy', 'Computer Science','Physiscs and Astronomy','Maths']\n",
    "df2\n",
    "\n",
    "```\n",
    "\n"
   ]
  },
  {
   "cell_type": "code",
   "execution_count": null,
   "metadata": {},
   "outputs": [],
   "source": [
    "#some space for coding"
   ]
  },
  {
   "cell_type": "markdown",
   "metadata": {},
   "source": [
    "* **Saving Data frames**\n",
    "\n",
    "Having gained some experience manipulating `DataFrames`, we now learn how to save the data. In this tutorial we show how to save the `DataFrame` in a `.csv` file. `csv` stands for Comma Separated Values; it is a plain text file that contains a list of data, separated by commas. \n",
    "\n",
    "The syntax for saving a `DataFrame` as `.csv` in Mac and Linux is:\n",
    "\n",
    "```\n",
    "df.to_csv('/...path_to_file.../name_file.csv')\n",
    "\n",
    "```\n",
    "whereas for windows, the separators are given by double backslash `\\\\` \n",
    "\n",
    "Let us save our `df2` frame defined above. If not path is specified, the file will be saved in the same folder of our jupyter notebook."
   ]
  },
  {
   "cell_type": "code",
   "execution_count": 10,
   "metadata": {},
   "outputs": [],
   "source": [
    "df2.to_csv('saving_example.csv')"
   ]
  },
  {
   "cell_type": "markdown",
   "metadata": {},
   "source": [
    "* **Loading a csv file using pandas**\n",
    "\n",
    "We can also load existing data files using **pandas** library. The syntax for this is the following:\n",
    "\n",
    "```py\n",
    "new_df = pd.read_csv(\"/...path_to_file.../file_name.csv\")\n",
    "\n",
    "```\n",
    "This will create a new `DataFrame` named `new_df`. We can then manipulate our `new_df` as explained above. "
   ]
  },
  {
   "cell_type": "code",
   "execution_count": 11,
   "metadata": {},
   "outputs": [],
   "source": [
    "new_df = pd.read_csv('saving_example.csv')"
   ]
  },
  {
   "cell_type": "markdown",
   "metadata": {},
   "source": [
    "For instance we can  add a new column to our `new_df`"
   ]
  },
  {
   "cell_type": "code",
   "execution_count": 12,
   "metadata": {},
   "outputs": [
    {
     "data": {
      "text/html": [
       "<div>\n",
       "<style scoped>\n",
       "    .dataframe tbody tr th:only-of-type {\n",
       "        vertical-align: middle;\n",
       "    }\n",
       "\n",
       "    .dataframe tbody tr th {\n",
       "        vertical-align: top;\n",
       "    }\n",
       "\n",
       "    .dataframe thead th {\n",
       "        text-align: right;\n",
       "    }\n",
       "</style>\n",
       "<table border=\"1\" class=\"dataframe\">\n",
       "  <thead>\n",
       "    <tr style=\"text-align: right;\">\n",
       "      <th></th>\n",
       "      <th>Unnamed: 0</th>\n",
       "      <th>Name</th>\n",
       "      <th>Age</th>\n",
       "      <th>Course</th>\n",
       "      <th>Grade</th>\n",
       "      <th>Nationality</th>\n",
       "    </tr>\n",
       "  </thead>\n",
       "  <tbody>\n",
       "    <tr>\n",
       "      <th>0</th>\n",
       "      <td>0</td>\n",
       "      <td>Braund, Mr. Owen Harris</td>\n",
       "      <td>22</td>\n",
       "      <td>Data Structures</td>\n",
       "      <td>NaN</td>\n",
       "      <td>Canada</td>\n",
       "    </tr>\n",
       "    <tr>\n",
       "      <th>1</th>\n",
       "      <td>1</td>\n",
       "      <td>Allen, Mr. William Henry</td>\n",
       "      <td>35</td>\n",
       "      <td>Machine Learning</td>\n",
       "      <td>8.0</td>\n",
       "      <td>Germany</td>\n",
       "    </tr>\n",
       "    <tr>\n",
       "      <th>2</th>\n",
       "      <td>2</td>\n",
       "      <td>Bonnell, Miss. Elizabeth</td>\n",
       "      <td>25</td>\n",
       "      <td>OOPS with java</td>\n",
       "      <td>NaN</td>\n",
       "      <td>England</td>\n",
       "    </tr>\n",
       "    <tr>\n",
       "      <th>3</th>\n",
       "      <td>3</td>\n",
       "      <td>Sara Remmen</td>\n",
       "      <td>20</td>\n",
       "      <td>Python programing</td>\n",
       "      <td>10.0</td>\n",
       "      <td>India</td>\n",
       "    </tr>\n",
       "  </tbody>\n",
       "</table>\n",
       "</div>"
      ],
      "text/plain": [
       "   Unnamed: 0                      Name  Age             Course  Grade  \\\n",
       "0           0   Braund, Mr. Owen Harris   22    Data Structures    NaN   \n",
       "1           1  Allen, Mr. William Henry   35   Machine Learning    8.0   \n",
       "2           2  Bonnell, Miss. Elizabeth   25     OOPS with java    NaN   \n",
       "3           3               Sara Remmen   20  Python programing   10.0   \n",
       "\n",
       "  Nationality  \n",
       "0      Canada  \n",
       "1     Germany  \n",
       "2     England  \n",
       "3       India  "
      ]
     },
     "execution_count": 12,
     "metadata": {},
     "output_type": "execute_result"
    }
   ],
   "source": [
    "new_df['Nationality']=['Canada','Germany','England','India']\n",
    "new_df"
   ]
  },
  {
   "cell_type": "markdown",
   "metadata": {},
   "source": [
    "Finally, to save the changes we did on our `csv ` file we just use our saving tool defined above. If we assign the same name to the original name the file will be overwritten  with the new changes.  \n",
    "\n",
    "```py\n",
    "new_df.to_csv('saving_example.csv')\n",
    "\n",
    "```"
   ]
  },
  {
   "cell_type": "markdown",
   "metadata": {},
   "source": [
    "# Exercise 3\n",
    "### Galaxy rotation curve\n",
    "\n",
    "The Directory `Rotation curves`, contains  data sets for the rotation curve for several Dwarf galaxies. See [rotation curves](https://github.com/keiwanjamaly/Python-Tutorials/blob/main/Rotation%20curves/readme.pdf) for a detail description of the data files. In this exercise we will  practice our **pandas** skills on those files (They will also be used in Tutorial 8, when we cover **function fitting**).\n",
    "\n",
    "By the end of this exercise we will obtain our Dark Matter rotation curve $$v_{DM}(r) = \\sqrt{v_c^2(r)-v_{star}^2(r)-v_{gas}^2(r)},$$ as well as our DM mass distribution $$M_{DM}(r) = r^2 v^2_{DM}(r)/G . $$ We will plot them  having into account errors in the measurements as well as systematic errors. Let us divide the exercise in several steps.\n",
    "\n",
    "1. Choose your favorite galaxy, i.e. identify the two files `RotationCurve galaxy.csv` and `RotationCurve baryons galaxy.csv`.\n",
    "2. Create the **DataFrames** `df_circular` and `df_baryon` for each of the two data files. They should look similar to the following examples:"
   ]
  },
  {
   "cell_type": "code",
   "execution_count": 13,
   "metadata": {},
   "outputs": [
    {
     "data": {
      "image/png": "[encoded data removed]",
      "text/plain": [
       "<IPython.core.display.Image object>"
      ]
     },
     "metadata": {},
     "output_type": "display_data"
    },
    {
     "data": {
      "image/png": "[encoded data removed]",
      "text/plain": [
       "<IPython.core.display.Image object>"
      ]
     },
     "metadata": {},
     "output_type": "display_data"
    }
   ],
   "source": [
    "from IPython.display import Image\n",
    "display(Image(\"Figures/circ_velocity.png\"))\n",
    "display(Image(\"Figures/cir_vel_baryon.png\"))"
   ]
  },
  {
   "cell_type": "markdown",
   "metadata": {},
   "source": [
    "\n",
    "3. The radial data points used in the two `DataFrames` are different and therefore we want to have the values of `gas circ velocity` and `star circ velocity` evaluated at the same radial positions as `circ velocity`. For that we need to create  **interpolating** functions for the `gas circ velocity` and `star circ velocity` data (We will cover more on interpolating functions in Tutorial 7).  Use \n",
    "```py\n",
    "from scipy.interpolate import interp1d \n",
    "```\n",
    "and then create the interpolating functions with\n",
    "```py\n",
    "stars_circ_velocity = interp1d(r_baryon,v_star,kind = 'quadratic')\n",
    "gas_circ_velocity = interp1d(r_baryon,v_gas,kind = 'quadratic')\n",
    "```\n",
    "where `r_baryon` is the list containing the radial points in `df_baryon` created in step 1. \n",
    "4. Now that we have our two interpolating functions, we can evaluate them at `r_circular`, the radial points given in `df_circular`. Add two new columns to `df_circular` containing the stars and gas circular velocities evaluated at  `r_circular`. At this stage our `df_circular` should look like\n"
   ]
  },
  {
   "cell_type": "code",
   "execution_count": 14,
   "metadata": {},
   "outputs": [
    {
     "data": {
      "image/png": "[encoded data removed]",
      "text/plain": [
       "<IPython.core.display.Image object>"
      ]
     },
     "metadata": {},
     "output_type": "display_data"
    }
   ],
   "source": [
    "display(Image(\"Figures/step_4.png\"))"
   ]
  },
  {
   "cell_type": "markdown",
   "metadata": {},
   "source": [
    "5. As explained in [rotation curves](https://github.com/keiwanjamaly/Python-Tutorials/blob/main/Rotation%20curves/readme.pdf), some of the measured errors (i.e. some values in `circ velocity error`) have been underestimated. In this step we will  include a systematic error at the level of 5% of the last measured velocity point (i.e. the last data point of column `cir velocity` in our `df_circular`). Add a new column in `df_circular` called `syst error` whose values contain the systematic error. Then, add a new column  `total error`, containing the total error computed as the sum in quadratures of `sys error` and   `circ velocity error`. After this step, our `df_circular` should look like\n"
   ]
  },
  {
   "cell_type": "code",
   "execution_count": 15,
   "metadata": {},
   "outputs": [
    {
     "data": {
      "image/png": "[encoded data removed]",
      "text/plain": [
       "<IPython.core.display.Image object>"
      ]
     },
     "metadata": {},
     "output_type": "display_data"
    }
   ],
   "source": [
    "display(Image(\"Figures/step_5.png\"))"
   ]
  },
  {
   "cell_type": "markdown",
   "metadata": {},
   "source": [
    "6. Let us now add a column with the DM velocity, which is computed from $$v_{DM}(r) = \\sqrt{v_c^2(r)-v_{star}^2(r)-v_{gas}^2(r)},$$ We have to be careful however, since $v_{DM}^2(r)$ could be negative, if that is the case,  we choose to change sign of $v_{gas}^2(r)$.  Similarly, compute $M_{DM}(r)$ and add it as new column (hint: Newton's constant GN = 4.302e-6  km^2/s^2*kpc/Msol ). After this steps,  our `df_circular` should look like:\n"
   ]
  },
  {
   "cell_type": "code",
   "execution_count": 16,
   "metadata": {},
   "outputs": [
    {
     "data": {
      "image/png": "[encoded data removed]",
      "text/plain": [
       "<IPython.core.display.Image object>"
      ]
     },
     "metadata": {},
     "output_type": "display_data"
    }
   ],
   "source": [
    "display(Image(\"Figures/step_6.png\"))"
   ]
  },
  {
   "cell_type": "markdown",
   "metadata": {},
   "source": [
    "7. Plot $v_{DM}(r)$ including error bar given by the `total error` column.  (hint: use the `errorbar` plotting function in `matplotlib`)\n",
    "8. Plot $M_{DM}(r)$. "
   ]
  }
 ],
 "metadata": {
  "kernelspec": {
   "display_name": "Python 3",
   "language": "python",
   "name": "python3"
  },
  "language_info": {
   "codemirror_mode": {
    "name": "ipython",
    "version": 3
   },
   "file_extension": ".py",
   "mimetype": "text/x-python",
   "name": "python",
   "nbconvert_exporter": "python",
   "pygments_lexer": "ipython3",
   "version": "3.7.6"
  }
 },
 "nbformat": 4,
 "nbformat_minor": 4
}
