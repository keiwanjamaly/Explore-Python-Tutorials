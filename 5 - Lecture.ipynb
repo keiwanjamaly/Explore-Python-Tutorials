{
 "cells": [
  {
   "cell_type": "markdown",
   "metadata": {},
   "source": [
    "# Lecture 5"
   ]
  },
  {
   "cell_type": "markdown",
   "metadata": {},
   "source": [
    "**Authors:**\n",
    "* Yilber Fabian Bautista \n",
    "* \n",
    "\n",
    "**Last date of modification:**\n",
    " December 21th 2021"
   ]
  },
  {
   "cell_type": "markdown",
   "metadata": {},
   "source": [
    "Hello there,\n",
    "\n",
    "welcome to Lecture 5 of this mini-lecture series on programing with Python. In this series, you will learn basic and intermediate python tools that will be of great use in your scientific carer.\n",
    "\n",
    "By the end of this lecture you will be able to:\n",
    "* Use **dictionaries** in python\n",
    "* Use **pandas** library to read, create and modify data frames\n",
    "* ...."
   ]
  },
  {
   "cell_type": "markdown",
   "metadata": {},
   "source": [
    "## Dictionaries\n",
    "\n",
    "Let us start this lecture by introducing a new type of data structure, that is, **dictionaries**. \n",
    "In **Lecture 2** we learned how to use **lists** and **arrays** as data structures.\n",
    "\n",
    "**What are Dictionaries?**\n",
    "\n",
    "A dictionary consists of keys and values assigned to those keys. Since **dictionaries** have similar characteristics to **lists**, it is helpful to compare the former to the latter.\n",
    "\n",
    "<img src=\"https://cf-courses-data.s3.us.cloud-object-storage.appdomain.cloud/IBMDeveloperSkillsNetwork-PY0101EN-SkillsNetwork/labs/Module%202/images/DictsList.png\" width=\"650\" /> \n",
    "Figure taken from [IBM courses](https://cf-courses-data.s3.us.cloud-object-storage.appdomain.cloud/IBMDeveloperSkillsNetwork-PY0101EN-SkillsNetwork/labs/Module%202/images/DictsList.png)\n",
    "\n",
    "Instead of the numerical indexes, dictionaries have keys, which are non-mutable objects like **strings** or **tuples**. These keys are the \"indexes\" that are used to access values within a dictionary. \n",
    "Likewise **lists**, **dictionaries** are mutable objects, which means  we can modify them, change values for a given key, add new keys with their corresponding values, etc. \n",
    "\n",
    "The python syntax to create dictionaries is the following:\n",
    "\n",
    "```py\n",
    "my_dictionary = {'key':value}\n",
    "```\n",
    "\n",
    "The `type` of a dictionary (`type(my_dictionary)`) is `dict`. Let us create our first **dictionary** in python:\n"
   ]
  },
  {
   "cell_type": "code",
   "execution_count": 198,
   "metadata": {},
   "outputs": [
    {
     "data": {
      "text/plain": [
       "dict"
      ]
     },
     "execution_count": 198,
     "metadata": {},
     "output_type": "execute_result"
    }
   ],
   "source": [
    "import numpy as np\n",
    "# Create the dictionary\n",
    "\n",
    "my_dictionary = {\"key1\": 1, \"key2\": \"2\", \"key3\": np.array([3, 3, 8]),\n",
    "                 \"key4\": (4, 4, '4'), ('key5'): 5, (0, 1): 6}\n",
    "type(my_dictionary)"
   ]
  },
  {
   "cell_type": "markdown",
   "metadata": {},
   "source": [
    "Notice that likewise for **lists** and **tuples**, dictionary elements do not have to be of the same `type`.\n",
    "\n",
    "* **Accessing the keys of a dictionary**:\n",
    "\n",
    "In case we do not know the keys of a given dictionary, the function `keys()` can be use to obtain a list of the keys of the dictionary.\n",
    "```py\n",
    "my_dictionary.keys()\n",
    "```\n",
    "* **Accessing  the value by the key**\n",
    "\n",
    "To access the elements of a given key, we have two options: the first one by using  an  \"indexing\"-like approach. That is\n",
    "\n",
    "```py\n",
    "my_dictionary['key1']\n",
    "```\n",
    "this will return the output `1`. The second option is by using the  `get()` method. It is used as\n",
    "\n",
    "```py\n",
    "my_dictionary.get((0, 1))\n",
    "```\n",
    "this will produce the output `6`. **Why is get useful?** If we ask for the value of the dictionary for a given key and the key does not exist in the dictionary, then the `get` method avoids error messages, and simply returns `None`. For instance if we did\n",
    "\n",
    "```\n",
    "my_dictionary.get('key7')\n",
    "```\n",
    "the output will be `None`.\n",
    "\n",
    "* **Adding a new element to the dictionary**\n",
    "\n",
    "For **lists** and **arrays** we would had use the `list.append(value)` and `np.append(array,value)` methods respectively. For **dictionaries** instead, we will use the following syntax:\n",
    "\n",
    "```py\n",
    "my_dictionary['key7'] = 'new_value'\n",
    "```\n",
    "\n",
    "* **Remove a key from a dictionary**\n",
    "\n",
    "To remove an key with its respective values we use the `pop()` method. For instance, if we want to delete the newly assigned `key7` from our dictionary we use:\n",
    "```py\n",
    "my_dictionary.pop('key7')\n",
    "```\n",
    "then, if we ask for the keys of our dictionary \n",
    "```\n",
    "my_dictionary.keys()\n",
    "```\n",
    "we will get as output `dict_keys(['key1', 'key2', 'key3', 'key4', 'key5', (0, 1)])`.\n",
    "\n",
    "See  [this link](https://www.w3schools.com/python/python_ref_dictionary.asp) for additional methods applied to dictionaries\n"
   ]
  },
  {
   "cell_type": "markdown",
   "metadata": {},
   "source": [
    "# Exercise 1\n",
    "1. Try out yourself the previous explanation (Try typing down all of the commands yourself, it gives you some coding practice)\n",
    "2. Given the following dictionaries, write short line codes to answer the following Questions (See  [this page](https://holypython.com/beginner-python-exercises/exercise-8-python-dictionaries/) for more exercises with dictionaries): \n",
    "\n",
    "```py\n",
    "dictionary_1 ={\"name\": \"Plato\", \"country\": \"Ancient Greece\", \"born\": -427, \"teacher\": \"Socrates\", \"student\": \"Aristotle\"}\n",
    "dictionary_2 = {\"son's name\": \"Lucas\", \"son's eyes\": \"green\", \"son's height\": 32, \"son's weight\": 25}\n",
    "```\n",
    "* When was Plato born?\n",
    "* Change Plato's birth year from B.C. 427 to B.C. 428\n",
    "* Add the key \"work\" to `dictionary_1`, with the values \"Apology\", \"Phaedo\", \"Republic\", \"Symposium\" in a list \n",
    "* Add 2 inches to the son's height in `dictionary_2`\n",
    "* Using .get() method print the value of \"son's eyes\"\n",
    "* Merge  dictionary_1  and  dictionary_2  into the dictionary  dictionary_merge, using the syntax:\n",
    "\n",
    "```py\n",
    "dictionary_merge = merge(**dictionary_1,**dictionary_2)\n",
    "```\n",
    "and print the list of keys in `dictionary_merge`\n"
   ]
  },
  {
   "cell_type": "markdown",
   "metadata": {},
   "source": [
    "## The pandas library"
   ]
  },
  {
   "cell_type": "markdown",
   "metadata": {},
   "source": [
    "We now focus on the main part of this tutorial i.e. the **pandas** library.\n",
    "It is used to   manipulate tabular data such as data stored in spreadsheets or databases, and  to do statistics analysis of such data. Pandas library supports the integration of several file formats and data sources, for instance `csv`, `excel`, `sql`, `json`, etc. In this tutorial we will focus on `csv` files. For a detail  view of **pandas** library, see [here](https://pandas.pydata.org/pandas-docs/stable/getting_started/index.html#getting-started)  \n",
    "\n",
    "\n",
    "In **pandas**, data tables are named  `DataFrame`. \n",
    "\n",
    "Let us start our pandas journey  by creating simple data frames from the data structure we learned above, namely, **dictionaries**. We need to import the `pandas` library first"
   ]
  },
  {
   "cell_type": "code",
   "execution_count": 199,
   "metadata": {},
   "outputs": [],
   "source": [
    "import pandas as pd"
   ]
  },
  {
   "cell_type": "markdown",
   "metadata": {},
   "source": [
    "Given the dictionary: "
   ]
  },
  {
   "cell_type": "code",
   "execution_count": 200,
   "metadata": {},
   "outputs": [],
   "source": [
    "dictionary =  {\n",
    "        \"Name\": [\n",
    "            \"Braund, Mr. Owen Harris\",\n",
    "            \"Allen, Mr. William Henry\",\n",
    "            \"Bonnell, Miss. Elizabeth\",\n",
    "        ],\n",
    "        \"Age\": [22, 35, 25],\n",
    "        \"Course\": [\"Data Structures\", \"Machine Learning\", \"OOPS with java\"],\n",
    "    }"
   ]
  },
  {
   "cell_type": "markdown",
   "metadata": {},
   "source": [
    "a `DataFrame`  is created as follows"
   ]
  },
  {
   "cell_type": "code",
   "execution_count": 201,
   "metadata": {},
   "outputs": [
    {
     "data": {
      "text/html": [
       "<div>\n",
       "<style scoped>\n",
       "    .dataframe tbody tr th:only-of-type {\n",
       "        vertical-align: middle;\n",
       "    }\n",
       "\n",
       "    .dataframe tbody tr th {\n",
       "        vertical-align: top;\n",
       "    }\n",
       "\n",
       "    .dataframe thead th {\n",
       "        text-align: right;\n",
       "    }\n",
       "</style>\n",
       "<table border=\"1\" class=\"dataframe\">\n",
       "  <thead>\n",
       "    <tr style=\"text-align: right;\">\n",
       "      <th></th>\n",
       "      <th>Name</th>\n",
       "      <th>Age</th>\n",
       "      <th>Course</th>\n",
       "    </tr>\n",
       "  </thead>\n",
       "  <tbody>\n",
       "    <tr>\n",
       "      <th>0</th>\n",
       "      <td>Braund, Mr. Owen Harris</td>\n",
       "      <td>22</td>\n",
       "      <td>Data Structures</td>\n",
       "    </tr>\n",
       "    <tr>\n",
       "      <th>1</th>\n",
       "      <td>Allen, Mr. William Henry</td>\n",
       "      <td>35</td>\n",
       "      <td>Machine Learning</td>\n",
       "    </tr>\n",
       "    <tr>\n",
       "      <th>2</th>\n",
       "      <td>Bonnell, Miss. Elizabeth</td>\n",
       "      <td>25</td>\n",
       "      <td>OOPS with java</td>\n",
       "    </tr>\n",
       "  </tbody>\n",
       "</table>\n",
       "</div>"
      ],
      "text/plain": [
       "                       Name  Age            Course\n",
       "0   Braund, Mr. Owen Harris   22   Data Structures\n",
       "1  Allen, Mr. William Henry   35  Machine Learning\n",
       "2  Bonnell, Miss. Elizabeth   25    OOPS with java"
      ]
     },
     "execution_count": 201,
     "metadata": {},
     "output_type": "execute_result"
    }
   ],
   "source": [
    "df = pd.DataFrame(dictionary)\n",
    "df"
   ]
  },
  {
   "cell_type": "markdown",
   "metadata": {},
   "source": [
    "# Exercise 2\n",
    "\n",
    "Get some experience with `DataFrames` by codding all the explanation bellow (Avoid coping and pasting the code in the text)"
   ]
  },
  {
   "cell_type": "markdown",
   "metadata": {},
   "source": [
    "* **The head/tail attributes**\n",
    "\n",
    "To access the first/last `i` elements of your `DataFrame` we use the `head(i)/tail(i)` attributes. This is useful when dealing with large datasets.  As an example we can access the first two elements of our `df` defined above:\n",
    "\n",
    "```py\n",
    "df.head(2)\n",
    "\n",
    "```\n",
    "\n",
    "* **Slicing a DataFrame**\n",
    "\n",
    "To access a desired slice of a `DataFrame`  we use a similar syntax that for `lists`. We can of course save that slice as a new `DataFrame`, which has the same attributes as the original `DataFrame`, but with less elements. Let us for instance take the slice containing the second and third elements of our `df` defined above and save them in the new `sub_df ` `DataFrame`. We use\n",
    "\n",
    "```py\n",
    "sub_df = df[]\n",
    "sub_df\n",
    "```\n",
    "\n",
    "\n",
    "When using a Python dictionary of lists, the dictionary keys will be used as column headers and the values in each list as columns of the `DataFrame`. \n",
    "\n",
    "* **Keys in a DataFrame**\n",
    "\n",
    "Likewise for dictionaries, we can ask for the `keys` of a  `DataFrame` using the `keys()` attribute.  When using it our `df` example \n",
    "```py\n",
    "df.keys()\n",
    "```\n",
    "\n",
    "we get as output `Index(['Name', 'Age', 'Course'], dtype='object')`.\n",
    "\n",
    "One can also access the keys using the attribute `columns`. \n",
    "\n",
    "```py\n",
    "df.columns\n",
    "\n",
    "```\n",
    "\n",
    "* **Accessing a column in a DataFrame**\n",
    "\n",
    "Once we know the `keys` in our `DataFrame`, we can access different parts of it. To access a specific column of our `DataFrame` we use the same syntax as for dictionaries. For instance, to access the column containing all of the names in our `df` defined above we use:\n",
    "\n",
    "```py\n",
    "df['Name']\n",
    "\n",
    "```\n",
    "which will produce as an output the list with all of the names contained in the table. \n",
    "\n",
    "\n",
    "* **Accessing a row in a DataFrame**\n",
    "To access a row in a data frame we use the `iloc[]` function. Imagine we want to access the  second row in our `df`, and  store it in a new variable. We use\n",
    "\n",
    "```py\n",
    "Allen_info = df.iloc[1]\n",
    "print(Allen_info)\n",
    "```\n",
    "which will produce the output\n",
    "\n",
    "```py\n",
    "Name      Allen, Mr. William Henry\n",
    "Age                             35\n",
    "Course            Machine Learning\n",
    "Name: 1, dtype: object\n",
    "```\n",
    "\n",
    "\n",
    "* **Accessing a single element in a DataFrame**\n",
    "\n",
    "Now imagine we want to know `Allen's` age. For that we have different options, either by accessing it using the variable `Allen_info` we just defined, or by accessing it directly in the original `df`. For the former we will use\n",
    "\n",
    "```py\n",
    "Allen_info['Age']\n",
    "```\n",
    "whereas for the latter we use\n",
    "```py\n",
    "df['Age'][1]\n",
    "```\n",
    "with bot methods producing the output `35`. \n",
    "\n"
   ]
  },
  {
   "cell_type": "code",
   "execution_count": 202,
   "metadata": {},
   "outputs": [],
   "source": [
    "# Try this out yourself here\n"
   ]
  },
  {
   "cell_type": "markdown",
   "metadata": {},
   "source": [
    "\n",
    "\n",
    "* **Adding a new row to the DataFrame**\n",
    "\n",
    "Likewise for lists, to add a new element to the  `DataFrame` we use the `append()` attribute. Since the `DataFrame` has several entries, we need  first to create  a dictionary, which will be added to the `DataFrame`. Let us see how this work with the following example\n"
   ]
  },
  {
   "cell_type": "code",
   "execution_count": 203,
   "metadata": {},
   "outputs": [
    {
     "data": {
      "text/html": [
       "<div>\n",
       "<style scoped>\n",
       "    .dataframe tbody tr th:only-of-type {\n",
       "        vertical-align: middle;\n",
       "    }\n",
       "\n",
       "    .dataframe tbody tr th {\n",
       "        vertical-align: top;\n",
       "    }\n",
       "\n",
       "    .dataframe thead th {\n",
       "        text-align: right;\n",
       "    }\n",
       "</style>\n",
       "<table border=\"1\" class=\"dataframe\">\n",
       "  <thead>\n",
       "    <tr style=\"text-align: right;\">\n",
       "      <th></th>\n",
       "      <th>Name</th>\n",
       "      <th>Age</th>\n",
       "      <th>Course</th>\n",
       "      <th>Grade</th>\n",
       "    </tr>\n",
       "  </thead>\n",
       "  <tbody>\n",
       "    <tr>\n",
       "      <th>0</th>\n",
       "      <td>Braund, Mr. Owen Harris</td>\n",
       "      <td>22</td>\n",
       "      <td>Data Structures</td>\n",
       "      <td>NaN</td>\n",
       "    </tr>\n",
       "    <tr>\n",
       "      <th>1</th>\n",
       "      <td>Allen, Mr. William Henry</td>\n",
       "      <td>35</td>\n",
       "      <td>Machine Learning</td>\n",
       "      <td>NaN</td>\n",
       "    </tr>\n",
       "    <tr>\n",
       "      <th>2</th>\n",
       "      <td>Bonnell, Miss. Elizabeth</td>\n",
       "      <td>25</td>\n",
       "      <td>OOPS with java</td>\n",
       "      <td>NaN</td>\n",
       "    </tr>\n",
       "    <tr>\n",
       "      <th>3</th>\n",
       "      <td>Sara Remmen</td>\n",
       "      <td>20</td>\n",
       "      <td>Python programing</td>\n",
       "      <td>10.0</td>\n",
       "    </tr>\n",
       "  </tbody>\n",
       "</table>\n",
       "</div>"
      ],
      "text/plain": [
       "                       Name  Age             Course  Grade\n",
       "0   Braund, Mr. Owen Harris   22    Data Structures    NaN\n",
       "1  Allen, Mr. William Henry   35   Machine Learning    NaN\n",
       "2  Bonnell, Miss. Elizabeth   25     OOPS with java    NaN\n",
       "3               Sara Remmen   20  Python programing   10.0"
      ]
     },
     "execution_count": 203,
     "metadata": {},
     "output_type": "execute_result"
    }
   ],
   "source": [
    "sara_info = {'Name':'Sara Remmen', 'Age': 20, 'Course':'Python programing','Grade': 10}\n",
    "#adding the new dictionary\n",
    "df2 = df.append(sara_info, ignore_index = True)\n",
    "df2"
   ]
  },
  {
   "cell_type": "markdown",
   "metadata": {},
   "source": [
    "Notice we have added a new `key` to the dictionary. This has created a new column with the `NaN` for the other rows. Also notice that using the `append()` attribute does not modify the original `DataFrame`, but we have rather create a new `df2` to store those changes. This is useful if you do not want to modify the original `DataFrame`. If we want to modify `df` directly, we can use the `loc[i]` function, where `i` is the position we want to add the new row. Let us do it explicitly in our example\n"
   ]
  },
  {
   "cell_type": "code",
   "execution_count": 204,
   "metadata": {},
   "outputs": [
    {
     "data": {
      "text/html": [
       "<div>\n",
       "<style scoped>\n",
       "    .dataframe tbody tr th:only-of-type {\n",
       "        vertical-align: middle;\n",
       "    }\n",
       "\n",
       "    .dataframe tbody tr th {\n",
       "        vertical-align: top;\n",
       "    }\n",
       "\n",
       "    .dataframe thead th {\n",
       "        text-align: right;\n",
       "    }\n",
       "</style>\n",
       "<table border=\"1\" class=\"dataframe\">\n",
       "  <thead>\n",
       "    <tr style=\"text-align: right;\">\n",
       "      <th></th>\n",
       "      <th>Name</th>\n",
       "      <th>Age</th>\n",
       "      <th>Course</th>\n",
       "    </tr>\n",
       "  </thead>\n",
       "  <tbody>\n",
       "    <tr>\n",
       "      <th>0</th>\n",
       "      <td>Braund, Mr. Owen Harris</td>\n",
       "      <td>22</td>\n",
       "      <td>Data Structures</td>\n",
       "    </tr>\n",
       "    <tr>\n",
       "      <th>1</th>\n",
       "      <td>Allen, Mr. William Henry</td>\n",
       "      <td>35</td>\n",
       "      <td>Machine Learning</td>\n",
       "    </tr>\n",
       "    <tr>\n",
       "      <th>2</th>\n",
       "      <td>Bonnell, Miss. Elizabeth</td>\n",
       "      <td>25</td>\n",
       "      <td>OOPS with java</td>\n",
       "    </tr>\n",
       "    <tr>\n",
       "      <th>3</th>\n",
       "      <td>Nathan S.</td>\n",
       "      <td>20</td>\n",
       "      <td>Julia programing</td>\n",
       "    </tr>\n",
       "  </tbody>\n",
       "</table>\n",
       "</div>"
      ],
      "text/plain": [
       "                       Name  Age            Course\n",
       "0   Braund, Mr. Owen Harris   22   Data Structures\n",
       "1  Allen, Mr. William Henry   35  Machine Learning\n",
       "2  Bonnell, Miss. Elizabeth   25    OOPS with java\n",
       "3                 Nathan S.   20  Julia programing"
      ]
     },
     "execution_count": 204,
     "metadata": {},
     "output_type": "execute_result"
    }
   ],
   "source": [
    "df.loc[3] = ['Nathan S.',20, 'Julia programing']\n",
    "df"
   ]
  },
  {
   "cell_type": "markdown",
   "metadata": {},
   "source": [
    "* **Changing an entry in your DataFrame**\n",
    "\n",
    "If we want for instance to change for instance Allen's grade in our `df2` defined above we use the `at[]` function. Let us see it in practice"
   ]
  },
  {
   "cell_type": "code",
   "execution_count": 205,
   "metadata": {},
   "outputs": [
    {
     "data": {
      "text/html": [
       "<div>\n",
       "<style scoped>\n",
       "    .dataframe tbody tr th:only-of-type {\n",
       "        vertical-align: middle;\n",
       "    }\n",
       "\n",
       "    .dataframe tbody tr th {\n",
       "        vertical-align: top;\n",
       "    }\n",
       "\n",
       "    .dataframe thead th {\n",
       "        text-align: right;\n",
       "    }\n",
       "</style>\n",
       "<table border=\"1\" class=\"dataframe\">\n",
       "  <thead>\n",
       "    <tr style=\"text-align: right;\">\n",
       "      <th></th>\n",
       "      <th>Name</th>\n",
       "      <th>Age</th>\n",
       "      <th>Course</th>\n",
       "      <th>Grade</th>\n",
       "    </tr>\n",
       "  </thead>\n",
       "  <tbody>\n",
       "    <tr>\n",
       "      <th>0</th>\n",
       "      <td>Braund, Mr. Owen Harris</td>\n",
       "      <td>22</td>\n",
       "      <td>Data Structures</td>\n",
       "      <td>NaN</td>\n",
       "    </tr>\n",
       "    <tr>\n",
       "      <th>1</th>\n",
       "      <td>Allen, Mr. William Henry</td>\n",
       "      <td>35</td>\n",
       "      <td>Machine Learning</td>\n",
       "      <td>8.0</td>\n",
       "    </tr>\n",
       "    <tr>\n",
       "      <th>2</th>\n",
       "      <td>Bonnell, Miss. Elizabeth</td>\n",
       "      <td>25</td>\n",
       "      <td>OOPS with java</td>\n",
       "      <td>NaN</td>\n",
       "    </tr>\n",
       "    <tr>\n",
       "      <th>3</th>\n",
       "      <td>Sara Remmen</td>\n",
       "      <td>20</td>\n",
       "      <td>Python programing</td>\n",
       "      <td>10.0</td>\n",
       "    </tr>\n",
       "  </tbody>\n",
       "</table>\n",
       "</div>"
      ],
      "text/plain": [
       "                       Name  Age             Course  Grade\n",
       "0   Braund, Mr. Owen Harris   22    Data Structures    NaN\n",
       "1  Allen, Mr. William Henry   35   Machine Learning    8.0\n",
       "2  Bonnell, Miss. Elizabeth   25     OOPS with java    NaN\n",
       "3               Sara Remmen   20  Python programing   10.0"
      ]
     },
     "execution_count": 205,
     "metadata": {},
     "output_type": "execute_result"
    }
   ],
   "source": [
    "df2.at[1,'Grade'] = 8 \n",
    "df2"
   ]
  },
  {
   "cell_type": "markdown",
   "metadata": {},
   "source": [
    "As we see, Allen's Grade changed from `NaN` to `8`. Notice the syntax for the `at[.,.]` function is `at[row,column]`. "
   ]
  },
  {
   "cell_type": "markdown",
   "metadata": {},
   "source": [
    "* **Removing a whole row in a DataFrame**\n",
    "\n",
    "In a similar way that for adding rows, we can delete them, either saving the output in a new `DataFrame` or by modifying the original `DataFrame`. For instance, let us remove the entry for Sara's info from `df2`. Notice the label for Sara's row is `3`. In the  former case we use the syntax \n",
    "```\n",
    "df3 = df2.drop(labels = 3 )\n",
    "df4\n",
    "```\n",
    "where `3` corresponds to the Sara's row label. \n",
    "\n",
    "For the latter case (modifying the original `DataFrame`) we use\n",
    "\n",
    "```py\n",
    "df2.drop(labels = 3 ,inplace=True)\n",
    "```\n",
    "However, we have to be careful when using this option since once rows are removed, we cannot recover them, therefore, unless we are sure we want to delete a row, use the `drop()` attribute without the `inplace=True` keyword. "
   ]
  },
  {
   "cell_type": "code",
   "execution_count": 206,
   "metadata": {},
   "outputs": [],
   "source": [
    "# Some space to write your own code\n"
   ]
  },
  {
   "cell_type": "markdown",
   "metadata": {},
   "source": [
    "* **Adding a whole column to the DataFrame**\n",
    "\n",
    "To add a complete column we use a syntax similar to dictionaries. We have to specify all the elements of the column in a list, whose length has to match the length of the `DataFrame`. In our previous examples we would have made.\n",
    "\n",
    "```py\n",
    "df2['Major'] =  ['Physiscs and Astronomy', 'Computer Science','Physiscs and Astronomy','Maths']\n",
    "df2\n",
    "\n",
    "```\n",
    "\n"
   ]
  },
  {
   "cell_type": "markdown",
   "metadata": {},
   "source": []
  },
  {
   "cell_type": "markdown",
   "metadata": {},
   "source": [
    "* **Saving Data frames**\n",
    "\n",
    "Having gained some experience manipulating `DataFrames`, we now learn how to save the data. In this tutorial we show how to save the `DataFrame` in a `.csv` file. `csv` stands for Comma Separated Values; it is a plain text file that contains a list of data, separated by commas. \n",
    "\n",
    "The syntax for saving a `DataFrame` as `.csv` in Mac and Linux is:\n",
    "\n",
    "```\n",
    "df.to_csv('/...path_to_file.../name_file.csv')\n",
    "\n",
    "```\n",
    "whereas for windows, the separators are given by double backslash `\\\\` \n",
    "\n",
    "Let us save our `df2` frame defined above. If not path is specified, the file will be saved in the same folder of our jupyter notebook."
   ]
  },
  {
   "cell_type": "code",
   "execution_count": 207,
   "metadata": {},
   "outputs": [],
   "source": [
    "df2.to_csv('saving_example.csv')"
   ]
  },
  {
   "cell_type": "markdown",
   "metadata": {},
   "source": [
    "* **Loading a csv file using pandas**\n",
    "\n",
    "We can also load existing data files using **pandas** library. The syntax for this is the following:\n",
    "\n",
    "```py\n",
    "new_df = pd.read_csv(\"/...path_to_file.../file_name.csv\")\n",
    "\n",
    "```\n",
    "This will create a new `DataFrame` named `new_df`. We can then manipulate our `new_df` as explained above. "
   ]
  },
  {
   "cell_type": "code",
   "execution_count": 208,
   "metadata": {},
   "outputs": [],
   "source": [
    "new_df = pd.read_csv('saving_example.csv')"
   ]
  },
  {
   "cell_type": "markdown",
   "metadata": {},
   "source": [
    "Let us add a new column to our `new_df`"
   ]
  },
  {
   "cell_type": "code",
   "execution_count": 209,
   "metadata": {},
   "outputs": [
    {
     "data": {
      "text/html": [
       "<div>\n",
       "<style scoped>\n",
       "    .dataframe tbody tr th:only-of-type {\n",
       "        vertical-align: middle;\n",
       "    }\n",
       "\n",
       "    .dataframe tbody tr th {\n",
       "        vertical-align: top;\n",
       "    }\n",
       "\n",
       "    .dataframe thead th {\n",
       "        text-align: right;\n",
       "    }\n",
       "</style>\n",
       "<table border=\"1\" class=\"dataframe\">\n",
       "  <thead>\n",
       "    <tr style=\"text-align: right;\">\n",
       "      <th></th>\n",
       "      <th>Unnamed: 0</th>\n",
       "      <th>Name</th>\n",
       "      <th>Age</th>\n",
       "      <th>Course</th>\n",
       "      <th>Grade</th>\n",
       "      <th>Nationality</th>\n",
       "    </tr>\n",
       "  </thead>\n",
       "  <tbody>\n",
       "    <tr>\n",
       "      <th>0</th>\n",
       "      <td>0</td>\n",
       "      <td>Braund, Mr. Owen Harris</td>\n",
       "      <td>22</td>\n",
       "      <td>Data Structures</td>\n",
       "      <td>NaN</td>\n",
       "      <td>Canada</td>\n",
       "    </tr>\n",
       "    <tr>\n",
       "      <th>1</th>\n",
       "      <td>1</td>\n",
       "      <td>Allen, Mr. William Henry</td>\n",
       "      <td>35</td>\n",
       "      <td>Machine Learning</td>\n",
       "      <td>8.0</td>\n",
       "      <td>Germany</td>\n",
       "    </tr>\n",
       "    <tr>\n",
       "      <th>2</th>\n",
       "      <td>2</td>\n",
       "      <td>Bonnell, Miss. Elizabeth</td>\n",
       "      <td>25</td>\n",
       "      <td>OOPS with java</td>\n",
       "      <td>NaN</td>\n",
       "      <td>England</td>\n",
       "    </tr>\n",
       "    <tr>\n",
       "      <th>3</th>\n",
       "      <td>3</td>\n",
       "      <td>Sara Remmen</td>\n",
       "      <td>20</td>\n",
       "      <td>Python programing</td>\n",
       "      <td>10.0</td>\n",
       "      <td>India</td>\n",
       "    </tr>\n",
       "  </tbody>\n",
       "</table>\n",
       "</div>"
      ],
      "text/plain": [
       "   Unnamed: 0                      Name  Age             Course  Grade  \\\n",
       "0           0   Braund, Mr. Owen Harris   22    Data Structures    NaN   \n",
       "1           1  Allen, Mr. William Henry   35   Machine Learning    8.0   \n",
       "2           2  Bonnell, Miss. Elizabeth   25     OOPS with java    NaN   \n",
       "3           3               Sara Remmen   20  Python programing   10.0   \n",
       "\n",
       "  Nationality  \n",
       "0      Canada  \n",
       "1     Germany  \n",
       "2     England  \n",
       "3       India  "
      ]
     },
     "execution_count": 209,
     "metadata": {},
     "output_type": "execute_result"
    }
   ],
   "source": [
    "new_df['Nationality']=['Canada','Germany','England','India']\n",
    "new_df"
   ]
  },
  {
   "cell_type": "markdown",
   "metadata": {},
   "source": [
    "Finally, to save the changes we did on ourd `csv ` fole we just use our saving tool defined above. If we assign the same name to the original name the file will be overwritten  with the new changes.  \n",
    "\n",
    "```py\n",
    "new_df.to_csv('saving_example.csv')\n",
    "\n",
    "```"
   ]
  },
  {
   "cell_type": "markdown",
   "metadata": {},
   "source": [
    "* **Alternative loading methods**\n",
    "\n"
   ]
  },
  {
   "cell_type": "markdown",
   "metadata": {},
   "source": [
    "# Exercise 3"
   ]
  },
  {
   "cell_type": "code",
   "execution_count": null,
   "metadata": {},
   "outputs": [],
   "source": []
  }
 ],
 "metadata": {
  "kernelspec": {
   "display_name": "Python 3",
   "language": "python",
   "name": "python3"
  },
  "language_info": {
   "codemirror_mode": {
    "name": "ipython",
    "version": 3
   },
   "file_extension": ".py",
   "mimetype": "text/x-python",
   "name": "python",
   "nbconvert_exporter": "python",
   "pygments_lexer": "ipython3",
   "version": "3.7.6"
  }
 },
 "nbformat": 4,
 "nbformat_minor": 4
}
