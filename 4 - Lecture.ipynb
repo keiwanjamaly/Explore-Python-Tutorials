{
 "cells": [
  {
   "cell_type": "markdown",
   "metadata": {},
   "source": [
    "# Lecture 4"
   ]
  },
  {
   "cell_type": "markdown",
   "metadata": {},
   "source": [
    "**Authors:**\n",
    "* Yilber Fabian Bautista\n",
    "* Keiwan Jamaly\n",
    "\n",
    "**Last date of modification:**\n",
    " November 28th 2021"
   ]
  },
  {
   "cell_type": "markdown",
   "metadata": {},
   "source": [
    "Hello there, \n",
    "\n",
    "Welcome to Lecture 3 of this mini-lecture series on programing with Python. In this series, you will learn  basic and intermediate python tools that will be of great use in your scientific carer\n",
    "\n",
    "**Objectives:** \n",
    "\n",
    "By the end of this lecture you will be able to:\n",
    "* Understand the concept of solving differential equations\n",
    "* solve differential equations using the scipy library's function **odeint**"
   ]
  },
  {
   "cell_type": "markdown",
   "metadata": {},
   "source": [
    "# Theoretical background\n",
    "\n",
    "Let's say, that you have a differential equation\n",
    "\n",
    "\\begin{equation}\n",
    "\\dot{x}(t) = -x(t)\n",
    "\\end{equation}\n",
    "\n",
    "to compute $x(t+h)$ we can taylor expand around at $h=0$ for small $h$\n",
    "\n",
    "\\begin{equation}\n",
    "x(t+h) = x(t) + \\dot{x}(t)*h\n",
    "\\end{equation}\n",
    "\n",
    "If we replace $\\dot{x}(t)$ with $-x(t)$ from the differential equation we get\n",
    "\\begin{equation}\n",
    "x(t+h) = x(t) - x(t)*h\n",
    "\\end{equation}\n",
    "\n",
    "we can use this equation to compute a series of points for $x(t)$ for givin initial conditions. "
   ]
  },
  {
   "cell_type": "markdown",
   "metadata": {},
   "source": [
    "# Exercise 1\n",
    "\n",
    "1. Compute solve the upper differential equation for $x(0)=1$ up to $t=1$ with $h=0.1$. \n",
    "2. Plot your result. \n",
    "3. Also compare the result with the analytical solution. \n",
    "4. What happens for different step sizes?"
   ]
  },
  {
   "cell_type": "code",
   "execution_count": 5,
   "metadata": {},
   "outputs": [],
   "source": [
    "# Here goes your solution"
   ]
  },
  {
   "cell_type": "markdown",
   "metadata": {},
   "source": [
    "What you have just done is called **Euler's method**. It can be generalized to any order of differential equations. "
   ]
  }
 ],
 "metadata": {
  "interpreter": {
   "hash": "31f2aee4e71d21fbe5cf8b01ff0e069b9275f58929596ceb00d14d90e3e16cd6"
  },
  "kernelspec": {
   "display_name": "Python 3.8.9 64-bit",
   "language": "python",
   "name": "python3"
  },
  "language_info": {
   "codemirror_mode": {
    "name": "ipython",
    "version": 3
   },
   "file_extension": ".py",
   "mimetype": "text/x-python",
   "name": "python",
   "nbconvert_exporter": "python",
   "pygments_lexer": "ipython3",
   "version": "3.8.9"
  },
  "orig_nbformat": 4
 },
 "nbformat": 4,
 "nbformat_minor": 2
}
