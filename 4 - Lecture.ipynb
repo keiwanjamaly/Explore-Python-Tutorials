{
 "cells": [
  {
   "cell_type": "markdown",
   "metadata": {},
   "source": [
    "# Lecture 4"
   ]
  },
  {
   "cell_type": "markdown",
   "metadata": {},
   "source": [
    "**Authors:**\n",
    "* Yilber Fabian Bautista\n",
    "* Keiwan Jamaly\n",
    "* <a href=\"https://itp.uni-frankfurt.de/~osorio/index.html\">Alejandro Cruz-Osorio</a>\n",
    "\n",
    "**Last date of modification:**\n",
    " December 7th 2021"
   ]
  },
  {
   "cell_type": "markdown",
   "metadata": {},
   "source": [
    "Hello there, \n",
    "\n",
    "Welcome to Lecture 4 of this mini-lecture series on programing with Python. In this series, you will learn  basic and intermediate python tools that will be of great use in your scientific carer\n",
    "\n",
    "**Objectives:** \n",
    "\n",
    "By the end of this lecture you will be able to:\n",
    "\n",
    "* Use the **Euler** and **Runge-Kutta** methods  to solve numerically  ordinary differential equations (ODEs)\n",
    "* Solve first and higher order ODEs using the **scipy** library's function **solve_ivp**"
   ]
  },
  {
   "cell_type": "markdown",
   "metadata": {},
   "source": [
    "## Warm up, the Euler method\n",
    "\n",
    "Imagine we want to calculate the shape of an unknown curve which starts at a given point $A_0$ at $t_0$ and satisfies a given differential equation. Euler method can be use for such a problem. It approximates the unknown curve as follows:\n",
    "\n",
    "Starting at the initial value $A_0$ at $t_0$, from the differential equation we can compute the slope of a tangent line to the curve at $t_0$, and so, the tangent line itself. \n",
    "We then take a small step along our  tangent line until we reach the point $A_1$ at $t_1$. For a t-step small enough, the slope of the curve does not change too much in  this t-displacement and therefore $A_1$ is still close to the curve. We can then repeat the reasoning as for $A_0$, that is,  taking $A_1$ as our initial value, and from the differential equation compute the slope of a tangent line to the curve at $t_1$, then move along the new tangent line until reaching $A_2$ at $t_2$. The process is then repeated until we reach the final time $t_n$, at which we would like to know the value of the unknown value of the  curve $A_n$. \n",
    "Schematically this is:\n",
    "\n",
    "![Euler Example](Figures/Euler_method.png)"
   ]
  },
  {
   "cell_type": "markdown",
   "metadata": {},
   "source": [
    "Figure taken from  [here](https://en.wikipedia.org/wiki/Euler_method)\n",
    "\n",
    "The Euler method is a first-order method, this means that the local error (or the error per step) is proportional to the square of the step size, whereas the  global error (the error at a given $t$) is proportional to the step size $\\Delta t$\n",
    "\n",
    "What we just described in words can be made precise with equations:\n",
    "\n",
    "Given \n",
    "\\begin{equation*}\n",
    "y'(t) = f(t,y),\\quad y(t_0)=y_0,\n",
    "\\end{equation*}\n",
    "\n",
    "we choose a value $h$  for the  step size so that for $t_n = t_0+n h$. After one step in the Euler method from $t_n$  to $t_{n+1} = t_n+h$. We can evaluate $y(t_{n+1}) = y_{n+1}$ by expanding  around $h=0$. That is \n",
    "\n",
    "$$y(t_{n+1}) = y(t_n) + y'(t_n) h +\\mathcal{O}(h^2),$$ \n",
    "and replace $y'(t_n)$ by the r.h.s. of the  differential equation. That is, \n",
    "\n",
    "$$\n",
    "y(t_n+1) = y(t_n) + f(t_n,y(t_n)) h +\\mathcal{O}(h^2)\n",
    "$$\n",
    "or in a index notation\n",
    "$$\n",
    "y_{n+1} = y_{n}+ f(t_n,y_n) h +\\mathcal{O}(h^2)\n",
    "$$\n",
    "\n",
    "As an example, if the differential equation is\n",
    "$$y'(t) = -y(t)$$\n",
    "\n",
    "we can set the function f(y, t) to be\n",
    "$$f(y,t) = -y(t)$$"
   ]
  },
  {
   "cell_type": "code",
   "execution_count": null,
   "metadata": {},
   "outputs": [],
   "source": [
    "import numpy as np\n",
    "\n",
    "def Euler(t_min,t_max,n,y_0):\n",
    "    #Define a t-array\n",
    "    t = np.linspace(t_min,t_max, num=n)\n",
    "    #step size\n",
    "    h = t[1] - t[0]\n",
    "    #Initialize an array to save the values of y\n",
    "    y = np.zeros(n)\n",
    "    #Set initial condition\n",
    "    y[0] = y_0\n",
    "    #write the Euler method\n",
    "    for i in range(n - 1):\n",
    "        y[i+1] = y[i] + h*(-y[i])\n",
    "    \n",
    "    return y"
   ]
  },
  {
   "cell_type": "markdown",
   "metadata": {},
   "source": [
    "Let us now use the method in an specific example"
   ]
  },
  {
   "cell_type": "code",
   "execution_count": null,
   "metadata": {},
   "outputs": [],
   "source": [
    "import matplotlib.pyplot as plt\n",
    "\n",
    "t_min = 0.\n",
    "t_max = 10.\n",
    "n = 30\n",
    "y_0 = 1.\n",
    "\n",
    "\n",
    "#use Euler method\n",
    "sol = Euler(t_min,t_max,n,y_0)\n",
    "\n",
    "#compare to the analytic solution y[t] = Exp(-t)\n",
    "t = np.linspace(t_min,t_max, num=n)\n",
    "a_sol = np.exp(-t)\n",
    "\n",
    "#plot the findings\n",
    "\n",
    "plt.plot(t, sol, label=\"numeric solution\")\n",
    "plt.plot(t, a_sol, label=\"analytic solution\")\n",
    "plt.legend()\n",
    "plt.show()"
   ]
  },
  {
   "cell_type": "markdown",
   "metadata": {},
   "source": [
    "# Exercise 1\n",
    "Use the **Euler** method previously programed and vary $n$,  What happens for different step sizes?  Plot your findings using a `for` loop."
   ]
  },
  {
   "cell_type": "code",
   "execution_count": null,
   "metadata": {},
   "outputs": [],
   "source": [
    "# write your solution here"
   ]
  },
  {
   "cell_type": "markdown",
   "metadata": {},
   "source": [
    "# Exercise 2\n",
    "- Generalize the `Euler()` function defined above to take as input a general function $f(y,t)$ which is the function in the  r.h.s. of the differential equation: \n",
    "```\n",
    "Euler(f, t_min, t_max, n, y_0)\n",
    "```\n",
    "- As before, use your new `Euler()` function to solve for $f(y,t) = -y(t)$, with $y_0=1$. Your solution should agree with the previous results. \n",
    "- Using your new `Euler()` function, solve the differential equation\n",
    "    $$y'(t) = \\sin(t)+y(t)$$\n",
    "with initial condition $$y(0) = 2. $$\n",
    "in the time interval $[0,10]$"
   ]
  },
  {
   "cell_type": "code",
   "execution_count": null,
   "metadata": {},
   "outputs": [],
   "source": [
    "# write your solution in here"
   ]
  },
  {
   "cell_type": "markdown",
   "metadata": {},
   "source": [
    "## Runge-Kutta method\n",
    "As we learnt above,  Euler method is a  first order approximation. For better approximations, we can use the [Runge-Kutta methods](https://en.wikipedia.org/wiki/Runge%E2%80%93Kutta_methods) . Runge-Kutta fourth order computes the solution for a differential equation of the form \n",
    "\n",
    "\\begin{equation*}\n",
    "y'(t) = f(t,y),\\quad y(t_0)=y_0,\n",
    "\\end{equation*}\n",
    "by \n",
    "\n",
    "\\begin{align*}\n",
    "y_{n+1} = y_n + h*\\frac{k_1}{6} + h*\\frac{k_2}{3} + h*\\frac{k_3}{3} + h*\\frac{k_4}{6}\n",
    "\\end{align*}\n",
    "\n",
    "where $k_1, k_2, k_3, k_4$ are \n",
    "\n",
    "\\begin{align*}\n",
    "k_1 &= f(t_n,y_n) \\\\\n",
    "k_2 &= f(t_n+\\frac{h}{2}, y_n + \\frac{h}{2}*k_1) \\\\\n",
    "k_3 &= f(t_n+\\frac{h}{2}, y_n + \\frac{h}{2}*k_2) \\\\\n",
    "k_4 &= f(t_n+h, y_n + h*k_3)\n",
    "\\end{align*}\n",
    "\n"
   ]
  },
  {
   "cell_type": "markdown",
   "metadata": {},
   "source": [
    "# Exercise 3 (optional)\n",
    "1. Similar to Exercise 1, create a program `Runge_Kutta()` that implements this method for a general input function $f(y,t)$.\n",
    "2. Use your Runge_Kutta() function to solve the differential equation\n",
    " $$y'(t) = \\sin(t)+y(t)$$\n",
    "with initial condition $$y(0) = 2. $$\n",
    "in the time interval $[0,10]$. Plot your findings and compare them with the solution from the Euler method for different t-resolutions  "
   ]
  },
  {
   "cell_type": "code",
   "execution_count": null,
   "metadata": {},
   "outputs": [],
   "source": [
    "# here goes your solution"
   ]
  },
  {
   "cell_type": "markdown",
   "metadata": {},
   "source": [
    "## ODE Solvers in sipy.integrate library\n",
    "\n",
    "Now that we have gain some intuition on how numeric methods for solving first order differential equations work, we want to take advantage of the method implemented in the `sipy.integrate` library. There are two ODE solvers in this library: The  [odeint](https://docs.scipy.org/doc/scipy/reference/generated/scipy.integrate.odeint.html) and the [solve_ivp](https://docs.scipy.org/doc/scipy/reference/generated/scipy.integrate.solve_ivp.html). `odeint` is outdated so we will not show it here, but there are good examples in the documentation and later on in case you are working with old code bases."
   ]
  },
  {
   "cell_type": "markdown",
   "metadata": {},
   "source": [
    "### The solve_ivp function\n",
    "\n",
    "The **solve_ivp** function on the other hand,  allows for multiple methods. Among these methods we have **LSODA**, but also up to **Runge-Kutte fifth order** (this means more complicated set of equations). Luckily, this is already implemented and we do not have to program them from scratch. In reality, `scipy.integrate.solve_ivp` uses Runge-Kutta 45 method by default. This means it calculates a Runge-Kutta 4 **and** Runge-Kutta 5 step and compares these two, to vary the step size to a given relative and absolute error. This is mostly done automatically, but it can be done manually. For more information read the [scipy.integrate.solve_ivp](https://docs.scipy.org/doc/scipy/reference/generated/scipy.integrate.solve_ivp.html) documentation or the optional section.\n",
    "\n",
    "We will now give an example of how to use the **solve_ivp** solver in the context of fist order differential equations.\n",
    "\n",
    "Let's say, we want to solve the differential equation \n",
    "\n",
    "\\begin{align*}\n",
    "y'(t) = y_0 - k * y\n",
    "\\end{align*}\n",
    "\n",
    "first, we rewrite the equation to:\n",
    "\\begin{align*}\n",
    "y'(t) = f(t,y)\n",
    "\\end{align*}\n",
    "\n",
    "where\n",
    "\n",
    "\\begin{align*}\n",
    "f(t, y) = y_0 - k*y\n",
    "\\end{align*}\n",
    "\n",
    "We have now all the bits and pieces to do the numerical implementation. The syntax for solving ODEs using `solve_ivp` is the following:\n",
    "\n",
    "```py\n",
    "scipy.integrate.solve_ivp(fun, t_span, y0)\n",
    "```\n",
    "\n",
    "* fun: function that returns the derivative of $y$\n",
    "* t_span: time span of the solution [0,10]\n",
    "* y0: initial conditions e.q.  [0, -1] (which stands for $x(0) = 0$ and $\\dot{x}(0) = -1$)\n"
   ]
  },
  {
   "cell_type": "code",
   "execution_count": null,
   "metadata": {},
   "outputs": [],
   "source": [
    "import numpy as np\n",
    "import scipy.integrate as integrate\n",
    "import matplotlib.pyplot as plt\n",
    "\n",
    "# initial condition\n",
    "y_0 = 5\n",
    "\n",
    "k = 1.5\n",
    "\n",
    "# function that returns the righ hand side (rhs) of the ODE dy/dt = y'[t]\n",
    "def f(t,y):\n",
    "    dydt = -k * y + y_0\n",
    "    return dydt\n",
    "\n",
    "# solve ODE\n",
    "result = integrate.solve_ivp(f, [0,25], [y_0])\n",
    "\n",
    "# plot results\n",
    "fig = plt.figure(figsize=(8,6))\n",
    "plt.plot(result.t, result.y[0], 'r')\n",
    "plt.xlabel(r'$\\rm x$')\n",
    "plt.ylabel(r'$\\rm y$')\n",
    "plt.show()"
   ]
  },
  {
   "cell_type": "markdown",
   "metadata": {},
   "source": [
    "# Second-order ordinary differential equations\n",
    "\n",
    "To solve differential equations of higher order than one, we have to rewrite the differential of order $n$ as a system of $n$ first order differential equations. \n",
    "\n",
    "Now, imagine for instance that we  want to solve the following second order ODE\n",
    "\n",
    "\\begin{equation*}\n",
    "x''(t) = x'(t) + x(t)\n",
    "\\end{equation*}\n",
    "\n",
    "we can use $x'(t) = \\theta(x)$ to rewrite the equations in the following form:\n",
    "\\begin{align*}\n",
    "x'(t) &= v(t) \\\\\n",
    "v'(t) &= - v(t) - x(t)\\,.\n",
    "\\end{align*}\n",
    "\n",
    "With this in mind, we can rewrite the coupled differential equation to the form\n",
    "\n",
    "\\begin{align*}\n",
    "y'(t) = f(t, y)\n",
    "\\end{align*}\n",
    "\n",
    "where\n",
    "\n",
    "$$\n",
    "y(t) = \n",
    "\\left(\\begin{array}{cc} \n",
    "x(t) \\\\ \n",
    "v(t)\n",
    "\\end{array}\\right)\n",
    "$$ \n",
    "\n",
    "and\n",
    "$$\n",
    "f(t,y) = \n",
    "\\left(\\begin{array}{cc} \n",
    "v(t) \\\\\n",
    "- v(t) - x(t)\n",
    "\\end{array}\\right)\n",
    "$$"
   ]
  },
  {
   "cell_type": "code",
   "execution_count": null,
   "metadata": {},
   "outputs": [],
   "source": [
    "from scipy.integrate import solve_ivp\n",
    "import matplotlib.pyplot as plt\n",
    "\n",
    "#Right hand side of the ODE\n",
    "def f(t, y):\n",
    "    x, theta = y\n",
    "    dydt = [theta, -theta - x]\n",
    "    return dydt\n",
    "\n",
    "#Solve the system of ODEs\n",
    "result = solve_ivp(f, [0, 8], [0, -1])\n",
    "#Plot the results\n",
    "plt.plot(result.t, result.y[0], label='x')"
   ]
  },
  {
   "cell_type": "markdown",
   "metadata": {},
   "source": [
    "As you can see, this look a little chunky. This is because solve_ivp only evaluates the points, where the solver calculates the needed steps size, if nothing more is specified. We have to specify the points, where we want to evaluate the solution. This can be done by using the `t_eval` argument."
   ]
  },
  {
   "cell_type": "code",
   "execution_count": null,
   "metadata": {},
   "outputs": [],
   "source": [
    "import numpy as np\n",
    "\n",
    "t = np.linspace(0, 8, 100)\n",
    "\n",
    "result = solve_ivp(f, [0, 8], [0, -1], t_eval=t)\n",
    "\n",
    "plt.plot(result.t, result.y[0], label='x')"
   ]
  },
  {
   "cell_type": "markdown",
   "metadata": {},
   "source": [
    "Let us promote another way to set up $f(t,y)$ and implement solve_ivp.\n",
    "\n",
    "We already computed\n",
    "$$\n",
    "f(t,y) = \n",
    "\\left(\\begin{array}{cc} \n",
    "\\theta(t) \\\\\n",
    "- \\theta(t) - x(t)\n",
    "\\end{array}\\right)\n",
    "$$\n",
    "\n",
    "this can be rewritten as a matrix vector multiplication\n",
    "$$\n",
    "f(t,y) = \n",
    "\\left(\\begin{array}{cc} \n",
    "0 & 1 \\\\\n",
    "-1 & -1\n",
    "\\end{array}\\right)\n",
    "*\n",
    "y(t)\n",
    "$$\n",
    "With this, we can simplify the implementation of $f(t,y)$ to"
   ]
  },
  {
   "cell_type": "code",
   "execution_count": null,
   "metadata": {},
   "outputs": [],
   "source": [
    "A = np.array([[0, 1], [-1, -1]])\n",
    "\n",
    "def f(t, y):\n",
    "    return A.dot(y)\n",
    "\n",
    "t = np.linspace(0, 8, 100)\n",
    "\n",
    "result = solve_ivp(f, [0, 8], [0, -1], t_eval=t)\n",
    "\n",
    "plt.plot(result.t, result.y[0], label='x')"
   ]
  },
  {
   "cell_type": "markdown",
   "metadata": {},
   "source": [
    "# Exercise 4\n",
    "\n",
    "We want to solve a classical harmonic oscillator.\n",
    "\n",
    "\\begin{align*}\n",
    "\\frac{d\\theta(t)^2}{d^2t} &= - \\frac{g}{l} * \\theta(t) = - \\omega^2 * \\theta(t)\n",
    "\\end{align*}\n",
    "\n",
    "First, we want to absorb $g/l$ into the time, by defining $\\tilde{t} = t / \\omega$. Verify to yourself, that this results to\n",
    "\n",
    "\\begin{align*}\n",
    "\\frac{d\\theta(\\tilde{t})^2}{d^2\\tilde{t}} &= - \\theta(\\tilde{t})\n",
    "\\end{align*}\n",
    "\n",
    "We have just made the differential equation dimensionless. Notice, that a change of $g$ or $l$ will result in a change of the time scale. \n",
    "\n",
    "1. Solve the dimensionless differential equation using the **solve_ivp** function, for $\\theta(0) = \\pi/4$ and $\\dot{\\theta}(0) = 0$. And plot your results. \n",
    "2. Calculate the period. Here you can be creative for finding the period. \n",
    "3. Compare the numerical solution with the analytical one. "
   ]
  },
  {
   "cell_type": "code",
   "execution_count": null,
   "metadata": {},
   "outputs": [],
   "source": [
    "# Write your solution here"
   ]
  },
  {
   "cell_type": "markdown",
   "metadata": {},
   "source": [
    "## Coupled differential equations\n",
    "\n",
    "As a last example for Runge-Kutta, we want to solve the coupled differential equation. Let's imagine two frictionless point masses, connected by a spring which is relax at distance $d$. This system can be described by the following differential equation:\n",
    "\n",
    "\\begin{align*}\n",
    "\\frac{d^2x_1}{dt^2} + \\omega^2 (x_1(t) - x_2(t) - d) &= 0 \\\\\n",
    "\\frac{d^2x_2}{dt^2} + \\omega^2 (x_2(t) - x_1(t) + d) &= 0\n",
    "\\end{align*}\n",
    "\n",
    "We write these two second order differential equations as 4 first order differential equations by defining $v_1 = x'_1$ and $v_2 = x'_2$:\n",
    "\\begin{align*}\n",
    "x_1'(t) &= v_1(t) \\\\\n",
    "x_2'(t) &= v_2(t) \\\\\n",
    "v_1'(t) &= - \\omega^2 (x_1(t) - x_2(t) - d) \\\\\n",
    "v_2'(t) &= - \\omega^2 (x_2(t) - x_1(t) + d)\n",
    "\\end{align*}\n",
    "\n",
    "As you can see, this equation is an inhomogeneous system. \n",
    "\n",
    "So we get for $f(t,y)$ and $y(t)$:\n",
    "$$\n",
    "y(t) = \n",
    "\\left(\\begin{array}{cc} \n",
    "x_1(t) \\\\ \n",
    "x_2(t) \\\\\n",
    "v_1(t) \\\\\n",
    "v_2(t)\n",
    "\\end{array}\\right)\n",
    "$$ \n",
    "\n",
    "and\n",
    "$$\n",
    "f(t,y) = \n",
    "\\left(\\begin{array}{cccc} \n",
    "0 & 0 & 1 & 0 \\\\\n",
    "0 & 0 & 0 & 1 \\\\\n",
    "- \\omega^2 & \\omega^2 & 0 & 0 \\\\\n",
    "\\omega^2 & -\\omega^2 & 0 & 0  \\\\\n",
    "\\end{array} \\right)\n",
    "*\n",
    "y(t)\n",
    "+ \\omega^2\n",
    "\\left(\\begin{array}{c}\n",
    "0 \\\\ 0 \\\\ -d \\\\ d\n",
    "\\end{array}\\right)\n",
    "$$\n",
    "\n",
    "We solve the couple differential equations for $\\omega = 1$, $d = 1$, $x_1(0) = d/2$, $x_2(0) = -d/2$, $x'_1(0) = 1$ and $x'_2(0) = 0$. \n"
   ]
  },
  {
   "cell_type": "code",
   "execution_count": null,
   "metadata": {},
   "outputs": [],
   "source": [
    "import numpy as np\n",
    "from scipy.integrate import solve_ivp\n",
    "import matplotlib.pyplot as plt\n",
    "\n",
    "d = 1\n",
    "omega = 1\n",
    "t = np.linspace(0, 8, 100)\n",
    "\n",
    "B = np.array([[0, 0, 1, 0],\n",
    "              [0, 0, 0, 1],\n",
    "              [-omega**2, omega**2, 0, 0],\n",
    "              [omega**2, -omega**2, 0, 0]])\n",
    "\n",
    "def f(t, y):\n",
    "    return B.dot(y) - omega**2 * np.array([0, 0, -d, d])\n",
    "\n",
    "result = solve_ivp(f, [0, 8], [d/2, -d/2, 1, 0], t_eval=t)\n",
    "\n",
    "plt.plot(result.t, result.y[0], label=r'$x_1$')\n",
    "plt.plot(result.t, result.y[1], label=r'$x_2$')\n",
    "plt.legend()"
   ]
  },
  {
   "cell_type": "markdown",
   "metadata": {},
   "source": [
    "# Exercise 5: Neutron star with constant density\n",
    "\n",
    "Any integration problem can also be formulated in a system of odes. This exercise encourages you to do so. \n",
    "\n",
    "Schwarzchild solution of the relativistic star with uniform density is\n",
    "\n",
    "$$\\frac{dp}{dr}= \\frac{4\\pi}{3} G \\rho^2 r, --> {\\rm hydrostatic\\ equilibrium}\\\\\n",
    "m(r)=\\frac{4\\pi}{3}\\rho r^3, \\quad --> {\\rm Mass\\ equation*} $$\n",
    "\n",
    "where $p(r) =$ pressure, $\\rho =$ constant density, $G =$ Newton's constant, $m(r) =$ mass enclosed within a sphere of radius $r$.\n",
    "\n",
    "\n",
    "Charles W. Misner, K. S. Thorne, and J. A. Wheeler.Gravitation. W. H.Freeman, San Francisco, 1973. Chapter 23: Spherical stars.\n",
    "\n",
    "### Initial condition\n",
    "\n",
    "- $\\rho= \\rho_{0}, $ for $r<R_{\\star}$ and $\\rho= \\rho_{\\rm atm}, $ for $r>R_{\\star}$, where $R_{\\star}$ is the radius of the star, and $\\rho_{\\rm atm}$ is the density at star atmosphere.\n",
    "- Use $G=1$ \n",
    "- Initial condition for density, pressure and radius of the star:\n",
    "$\\rho_{0}=1.28e-03,\\quad \\rho_{\\rm atm}=0.0,\\quad p_{0}= 9.62e-02,\\ \\quad R_{\\star}=5.4$. \n",
    "\n",
    "### Task\n",
    "\n",
    "- Solve ODE for pressure using `solve_ivp` in the radial domain $r\\in [0,6]$ with resolution $dr=$1.e-2.\n",
    "- Compute the total mass of the star $M=m(R)$.\n",
    "- Show the plot for density and pressure (in the same figure), include the mass and radius of the star as a title of figure (top part), also include appropriate x and y labels.\n",
    "\n"
   ]
  },
  {
   "cell_type": "code",
   "execution_count": null,
   "metadata": {},
   "outputs": [],
   "source": [
    "# Your solution goes in here"
   ]
  },
  {
   "cell_type": "markdown",
   "metadata": {},
   "source": [
    "# Error estimation and adaptive step size (optional)\n",
    "\n",
    "For most cases, the step size is chosen wrong. For smooth function intervals, we want the step size to be large and for non smooth sections we want small step sizes. The goal is, to compute accurate step sizes. \n",
    "\n",
    "In this section we will go over the error estimation of the RK45 method. The basic idea is, that the RK5 formulas are said to be the precise solution with respect to RK4 and the error will be estimated by a difference between these two methods. \n",
    "\n",
    "\\begin{align*}\n",
    "E_{n+1} = y_{n+1} - \\hat{y}_{n+1}\n",
    "\\end{align*}\n",
    "\n",
    "Where the 'hat' indicates the RK(n+1) step.\n",
    "\n",
    "The step size is the calculated with \n",
    "\n",
    "\\begin{align*}\n",
    "h_{n+1} = 0.9 h_n \\left[ \\frac{\\delta}{||E||_{\\infty}} \\right]^{1/5}\n",
    "\\end{align*}\n",
    "\n",
    "where $||x||_{\\infty} = \\max(|x_1|,|x_2|,\\ldots,|x_n|)$.\n",
    "\n",
    "where $\\delta = \\delta_{absolute} + \\delta_{relative}\\ |y|$.\n",
    "\n",
    "Note, that there exist plenty of different methods for error estimation. For example comparing two $h/2$ steps with one $h$ step and estimating the error from this difference. "
   ]
  },
  {
   "cell_type": "markdown",
   "metadata": {},
   "source": [
    "# Exercise 6 (Optional)\n",
    "\n",
    "With this exercise, we put everything together, what we have learned so far. We imagine two frictionless point masses, which are connected by a spring. In contrast to previous example, the left point mass is also connected to a solid wall. The system is described by the following differential equation:\n",
    "\n",
    "\\begin{align*}\n",
    "\\frac{d^2x_1}{dt^2} + \\omega_1^2 (x_1(t) - x_2(t) - d_1) + \\omega_2^2 (x_1(t) - d_2) &= 0 \\\\\n",
    "\\frac{d^2x_2}{dt^2} + \\omega_1^2 (x_2(t) - x_1(t) + d_1) &= 0\n",
    "\\end{align*}\n",
    "\n",
    "Solve the these equations for $\\omega_1 = 1$, $\\omega_2 = 1$, $d_1 = 1$, $d_2 = 1$, $x_1(0) = d_1$, $x_2(0) = d_1 + d_2$, $x'_1(0) = 1$ and $x'_2(0) = 0$."
   ]
  },
  {
   "cell_type": "code",
   "execution_count": null,
   "metadata": {},
   "outputs": [],
   "source": [
    "# your solution goes in here"
   ]
  }
 ],
 "metadata": {
  "interpreter": {
   "hash": "31f2aee4e71d21fbe5cf8b01ff0e069b9275f58929596ceb00d14d90e3e16cd6"
  },
  "kernelspec": {
   "display_name": "Python 3",
   "language": "python",
   "name": "python3"
  },
  "language_info": {
   "codemirror_mode": {
    "name": "ipython",
    "version": 3
   },
   "file_extension": ".py",
   "mimetype": "text/x-python",
   "name": "python",
   "nbconvert_exporter": "python",
   "pygments_lexer": "ipython3",
   "version": "3.8.3"
  }
 },
 "nbformat": 4,
 "nbformat_minor": 2
}
