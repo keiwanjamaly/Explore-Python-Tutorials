{
 "cells": [
  {
   "cell_type": "markdown",
   "metadata": {},
   "source": [
    "# Lecture 4"
   ]
  },
  {
   "cell_type": "markdown",
   "metadata": {},
   "source": [
    "**Authors:**\n",
    "* Yilber Fabian Bautista\n",
    "* Keiwan Jamaly\n",
    "\n",
    "**Last date of modification:**\n",
    " November 28th 2021"
   ]
  },
  {
   "cell_type": "markdown",
   "metadata": {},
   "source": [
    "Hello there, \n",
    "\n",
    "Welcome to Lecture 3 of this mini-lecture series on programing with Python. In this series, you will learn  basic and intermediate python tools that will be of great use in your scientific carer\n",
    "\n",
    "**Objectives:** \n",
    "\n",
    "By the end of this lecture you will be able to:\n",
    "* Understand the concept of solving differential equations\n",
    "* solve differential equations using the scipy library's function **solve_ivp**"
   ]
  },
  {
   "cell_type": "markdown",
   "metadata": {},
   "source": [
    "# Theoretical background\n",
    "\n",
    "Let's say, that you have a differential equation\n",
    "\n",
    "\\begin{equation*}\n",
    "\\dot{x}(t) = -x(t)\n",
    "\\end{equation*}\n",
    "\n",
    "to compute $x(t+h)$ we can taylor expand around at $h=0$ for small $h$\n",
    "\n",
    "\\begin{equation*}\n",
    "x(t+h) = x(t) + \\dot{x}(t)*h\n",
    "\\end{equation*}\n",
    "\n",
    "If we replace $\\dot{x}(t)$ with $-x(t)$ from the differential equation we get\n",
    "\\begin{equation*}\n",
    "x(t+h) = x(t) - x(t)*h\n",
    "\\end{equation*}\n",
    "\n",
    "we can use this equation to compute a series of points for $x(t)$ for givin initial conditions. "
   ]
  },
  {
   "cell_type": "markdown",
   "metadata": {},
   "source": [
    "# Exercise 1\n",
    "\n",
    "1. Compute solve the upper differential equation for $x(0)=1$ up to $t=1$ with $h=0.1$. \n",
    "2. Plot your result. \n",
    "3. Also compare the result with the analytical solution. \n",
    "4. What happens for different step sizes?"
   ]
  },
  {
   "cell_type": "code",
   "execution_count": 5,
   "metadata": {},
   "outputs": [],
   "source": [
    "# Here goes your solution"
   ]
  },
  {
   "cell_type": "markdown",
   "metadata": {},
   "source": [
    "What you have just done is called **Euler's method**. It can be generalized to any order of differential equations by reformulating the differential equation to\n",
    "\n",
    "\\begin{equation*}\n",
    "y'(t) = f(t,y)\n",
    "\\end{equation*}\n",
    "\n",
    "where $y'(t)$ is the derivative of $y(t)$.\n",
    "\n",
    "y(t+h) can then be solved by solving \n",
    "\n",
    "\\begin{equation*}\n",
    "y(t+h) = y(t) + h*f(t,y) + \\mathcal{O}(h^2)\n",
    "\\end{equation*}\n",
    "\n",
    "To solve differential equations of higher order than one, we have to rewrite the differential of order $n$ as a system of $n$ first order differential equations. This step is crucial so we will do a step by step example. Let's say, we want to solve\n",
    "\n",
    "\\begin{equation*}\n",
    "x''(t) = x'(t) + x(t)\n",
    "\\end{equation*}\n",
    "\n",
    "we can use $x'(t) = \\theta(x)$ to rewrite the equations in the following form:\n",
    "\\begin{align*}\n",
    "x'(t) &= \\theta(x) \\\\\n",
    "\\theta'(t) &= - \\theta(t) - x(t)\n",
    "\\end{align*}\n",
    "\n",
    "With this, we can rewrite the coupled differential equation to the form\n",
    "\n",
    "\\begin{align*}\n",
    "y'(t) = f(t, y)\n",
    "\\end{align*}\n",
    "\n",
    "where\n",
    "\n",
    "$$\n",
    "y(t) = \n",
    "\\left(\\begin{array}{cc} \n",
    "x(t) \\\\ \n",
    "\\theta(t)\n",
    "\\end{array}\\right)\n",
    "$$ \n",
    "\n",
    "and\n",
    "$$\n",
    "f(t,y) = \n",
    "\\left(\\begin{array}{cc} \n",
    "\\theta(t) \\\\\n",
    "- \\theta(t) - x(t)\n",
    "\\end{array}\\right)\n",
    "$$\n",
    "\n",
    "## Runge-Kutta method\n",
    "With the Euler method, you get only a first order approximation. For better approximations, we can use the Runge-Kutta method. Runge-Kutta second order works by computing\n",
    "\n",
    "\\begin{align*}\n",
    "y(t+h) = y(t) + h*\\frac{k_1}{6} + h*\\frac{k_2}{3} + h*\\frac{k_3}{3} + h*\\frac{k_4}{6}\n",
    "\\end{align*}\n",
    "\n",
    "where $k_1, k_2, k_3, k_4$ are \n",
    "\n",
    "\\begin{align*}\n",
    "k_1 &= f(t,y) \\\\\n",
    "k_2 &= f(t+\\frac{h}{2}, y + \\frac{h}{2}*k_1) \\\\\n",
    "k_3 &= f(t+\\frac{h}{2}, y + \\frac{h}{2}*k_2) \\\\\n",
    "k_4 &= f(t+h, y + h*k_3)\n",
    "\\end{align*}\n",
    "\n",
    "Runge-Kutta second order is just an example. [sipy.integrate.solve_ivp](https://docs.scipy.org/doc/scipy/reference/generated/scipy.integrate.solve_ivp.html) uses up to Runge-Kutte fifth order (This means a lot of equations). Luckily, this is already implemented. \n",
    "\n",
    "Before we do an example, there needs to be one more comment. Scipy uses Runge-Kutta 45 method. This means it calculates a Runge-Kutta 4 **and** Runge-Kutta 5 step and compares these two, to vary the step size to a given relative and absolute error. This is mostly done automatically, but it can be done manually. For more information read the [scipy.integrate.solve_ivp](https://docs.scipy.org/doc/scipy/reference/generated/scipy.integrate.solve_ivp.html) documentation.\n",
    "\n",
    "To solve the upper differential equation, we first have to program function $f(t,y)$ that returns the derivative of $y$."
   ]
  },
  {
   "cell_type": "code",
   "execution_count": 1,
   "metadata": {},
   "outputs": [],
   "source": [
    "def f(t, y):\n",
    "    x, theta = y\n",
    "    dydt = [theta, -theta - x]\n",
    "    return dydt"
   ]
  },
  {
   "cell_type": "markdown",
   "metadata": {},
   "source": [
    "Then we need to run `sovle_ivp` to solve the differential equation.\n",
    "\n",
    "```py\n",
    "scipy.integrate.solve_ivp(fun, t_span, y0)\n",
    "```\n",
    "\n",
    "* fun: function that returns the derivative of $y$\n",
    "* t_span: time span of the solution e.q. [0,10]\n",
    "* y0: initial conditions e.q. [0, -1] (which stands for $x(0) = 0$ and $\\dot{x}(0) = -1$)"
   ]
  },
  {
   "cell_type": "code",
   "execution_count": 3,
   "metadata": {},
   "outputs": [
    {
     "data": {
      "text/plain": [
       "[<matplotlib.lines.Line2D at 0x12051d2e0>]"
      ]
     },
     "execution_count": 3,
     "metadata": {},
     "output_type": "execute_result"
    },
    {
     "data": {
      "image/png": "[encoded data removed]",
      "text/plain": [
       "<Figure size 432x288 with 1 Axes>"
      ]
     },
     "metadata": {
      "needs_background": "light"
     },
     "output_type": "display_data"
    }
   ],
   "source": [
    "from scipy.integrate import solve_ivp\n",
    "import matplotlib.pyplot as plt\n",
    "\n",
    "result = solve_ivp(f, [0, 8], [0, -1])\n",
    "\n",
    "plt.plot(result.t, result.y[0], label='x')"
   ]
  },
  {
   "cell_type": "markdown",
   "metadata": {},
   "source": [
    "As you can see, this look a little chunky. This is because solve_ivp only evaluates the points, where the solver calculates the needed steps size, if nothing more is specified. We have to specify the points, where we want to evaluate the solution. This can be done by using the `t_eval` argument."
   ]
  },
  {
   "cell_type": "code",
   "execution_count": 4,
   "metadata": {},
   "outputs": [
    {
     "data": {
      "text/plain": [
       "[<matplotlib.lines.Line2D at 0x12061be20>]"
      ]
     },
     "execution_count": 4,
     "metadata": {},
     "output_type": "execute_result"
    },
    {
     "data": {
      "image/png": "[encoded data removed]",
      "text/plain": [
       "<Figure size 432x288 with 1 Axes>"
      ]
     },
     "metadata": {
      "needs_background": "light"
     },
     "output_type": "display_data"
    }
   ],
   "source": [
    "import numpy as np\n",
    "\n",
    "t = np.linspace(0, 8, 100)\n",
    "\n",
    "result = solve_ivp(f, [0, 8], [0, -1], t_eval=t)\n",
    "\n",
    "plt.plot(result.t, result.y[0], label='x')"
   ]
  },
  {
   "cell_type": "markdown",
   "metadata": {},
   "source": [
    "# Exercise 2\n",
    "\n",
    "We want to solve the mathematical pendulum without using the $sin(x) \\approx x$ approximation.\n",
    "\n",
    "\\begin{align*}\n",
    "\\frac{d\\theta(t)^2}{d^2t} &= - \\frac{g}{l} * \\sin(\\theta(t))\n",
    "\\end{align*}\n",
    "\n",
    "First, we want to absorb $g/l$ into the time, by defining $\\tilde{t} = t \\sqrt{g/l}$. Verify to yourself, that this results to\n",
    "\n",
    "\\begin{align*}\n",
    "\\frac{d\\theta(\\tilde{t})^2}{d^2\\tilde{t}} &= - \\sin(\\theta(\\tilde{t}))\n",
    "\\end{align*}\n",
    "\n",
    "We have just made the differential equation dimensionless. Notice, that a change of $g$ or $l$ will result in a change of the time scale. \n",
    "\n",
    "1. Solve the dimensionless differential equation for $\\theta(0) = \\pi/4$ and $\\dot{\\theta}(0) = 0$. And plot your results. \n",
    "2. Calculate the period of the pendulum for $\\phi \\in [\\pi/4, \\pi/2]$. Here you can be creative for finding the period. And plot your results. \n",
    "3. Verify that $\\theta(0) \\rightarrow 0$, $T \\rightarrow 2\\pi \\sqrt{l/g}$."
   ]
  },
  {
   "cell_type": "code",
   "execution_count": 5,
   "metadata": {},
   "outputs": [],
   "source": [
    "# Here goes your solution"
   ]
  },
  {
   "cell_type": "markdown",
   "metadata": {},
   "source": [
    "## Coupled differential equations\n",
    "\n",
    "As a last example for Runge-Kutta, we want to solve the coupled differential equation. Let's imagine two frictionless point masses, connected by a spring which is relax at distance $d$. This system can be described by the following differential equation:\n",
    "\n",
    "\\begin{align*}\n",
    "\\frac{d^2x_1}{dt^2} + \\omega^2 (x_1 - x_2 - d) &= 0 \\\\\n",
    "\\frac{d^2x_2}{dt^2} + \\omega^2 (x_2 - x_1 + d) &= 0\n",
    "\\end{align*}\n",
    "\n",
    "We write these two second order differential equations as 4 first order differential equations by defining $x'_1 = \\theta_1$ and $x'_2 = \\theta_2$:\n",
    "\\begin{align*}\n",
    "x_1'(t) &= \\theta_1(t) \\\\\n",
    "x_2'(t) &= \\theta_2(t) \\\\\n",
    "\\theta_1'(t) &= - \\omega^2 (x_1 - x_2 - d) \\\\\n",
    "\\theta_2'(t) &= - \\omega^2 (x_2 - x_1 + d)\n",
    "\\end{align*}\n",
    "\n",
    "So we get for $f(t,y)$ and $y(t)$:\n",
    "$$\n",
    "y(t) = \n",
    "\\left(\\begin{array}{cc} \n",
    "x_1(t) \\\\ \n",
    "x_2(t) \\\\\n",
    "\\theta_1(t) \\\\\n",
    "\\theta_2(t)\n",
    "\\end{array}\\right)\n",
    "$$ \n",
    "\n",
    "and\n",
    "$$\n",
    "f(t,y) = \n",
    "\\left(\\begin{array}{cc} \n",
    "\\theta_1(t) \\\\\n",
    "\\theta_2(t) \\\\\n",
    "- \\omega^2 (x_1(t) - x_2(t) - d) \\\\\n",
    "- \\omega^2 (x_2(t) - x_1(t) + d)\n",
    "\\end{array}\\right)\n",
    "$$\n",
    "\n",
    "# Exercise 3\n",
    "Solve the couple differential equations for $\\omega = 1$, $x_1(0) = d/2$, $x_2(0) = -d/2$, $x'_1(0) = 1$ and $x'_2(0) = 0$. Plot your results.\n"
   ]
  },
  {
   "cell_type": "code",
   "execution_count": null,
   "metadata": {},
   "outputs": [],
   "source": [
    "# your solution goes in here"
   ]
  },
  {
   "cell_type": "markdown",
   "metadata": {},
   "source": [
    "# Solving differential equations by matrix inversion (optional)\n",
    "\n",
    "Last, we want to study a nice method to solve differential equations, by inverting a matrix operator. \n",
    "\n",
    "We want to solve a boundary value problem for an electric potential. Two grounded infinite long metal plates and in the center a negatively charged plate. \n",
    "\n",
    "The potential is described by the following differential equation:\n",
    "\\begin{align*}\n",
    "\\frac{\\partial ^2 \\phi}{\\partial x^2} = - \\rho(x) = - \\delta(x)\n",
    "\\end{align*}\n",
    "\n",
    "We need to discretize this equation step by step with choosing $(x_0, \\dots, x_i, \\dots, x_{M = 2N + 1})$ as our lattice points, with $\\phi_{M} = \\phi_{-1} = 0$ and $h$ as the lattice spacing.\n",
    "\n",
    "First, we start with the delta function.\n",
    "We remember, that it needs to fulfill the following condition:\n",
    "\n",
    "\\begin{align*}\n",
    "\\int f(x) \\delta(x) dx = f(0)\n",
    "\\end{align*}\n",
    "\n",
    "By setting \n",
    "$$\n",
    "\\delta(x) \\longrightarrow \\frac{1}{h} \\delta_{i, N}\n",
    "$$\n",
    "we can fulfill this condition.\n",
    "\n",
    "Secondly, we discretize the derivative of the electric potential. This is easily done by using the formula for the second derivative of last lecture and using $\\phi(x_i) = \\phi_i$.\n",
    "\\begin{align*}\n",
    "\\frac{\\partial ^2 \\phi}{\\partial x^2} \\phi(x) \\longrightarrow &\\frac{\\phi(x_i+h) -2\\phi(x_i) + \\phi(x_i-h)}{h^2} \\\\\n",
    "&\\frac{\\phi_{i+1} -2\\phi_i + \\phi_{i-1}}{h^2} \\\\\n",
    "&\\sum_{j=1}^{N - 1}\\frac{\\delta_{j, i+1} -2\\delta_{j,i} + \\delta_{j, i-1}}{h^2} \\phi_j\n",
    "\\end{align*}\n",
    "\n",
    "All this can be rewritten into a Matrix Vector equation\n",
    "\\begin{align*}\n",
    "M \\vec{\\phi} = 1/h \\vec{\\delta}\n",
    "\\end{align*}\n",
    "\n",
    "where\n",
    "\\begin{align*}\n",
    "D = \\frac{\\delta_{j, i+1} -2\\delta_{j,i} + \\delta_{j, i-1}}{h^2}\n",
    "\\end{align*}\n",
    "\n",
    "The solution of $\\phi_i$ is then given by\n",
    "\\begin{align*}\n",
    "\\vec{\\phi} = \\frac{1}{h} D^{-1} \\vec{\\delta}\n",
    "\\end{align*}\n",
    "\n",
    "We go threw the code and explain in comments, what is happening. But you don't have to understand everything, this is just to prove, that this concept exists and it works. "
   ]
  },
  {
   "cell_type": "code",
   "execution_count": 3,
   "metadata": {},
   "outputs": [
    {
     "data": {
      "text/plain": [
       "[<matplotlib.lines.Line2D at 0x10f306a90>]"
      ]
     },
     "execution_count": 3,
     "metadata": {},
     "output_type": "execute_result"
    },
    {
     "data": {
      "image/png": "[encoded data removed]",
      "text/plain": [
       "<Figure size 432x288 with 1 Axes>"
      ]
     },
     "metadata": {
      "needs_background": "light"
     },
     "output_type": "display_data"
    }
   ],
   "source": [
    "from scipy.sparse import csc_matrix\n",
    "from scipy.sparse.linalg import cg\n",
    "import numpy as np\n",
    "import matplotlib.pyplot as plt\n",
    "\n",
    "N = 30\n",
    "M = 2*N + 1\n",
    "h = 0.001\n",
    "\n",
    "L = M*h\n",
    "\n",
    "# define a kroneker-delta function\n",
    "def d(i,j):\n",
    "    return 1 if i==j else 0\n",
    "\n",
    "# calculate the nonzero entries of the matrix\n",
    "row = []\n",
    "col = []\n",
    "data = []\n",
    "\n",
    "for i in range(M):\n",
    "    for j in range(M):\n",
    "        value = d(j, (i+1)) - 2 * d(j, i) + d(j, (i-1))\n",
    "\n",
    "        if value != 0:\n",
    "            row.append(i)\n",
    "            col.append(j)\n",
    "            data.append(value/h**2)\n",
    "\n",
    "row_array = np.array(row)\n",
    "col_array = np.array(col)\n",
    "data_array = np.array(data)\n",
    "\n",
    "# implement a sparse matrix (a matrix which consists mostly of zero elements)\n",
    "D = csc_matrix((data_array, (row_array, col_array)), shape=(M, M))\n",
    "\n",
    "# define the right-hand side of the equation\n",
    "delta_function = np.zeros(M)\n",
    "delta_function[N] = +1/h\n",
    "\n",
    "# use the conjugate gradient method to solve the equation\n",
    "phi = cg(D, delta_function, x0=np.random.rand(M))[0]\n",
    "\n",
    "# define the x-coordinates of the points\n",
    "x = np.linspace(-L/2, L/2, M)\n",
    "\n",
    "# plot the solution\n",
    "plt.plot(x, phi)"
   ]
  }
 ],
 "metadata": {
  "interpreter": {
   "hash": "31f2aee4e71d21fbe5cf8b01ff0e069b9275f58929596ceb00d14d90e3e16cd6"
  },
  "kernelspec": {
   "display_name": "Python 3",
   "language": "python",
   "name": "python3"
  },
  "language_info": {
   "codemirror_mode": {
    "name": "ipython",
    "version": 3
   },
   "file_extension": ".py",
   "mimetype": "text/x-python",
   "name": "python",
   "nbconvert_exporter": "python",
   "pygments_lexer": "ipython3",
   "version": "3.8.9"
  }
 },
 "nbformat": 4,
 "nbformat_minor": 2
}
